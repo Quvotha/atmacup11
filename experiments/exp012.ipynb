{
 "cells": [
  {
   "cell_type": "markdown",
   "metadata": {},
   "source": [
    "# Settings"
   ]
  },
  {
   "cell_type": "code",
   "execution_count": 1,
   "metadata": {
    "execution": {
     "iopub.execute_input": "2021-07-20T01:12:07.698237Z",
     "iopub.status.busy": "2021-07-20T01:12:07.698237Z",
     "iopub.status.idle": "2021-07-20T01:12:07.728192Z",
     "shell.execute_reply": "2021-07-20T01:12:07.728192Z"
    }
   },
   "outputs": [],
   "source": [
    "EXP_NO = 12\n",
    "SEED = 1\n",
    "N_SPLITS = 5\n",
    "TARGET = 'target'\n",
    "GROUP = 'art_series_id'\n",
    "REGRESSION = True"
   ]
  },
  {
   "cell_type": "code",
   "execution_count": 2,
   "metadata": {
    "execution": {
     "iopub.execute_input": "2021-07-20T01:12:07.728192Z",
     "iopub.status.busy": "2021-07-20T01:12:07.728192Z",
     "iopub.status.idle": "2021-07-20T01:12:07.743833Z",
     "shell.execute_reply": "2021-07-20T01:12:07.743833Z"
    }
   },
   "outputs": [],
   "source": [
    "assert((TARGET, REGRESSION) in (('target', True), ('target', False), ('sorting_date', True)))"
   ]
  },
  {
   "cell_type": "code",
   "execution_count": 3,
   "metadata": {
    "execution": {
     "iopub.execute_input": "2021-07-20T01:12:07.743833Z",
     "iopub.status.busy": "2021-07-20T01:12:07.743833Z",
     "iopub.status.idle": "2021-07-20T01:12:07.759912Z",
     "shell.execute_reply": "2021-07-20T01:12:07.759912Z"
    }
   },
   "outputs": [],
   "source": [
    "MODEL_NAME = 'resnet'\n",
    "BATCH_SIZE = 128\n",
    "NUM_EPOCHS = 50"
   ]
  },
  {
   "cell_type": "markdown",
   "metadata": {},
   "source": [
    "# Library"
   ]
  },
  {
   "cell_type": "code",
   "execution_count": 4,
   "metadata": {
    "execution": {
     "iopub.execute_input": "2021-07-20T01:12:07.759912Z",
     "iopub.status.busy": "2021-07-20T01:12:07.759912Z",
     "iopub.status.idle": "2021-07-20T01:12:11.922170Z",
     "shell.execute_reply": "2021-07-20T01:12:11.921170Z"
    }
   },
   "outputs": [],
   "source": [
    "from collections import defaultdict\n",
    "from functools import partial\n",
    "import gc\n",
    "import glob\n",
    "import json\n",
    "from logging import getLogger, StreamHandler, FileHandler, DEBUG, Formatter\n",
    "import pickle\n",
    "import os\n",
    "import sys\n",
    "import time\n",
    "\n",
    "import matplotlib.pyplot as plt\n",
    "import numpy as np\n",
    "import pandas as pd\n",
    "import seaborn as sns\n",
    "from sklearn.metrics import confusion_matrix, mean_squared_error, cohen_kappa_score\n",
    "from sklearnex import patch_sklearn\n",
    "from pytorch_lightning import seed_everything\n",
    "import torch.nn as nn\n",
    "import torch.optim\n",
    "from torch.utils.data import DataLoader\n",
    "from torchvision import transforms\n",
    "\n",
    "SCRIPTS_DIR = os.path.join('..', 'scripts')\n",
    "assert(os.path.isdir(SCRIPTS_DIR))\n",
    "if SCRIPTS_DIR not in sys.path: sys.path.append(SCRIPTS_DIR)\n",
    "\n",
    "from cross_validation import load_cv_object_ids\n",
    "from dataset import load_csvfiles, load_photofile,load_photofiles, AtmaImageDatasetV02\n",
    "from folder import experiment_dir_of\n",
    "from models import initialize_model\n",
    "from utils import train_model, predict_by_model"
   ]
  },
  {
   "cell_type": "code",
   "execution_count": 5,
   "metadata": {
    "execution": {
     "iopub.execute_input": "2021-07-20T01:12:11.930138Z",
     "iopub.status.busy": "2021-07-20T01:12:11.929141Z",
     "iopub.status.idle": "2021-07-20T01:12:11.936138Z",
     "shell.execute_reply": "2021-07-20T01:12:11.935138Z"
    }
   },
   "outputs": [],
   "source": [
    "pd.options.display.float_format = '{:.5f}'.format"
   ]
  },
  {
   "cell_type": "code",
   "execution_count": 6,
   "metadata": {
    "execution": {
     "iopub.execute_input": "2021-07-20T01:12:11.942139Z",
     "iopub.status.busy": "2021-07-20T01:12:11.941138Z",
     "iopub.status.idle": "2021-07-20T01:12:11.956194Z",
     "shell.execute_reply": "2021-07-20T01:12:11.954153Z"
    }
   },
   "outputs": [
    {
     "name": "stderr",
     "output_type": "stream",
     "text": [
      "Intel(R) Extension for Scikit-learn* enabled (https://github.com/intel/scikit-learn-intelex)\n"
     ]
    }
   ],
   "source": [
    "patch_sklearn()"
   ]
  },
  {
   "cell_type": "markdown",
   "metadata": {},
   "source": [
    "# Prepare directory"
   ]
  },
  {
   "cell_type": "code",
   "execution_count": 7,
   "metadata": {
    "execution": {
     "iopub.execute_input": "2021-07-20T01:12:11.961135Z",
     "iopub.status.busy": "2021-07-20T01:12:11.960162Z",
     "iopub.status.idle": "2021-07-20T01:12:11.966076Z",
     "shell.execute_reply": "2021-07-20T01:12:11.966076Z"
    }
   },
   "outputs": [],
   "source": [
    "output_dir = experiment_dir_of(EXP_NO)"
   ]
  },
  {
   "cell_type": "code",
   "execution_count": 8,
   "metadata": {
    "execution": {
     "iopub.execute_input": "2021-07-20T01:12:11.971028Z",
     "iopub.status.busy": "2021-07-20T01:12:11.970029Z",
     "iopub.status.idle": "2021-07-20T01:12:11.982029Z",
     "shell.execute_reply": "2021-07-20T01:12:11.983027Z"
    }
   },
   "outputs": [
    {
     "data": {
      "text/plain": [
       "'..\\\\scripts\\\\..\\\\experiments\\\\exp012'"
      ]
     },
     "execution_count": 8,
     "metadata": {},
     "output_type": "execute_result"
    }
   ],
   "source": [
    "output_dir"
   ]
  },
  {
   "cell_type": "markdown",
   "metadata": {},
   "source": [
    "# Prepare logger"
   ]
  },
  {
   "cell_type": "code",
   "execution_count": 9,
   "metadata": {
    "execution": {
     "iopub.execute_input": "2021-07-20T01:12:11.986107Z",
     "iopub.status.busy": "2021-07-20T01:12:11.985100Z",
     "iopub.status.idle": "2021-07-20T01:12:11.998271Z",
     "shell.execute_reply": "2021-07-20T01:12:11.998271Z"
    }
   },
   "outputs": [],
   "source": [
    "logger = getLogger(__name__)"
   ]
  },
  {
   "cell_type": "code",
   "execution_count": 10,
   "metadata": {
    "execution": {
     "iopub.execute_input": "2021-07-20T01:12:12.003246Z",
     "iopub.status.busy": "2021-07-20T01:12:12.002271Z",
     "iopub.status.idle": "2021-07-20T01:12:12.014263Z",
     "shell.execute_reply": "2021-07-20T01:12:12.013224Z"
    }
   },
   "outputs": [
    {
     "data": {
      "text/plain": [
       "2"
      ]
     },
     "execution_count": 10,
     "metadata": {},
     "output_type": "execute_result"
    }
   ],
   "source": [
    "'''Refference\n",
    "https://docs.python.org/ja/3/howto/logging-cookbook.html\n",
    "'''\n",
    "logger.setLevel(DEBUG)\n",
    "# create file handler which logs even debug messages\n",
    "fh = FileHandler(os.path.join(output_dir, 'log.log'))\n",
    "fh.setLevel(DEBUG)\n",
    "# create console handler with a higher log level\n",
    "ch = StreamHandler()\n",
    "ch.setLevel(DEBUG)\n",
    "# create formatter and add it to the handlers\n",
    "formatter = Formatter('%(asctime)s - %(name)s - %(levelname)s - %(message)s')\n",
    "fh.setFormatter(formatter)\n",
    "ch.setFormatter(formatter)\n",
    "# add the handlers to the logger\n",
    "logger.addHandler(fh)\n",
    "logger.addHandler(ch)\n",
    "len(logger.handlers)"
   ]
  },
  {
   "cell_type": "code",
   "execution_count": 11,
   "metadata": {
    "execution": {
     "iopub.execute_input": "2021-07-20T01:12:12.017224Z",
     "iopub.status.busy": "2021-07-20T01:12:12.017224Z",
     "iopub.status.idle": "2021-07-20T01:12:12.036767Z",
     "shell.execute_reply": "2021-07-20T01:12:12.034772Z"
    }
   },
   "outputs": [
    {
     "name": "stderr",
     "output_type": "stream",
     "text": [
      "2021-07-20 10:12:12,016 - __main__ - INFO - Experiment no: 12\n",
      "2021-07-20 10:12:12,017 - __main__ - INFO - CV: StratifiedGroupKFold\n",
      "2021-07-20 10:12:12,018 - __main__ - INFO - SEED: 1\n",
      "2021-07-20 10:12:12,018 - __main__ - INFO - REGRESSION: True\n"
     ]
    }
   ],
   "source": [
    "logger.info('Experiment no: {}'.format(EXP_NO))\n",
    "logger.info('CV: StratifiedGroupKFold')\n",
    "logger.info('SEED: {}'.format(SEED))\n",
    "logger.info('REGRESSION: {}'.format(REGRESSION))"
   ]
  },
  {
   "cell_type": "markdown",
   "metadata": {},
   "source": [
    "# Load csv files"
   ]
  },
  {
   "cell_type": "code",
   "execution_count": 12,
   "metadata": {
    "execution": {
     "iopub.execute_input": "2021-07-20T01:12:12.049774Z",
     "iopub.status.busy": "2021-07-20T01:12:12.047772Z",
     "iopub.status.idle": "2021-07-20T01:12:12.068504Z",
     "shell.execute_reply": "2021-07-20T01:12:12.066500Z"
    }
   },
   "outputs": [],
   "source": [
    "SINCE = time.time()"
   ]
  },
  {
   "cell_type": "code",
   "execution_count": 13,
   "metadata": {
    "execution": {
     "iopub.execute_input": "2021-07-20T01:12:12.083774Z",
     "iopub.status.busy": "2021-07-20T01:12:12.082807Z",
     "iopub.status.idle": "2021-07-20T01:12:12.125451Z",
     "shell.execute_reply": "2021-07-20T01:12:12.124356Z"
    }
   },
   "outputs": [
    {
     "name": "stderr",
     "output_type": "stream",
     "text": [
      "2021-07-20 10:12:12,079 - __main__ - DEBUG - Start loading csv files (0.035 seconds passed)\n",
      "2021-07-20 10:12:12,118 - __main__ - DEBUG - Complete loading csv files (0.074 seconds passed)\n"
     ]
    }
   ],
   "source": [
    "logger.debug('Start loading csv files ({:.3f} seconds passed)'.format(time.time() - SINCE))\n",
    "train, test, materials, techniques, sample_submission = load_csvfiles()\n",
    "logger.debug('Complete loading csv files ({:.3f} seconds passed)'.format(time.time() - SINCE))"
   ]
  },
  {
   "cell_type": "code",
   "execution_count": 14,
   "metadata": {
    "execution": {
     "iopub.execute_input": "2021-07-20T01:12:12.130356Z",
     "iopub.status.busy": "2021-07-20T01:12:12.129354Z",
     "iopub.status.idle": "2021-07-20T01:12:12.140393Z",
     "shell.execute_reply": "2021-07-20T01:12:12.139354Z"
    }
   },
   "outputs": [
    {
     "data": {
      "text/html": [
       "<div>\n",
       "<style scoped>\n",
       "    .dataframe tbody tr th:only-of-type {\n",
       "        vertical-align: middle;\n",
       "    }\n",
       "\n",
       "    .dataframe tbody tr th {\n",
       "        vertical-align: top;\n",
       "    }\n",
       "\n",
       "    .dataframe thead th {\n",
       "        text-align: right;\n",
       "    }\n",
       "</style>\n",
       "<table border=\"1\" class=\"dataframe\">\n",
       "  <thead>\n",
       "    <tr style=\"text-align: right;\">\n",
       "      <th></th>\n",
       "      <th>object_id</th>\n",
       "      <th>sorting_date</th>\n",
       "      <th>art_series_id</th>\n",
       "      <th>target</th>\n",
       "    </tr>\n",
       "  </thead>\n",
       "  <tbody>\n",
       "    <tr>\n",
       "      <th>0</th>\n",
       "      <td>002bff09b09998d0be65</td>\n",
       "      <td>1631</td>\n",
       "      <td>509357f67692a6a45626</td>\n",
       "      <td>1</td>\n",
       "    </tr>\n",
       "    <tr>\n",
       "      <th>1</th>\n",
       "      <td>00309fb1ef05416f9c1f</td>\n",
       "      <td>1900</td>\n",
       "      <td>7987b47bbe5dc3039179</td>\n",
       "      <td>3</td>\n",
       "    </tr>\n",
       "    <tr>\n",
       "      <th>2</th>\n",
       "      <td>003a1562e97f79ba96dc</td>\n",
       "      <td>1834</td>\n",
       "      <td>ded7c3c9636708e5b14c</td>\n",
       "      <td>3</td>\n",
       "    </tr>\n",
       "    <tr>\n",
       "      <th>3</th>\n",
       "      <td>004890880e8e7431147b</td>\n",
       "      <td>1743</td>\n",
       "      <td>582ac2d7f0cef195b605</td>\n",
       "      <td>2</td>\n",
       "    </tr>\n",
       "    <tr>\n",
       "      <th>4</th>\n",
       "      <td>00718c32602425f504c1</td>\n",
       "      <td>1885</td>\n",
       "      <td>64c907f0c08dce4fb8e8</td>\n",
       "      <td>3</td>\n",
       "    </tr>\n",
       "    <tr>\n",
       "      <th>...</th>\n",
       "      <td>...</td>\n",
       "      <td>...</td>\n",
       "      <td>...</td>\n",
       "      <td>...</td>\n",
       "    </tr>\n",
       "    <tr>\n",
       "      <th>3932</th>\n",
       "      <td>ffa3259fff8e6f3818a1</td>\n",
       "      <td>1850</td>\n",
       "      <td>b187c294b0550acf049a</td>\n",
       "      <td>3</td>\n",
       "    </tr>\n",
       "    <tr>\n",
       "      <th>3933</th>\n",
       "      <td>ffd4d361756587883e48</td>\n",
       "      <td>1670</td>\n",
       "      <td>ad49a044770a48f860a6</td>\n",
       "      <td>1</td>\n",
       "    </tr>\n",
       "    <tr>\n",
       "      <th>3934</th>\n",
       "      <td>ffd794b7b311b7b7fd92</td>\n",
       "      <td>1789</td>\n",
       "      <td>f030a01b480b18a27be2</td>\n",
       "      <td>2</td>\n",
       "    </tr>\n",
       "    <tr>\n",
       "      <th>3935</th>\n",
       "      <td>ffe49bba69d06446de7e</td>\n",
       "      <td>1805</td>\n",
       "      <td>f5287bc84a05aada1d17</td>\n",
       "      <td>3</td>\n",
       "    </tr>\n",
       "    <tr>\n",
       "      <th>3936</th>\n",
       "      <td>ffe77db10be3400bed53</td>\n",
       "      <td>1700</td>\n",
       "      <td>60dec6e091cdd973e617</td>\n",
       "      <td>1</td>\n",
       "    </tr>\n",
       "  </tbody>\n",
       "</table>\n",
       "<p>3937 rows × 4 columns</p>\n",
       "</div>"
      ],
      "text/plain": [
       "                 object_id  sorting_date         art_series_id  target\n",
       "0     002bff09b09998d0be65          1631  509357f67692a6a45626       1\n",
       "1     00309fb1ef05416f9c1f          1900  7987b47bbe5dc3039179       3\n",
       "2     003a1562e97f79ba96dc          1834  ded7c3c9636708e5b14c       3\n",
       "3     004890880e8e7431147b          1743  582ac2d7f0cef195b605       2\n",
       "4     00718c32602425f504c1          1885  64c907f0c08dce4fb8e8       3\n",
       "...                    ...           ...                   ...     ...\n",
       "3932  ffa3259fff8e6f3818a1          1850  b187c294b0550acf049a       3\n",
       "3933  ffd4d361756587883e48          1670  ad49a044770a48f860a6       1\n",
       "3934  ffd794b7b311b7b7fd92          1789  f030a01b480b18a27be2       2\n",
       "3935  ffe49bba69d06446de7e          1805  f5287bc84a05aada1d17       3\n",
       "3936  ffe77db10be3400bed53          1700  60dec6e091cdd973e617       1\n",
       "\n",
       "[3937 rows x 4 columns]"
      ]
     },
     "execution_count": 14,
     "metadata": {},
     "output_type": "execute_result"
    }
   ],
   "source": [
    "train"
   ]
  },
  {
   "cell_type": "code",
   "execution_count": 15,
   "metadata": {
    "execution": {
     "iopub.execute_input": "2021-07-20T01:12:12.146354Z",
     "iopub.status.busy": "2021-07-20T01:12:12.145354Z",
     "iopub.status.idle": "2021-07-20T01:12:12.155355Z",
     "shell.execute_reply": "2021-07-20T01:12:12.155355Z"
    }
   },
   "outputs": [
    {
     "data": {
      "text/html": [
       "<div>\n",
       "<style scoped>\n",
       "    .dataframe tbody tr th:only-of-type {\n",
       "        vertical-align: middle;\n",
       "    }\n",
       "\n",
       "    .dataframe tbody tr th {\n",
       "        vertical-align: top;\n",
       "    }\n",
       "\n",
       "    .dataframe thead th {\n",
       "        text-align: right;\n",
       "    }\n",
       "</style>\n",
       "<table border=\"1\" class=\"dataframe\">\n",
       "  <thead>\n",
       "    <tr style=\"text-align: right;\">\n",
       "      <th></th>\n",
       "      <th>object_id</th>\n",
       "    </tr>\n",
       "  </thead>\n",
       "  <tbody>\n",
       "    <tr>\n",
       "      <th>0</th>\n",
       "      <td>0009e50b94be36ccad39</td>\n",
       "    </tr>\n",
       "    <tr>\n",
       "      <th>1</th>\n",
       "      <td>000bd5e82eb22f199f44</td>\n",
       "    </tr>\n",
       "    <tr>\n",
       "      <th>2</th>\n",
       "      <td>0015f44de1854f617516</td>\n",
       "    </tr>\n",
       "    <tr>\n",
       "      <th>3</th>\n",
       "      <td>00388a678879ba1efa27</td>\n",
       "    </tr>\n",
       "    <tr>\n",
       "      <th>4</th>\n",
       "      <td>005e1e7c6496902d23f3</td>\n",
       "    </tr>\n",
       "    <tr>\n",
       "      <th>...</th>\n",
       "      <td>...</td>\n",
       "    </tr>\n",
       "    <tr>\n",
       "      <th>5914</th>\n",
       "      <td>ffbe65ad399b632dcbd0</td>\n",
       "    </tr>\n",
       "    <tr>\n",
       "      <th>5915</th>\n",
       "      <td>ffd7b2d646c0320c311a</td>\n",
       "    </tr>\n",
       "    <tr>\n",
       "      <th>5916</th>\n",
       "      <td>ffdb93ede17d4501e530</td>\n",
       "    </tr>\n",
       "    <tr>\n",
       "      <th>5917</th>\n",
       "      <td>ffe111402004b0ed46b4</td>\n",
       "    </tr>\n",
       "    <tr>\n",
       "      <th>5918</th>\n",
       "      <td>fffdb3c248a7dcd3cccf</td>\n",
       "    </tr>\n",
       "  </tbody>\n",
       "</table>\n",
       "<p>5919 rows × 1 columns</p>\n",
       "</div>"
      ],
      "text/plain": [
       "                 object_id\n",
       "0     0009e50b94be36ccad39\n",
       "1     000bd5e82eb22f199f44\n",
       "2     0015f44de1854f617516\n",
       "3     00388a678879ba1efa27\n",
       "4     005e1e7c6496902d23f3\n",
       "...                    ...\n",
       "5914  ffbe65ad399b632dcbd0\n",
       "5915  ffd7b2d646c0320c311a\n",
       "5916  ffdb93ede17d4501e530\n",
       "5917  ffe111402004b0ed46b4\n",
       "5918  fffdb3c248a7dcd3cccf\n",
       "\n",
       "[5919 rows x 1 columns]"
      ]
     },
     "execution_count": 15,
     "metadata": {},
     "output_type": "execute_result"
    }
   ],
   "source": [
    "test"
   ]
  },
  {
   "cell_type": "markdown",
   "metadata": {},
   "source": [
    "# Cross validation"
   ]
  },
  {
   "cell_type": "code",
   "execution_count": 16,
   "metadata": {
    "execution": {
     "iopub.execute_input": "2021-07-20T01:12:12.159354Z",
     "iopub.status.busy": "2021-07-20T01:12:12.158356Z",
     "iopub.status.idle": "2021-07-20T01:12:12.170354Z",
     "shell.execute_reply": "2021-07-20T01:12:12.171394Z"
    }
   },
   "outputs": [
    {
     "name": "stderr",
     "output_type": "stream",
     "text": [
      "Global seed set to 1\n"
     ]
    },
    {
     "data": {
      "text/plain": [
       "1"
      ]
     },
     "execution_count": 16,
     "metadata": {},
     "output_type": "execute_result"
    }
   ],
   "source": [
    "seed_everything(SEED)"
   ]
  },
  {
   "cell_type": "code",
   "execution_count": 17,
   "metadata": {
    "execution": {
     "iopub.execute_input": "2021-07-20T01:12:12.174356Z",
     "iopub.status.busy": "2021-07-20T01:12:12.174356Z",
     "iopub.status.idle": "2021-07-20T01:12:12.187475Z",
     "shell.execute_reply": "2021-07-20T01:12:12.187475Z"
    }
   },
   "outputs": [],
   "source": [
    "train.set_index('object_id', inplace=True)"
   ]
  },
  {
   "cell_type": "code",
   "execution_count": 18,
   "metadata": {
    "execution": {
     "iopub.execute_input": "2021-07-20T01:12:12.204476Z",
     "iopub.status.busy": "2021-07-20T01:12:12.201474Z",
     "iopub.status.idle": "2021-07-20T16:35:21.674421Z",
     "shell.execute_reply": "2021-07-20T16:35:21.674421Z"
    }
   },
   "outputs": [
    {
     "name": "stderr",
     "output_type": "stream",
     "text": [
      "2021-07-20 10:12:12,206 - __main__ - DEBUG - Start fold 1 (0.162 seconds passed)\n",
      "2021-07-20 10:12:12,209 - __main__ - DEBUG - Start training model (0.165 seconds passed)\n",
      "2021-07-20 10:12:12,392 - __main__ - DEBUG - Epoch 0/49\n",
      "C:\\Users\\nndropout\\miniconda3\\envs\\atmacup11\\lib\\site-packages\\torch\\nn\\functional.py:718: UserWarning: Named tensors and all their associated APIs are an experimental feature and subject to change. Please do not use them for anything important until they are released as stable. (Triggered internally at  ..\\c10/core/TensorImpl.h:1156.)\n",
      "  return torch.max_pool2d(input, kernel_size, stride, padding, dilation, ceil_mode)\n",
      "2021-07-20 10:15:30,364 - __main__ - DEBUG - train Loss: 2.9940\n",
      "2021-07-20 10:15:48,940 - __main__ - DEBUG - val Loss: 2.3390\n",
      "2021-07-20 10:15:49,003 - __main__ - DEBUG - Epoch 1/49\n",
      "2021-07-20 10:19:07,457 - __main__ - DEBUG - train Loss: 0.8812\n",
      "2021-07-20 10:19:26,231 - __main__ - DEBUG - val Loss: 0.8537\n",
      "2021-07-20 10:19:26,246 - __main__ - DEBUG - Epoch 2/49\n",
      "2021-07-20 10:22:47,039 - __main__ - DEBUG - train Loss: 0.8637\n",
      "2021-07-20 10:23:06,231 - __main__ - DEBUG - val Loss: 0.9096\n",
      "2021-07-20 10:23:06,231 - __main__ - DEBUG - Epoch 3/49\n",
      "2021-07-20 10:26:23,657 - __main__ - DEBUG - train Loss: 0.8515\n",
      "2021-07-20 10:26:42,700 - __main__ - DEBUG - val Loss: 0.8030\n",
      "2021-07-20 10:26:42,713 - __main__ - DEBUG - Epoch 4/49\n",
      "2021-07-20 10:30:01,345 - __main__ - DEBUG - train Loss: 0.8312\n",
      "2021-07-20 10:30:20,115 - __main__ - DEBUG - val Loss: 0.8663\n",
      "2021-07-20 10:30:20,136 - __main__ - DEBUG - Epoch 5/49\n",
      "2021-07-20 10:33:39,650 - __main__ - DEBUG - train Loss: 0.8326\n",
      "2021-07-20 10:33:58,052 - __main__ - DEBUG - val Loss: 1.2641\n",
      "2021-07-20 10:33:58,052 - __main__ - DEBUG - Epoch 6/49\n",
      "2021-07-20 10:37:15,461 - __main__ - DEBUG - train Loss: 0.7973\n",
      "2021-07-20 10:37:34,322 - __main__ - DEBUG - val Loss: 0.9577\n",
      "2021-07-20 10:37:34,322 - __main__ - DEBUG - Epoch 7/49\n",
      "2021-07-20 10:40:51,252 - __main__ - DEBUG - train Loss: 0.8297\n",
      "2021-07-20 10:41:10,004 - __main__ - DEBUG - val Loss: 0.8443\n",
      "2021-07-20 10:41:10,004 - __main__ - DEBUG - Epoch 8/49\n",
      "2021-07-20 10:44:27,167 - __main__ - DEBUG - train Loss: 0.8307\n",
      "2021-07-20 10:44:45,867 - __main__ - DEBUG - val Loss: 0.9669\n",
      "2021-07-20 10:44:45,867 - __main__ - DEBUG - Epoch 9/49\n",
      "2021-07-20 10:48:02,307 - __main__ - DEBUG - train Loss: 0.8270\n",
      "2021-07-20 10:48:20,749 - __main__ - DEBUG - val Loss: 1.2312\n",
      "2021-07-20 10:48:20,749 - __main__ - DEBUG - Epoch 10/49\n",
      "2021-07-20 10:51:37,642 - __main__ - DEBUG - train Loss: 0.8350\n",
      "2021-07-20 10:51:56,275 - __main__ - DEBUG - val Loss: 1.1698\n",
      "2021-07-20 10:51:56,275 - __main__ - DEBUG - Epoch 11/49\n",
      "2021-07-20 10:55:15,408 - __main__ - DEBUG - train Loss: 0.8041\n",
      "2021-07-20 10:55:34,263 - __main__ - DEBUG - val Loss: 1.2435\n",
      "2021-07-20 10:55:34,263 - __main__ - DEBUG - Epoch 12/49\n",
      "2021-07-20 10:58:51,652 - __main__ - DEBUG - train Loss: 0.8097\n",
      "2021-07-20 10:59:10,450 - __main__ - DEBUG - val Loss: 1.0319\n",
      "2021-07-20 10:59:10,450 - __main__ - DEBUG - Epoch 13/49\n",
      "2021-07-20 11:02:28,311 - __main__ - DEBUG - train Loss: 0.7921\n",
      "2021-07-20 11:02:47,039 - __main__ - DEBUG - val Loss: 0.8713\n",
      "2021-07-20 11:02:47,040 - __main__ - DEBUG - Epoch 14/49\n",
      "2021-07-20 11:06:05,002 - __main__ - DEBUG - train Loss: 0.7978\n",
      "2021-07-20 11:06:23,549 - __main__ - DEBUG - val Loss: 0.8181\n",
      "2021-07-20 11:06:23,549 - __main__ - DEBUG - Epoch 15/49\n",
      "2021-07-20 11:09:42,835 - __main__ - DEBUG - train Loss: 0.8079\n",
      "2021-07-20 11:10:01,673 - __main__ - DEBUG - val Loss: 0.8632\n",
      "2021-07-20 11:10:01,673 - __main__ - DEBUG - Epoch 16/49\n",
      "2021-07-20 11:13:19,108 - __main__ - DEBUG - train Loss: 0.7984\n",
      "2021-07-20 11:13:37,966 - __main__ - DEBUG - val Loss: 0.8204\n",
      "2021-07-20 11:13:37,967 - __main__ - DEBUG - Epoch 17/49\n",
      "2021-07-20 11:16:56,720 - __main__ - DEBUG - train Loss: 0.7694\n",
      "2021-07-20 11:17:15,765 - __main__ - DEBUG - val Loss: 0.9331\n",
      "2021-07-20 11:17:15,767 - __main__ - DEBUG - Epoch 18/49\n",
      "2021-07-20 11:20:34,835 - __main__ - DEBUG - train Loss: 0.7750\n",
      "2021-07-20 11:20:53,994 - __main__ - DEBUG - val Loss: 0.8906\n",
      "2021-07-20 11:20:53,994 - __main__ - DEBUG - Epoch 19/49\n",
      "2021-07-20 11:24:12,178 - __main__ - DEBUG - train Loss: 0.7659\n",
      "2021-07-20 11:24:30,831 - __main__ - DEBUG - val Loss: 0.8178\n",
      "2021-07-20 11:24:30,831 - __main__ - DEBUG - Epoch 20/49\n",
      "2021-07-20 11:27:46,536 - __main__ - DEBUG - train Loss: 0.7605\n",
      "2021-07-20 11:28:05,325 - __main__ - DEBUG - val Loss: 0.7788\n",
      "2021-07-20 11:28:05,342 - __main__ - DEBUG - Epoch 21/49\n",
      "2021-07-20 11:31:23,397 - __main__ - DEBUG - train Loss: 0.7569\n",
      "2021-07-20 11:31:42,163 - __main__ - DEBUG - val Loss: 0.8418\n",
      "2021-07-20 11:31:42,163 - __main__ - DEBUG - Epoch 22/49\n",
      "2021-07-20 11:34:59,036 - __main__ - DEBUG - train Loss: 0.7747\n",
      "2021-07-20 11:35:17,769 - __main__ - DEBUG - val Loss: 0.7928\n",
      "2021-07-20 11:35:17,769 - __main__ - DEBUG - Epoch 23/49\n",
      "2021-07-20 11:38:36,231 - __main__ - DEBUG - train Loss: 0.7633\n",
      "2021-07-20 11:38:55,046 - __main__ - DEBUG - val Loss: 1.0391\n",
      "2021-07-20 11:38:55,046 - __main__ - DEBUG - Epoch 24/49\n",
      "2021-07-20 11:42:13,191 - __main__ - DEBUG - train Loss: 0.7872\n",
      "2021-07-20 11:42:31,742 - __main__ - DEBUG - val Loss: 0.8538\n",
      "2021-07-20 11:42:31,742 - __main__ - DEBUG - Epoch 25/49\n",
      "2021-07-20 11:45:48,853 - __main__ - DEBUG - train Loss: 0.7800\n",
      "2021-07-20 11:46:07,925 - __main__ - DEBUG - val Loss: 1.2030\n",
      "2021-07-20 11:46:07,925 - __main__ - DEBUG - Epoch 26/49\n",
      "2021-07-20 11:49:24,293 - __main__ - DEBUG - train Loss: 0.7776\n",
      "2021-07-20 11:49:42,966 - __main__ - DEBUG - val Loss: 0.9241\n",
      "2021-07-20 11:49:42,966 - __main__ - DEBUG - Epoch 27/49\n",
      "2021-07-20 11:52:59,721 - __main__ - DEBUG - train Loss: 0.7566\n",
      "2021-07-20 11:53:18,186 - __main__ - DEBUG - val Loss: 1.0946\n",
      "2021-07-20 11:53:18,187 - __main__ - DEBUG - Epoch 28/49\n",
      "2021-07-20 11:56:36,250 - __main__ - DEBUG - train Loss: 0.7619\n",
      "2021-07-20 11:56:55,037 - __main__ - DEBUG - val Loss: 0.9914\n",
      "2021-07-20 11:56:55,037 - __main__ - DEBUG - Epoch 29/49\n",
      "2021-07-20 12:00:12,067 - __main__ - DEBUG - train Loss: 0.7557\n",
      "2021-07-20 12:00:30,514 - __main__ - DEBUG - val Loss: 0.7861\n",
      "2021-07-20 12:00:30,529 - __main__ - DEBUG - Epoch 30/49\n",
      "2021-07-20 12:03:47,555 - __main__ - DEBUG - train Loss: 0.7516\n",
      "2021-07-20 12:04:06,445 - __main__ - DEBUG - val Loss: 0.9101\n",
      "2021-07-20 12:04:06,461 - __main__ - DEBUG - Epoch 31/49\n",
      "2021-07-20 12:07:24,345 - __main__ - DEBUG - train Loss: 0.7257\n",
      "2021-07-20 12:07:42,890 - __main__ - DEBUG - val Loss: 1.3240\n",
      "2021-07-20 12:07:42,890 - __main__ - DEBUG - Epoch 32/49\n",
      "2021-07-20 12:10:59,676 - __main__ - DEBUG - train Loss: 0.7605\n",
      "2021-07-20 12:11:18,612 - __main__ - DEBUG - val Loss: 0.7822\n",
      "2021-07-20 12:11:18,612 - __main__ - DEBUG - Epoch 33/49\n",
      "2021-07-20 12:14:34,167 - __main__ - DEBUG - train Loss: 0.7569\n",
      "2021-07-20 12:14:52,753 - __main__ - DEBUG - val Loss: 0.8610\n",
      "2021-07-20 12:14:52,753 - __main__ - DEBUG - Epoch 34/49\n",
      "2021-07-20 12:18:11,281 - __main__ - DEBUG - train Loss: 0.7436\n",
      "2021-07-20 12:18:29,779 - __main__ - DEBUG - val Loss: 0.7635\n",
      "2021-07-20 12:18:29,796 - __main__ - DEBUG - Epoch 35/49\n",
      "2021-07-20 12:21:48,055 - __main__ - DEBUG - train Loss: 0.7671\n",
      "2021-07-20 12:22:06,750 - __main__ - DEBUG - val Loss: 0.8221\n",
      "2021-07-20 12:22:06,750 - __main__ - DEBUG - Epoch 36/49\n",
      "2021-07-20 12:25:25,537 - __main__ - DEBUG - train Loss: 0.7251\n",
      "2021-07-20 12:25:44,344 - __main__ - DEBUG - val Loss: 1.0711\n",
      "2021-07-20 12:25:44,344 - __main__ - DEBUG - Epoch 37/49\n",
      "2021-07-20 12:29:02,190 - __main__ - DEBUG - train Loss: 0.7409\n",
      "2021-07-20 12:29:21,133 - __main__ - DEBUG - val Loss: 0.9308\n",
      "2021-07-20 12:29:21,133 - __main__ - DEBUG - Epoch 38/49\n",
      "2021-07-20 12:32:41,215 - __main__ - DEBUG - train Loss: 0.7401\n",
      "2021-07-20 12:33:00,119 - __main__ - DEBUG - val Loss: 1.0254\n",
      "2021-07-20 12:33:00,119 - __main__ - DEBUG - Epoch 39/49\n",
      "2021-07-20 12:36:21,839 - __main__ - DEBUG - train Loss: 0.7286\n",
      "2021-07-20 12:36:40,986 - __main__ - DEBUG - val Loss: 0.8875\n",
      "2021-07-20 12:36:40,987 - __main__ - DEBUG - Epoch 40/49\n",
      "2021-07-20 12:40:02,988 - __main__ - DEBUG - train Loss: 0.7207\n",
      "2021-07-20 12:40:22,294 - __main__ - DEBUG - val Loss: 0.9784\n",
      "2021-07-20 12:40:22,294 - __main__ - DEBUG - Epoch 41/49\n",
      "2021-07-20 12:43:41,714 - __main__ - DEBUG - train Loss: 0.7164\n",
      "2021-07-20 12:44:00,750 - __main__ - DEBUG - val Loss: 1.1014\n",
      "2021-07-20 12:44:00,750 - __main__ - DEBUG - Epoch 42/49\n",
      "2021-07-20 12:47:21,007 - __main__ - DEBUG - train Loss: 0.7419\n",
      "2021-07-20 12:47:39,829 - __main__ - DEBUG - val Loss: 0.7965\n",
      "2021-07-20 12:47:39,829 - __main__ - DEBUG - Epoch 43/49\n",
      "2021-07-20 12:51:00,686 - __main__ - DEBUG - train Loss: 0.7213\n",
      "2021-07-20 12:51:19,502 - __main__ - DEBUG - val Loss: 0.9940\n",
      "2021-07-20 12:51:19,502 - __main__ - DEBUG - Epoch 44/49\n",
      "2021-07-20 12:54:39,908 - __main__ - DEBUG - train Loss: 0.7283\n",
      "2021-07-20 12:54:58,814 - __main__ - DEBUG - val Loss: 0.8803\n",
      "2021-07-20 12:54:58,814 - __main__ - DEBUG - Epoch 45/49\n",
      "2021-07-20 12:58:17,875 - __main__ - DEBUG - train Loss: 0.7207\n",
      "2021-07-20 12:58:36,993 - __main__ - DEBUG - val Loss: 0.8759\n",
      "2021-07-20 12:58:36,993 - __main__ - DEBUG - Epoch 46/49\n",
      "2021-07-20 13:01:56,207 - __main__ - DEBUG - train Loss: 0.7394\n",
      "2021-07-20 13:02:14,803 - __main__ - DEBUG - val Loss: 0.7926\n",
      "2021-07-20 13:02:14,803 - __main__ - DEBUG - Epoch 47/49\n",
      "2021-07-20 13:05:33,250 - __main__ - DEBUG - train Loss: 0.7220\n",
      "2021-07-20 13:05:51,752 - __main__ - DEBUG - val Loss: 0.7021\n",
      "2021-07-20 13:05:51,767 - __main__ - DEBUG - Epoch 48/49\n",
      "2021-07-20 13:09:08,835 - __main__ - DEBUG - train Loss: 0.7008\n",
      "2021-07-20 13:09:27,314 - __main__ - DEBUG - val Loss: 0.9239\n",
      "2021-07-20 13:09:27,314 - __main__ - DEBUG - Epoch 49/49\n",
      "2021-07-20 13:12:44,043 - __main__ - DEBUG - train Loss: 0.6857\n",
      "2021-07-20 13:13:02,593 - __main__ - DEBUG - val Loss: 1.0257\n",
      "2021-07-20 13:13:02,625 - __main__ - DEBUG - Complete training (10850.580 seconds passed)\n"
     ]
    },
    {
     "data": {
      "image/png": "[encoded data removed]",
      "text/plain": [
       "<Figure size 432x288 with 1 Axes>"
      ]
     },
     "metadata": {
      "needs_background": "light"
     },
     "output_type": "display_data"
    },
    {
     "name": "stderr",
     "output_type": "stream",
     "text": [
      "2021-07-20 13:16:47,489 - __main__ - DEBUG - Save training fold to ..\\scripts\\..\\experiments\\exp012\\cv_fold1_training.csv (11075.445 seconds passed)\n",
      "2021-07-20 13:16:47,500 - __main__ - DEBUG - Save validation fold to ..\\scripts\\..\\experiments\\exp012\\cv_fold1_validation.csv (11075.455 seconds passed)\n",
      "2021-07-20 13:16:47,503 - __main__ - DEBUG - Save test result ..\\scripts\\..\\experiments\\exp012\\cv_fold1_test.csv (11075.458 seconds passed)\n",
      "2021-07-20 13:16:47,549 - __main__ - DEBUG - Save model ..\\scripts\\..\\experiments\\exp012\\cv_fold1_model.torch (11075.505 seconds passed)\n",
      "2021-07-20 13:16:47,628 - __main__ - DEBUG - Complete fold 1 (11075.584 seconds passed)\n",
      "2021-07-20 13:16:47,628 - __main__ - DEBUG - Start fold 2 (11075.584 seconds passed)\n",
      "2021-07-20 13:16:47,628 - __main__ - DEBUG - Start training model (11075.584 seconds passed)\n",
      "2021-07-20 13:16:47,769 - __main__ - DEBUG - Epoch 0/49\n",
      "2021-07-20 13:20:08,945 - __main__ - DEBUG - train Loss: 2.1157\n",
      "2021-07-20 13:20:27,342 - __main__ - DEBUG - val Loss: 1.0580\n",
      "2021-07-20 13:20:27,359 - __main__ - DEBUG - Epoch 1/49\n",
      "2021-07-20 13:23:47,632 - __main__ - DEBUG - train Loss: 0.8569\n",
      "2021-07-20 13:24:06,058 - __main__ - DEBUG - val Loss: 0.9531\n",
      "2021-07-20 13:24:06,074 - __main__ - DEBUG - Epoch 2/49\n",
      "2021-07-20 13:27:26,968 - __main__ - DEBUG - train Loss: 0.8663\n",
      "2021-07-20 13:27:45,172 - __main__ - DEBUG - val Loss: 0.8820\n",
      "2021-07-20 13:27:45,188 - __main__ - DEBUG - Epoch 3/49\n",
      "2021-07-20 13:31:04,576 - __main__ - DEBUG - train Loss: 0.8321\n",
      "2021-07-20 13:31:22,532 - __main__ - DEBUG - val Loss: 0.9421\n",
      "2021-07-20 13:31:22,532 - __main__ - DEBUG - Epoch 4/49\n",
      "2021-07-20 13:34:44,422 - __main__ - DEBUG - train Loss: 0.8410\n",
      "2021-07-20 13:35:02,654 - __main__ - DEBUG - val Loss: 0.8452\n",
      "2021-07-20 13:35:02,676 - __main__ - DEBUG - Epoch 5/49\n",
      "2021-07-20 13:38:23,040 - __main__ - DEBUG - train Loss: 0.8157\n",
      "2021-07-20 13:38:41,320 - __main__ - DEBUG - val Loss: 0.8208\n",
      "2021-07-20 13:38:41,336 - __main__ - DEBUG - Epoch 6/49\n",
      "2021-07-20 13:42:02,474 - __main__ - DEBUG - train Loss: 0.8184\n",
      "2021-07-20 13:42:21,220 - __main__ - DEBUG - val Loss: 0.9001\n",
      "2021-07-20 13:42:21,220 - __main__ - DEBUG - Epoch 7/49\n",
      "2021-07-20 13:45:40,295 - __main__ - DEBUG - train Loss: 0.8075\n",
      "2021-07-20 13:45:58,510 - __main__ - DEBUG - val Loss: 0.9724\n",
      "2021-07-20 13:45:58,510 - __main__ - DEBUG - Epoch 8/49\n",
      "2021-07-20 13:49:16,771 - __main__ - DEBUG - train Loss: 0.8243\n",
      "2021-07-20 13:49:34,900 - __main__ - DEBUG - val Loss: 1.1022\n",
      "2021-07-20 13:49:34,900 - __main__ - DEBUG - Epoch 9/49\n",
      "2021-07-20 13:52:55,276 - __main__ - DEBUG - train Loss: 0.8058\n",
      "2021-07-20 13:53:13,733 - __main__ - DEBUG - val Loss: 0.8538\n",
      "2021-07-20 13:53:13,733 - __main__ - DEBUG - Epoch 10/49\n",
      "2021-07-20 13:56:34,941 - __main__ - DEBUG - train Loss: 0.7973\n",
      "2021-07-20 13:56:53,313 - __main__ - DEBUG - val Loss: 0.9103\n",
      "2021-07-20 13:56:53,313 - __main__ - DEBUG - Epoch 11/49\n",
      "2021-07-20 14:00:12,923 - __main__ - DEBUG - train Loss: 0.7820\n",
      "2021-07-20 14:00:31,446 - __main__ - DEBUG - val Loss: 0.9771\n",
      "2021-07-20 14:00:31,446 - __main__ - DEBUG - Epoch 12/49\n",
      "2021-07-20 14:03:50,917 - __main__ - DEBUG - train Loss: 0.7767\n",
      "2021-07-20 14:04:09,232 - __main__ - DEBUG - val Loss: 0.8609\n",
      "2021-07-20 14:04:09,232 - __main__ - DEBUG - Epoch 13/49\n",
      "2021-07-20 14:07:28,617 - __main__ - DEBUG - train Loss: 0.7647\n",
      "2021-07-20 14:07:46,895 - __main__ - DEBUG - val Loss: 1.2233\n",
      "2021-07-20 14:07:46,895 - __main__ - DEBUG - Epoch 14/49\n",
      "2021-07-20 14:11:04,738 - __main__ - DEBUG - train Loss: 0.7722\n",
      "2021-07-20 14:11:23,022 - __main__ - DEBUG - val Loss: 1.0060\n",
      "2021-07-20 14:11:23,022 - __main__ - DEBUG - Epoch 15/49\n",
      "2021-07-20 14:14:41,495 - __main__ - DEBUG - train Loss: 0.7827\n",
      "2021-07-20 14:14:59,498 - __main__ - DEBUG - val Loss: 1.2130\n",
      "2021-07-20 14:14:59,499 - __main__ - DEBUG - Epoch 16/49\n",
      "2021-07-20 14:18:19,944 - __main__ - DEBUG - train Loss: 0.7922\n",
      "2021-07-20 14:18:38,512 - __main__ - DEBUG - val Loss: 0.9006\n",
      "2021-07-20 14:18:38,512 - __main__ - DEBUG - Epoch 17/49\n",
      "2021-07-20 14:21:59,638 - __main__ - DEBUG - train Loss: 0.7662\n",
      "2021-07-20 14:22:18,083 - __main__ - DEBUG - val Loss: 0.8236\n",
      "2021-07-20 14:22:18,083 - __main__ - DEBUG - Epoch 18/49\n",
      "2021-07-20 14:25:38,062 - __main__ - DEBUG - train Loss: 0.7487\n",
      "2021-07-20 14:25:56,443 - __main__ - DEBUG - val Loss: 0.9062\n",
      "2021-07-20 14:25:56,443 - __main__ - DEBUG - Epoch 19/49\n",
      "2021-07-20 14:29:16,202 - __main__ - DEBUG - train Loss: 0.7490\n",
      "2021-07-20 14:29:34,429 - __main__ - DEBUG - val Loss: 0.9110\n",
      "2021-07-20 14:29:34,429 - __main__ - DEBUG - Epoch 20/49\n",
      "2021-07-20 14:32:52,758 - __main__ - DEBUG - train Loss: 0.7584\n",
      "2021-07-20 14:33:11,015 - __main__ - DEBUG - val Loss: 1.4865\n",
      "2021-07-20 14:33:11,015 - __main__ - DEBUG - Epoch 21/49\n",
      "2021-07-20 14:36:31,022 - __main__ - DEBUG - train Loss: 0.7559\n",
      "2021-07-20 14:36:49,329 - __main__ - DEBUG - val Loss: 1.2190\n",
      "2021-07-20 14:36:49,338 - __main__ - DEBUG - Epoch 22/49\n",
      "2021-07-20 14:40:08,422 - __main__ - DEBUG - train Loss: 0.7604\n",
      "2021-07-20 14:40:26,749 - __main__ - DEBUG - val Loss: 1.1234\n",
      "2021-07-20 14:40:26,749 - __main__ - DEBUG - Epoch 23/49\n",
      "2021-07-20 14:43:46,175 - __main__ - DEBUG - train Loss: 0.7520\n",
      "2021-07-20 14:44:04,394 - __main__ - DEBUG - val Loss: 1.3069\n",
      "2021-07-20 14:44:04,394 - __main__ - DEBUG - Epoch 24/49\n",
      "2021-07-20 14:47:24,583 - __main__ - DEBUG - train Loss: 0.7352\n",
      "2021-07-20 14:47:43,174 - __main__ - DEBUG - val Loss: 0.7967\n",
      "2021-07-20 14:47:43,190 - __main__ - DEBUG - Epoch 25/49\n",
      "2021-07-20 14:51:02,829 - __main__ - DEBUG - train Loss: 0.7540\n",
      "2021-07-20 14:51:21,228 - __main__ - DEBUG - val Loss: 1.3179\n",
      "2021-07-20 14:51:21,229 - __main__ - DEBUG - Epoch 26/49\n",
      "2021-07-20 14:54:39,749 - __main__ - DEBUG - train Loss: 0.7719\n",
      "2021-07-20 14:54:58,196 - __main__ - DEBUG - val Loss: 0.8333\n",
      "2021-07-20 14:54:58,196 - __main__ - DEBUG - Epoch 27/49\n",
      "2021-07-20 14:58:18,760 - __main__ - DEBUG - train Loss: 0.7415\n",
      "2021-07-20 14:58:36,956 - __main__ - DEBUG - val Loss: 1.2024\n",
      "2021-07-20 14:58:36,956 - __main__ - DEBUG - Epoch 28/49\n",
      "2021-07-20 15:01:56,925 - __main__ - DEBUG - train Loss: 0.7494\n",
      "2021-07-20 15:02:15,318 - __main__ - DEBUG - val Loss: 0.9523\n",
      "2021-07-20 15:02:15,318 - __main__ - DEBUG - Epoch 29/49\n",
      "2021-07-20 15:05:35,803 - __main__ - DEBUG - train Loss: 0.7521\n",
      "2021-07-20 15:05:54,085 - __main__ - DEBUG - val Loss: 2.0391\n",
      "2021-07-20 15:05:54,101 - __main__ - DEBUG - Epoch 30/49\n",
      "2021-07-20 15:09:15,241 - __main__ - DEBUG - train Loss: 0.7613\n",
      "2021-07-20 15:09:33,363 - __main__ - DEBUG - val Loss: 0.9564\n",
      "2021-07-20 15:09:33,374 - __main__ - DEBUG - Epoch 31/49\n",
      "2021-07-20 15:12:52,657 - __main__ - DEBUG - train Loss: 0.7316\n",
      "2021-07-20 15:13:11,002 - __main__ - DEBUG - val Loss: 0.9120\n",
      "2021-07-20 15:13:11,002 - __main__ - DEBUG - Epoch 32/49\n",
      "2021-07-20 15:16:29,450 - __main__ - DEBUG - train Loss: 0.7274\n",
      "2021-07-20 15:16:47,859 - __main__ - DEBUG - val Loss: 0.8023\n",
      "2021-07-20 15:16:47,859 - __main__ - DEBUG - Epoch 33/49\n",
      "2021-07-20 15:20:06,950 - __main__ - DEBUG - train Loss: 0.7316\n",
      "2021-07-20 15:20:25,164 - __main__ - DEBUG - val Loss: 0.7760\n",
      "2021-07-20 15:20:25,180 - __main__ - DEBUG - Epoch 34/49\n",
      "2021-07-20 15:23:45,237 - __main__ - DEBUG - train Loss: 0.7508\n",
      "2021-07-20 15:24:03,599 - __main__ - DEBUG - val Loss: 0.7837\n",
      "2021-07-20 15:24:03,599 - __main__ - DEBUG - Epoch 35/49\n",
      "2021-07-20 15:27:22,363 - __main__ - DEBUG - train Loss: 0.7033\n",
      "2021-07-20 15:27:40,441 - __main__ - DEBUG - val Loss: 0.8159\n",
      "2021-07-20 15:27:40,441 - __main__ - DEBUG - Epoch 36/49\n",
      "2021-07-20 15:30:59,927 - __main__ - DEBUG - train Loss: 0.7205\n",
      "2021-07-20 15:31:18,290 - __main__ - DEBUG - val Loss: 0.8039\n",
      "2021-07-20 15:31:18,290 - __main__ - DEBUG - Epoch 37/49\n",
      "2021-07-20 15:34:37,770 - __main__ - DEBUG - train Loss: 0.7233\n",
      "2021-07-20 15:34:55,949 - __main__ - DEBUG - val Loss: 0.7197\n",
      "2021-07-20 15:34:55,965 - __main__ - DEBUG - Epoch 38/49\n",
      "2021-07-20 15:38:14,869 - __main__ - DEBUG - train Loss: 0.7108\n",
      "2021-07-20 15:38:32,966 - __main__ - DEBUG - val Loss: 0.8564\n",
      "2021-07-20 15:38:32,966 - __main__ - DEBUG - Epoch 39/49\n",
      "2021-07-20 15:41:52,810 - __main__ - DEBUG - train Loss: 0.7323\n",
      "2021-07-20 15:42:10,866 - __main__ - DEBUG - val Loss: 0.8351\n",
      "2021-07-20 15:42:10,866 - __main__ - DEBUG - Epoch 40/49\n",
      "2021-07-20 15:45:30,929 - __main__ - DEBUG - train Loss: 0.7264\n",
      "2021-07-20 15:45:49,016 - __main__ - DEBUG - val Loss: 0.7656\n",
      "2021-07-20 15:45:49,016 - __main__ - DEBUG - Epoch 41/49\n",
      "2021-07-20 15:49:08,640 - __main__ - DEBUG - train Loss: 0.6965\n",
      "2021-07-20 15:49:26,730 - __main__ - DEBUG - val Loss: 2.0539\n",
      "2021-07-20 15:49:26,730 - __main__ - DEBUG - Epoch 42/49\n",
      "2021-07-20 15:52:46,145 - __main__ - DEBUG - train Loss: 0.6881\n",
      "2021-07-20 15:53:04,559 - __main__ - DEBUG - val Loss: 0.9093\n",
      "2021-07-20 15:53:04,560 - __main__ - DEBUG - Epoch 43/49\n",
      "2021-07-20 15:56:23,157 - __main__ - DEBUG - train Loss: 0.6889\n",
      "2021-07-20 15:56:41,484 - __main__ - DEBUG - val Loss: 1.1021\n",
      "2021-07-20 15:56:41,485 - __main__ - DEBUG - Epoch 44/49\n",
      "2021-07-20 16:00:01,009 - __main__ - DEBUG - train Loss: 0.6828\n",
      "2021-07-20 16:00:19,451 - __main__ - DEBUG - val Loss: 0.7613\n",
      "2021-07-20 16:00:19,467 - __main__ - DEBUG - Epoch 45/49\n",
      "2021-07-20 16:03:38,992 - __main__ - DEBUG - train Loss: 0.7206\n",
      "2021-07-20 16:03:57,015 - __main__ - DEBUG - val Loss: 0.8019\n",
      "2021-07-20 16:03:57,015 - __main__ - DEBUG - Epoch 46/49\n",
      "2021-07-20 16:07:15,855 - __main__ - DEBUG - train Loss: 0.7198\n",
      "2021-07-20 16:07:34,051 - __main__ - DEBUG - val Loss: 0.9985\n",
      "2021-07-20 16:07:34,051 - __main__ - DEBUG - Epoch 47/49\n",
      "2021-07-20 16:10:53,341 - __main__ - DEBUG - train Loss: 0.6619\n",
      "2021-07-20 16:11:11,552 - __main__ - DEBUG - val Loss: 1.3545\n",
      "2021-07-20 16:11:11,552 - __main__ - DEBUG - Epoch 48/49\n",
      "2021-07-20 16:14:30,469 - __main__ - DEBUG - train Loss: 0.6954\n",
      "2021-07-20 16:14:48,927 - __main__ - DEBUG - val Loss: 0.8744\n",
      "2021-07-20 16:14:48,927 - __main__ - DEBUG - Epoch 49/49\n",
      "2021-07-20 16:18:08,567 - __main__ - DEBUG - train Loss: 0.7008\n",
      "2021-07-20 16:18:26,580 - __main__ - DEBUG - val Loss: 0.8676\n",
      "2021-07-20 16:18:26,596 - __main__ - DEBUG - Complete training (21974.551 seconds passed)\n"
     ]
    },
    {
     "data": {
      "image/png": "[encoded data removed]",
      "text/plain": [
       "<Figure size 432x288 with 1 Axes>"
      ]
     },
     "metadata": {
      "needs_background": "light"
     },
     "output_type": "display_data"
    },
    {
     "name": "stderr",
     "output_type": "stream",
     "text": [
      "2021-07-20 16:22:11,962 - __main__ - DEBUG - Save training fold to ..\\scripts\\..\\experiments\\exp012\\cv_fold2_training.csv (22199.918 seconds passed)\n",
      "2021-07-20 16:22:12,007 - __main__ - DEBUG - Save validation fold to ..\\scripts\\..\\experiments\\exp012\\cv_fold2_validation.csv (22199.963 seconds passed)\n",
      "2021-07-20 16:22:12,007 - __main__ - DEBUG - Save test result ..\\scripts\\..\\experiments\\exp012\\cv_fold2_test.csv (22199.963 seconds passed)\n",
      "2021-07-20 16:22:12,062 - __main__ - DEBUG - Save model ..\\scripts\\..\\experiments\\exp012\\cv_fold2_model.torch (22200.018 seconds passed)\n",
      "2021-07-20 16:22:12,117 - __main__ - DEBUG - Complete fold 2 (22200.073 seconds passed)\n",
      "2021-07-20 16:22:12,117 - __main__ - DEBUG - Start fold 3 (22200.073 seconds passed)\n",
      "2021-07-20 16:22:12,117 - __main__ - DEBUG - Start training model (22200.073 seconds passed)\n",
      "2021-07-20 16:22:12,243 - __main__ - DEBUG - Epoch 0/49\n",
      "2021-07-20 16:25:32,683 - __main__ - DEBUG - train Loss: 2.1568\n",
      "2021-07-20 16:25:51,315 - __main__ - DEBUG - val Loss: 2.0508\n",
      "2021-07-20 16:25:51,330 - __main__ - DEBUG - Epoch 1/49\n",
      "2021-07-20 16:29:08,021 - __main__ - DEBUG - train Loss: 0.8763\n",
      "2021-07-20 16:29:26,224 - __main__ - DEBUG - val Loss: 1.1038\n",
      "2021-07-20 16:29:26,240 - __main__ - DEBUG - Epoch 2/49\n",
      "2021-07-20 16:32:43,472 - __main__ - DEBUG - train Loss: 0.8664\n",
      "2021-07-20 16:33:02,043 - __main__ - DEBUG - val Loss: 0.9721\n",
      "2021-07-20 16:33:02,058 - __main__ - DEBUG - Epoch 3/49\n",
      "2021-07-20 16:36:20,869 - __main__ - DEBUG - train Loss: 0.8492\n",
      "2021-07-20 16:36:39,273 - __main__ - DEBUG - val Loss: 0.9186\n",
      "2021-07-20 16:36:39,301 - __main__ - DEBUG - Epoch 4/49\n",
      "2021-07-20 16:39:56,592 - __main__ - DEBUG - train Loss: 0.8444\n",
      "2021-07-20 16:40:15,024 - __main__ - DEBUG - val Loss: 1.5979\n",
      "2021-07-20 16:40:15,024 - __main__ - DEBUG - Epoch 5/49\n",
      "2021-07-20 16:43:34,180 - __main__ - DEBUG - train Loss: 0.8238\n",
      "2021-07-20 16:43:53,070 - __main__ - DEBUG - val Loss: 0.8716\n",
      "2021-07-20 16:43:53,087 - __main__ - DEBUG - Epoch 6/49\n",
      "2021-07-20 16:47:10,741 - __main__ - DEBUG - train Loss: 0.8271\n",
      "2021-07-20 16:47:29,251 - __main__ - DEBUG - val Loss: 0.8541\n",
      "2021-07-20 16:47:29,266 - __main__ - DEBUG - Epoch 7/49\n",
      "2021-07-20 16:50:47,923 - __main__ - DEBUG - train Loss: 0.8215\n",
      "2021-07-20 16:51:06,403 - __main__ - DEBUG - val Loss: 0.9220\n",
      "2021-07-20 16:51:06,403 - __main__ - DEBUG - Epoch 8/49\n",
      "2021-07-20 16:54:26,147 - __main__ - DEBUG - train Loss: 0.8201\n",
      "2021-07-20 16:54:44,543 - __main__ - DEBUG - val Loss: 0.7961\n",
      "2021-07-20 16:54:44,558 - __main__ - DEBUG - Epoch 9/49\n",
      "2021-07-20 16:58:03,992 - __main__ - DEBUG - train Loss: 0.8053\n",
      "2021-07-20 16:58:22,598 - __main__ - DEBUG - val Loss: 0.8218\n",
      "2021-07-20 16:58:22,599 - __main__ - DEBUG - Epoch 10/49\n",
      "2021-07-20 17:01:42,297 - __main__ - DEBUG - train Loss: 0.8150\n",
      "2021-07-20 17:02:00,778 - __main__ - DEBUG - val Loss: 0.8033\n",
      "2021-07-20 17:02:00,778 - __main__ - DEBUG - Epoch 11/49\n",
      "2021-07-20 17:05:18,953 - __main__ - DEBUG - train Loss: 0.7933\n",
      "2021-07-20 17:05:37,297 - __main__ - DEBUG - val Loss: 1.1032\n",
      "2021-07-20 17:05:37,297 - __main__ - DEBUG - Epoch 12/49\n",
      "2021-07-20 17:08:54,449 - __main__ - DEBUG - train Loss: 0.7955\n",
      "2021-07-20 17:09:12,794 - __main__ - DEBUG - val Loss: 0.9583\n",
      "2021-07-20 17:09:12,794 - __main__ - DEBUG - Epoch 13/49\n",
      "2021-07-20 17:12:31,088 - __main__ - DEBUG - train Loss: 0.8027\n",
      "2021-07-20 17:12:49,411 - __main__ - DEBUG - val Loss: 1.1513\n",
      "2021-07-20 17:12:49,411 - __main__ - DEBUG - Epoch 14/49\n",
      "2021-07-20 17:16:10,360 - __main__ - DEBUG - train Loss: 0.7952\n",
      "2021-07-20 17:16:29,335 - __main__ - DEBUG - val Loss: 0.8925\n",
      "2021-07-20 17:16:29,335 - __main__ - DEBUG - Epoch 15/49\n",
      "2021-07-20 17:19:50,026 - __main__ - DEBUG - train Loss: 0.7756\n",
      "2021-07-20 17:20:08,416 - __main__ - DEBUG - val Loss: 1.2604\n",
      "2021-07-20 17:20:08,416 - __main__ - DEBUG - Epoch 16/49\n",
      "2021-07-20 17:23:28,470 - __main__ - DEBUG - train Loss: 0.7752\n",
      "2021-07-20 17:23:46,974 - __main__ - DEBUG - val Loss: 2.3071\n",
      "2021-07-20 17:23:46,974 - __main__ - DEBUG - Epoch 17/49\n",
      "2021-07-20 17:27:06,855 - __main__ - DEBUG - train Loss: 0.8128\n",
      "2021-07-20 17:27:25,137 - __main__ - DEBUG - val Loss: 0.8914\n",
      "2021-07-20 17:27:25,137 - __main__ - DEBUG - Epoch 18/49\n",
      "2021-07-20 17:30:44,685 - __main__ - DEBUG - train Loss: 0.7589\n",
      "2021-07-20 17:31:02,865 - __main__ - DEBUG - val Loss: 0.9287\n",
      "2021-07-20 17:31:02,865 - __main__ - DEBUG - Epoch 19/49\n",
      "2021-07-20 17:34:19,500 - __main__ - DEBUG - train Loss: 0.7626\n",
      "2021-07-20 17:34:38,001 - __main__ - DEBUG - val Loss: 0.7157\n",
      "2021-07-20 17:34:38,025 - __main__ - DEBUG - Epoch 20/49\n",
      "2021-07-20 17:37:56,059 - __main__ - DEBUG - train Loss: 0.7702\n",
      "2021-07-20 17:38:14,440 - __main__ - DEBUG - val Loss: 0.6995\n",
      "2021-07-20 17:38:14,456 - __main__ - DEBUG - Epoch 21/49\n",
      "2021-07-20 17:41:32,294 - __main__ - DEBUG - train Loss: 0.7677\n",
      "2021-07-20 17:41:50,854 - __main__ - DEBUG - val Loss: 1.0462\n",
      "2021-07-20 17:41:50,854 - __main__ - DEBUG - Epoch 22/49\n",
      "2021-07-20 17:45:08,358 - __main__ - DEBUG - train Loss: 0.7751\n",
      "2021-07-20 17:45:26,914 - __main__ - DEBUG - val Loss: 0.9773\n",
      "2021-07-20 17:45:26,914 - __main__ - DEBUG - Epoch 23/49\n",
      "2021-07-20 17:48:46,293 - __main__ - DEBUG - train Loss: 0.7846\n",
      "2021-07-20 17:49:04,283 - __main__ - DEBUG - val Loss: 0.7865\n",
      "2021-07-20 17:49:04,283 - __main__ - DEBUG - Epoch 24/49\n",
      "2021-07-20 17:52:23,075 - __main__ - DEBUG - train Loss: 0.7730\n",
      "2021-07-20 17:52:41,401 - __main__ - DEBUG - val Loss: 0.8218\n",
      "2021-07-20 17:52:41,401 - __main__ - DEBUG - Epoch 25/49\n",
      "2021-07-20 17:56:00,512 - __main__ - DEBUG - train Loss: 0.7688\n",
      "2021-07-20 17:56:18,888 - __main__ - DEBUG - val Loss: 1.1469\n",
      "2021-07-20 17:56:18,888 - __main__ - DEBUG - Epoch 26/49\n",
      "2021-07-20 17:59:37,043 - __main__ - DEBUG - train Loss: 0.7400\n",
      "2021-07-20 17:59:55,442 - __main__ - DEBUG - val Loss: 1.4542\n",
      "2021-07-20 17:59:55,442 - __main__ - DEBUG - Epoch 27/49\n",
      "2021-07-20 18:03:12,984 - __main__ - DEBUG - train Loss: 0.7583\n",
      "2021-07-20 18:03:31,194 - __main__ - DEBUG - val Loss: 1.0057\n",
      "2021-07-20 18:03:31,194 - __main__ - DEBUG - Epoch 28/49\n",
      "2021-07-20 18:06:48,091 - __main__ - DEBUG - train Loss: 0.7501\n",
      "2021-07-20 18:07:06,105 - __main__ - DEBUG - val Loss: 1.2875\n",
      "2021-07-20 18:07:06,105 - __main__ - DEBUG - Epoch 29/49\n",
      "2021-07-20 18:10:26,099 - __main__ - DEBUG - train Loss: 0.7612\n",
      "2021-07-20 18:10:44,414 - __main__ - DEBUG - val Loss: 0.8807\n",
      "2021-07-20 18:10:44,414 - __main__ - DEBUG - Epoch 30/49\n",
      "2021-07-20 18:14:02,795 - __main__ - DEBUG - train Loss: 0.7216\n",
      "2021-07-20 18:14:21,355 - __main__ - DEBUG - val Loss: 0.9202\n",
      "2021-07-20 18:14:21,355 - __main__ - DEBUG - Epoch 31/49\n",
      "2021-07-20 18:17:39,541 - __main__ - DEBUG - train Loss: 0.7487\n",
      "2021-07-20 18:17:58,376 - __main__ - DEBUG - val Loss: 0.7760\n",
      "2021-07-20 18:17:58,376 - __main__ - DEBUG - Epoch 32/49\n",
      "2021-07-20 18:21:17,632 - __main__ - DEBUG - train Loss: 0.7340\n",
      "2021-07-20 18:21:36,111 - __main__ - DEBUG - val Loss: 0.7854\n",
      "2021-07-20 18:21:36,111 - __main__ - DEBUG - Epoch 33/49\n",
      "2021-07-20 18:24:56,013 - __main__ - DEBUG - train Loss: 0.7464\n",
      "2021-07-20 18:25:14,687 - __main__ - DEBUG - val Loss: 0.7066\n",
      "2021-07-20 18:25:14,687 - __main__ - DEBUG - Epoch 34/49\n",
      "2021-07-20 18:28:34,129 - __main__ - DEBUG - train Loss: 0.7209\n",
      "2021-07-20 18:28:52,504 - __main__ - DEBUG - val Loss: 0.8542\n",
      "2021-07-20 18:28:52,504 - __main__ - DEBUG - Epoch 35/49\n",
      "2021-07-20 18:32:11,251 - __main__ - DEBUG - train Loss: 0.7334\n",
      "2021-07-20 18:32:29,671 - __main__ - DEBUG - val Loss: 1.0168\n",
      "2021-07-20 18:32:29,671 - __main__ - DEBUG - Epoch 36/49\n",
      "2021-07-20 18:35:48,020 - __main__ - DEBUG - train Loss: 0.7106\n",
      "2021-07-20 18:36:06,152 - __main__ - DEBUG - val Loss: 0.6910\n",
      "2021-07-20 18:36:06,167 - __main__ - DEBUG - Epoch 37/49\n",
      "2021-07-20 18:39:24,836 - __main__ - DEBUG - train Loss: 0.7141\n",
      "2021-07-20 18:39:43,408 - __main__ - DEBUG - val Loss: 0.6711\n",
      "2021-07-20 18:39:43,424 - __main__ - DEBUG - Epoch 38/49\n",
      "2021-07-20 18:43:00,812 - __main__ - DEBUG - train Loss: 0.7235\n",
      "2021-07-20 18:43:19,088 - __main__ - DEBUG - val Loss: 0.9086\n",
      "2021-07-20 18:43:19,088 - __main__ - DEBUG - Epoch 39/49\n",
      "2021-07-20 18:46:38,432 - __main__ - DEBUG - train Loss: 0.7290\n",
      "2021-07-20 18:46:56,727 - __main__ - DEBUG - val Loss: 0.8846\n",
      "2021-07-20 18:46:56,728 - __main__ - DEBUG - Epoch 40/49\n",
      "2021-07-20 18:50:15,964 - __main__ - DEBUG - train Loss: 0.7111\n",
      "2021-07-20 18:50:34,104 - __main__ - DEBUG - val Loss: 0.8598\n",
      "2021-07-20 18:50:34,104 - __main__ - DEBUG - Epoch 41/49\n",
      "2021-07-20 18:53:53,422 - __main__ - DEBUG - train Loss: 0.7074\n",
      "2021-07-20 18:54:11,591 - __main__ - DEBUG - val Loss: 0.7451\n",
      "2021-07-20 18:54:11,591 - __main__ - DEBUG - Epoch 42/49\n",
      "2021-07-20 18:57:29,356 - __main__ - DEBUG - train Loss: 0.7267\n",
      "2021-07-20 18:57:47,772 - __main__ - DEBUG - val Loss: 0.6590\n",
      "2021-07-20 18:57:47,788 - __main__ - DEBUG - Epoch 43/49\n",
      "2021-07-20 19:01:05,061 - __main__ - DEBUG - train Loss: 0.6896\n",
      "2021-07-20 19:01:23,057 - __main__ - DEBUG - val Loss: 1.8248\n",
      "2021-07-20 19:01:23,057 - __main__ - DEBUG - Epoch 44/49\n",
      "2021-07-20 19:04:40,184 - __main__ - DEBUG - train Loss: 0.7144\n",
      "2021-07-20 19:04:58,488 - __main__ - DEBUG - val Loss: 0.6652\n",
      "2021-07-20 19:04:58,488 - __main__ - DEBUG - Epoch 45/49\n",
      "2021-07-20 19:08:16,187 - __main__ - DEBUG - train Loss: 0.6965\n",
      "2021-07-20 19:08:34,420 - __main__ - DEBUG - val Loss: 1.2498\n",
      "2021-07-20 19:08:34,435 - __main__ - DEBUG - Epoch 46/49\n",
      "2021-07-20 19:11:52,008 - __main__ - DEBUG - train Loss: 0.7072\n",
      "2021-07-20 19:12:10,426 - __main__ - DEBUG - val Loss: 0.7629\n",
      "2021-07-20 19:12:10,426 - __main__ - DEBUG - Epoch 47/49\n",
      "2021-07-20 19:15:27,989 - __main__ - DEBUG - train Loss: 0.7017\n",
      "2021-07-20 19:15:46,280 - __main__ - DEBUG - val Loss: 0.7328\n",
      "2021-07-20 19:15:46,280 - __main__ - DEBUG - Epoch 48/49\n",
      "2021-07-20 19:19:02,646 - __main__ - DEBUG - train Loss: 0.6950\n",
      "2021-07-20 19:19:21,379 - __main__ - DEBUG - val Loss: 0.8444\n",
      "2021-07-20 19:19:21,379 - __main__ - DEBUG - Epoch 49/49\n",
      "2021-07-20 19:22:39,201 - __main__ - DEBUG - train Loss: 0.7289\n",
      "2021-07-20 19:22:57,325 - __main__ - DEBUG - val Loss: 0.7635\n",
      "2021-07-20 19:22:57,340 - __main__ - DEBUG - Complete training (33045.296 seconds passed)\n"
     ]
    },
    {
     "data": {
      "image/png": "[encoded data removed]",
      "text/plain": [
       "<Figure size 432x288 with 1 Axes>"
      ]
     },
     "metadata": {
      "needs_background": "light"
     },
     "output_type": "display_data"
    },
    {
     "name": "stderr",
     "output_type": "stream",
     "text": [
      "2021-07-20 19:26:42,078 - __main__ - DEBUG - Save training fold to ..\\scripts\\..\\experiments\\exp012\\cv_fold3_training.csv (33270.033 seconds passed)\n",
      "2021-07-20 19:26:42,081 - __main__ - DEBUG - Save validation fold to ..\\scripts\\..\\experiments\\exp012\\cv_fold3_validation.csv (33270.036 seconds passed)\n",
      "2021-07-20 19:26:42,097 - __main__ - DEBUG - Save test result ..\\scripts\\..\\experiments\\exp012\\cv_fold3_test.csv (33270.052 seconds passed)\n",
      "2021-07-20 19:26:42,143 - __main__ - DEBUG - Save model ..\\scripts\\..\\experiments\\exp012\\cv_fold3_model.torch (33270.099 seconds passed)\n",
      "2021-07-20 19:26:42,222 - __main__ - DEBUG - Complete fold 3 (33270.178 seconds passed)\n",
      "2021-07-20 19:26:42,222 - __main__ - DEBUG - Start fold 4 (33270.178 seconds passed)\n",
      "2021-07-20 19:26:42,238 - __main__ - DEBUG - Start training model (33270.193 seconds passed)\n",
      "2021-07-20 19:26:42,374 - __main__ - DEBUG - Epoch 0/49\n",
      "2021-07-20 19:30:01,487 - __main__ - DEBUG - train Loss: 2.3137\n",
      "2021-07-20 19:30:19,653 - __main__ - DEBUG - val Loss: 4.8980\n",
      "2021-07-20 19:30:19,669 - __main__ - DEBUG - Epoch 1/49\n",
      "2021-07-20 19:33:37,389 - __main__ - DEBUG - train Loss: 0.8814\n",
      "2021-07-20 19:33:55,654 - __main__ - DEBUG - val Loss: 0.9289\n",
      "2021-07-20 19:33:55,670 - __main__ - DEBUG - Epoch 2/49\n",
      "2021-07-20 19:37:13,328 - __main__ - DEBUG - train Loss: 0.8584\n",
      "2021-07-20 19:37:31,280 - __main__ - DEBUG - val Loss: 0.8604\n",
      "2021-07-20 19:37:31,296 - __main__ - DEBUG - Epoch 3/49\n",
      "2021-07-20 19:40:48,601 - __main__ - DEBUG - train Loss: 0.8331\n",
      "2021-07-20 19:41:06,764 - __main__ - DEBUG - val Loss: 0.8904\n",
      "2021-07-20 19:41:06,764 - __main__ - DEBUG - Epoch 4/49\n",
      "2021-07-20 19:44:25,707 - __main__ - DEBUG - train Loss: 0.8130\n",
      "2021-07-20 19:44:43,901 - __main__ - DEBUG - val Loss: 0.9579\n",
      "2021-07-20 19:44:43,901 - __main__ - DEBUG - Epoch 5/49\n",
      "2021-07-20 19:48:01,734 - __main__ - DEBUG - train Loss: 0.8239\n",
      "2021-07-20 19:48:20,275 - __main__ - DEBUG - val Loss: 0.9004\n",
      "2021-07-20 19:48:20,275 - __main__ - DEBUG - Epoch 6/49\n",
      "2021-07-20 19:51:37,451 - __main__ - DEBUG - train Loss: 0.8076\n",
      "2021-07-20 19:51:55,517 - __main__ - DEBUG - val Loss: 0.9074\n",
      "2021-07-20 19:51:55,517 - __main__ - DEBUG - Epoch 7/49\n",
      "2021-07-20 19:55:12,635 - __main__ - DEBUG - train Loss: 0.8003\n",
      "2021-07-20 19:55:30,913 - __main__ - DEBUG - val Loss: 0.9432\n",
      "2021-07-20 19:55:30,914 - __main__ - DEBUG - Epoch 8/49\n",
      "2021-07-20 19:58:49,357 - __main__ - DEBUG - train Loss: 0.7974\n",
      "2021-07-20 19:59:07,656 - __main__ - DEBUG - val Loss: 1.3651\n",
      "2021-07-20 19:59:07,656 - __main__ - DEBUG - Epoch 9/49\n",
      "2021-07-20 20:02:25,974 - __main__ - DEBUG - train Loss: 0.8130\n",
      "2021-07-20 20:02:44,195 - __main__ - DEBUG - val Loss: 0.8162\n",
      "2021-07-20 20:02:44,211 - __main__ - DEBUG - Epoch 10/49\n",
      "2021-07-20 20:06:03,013 - __main__ - DEBUG - train Loss: 0.7833\n",
      "2021-07-20 20:06:21,351 - __main__ - DEBUG - val Loss: 1.1809\n",
      "2021-07-20 20:06:21,351 - __main__ - DEBUG - Epoch 11/49\n",
      "2021-07-20 20:09:38,538 - __main__ - DEBUG - train Loss: 0.8021\n",
      "2021-07-20 20:09:56,690 - __main__ - DEBUG - val Loss: 0.8622\n",
      "2021-07-20 20:09:56,690 - __main__ - DEBUG - Epoch 12/49\n",
      "2021-07-20 20:13:14,433 - __main__ - DEBUG - train Loss: 0.7985\n",
      "2021-07-20 20:13:32,820 - __main__ - DEBUG - val Loss: 0.8460\n",
      "2021-07-20 20:13:32,820 - __main__ - DEBUG - Epoch 13/49\n",
      "2021-07-20 20:16:49,864 - __main__ - DEBUG - train Loss: 0.7847\n",
      "2021-07-20 20:17:08,361 - __main__ - DEBUG - val Loss: 1.0399\n",
      "2021-07-20 20:17:08,362 - __main__ - DEBUG - Epoch 14/49\n",
      "2021-07-20 20:20:25,771 - __main__ - DEBUG - train Loss: 0.7841\n",
      "2021-07-20 20:20:44,623 - __main__ - DEBUG - val Loss: 0.7771\n",
      "2021-07-20 20:20:44,646 - __main__ - DEBUG - Epoch 15/49\n",
      "2021-07-20 20:24:01,637 - __main__ - DEBUG - train Loss: 0.7795\n",
      "2021-07-20 20:24:20,012 - __main__ - DEBUG - val Loss: 0.8704\n",
      "2021-07-20 20:24:20,013 - __main__ - DEBUG - Epoch 16/49\n",
      "2021-07-20 20:27:38,353 - __main__ - DEBUG - train Loss: 0.7747\n",
      "2021-07-20 20:27:56,410 - __main__ - DEBUG - val Loss: 0.8274\n",
      "2021-07-20 20:27:56,410 - __main__ - DEBUG - Epoch 17/49\n",
      "2021-07-20 20:31:14,053 - __main__ - DEBUG - train Loss: 0.7527\n",
      "2021-07-20 20:31:31,933 - __main__ - DEBUG - val Loss: 0.9005\n",
      "2021-07-20 20:31:31,933 - __main__ - DEBUG - Epoch 18/49\n",
      "2021-07-20 20:34:51,339 - __main__ - DEBUG - train Loss: 0.7656\n",
      "2021-07-20 20:35:09,366 - __main__ - DEBUG - val Loss: 1.3237\n",
      "2021-07-20 20:35:09,366 - __main__ - DEBUG - Epoch 19/49\n",
      "2021-07-20 20:38:28,298 - __main__ - DEBUG - train Loss: 0.7564\n",
      "2021-07-20 20:38:46,659 - __main__ - DEBUG - val Loss: 0.8006\n",
      "2021-07-20 20:38:46,659 - __main__ - DEBUG - Epoch 20/49\n",
      "2021-07-20 20:42:05,454 - __main__ - DEBUG - train Loss: 0.7400\n",
      "2021-07-20 20:42:23,886 - __main__ - DEBUG - val Loss: 1.6872\n",
      "2021-07-20 20:42:23,886 - __main__ - DEBUG - Epoch 21/49\n",
      "2021-07-20 20:45:42,230 - __main__ - DEBUG - train Loss: 0.7681\n",
      "2021-07-20 20:46:00,596 - __main__ - DEBUG - val Loss: 2.0874\n",
      "2021-07-20 20:46:00,596 - __main__ - DEBUG - Epoch 22/49\n",
      "2021-07-20 20:49:21,190 - __main__ - DEBUG - train Loss: 0.7433\n",
      "2021-07-20 20:49:39,247 - __main__ - DEBUG - val Loss: 1.2479\n",
      "2021-07-20 20:49:39,248 - __main__ - DEBUG - Epoch 23/49\n",
      "2021-07-20 20:52:57,378 - __main__ - DEBUG - train Loss: 0.7560\n",
      "2021-07-20 20:53:15,597 - __main__ - DEBUG - val Loss: 1.1792\n",
      "2021-07-20 20:53:15,598 - __main__ - DEBUG - Epoch 24/49\n",
      "2021-07-20 20:56:33,538 - __main__ - DEBUG - train Loss: 0.7381\n",
      "2021-07-20 20:56:51,892 - __main__ - DEBUG - val Loss: 1.0057\n",
      "2021-07-20 20:56:51,893 - __main__ - DEBUG - Epoch 25/49\n",
      "2021-07-20 21:00:09,900 - __main__ - DEBUG - train Loss: 0.7363\n",
      "2021-07-20 21:00:28,569 - __main__ - DEBUG - val Loss: 0.8112\n",
      "2021-07-20 21:00:28,569 - __main__ - DEBUG - Epoch 26/49\n",
      "2021-07-20 21:03:45,450 - __main__ - DEBUG - train Loss: 0.7368\n",
      "2021-07-20 21:04:03,768 - __main__ - DEBUG - val Loss: 0.8365\n",
      "2021-07-20 21:04:03,768 - __main__ - DEBUG - Epoch 27/49\n",
      "2021-07-20 21:07:21,018 - __main__ - DEBUG - train Loss: 0.7459\n",
      "2021-07-20 21:07:39,206 - __main__ - DEBUG - val Loss: 0.8084\n",
      "2021-07-20 21:07:39,206 - __main__ - DEBUG - Epoch 28/49\n",
      "2021-07-20 21:10:56,170 - __main__ - DEBUG - train Loss: 0.7343\n",
      "2021-07-20 21:11:14,270 - __main__ - DEBUG - val Loss: 1.4046\n",
      "2021-07-20 21:11:14,271 - __main__ - DEBUG - Epoch 29/49\n",
      "2021-07-20 21:14:31,091 - __main__ - DEBUG - train Loss: 0.7214\n",
      "2021-07-20 21:14:49,409 - __main__ - DEBUG - val Loss: 1.1117\n",
      "2021-07-20 21:14:49,409 - __main__ - DEBUG - Epoch 30/49\n",
      "2021-07-20 21:18:07,696 - __main__ - DEBUG - train Loss: 0.7595\n",
      "2021-07-20 21:18:26,046 - __main__ - DEBUG - val Loss: 0.8490\n",
      "2021-07-20 21:18:26,047 - __main__ - DEBUG - Epoch 31/49\n",
      "2021-07-20 21:21:45,577 - __main__ - DEBUG - train Loss: 0.7213\n",
      "2021-07-20 21:22:03,957 - __main__ - DEBUG - val Loss: 1.2208\n",
      "2021-07-20 21:22:03,957 - __main__ - DEBUG - Epoch 32/49\n",
      "2021-07-20 21:25:24,736 - __main__ - DEBUG - train Loss: 0.7102\n",
      "2021-07-20 21:25:43,147 - __main__ - DEBUG - val Loss: 1.0246\n",
      "2021-07-20 21:25:43,161 - __main__ - DEBUG - Epoch 33/49\n",
      "2021-07-20 21:29:00,900 - __main__ - DEBUG - train Loss: 0.7201\n",
      "2021-07-20 21:29:19,130 - __main__ - DEBUG - val Loss: 0.9475\n",
      "2021-07-20 21:29:19,130 - __main__ - DEBUG - Epoch 34/49\n",
      "2021-07-20 21:32:38,302 - __main__ - DEBUG - train Loss: 0.7328\n",
      "2021-07-20 21:32:56,576 - __main__ - DEBUG - val Loss: 0.8936\n",
      "2021-07-20 21:32:56,576 - __main__ - DEBUG - Epoch 35/49\n",
      "2021-07-20 21:36:15,761 - __main__ - DEBUG - train Loss: 0.7247\n",
      "2021-07-20 21:36:33,891 - __main__ - DEBUG - val Loss: 0.8821\n",
      "2021-07-20 21:36:33,891 - __main__ - DEBUG - Epoch 36/49\n",
      "2021-07-20 21:39:52,137 - __main__ - DEBUG - train Loss: 0.7267\n",
      "2021-07-20 21:40:10,520 - __main__ - DEBUG - val Loss: 0.8381\n",
      "2021-07-20 21:40:10,520 - __main__ - DEBUG - Epoch 37/49\n",
      "2021-07-20 21:43:30,051 - __main__ - DEBUG - train Loss: 0.7303\n",
      "2021-07-20 21:43:48,685 - __main__ - DEBUG - val Loss: 1.1175\n",
      "2021-07-20 21:43:48,686 - __main__ - DEBUG - Epoch 38/49\n",
      "2021-07-20 21:47:08,782 - __main__ - DEBUG - train Loss: 0.7074\n",
      "2021-07-20 21:47:27,244 - __main__ - DEBUG - val Loss: 0.9219\n",
      "2021-07-20 21:47:27,244 - __main__ - DEBUG - Epoch 39/49\n",
      "2021-07-20 21:50:47,447 - __main__ - DEBUG - train Loss: 0.7070\n",
      "2021-07-20 21:51:05,624 - __main__ - DEBUG - val Loss: 1.3016\n",
      "2021-07-20 21:51:05,624 - __main__ - DEBUG - Epoch 40/49\n",
      "2021-07-20 21:54:22,644 - __main__ - DEBUG - train Loss: 0.7161\n",
      "2021-07-20 21:54:40,859 - __main__ - DEBUG - val Loss: 1.0092\n",
      "2021-07-20 21:54:40,859 - __main__ - DEBUG - Epoch 41/49\n",
      "2021-07-20 21:58:01,416 - __main__ - DEBUG - train Loss: 0.6998\n",
      "2021-07-20 21:58:19,775 - __main__ - DEBUG - val Loss: 0.8066\n",
      "2021-07-20 21:58:19,776 - __main__ - DEBUG - Epoch 42/49\n",
      "2021-07-20 22:01:39,182 - __main__ - DEBUG - train Loss: 0.7095\n",
      "2021-07-20 22:01:57,425 - __main__ - DEBUG - val Loss: 0.7535\n",
      "2021-07-20 22:01:57,441 - __main__ - DEBUG - Epoch 43/49\n",
      "2021-07-20 22:05:16,367 - __main__ - DEBUG - train Loss: 0.7086\n",
      "2021-07-20 22:05:34,432 - __main__ - DEBUG - val Loss: 0.9392\n",
      "2021-07-20 22:05:34,432 - __main__ - DEBUG - Epoch 44/49\n",
      "2021-07-20 22:08:53,194 - __main__ - DEBUG - train Loss: 0.7439\n",
      "2021-07-20 22:09:11,559 - __main__ - DEBUG - val Loss: 0.8132\n",
      "2021-07-20 22:09:11,559 - __main__ - DEBUG - Epoch 45/49\n",
      "2021-07-20 22:12:31,274 - __main__ - DEBUG - train Loss: 0.6915\n",
      "2021-07-20 22:12:49,554 - __main__ - DEBUG - val Loss: 0.8900\n",
      "2021-07-20 22:12:49,570 - __main__ - DEBUG - Epoch 46/49\n",
      "2021-07-20 22:16:05,874 - __main__ - DEBUG - train Loss: 0.6959\n",
      "2021-07-20 22:16:23,795 - __main__ - DEBUG - val Loss: 1.1335\n",
      "2021-07-20 22:16:23,795 - __main__ - DEBUG - Epoch 47/49\n",
      "2021-07-20 22:19:41,873 - __main__ - DEBUG - train Loss: 0.7146\n",
      "2021-07-20 22:19:59,807 - __main__ - DEBUG - val Loss: 1.4899\n",
      "2021-07-20 22:19:59,807 - __main__ - DEBUG - Epoch 48/49\n",
      "2021-07-20 22:23:18,698 - __main__ - DEBUG - train Loss: 0.6710\n",
      "2021-07-20 22:23:36,901 - __main__ - DEBUG - val Loss: 1.5907\n",
      "2021-07-20 22:23:36,901 - __main__ - DEBUG - Epoch 49/49\n",
      "2021-07-20 22:26:55,105 - __main__ - DEBUG - train Loss: 0.6716\n",
      "2021-07-20 22:27:13,479 - __main__ - DEBUG - val Loss: 0.8503\n",
      "2021-07-20 22:27:13,496 - __main__ - DEBUG - Complete training (44101.452 seconds passed)\n"
     ]
    },
    {
     "data": {
      "image/png": "[encoded data removed]",
      "text/plain": [
       "<Figure size 432x288 with 1 Axes>"
      ]
     },
     "metadata": {
      "needs_background": "light"
     },
     "output_type": "display_data"
    },
    {
     "name": "stderr",
     "output_type": "stream",
     "text": [
      "2021-07-20 22:30:56,218 - __main__ - DEBUG - Save training fold to ..\\scripts\\..\\experiments\\exp012\\cv_fold4_training.csv (44324.174 seconds passed)\n",
      "2021-07-20 22:30:56,218 - __main__ - DEBUG - Save validation fold to ..\\scripts\\..\\experiments\\exp012\\cv_fold4_validation.csv (44324.174 seconds passed)\n",
      "2021-07-20 22:30:56,234 - __main__ - DEBUG - Save test result ..\\scripts\\..\\experiments\\exp012\\cv_fold4_test.csv (44324.189 seconds passed)\n",
      "2021-07-20 22:30:56,328 - __main__ - DEBUG - Save model ..\\scripts\\..\\experiments\\exp012\\cv_fold4_model.torch (44324.284 seconds passed)\n",
      "2021-07-20 22:30:56,422 - __main__ - DEBUG - Complete fold 4 (44324.378 seconds passed)\n",
      "2021-07-20 22:30:56,422 - __main__ - DEBUG - Start fold 5 (44324.378 seconds passed)\n",
      "2021-07-20 22:30:56,422 - __main__ - DEBUG - Start training model (44324.378 seconds passed)\n",
      "2021-07-20 22:30:56,564 - __main__ - DEBUG - Epoch 0/49\n",
      "2021-07-20 22:34:16,034 - __main__ - DEBUG - train Loss: 2.2184\n",
      "2021-07-20 22:34:34,380 - __main__ - DEBUG - val Loss: 0.9266\n",
      "2021-07-20 22:34:34,411 - __main__ - DEBUG - Epoch 1/49\n",
      "2021-07-20 22:37:53,141 - __main__ - DEBUG - train Loss: 0.9086\n",
      "2021-07-20 22:38:11,360 - __main__ - DEBUG - val Loss: 0.8829\n",
      "2021-07-20 22:38:11,382 - __main__ - DEBUG - Epoch 2/49\n",
      "2021-07-20 22:41:29,123 - __main__ - DEBUG - train Loss: 0.8775\n",
      "2021-07-20 22:41:47,369 - __main__ - DEBUG - val Loss: 0.8866\n",
      "2021-07-20 22:41:47,369 - __main__ - DEBUG - Epoch 3/49\n",
      "2021-07-20 22:45:03,782 - __main__ - DEBUG - train Loss: 0.8593\n",
      "2021-07-20 22:45:22,319 - __main__ - DEBUG - val Loss: 0.9345\n",
      "2021-07-20 22:45:22,319 - __main__ - DEBUG - Epoch 4/49\n",
      "2021-07-20 22:48:38,924 - __main__ - DEBUG - train Loss: 0.8572\n",
      "2021-07-20 22:48:56,888 - __main__ - DEBUG - val Loss: 0.8573\n",
      "2021-07-20 22:48:56,904 - __main__ - DEBUG - Epoch 5/49\n",
      "2021-07-20 22:52:14,532 - __main__ - DEBUG - train Loss: 0.8435\n",
      "2021-07-20 22:52:33,062 - __main__ - DEBUG - val Loss: 0.8066\n",
      "2021-07-20 22:52:33,078 - __main__ - DEBUG - Epoch 6/49\n",
      "2021-07-20 22:55:50,878 - __main__ - DEBUG - train Loss: 0.8394\n",
      "2021-07-20 22:56:09,152 - __main__ - DEBUG - val Loss: 0.9160\n",
      "2021-07-20 22:56:09,152 - __main__ - DEBUG - Epoch 7/49\n",
      "2021-07-20 22:59:27,879 - __main__ - DEBUG - train Loss: 0.8322\n",
      "2021-07-20 22:59:46,597 - __main__ - DEBUG - val Loss: 0.9288\n",
      "2021-07-20 22:59:46,598 - __main__ - DEBUG - Epoch 8/49\n",
      "2021-07-20 23:03:03,999 - __main__ - DEBUG - train Loss: 0.8292\n",
      "2021-07-20 23:03:22,302 - __main__ - DEBUG - val Loss: 0.8233\n",
      "2021-07-20 23:03:22,303 - __main__ - DEBUG - Epoch 9/49\n",
      "2021-07-20 23:06:40,360 - __main__ - DEBUG - train Loss: 0.8198\n",
      "2021-07-20 23:06:58,839 - __main__ - DEBUG - val Loss: 0.8030\n",
      "2021-07-20 23:06:58,860 - __main__ - DEBUG - Epoch 10/49\n",
      "2021-07-20 23:10:15,517 - __main__ - DEBUG - train Loss: 0.8229\n",
      "2021-07-20 23:10:33,760 - __main__ - DEBUG - val Loss: 1.4723\n",
      "2021-07-20 23:10:33,761 - __main__ - DEBUG - Epoch 11/49\n",
      "2021-07-20 23:13:51,839 - __main__ - DEBUG - train Loss: 0.7858\n",
      "2021-07-20 23:14:09,998 - __main__ - DEBUG - val Loss: 0.7980\n",
      "2021-07-20 23:14:10,004 - __main__ - DEBUG - Epoch 12/49\n",
      "2021-07-20 23:17:28,490 - __main__ - DEBUG - train Loss: 0.7994\n",
      "2021-07-20 23:17:46,821 - __main__ - DEBUG - val Loss: 0.8360\n",
      "2021-07-20 23:17:46,821 - __main__ - DEBUG - Epoch 13/49\n",
      "2021-07-20 23:21:05,734 - __main__ - DEBUG - train Loss: 0.7747\n",
      "2021-07-20 23:21:24,245 - __main__ - DEBUG - val Loss: 0.7259\n",
      "2021-07-20 23:21:24,261 - __main__ - DEBUG - Epoch 14/49\n",
      "2021-07-20 23:24:43,261 - __main__ - DEBUG - train Loss: 0.8008\n",
      "2021-07-20 23:25:01,490 - __main__ - DEBUG - val Loss: 0.7688\n",
      "2021-07-20 23:25:01,490 - __main__ - DEBUG - Epoch 15/49\n",
      "2021-07-20 23:28:21,262 - __main__ - DEBUG - train Loss: 0.7908\n",
      "2021-07-20 23:28:39,533 - __main__ - DEBUG - val Loss: 0.8298\n",
      "2021-07-20 23:28:39,534 - __main__ - DEBUG - Epoch 16/49\n",
      "2021-07-20 23:31:58,603 - __main__ - DEBUG - train Loss: 0.7826\n",
      "2021-07-20 23:32:16,678 - __main__ - DEBUG - val Loss: 0.9072\n",
      "2021-07-20 23:32:16,678 - __main__ - DEBUG - Epoch 17/49\n",
      "2021-07-20 23:35:34,203 - __main__ - DEBUG - train Loss: 0.7765\n",
      "2021-07-20 23:35:52,386 - __main__ - DEBUG - val Loss: 1.0596\n",
      "2021-07-20 23:35:52,386 - __main__ - DEBUG - Epoch 18/49\n",
      "2021-07-20 23:39:11,813 - __main__ - DEBUG - train Loss: 0.7699\n",
      "2021-07-20 23:39:29,911 - __main__ - DEBUG - val Loss: 0.8958\n",
      "2021-07-20 23:39:29,911 - __main__ - DEBUG - Epoch 19/49\n",
      "2021-07-20 23:42:50,763 - __main__ - DEBUG - train Loss: 0.7710\n",
      "2021-07-20 23:43:09,023 - __main__ - DEBUG - val Loss: 1.1948\n",
      "2021-07-20 23:43:09,023 - __main__ - DEBUG - Epoch 20/49\n",
      "2021-07-20 23:46:27,746 - __main__ - DEBUG - train Loss: 0.7460\n",
      "2021-07-20 23:46:46,177 - __main__ - DEBUG - val Loss: 0.8489\n",
      "2021-07-20 23:46:46,178 - __main__ - DEBUG - Epoch 21/49\n",
      "2021-07-20 23:50:04,712 - __main__ - DEBUG - train Loss: 0.7769\n",
      "2021-07-20 23:50:23,385 - __main__ - DEBUG - val Loss: 1.0739\n",
      "2021-07-20 23:50:23,385 - __main__ - DEBUG - Epoch 22/49\n",
      "2021-07-20 23:53:42,738 - __main__ - DEBUG - train Loss: 0.7820\n",
      "2021-07-20 23:54:01,328 - __main__ - DEBUG - val Loss: 0.8532\n",
      "2021-07-20 23:54:01,329 - __main__ - DEBUG - Epoch 23/49\n",
      "2021-07-20 23:57:18,981 - __main__ - DEBUG - train Loss: 0.7949\n",
      "2021-07-20 23:57:36,943 - __main__ - DEBUG - val Loss: 0.7622\n",
      "2021-07-20 23:57:36,959 - __main__ - DEBUG - Epoch 24/49\n",
      "2021-07-21 00:00:57,140 - __main__ - DEBUG - train Loss: 0.7592\n",
      "2021-07-21 00:01:15,433 - __main__ - DEBUG - val Loss: 0.7194\n",
      "2021-07-21 00:01:15,449 - __main__ - DEBUG - Epoch 25/49\n",
      "2021-07-21 00:04:34,429 - __main__ - DEBUG - train Loss: 0.7387\n",
      "2021-07-21 00:04:52,465 - __main__ - DEBUG - val Loss: 0.8433\n",
      "2021-07-21 00:04:52,465 - __main__ - DEBUG - Epoch 26/49\n",
      "2021-07-21 00:08:10,014 - __main__ - DEBUG - train Loss: 0.7740\n",
      "2021-07-21 00:08:28,138 - __main__ - DEBUG - val Loss: 1.0594\n",
      "2021-07-21 00:08:28,138 - __main__ - DEBUG - Epoch 27/49\n",
      "2021-07-21 00:11:45,821 - __main__ - DEBUG - train Loss: 0.7532\n",
      "2021-07-21 00:12:03,922 - __main__ - DEBUG - val Loss: 1.4712\n",
      "2021-07-21 00:12:03,922 - __main__ - DEBUG - Epoch 28/49\n",
      "2021-07-21 00:15:21,859 - __main__ - DEBUG - train Loss: 0.7600\n",
      "2021-07-21 00:15:39,888 - __main__ - DEBUG - val Loss: 1.0518\n",
      "2021-07-21 00:15:39,888 - __main__ - DEBUG - Epoch 29/49\n",
      "2021-07-21 00:19:00,112 - __main__ - DEBUG - train Loss: 0.7477\n",
      "2021-07-21 00:19:18,486 - __main__ - DEBUG - val Loss: 1.3033\n",
      "2021-07-21 00:19:18,486 - __main__ - DEBUG - Epoch 30/49\n",
      "2021-07-21 00:22:37,757 - __main__ - DEBUG - train Loss: 0.7480\n",
      "2021-07-21 00:22:56,078 - __main__ - DEBUG - val Loss: 0.8641\n",
      "2021-07-21 00:22:56,078 - __main__ - DEBUG - Epoch 31/49\n",
      "2021-07-21 00:26:15,120 - __main__ - DEBUG - train Loss: 0.7368\n",
      "2021-07-21 00:26:33,413 - __main__ - DEBUG - val Loss: 0.8891\n",
      "2021-07-21 00:26:33,413 - __main__ - DEBUG - Epoch 32/49\n",
      "2021-07-21 00:29:52,099 - __main__ - DEBUG - train Loss: 0.7663\n",
      "2021-07-21 00:30:10,559 - __main__ - DEBUG - val Loss: 0.9052\n",
      "2021-07-21 00:30:10,575 - __main__ - DEBUG - Epoch 33/49\n",
      "2021-07-21 00:33:28,874 - __main__ - DEBUG - train Loss: 0.7473\n",
      "2021-07-21 00:33:47,159 - __main__ - DEBUG - val Loss: 0.7349\n",
      "2021-07-21 00:33:47,159 - __main__ - DEBUG - Epoch 34/49\n",
      "2021-07-21 00:37:05,740 - __main__ - DEBUG - train Loss: 0.7272\n",
      "2021-07-21 00:37:24,084 - __main__ - DEBUG - val Loss: 1.1099\n",
      "2021-07-21 00:37:24,084 - __main__ - DEBUG - Epoch 35/49\n",
      "2021-07-21 00:40:42,434 - __main__ - DEBUG - train Loss: 0.7368\n",
      "2021-07-21 00:41:00,818 - __main__ - DEBUG - val Loss: 1.4572\n",
      "2021-07-21 00:41:00,818 - __main__ - DEBUG - Epoch 36/49\n",
      "2021-07-21 00:44:19,884 - __main__ - DEBUG - train Loss: 0.7425\n",
      "2021-07-21 00:44:38,059 - __main__ - DEBUG - val Loss: 0.9587\n",
      "2021-07-21 00:44:38,059 - __main__ - DEBUG - Epoch 37/49\n",
      "2021-07-21 00:47:56,265 - __main__ - DEBUG - train Loss: 0.7392\n",
      "2021-07-21 00:48:15,222 - __main__ - DEBUG - val Loss: 1.1547\n",
      "2021-07-21 00:48:15,222 - __main__ - DEBUG - Epoch 38/49\n",
      "2021-07-21 00:51:33,140 - __main__ - DEBUG - train Loss: 0.7233\n",
      "2021-07-21 00:51:51,219 - __main__ - DEBUG - val Loss: 0.8247\n",
      "2021-07-21 00:51:51,219 - __main__ - DEBUG - Epoch 39/49\n",
      "2021-07-21 00:55:09,293 - __main__ - DEBUG - train Loss: 0.7268\n",
      "2021-07-21 00:55:27,634 - __main__ - DEBUG - val Loss: 0.9112\n",
      "2021-07-21 00:55:27,634 - __main__ - DEBUG - Epoch 40/49\n",
      "2021-07-21 00:58:46,279 - __main__ - DEBUG - train Loss: 0.7264\n",
      "2021-07-21 00:59:04,361 - __main__ - DEBUG - val Loss: 1.0735\n",
      "2021-07-21 00:59:04,361 - __main__ - DEBUG - Epoch 41/49\n",
      "2021-07-21 01:02:21,805 - __main__ - DEBUG - train Loss: 0.7241\n",
      "2021-07-21 01:02:40,168 - __main__ - DEBUG - val Loss: 0.7112\n",
      "2021-07-21 01:02:40,184 - __main__ - DEBUG - Epoch 42/49\n",
      "2021-07-21 01:05:57,487 - __main__ - DEBUG - train Loss: 0.7377\n",
      "2021-07-21 01:06:15,985 - __main__ - DEBUG - val Loss: 1.0018\n",
      "2021-07-21 01:06:15,985 - __main__ - DEBUG - Epoch 43/49\n",
      "2021-07-21 01:09:33,584 - __main__ - DEBUG - train Loss: 0.7185\n",
      "2021-07-21 01:09:52,041 - __main__ - DEBUG - val Loss: 0.8169\n",
      "2021-07-21 01:09:52,041 - __main__ - DEBUG - Epoch 44/49\n",
      "2021-07-21 01:13:11,887 - __main__ - DEBUG - train Loss: 0.7238\n",
      "2021-07-21 01:13:30,264 - __main__ - DEBUG - val Loss: 0.7485\n",
      "2021-07-21 01:13:30,264 - __main__ - DEBUG - Epoch 45/49\n",
      "2021-07-21 01:16:49,898 - __main__ - DEBUG - train Loss: 0.7239\n",
      "2021-07-21 01:17:08,433 - __main__ - DEBUG - val Loss: 0.7549\n",
      "2021-07-21 01:17:08,433 - __main__ - DEBUG - Epoch 46/49\n",
      "2021-07-21 01:20:26,335 - __main__ - DEBUG - train Loss: 0.7135\n",
      "2021-07-21 01:20:45,277 - __main__ - DEBUG - val Loss: 0.8312\n",
      "2021-07-21 01:20:45,277 - __main__ - DEBUG - Epoch 47/49\n",
      "2021-07-21 01:24:03,500 - __main__ - DEBUG - train Loss: 0.7120\n",
      "2021-07-21 01:24:21,623 - __main__ - DEBUG - val Loss: 0.8895\n",
      "2021-07-21 01:24:21,625 - __main__ - DEBUG - Epoch 48/49\n",
      "2021-07-21 01:27:40,048 - __main__ - DEBUG - train Loss: 0.7000\n",
      "2021-07-21 01:27:58,227 - __main__ - DEBUG - val Loss: 0.7271\n",
      "2021-07-21 01:27:58,227 - __main__ - DEBUG - Epoch 49/49\n",
      "2021-07-21 01:31:18,587 - __main__ - DEBUG - train Loss: 0.6977\n",
      "2021-07-21 01:31:36,912 - __main__ - DEBUG - val Loss: 0.8041\n",
      "2021-07-21 01:31:36,943 - __main__ - DEBUG - Complete training (55164.899 seconds passed)\n"
     ]
    },
    {
     "data": {
      "image/png": "[encoded data removed]",
      "text/plain": [
       "<Figure size 432x288 with 1 Axes>"
      ]
     },
     "metadata": {
      "needs_background": "light"
     },
     "output_type": "display_data"
    },
    {
     "name": "stderr",
     "output_type": "stream",
     "text": [
      "2021-07-21 01:35:21,547 - __main__ - DEBUG - Save training fold to ..\\scripts\\..\\experiments\\exp012\\cv_fold5_training.csv (55389.503 seconds passed)\n",
      "2021-07-21 01:35:21,547 - __main__ - DEBUG - Save validation fold to ..\\scripts\\..\\experiments\\exp012\\cv_fold5_validation.csv (55389.503 seconds passed)\n",
      "2021-07-21 01:35:21,563 - __main__ - DEBUG - Save test result ..\\scripts\\..\\experiments\\exp012\\cv_fold5_test.csv (55389.519 seconds passed)\n",
      "2021-07-21 01:35:21,610 - __main__ - DEBUG - Save model ..\\scripts\\..\\experiments\\exp012\\cv_fold5_model.torch (55389.566 seconds passed)\n",
      "2021-07-21 01:35:21,657 - __main__ - DEBUG - Complete fold 5 (55389.613 seconds passed)\n"
     ]
    }
   ],
   "source": [
    "fold_object_ids = load_cv_object_ids()\n",
    "for i, (train_object_ids, valid_object_ids) in enumerate(zip(fold_object_ids[0], fold_object_ids[1])):\n",
    "    assert(set(train_object_ids) & set(valid_object_ids) == set())\n",
    "    num_fold = i + 1\n",
    "    logger.debug('Start fold {} ({:.3f} seconds passed)'.format(num_fold, time.time() - SINCE))\n",
    "\n",
    "    # Separate dataset into training/validation fold\n",
    "    y_train = train.loc[train_object_ids, TARGET].values\n",
    "    y_valid = train.loc[valid_object_ids, TARGET].values\n",
    "    \n",
    "    # Training\n",
    "    logger.debug('Start training model ({:.3f} seconds passed)'.format(time.time() - SINCE))\n",
    "    ## Prepare model\n",
    "    model, input_size = initialize_model(MODEL_NAME)\n",
    "    ## Prepare transformers\n",
    "    train_transformer = transforms.Compose([\n",
    "        transforms.RandomResizedCrop(input_size),\n",
    "        transforms.RandomHorizontalFlip(),\n",
    "        transforms.ToTensor(),\n",
    "        transforms.Normalize([0.485, 0.456, 0.406], [0.229, 0.224, 0.225])\n",
    "    ])\n",
    "    val_transformer = transforms.Compose([\n",
    "        transforms.Resize(input_size),\n",
    "        transforms.CenterCrop(input_size),\n",
    "        transforms.ToTensor(),\n",
    "        transforms.Normalize([0.485, 0.456, 0.406], [0.229, 0.224, 0.225])\n",
    "    ])\n",
    "    # Prepare dataset\n",
    "    train_dataset = AtmaImageDatasetV02(train_object_ids, train_transformer, y_train)\n",
    "    val_dataset = AtmaImageDatasetV02(valid_object_ids, val_transformer, y_valid)\n",
    "    # Prepare dataloader\n",
    "    dataloaders = {\n",
    "        'train': DataLoader(dataset=train_dataset, batch_size=BATCH_SIZE, shuffle=True, num_workers=os.cpu_count()),\n",
    "        'val': DataLoader(dataset=val_dataset, batch_size=BATCH_SIZE, shuffle=False, num_workers=os.cpu_count()),\n",
    "    }\n",
    "    ## train estimator\n",
    "    estimator, train_losses, valid_losses = train_model(\n",
    "        model, dataloaders, criterion=nn.MSELoss(), num_epochs=NUM_EPOCHS,\n",
    "        optimizer=torch.optim.Adam(model.parameters()), log_func=logger.debug,\n",
    "        is_inception=MODEL_NAME == 'inception')\n",
    "    logger.debug('Complete training ({:.3f} seconds passed)'.format(time.time() - SINCE))\n",
    "    ## Visualize training loss\n",
    "    plt.plot(train_losses, label='train')\n",
    "    plt.plot(valid_losses, label='valid')\n",
    "    plt.legend(loc='upper left', bbox_to_anchor=[1., 1.])\n",
    "    plt.title(f'Fold{num_fold}')\n",
    "    plt.show()\n",
    "    \n",
    "    # Save model and prediction\n",
    "    ## Prediction\n",
    "    if REGRESSION:\n",
    "        predictions = {}\n",
    "        for fold_, object_ids_ in zip(['train', 'val', 'test'],\n",
    "                                     [train_object_ids, valid_object_ids, test['object_id']]):\n",
    "            # Prepare transformer\n",
    "            transformer_ = transforms.Compose([\n",
    "                transforms.Resize(input_size),\n",
    "                transforms.CenterCrop(input_size),\n",
    "                transforms.ToTensor(),\n",
    "                transforms.Normalize([0.485, 0.456, 0.406], [0.229, 0.224, 0.225])\n",
    "            ])\n",
    "            # Prepare dataset\n",
    "            dataset_ = AtmaImageDatasetV02(object_ids_, transformer_)\n",
    "            # Prepare dataloader\n",
    "            dataloader_ = DataLoader(dataset=dataset_, batch_size=BATCH_SIZE, shuffle=False,\n",
    "                                     num_workers=os.cpu_count())\n",
    "            # Prediction\n",
    "            predictions[fold_] = predict_by_model(estimator, dataloader_)\n",
    "        pred_train = pd.DataFrame(data=predictions['train'], columns=['pred'])\n",
    "        pred_valid = pd.DataFrame(data=predictions['val'], columns=['pred'])\n",
    "        pred_test = pd.DataFrame(data=predictions['test'], columns=['pred'])\n",
    "    else:  # Do not come here!\n",
    "        raise NotImplemented\n",
    "        try:\n",
    "            pred_train = pd.DataFrame(data=estimator.predict_proba(X_train),\n",
    "                                      columns=estimator.classes_)\n",
    "            pred_valid = pd.DataFrame(data=estimator.predict_proba(X_valid),\n",
    "                                      columns=estimator.classes_)\n",
    "            pred_test = pd.DataFrame(data=estimator.predict_proba(X_test),\n",
    "                                     columns=estimator.classes_)\n",
    "        except AttributeError:\n",
    "            pred_train = pd.DataFrame(data=estimator.decision_function(X_train),\n",
    "                                      columns=estimator.classes_)\n",
    "            pred_valid = pd.DataFrame(data=estimator.decision_function(X_valid),\n",
    "                                      columns=estimator.classes_)\n",
    "            pred_test = pd.DataFrame(data=estimator.decision_function(X_test),\n",
    "                                     columns=estimator.classes_)\n",
    "    ## Training set\n",
    "    pred_train['object_id'] = train_object_ids\n",
    "    filepath_fold_train = os.path.join(output_dir, f'cv_fold{num_fold}_training.csv')\n",
    "    pred_train.to_csv(filepath_fold_train, index=False)\n",
    "    logger.debug('Save training fold to {} ({:.3f} seconds passed)' \\\n",
    "                .format(filepath_fold_train, time.time() - SINCE))\n",
    "    ## Validation set\n",
    "    pred_valid['object_id'] = valid_object_ids\n",
    "    filepath_fold_valid = os.path.join(output_dir, f'cv_fold{num_fold}_validation.csv')\n",
    "    pred_valid.to_csv(filepath_fold_valid, index=False)\n",
    "    logger.debug('Save validation fold to {} ({:.3f} seconds passed)' \\\n",
    "                .format(filepath_fold_valid, time.time() - SINCE))\n",
    "    ## Test set\n",
    "    pred_test['object_id'] = test['object_id'].values\n",
    "    filepath_fold_test = os.path.join(output_dir, f'cv_fold{num_fold}_test.csv')\n",
    "    pred_test.to_csv(filepath_fold_test, index=False)\n",
    "    logger.debug('Save test result {} ({:.3f} seconds passed)' \\\n",
    "                 .format(filepath_fold_test, time.time() - SINCE))\n",
    "    ## Model\n",
    "    filepath_fold_model = os.path.join(output_dir, f'cv_fold{num_fold}_model.torch')\n",
    "    torch.save(estimator.state_dict(), filepath_fold_model)\n",
    "#     with open(filepath_fold_model, 'wb') as f:\n",
    "#         pickle.dump(estimator, f)\n",
    "    logger.debug('Save model {} ({:.3f} seconds passed)'.format(filepath_fold_model, time.time() - SINCE))\n",
    "    \n",
    "    # Save memory\n",
    "    del (estimator, y_train, y_valid, pred_train, pred_valid, pred_test)\n",
    "    gc.collect()\n",
    "\n",
    "    logger.debug('Complete fold {} ({:.3f} seconds passed)'.format(num_fold, time.time() - SINCE))"
   ]
  },
  {
   "cell_type": "markdown",
   "metadata": {},
   "source": [
    "# Evaluation"
   ]
  },
  {
   "cell_type": "code",
   "execution_count": 19,
   "metadata": {
    "execution": {
     "iopub.execute_input": "2021-07-20T16:35:21.674421Z",
     "iopub.status.busy": "2021-07-20T16:35:21.674421Z",
     "iopub.status.idle": "2021-07-20T16:35:21.688989Z",
     "shell.execute_reply": "2021-07-20T16:35:21.688989Z"
    }
   },
   "outputs": [],
   "source": [
    "rmse = partial(mean_squared_error, squared=False)"
   ]
  },
  {
   "cell_type": "code",
   "execution_count": 20,
   "metadata": {
    "execution": {
     "iopub.execute_input": "2021-07-20T16:35:21.688989Z",
     "iopub.status.busy": "2021-07-20T16:35:21.688989Z",
     "iopub.status.idle": "2021-07-20T16:35:21.704712Z",
     "shell.execute_reply": "2021-07-20T16:35:21.704712Z"
    }
   },
   "outputs": [],
   "source": [
    "# qwk = partial(cohen_kappa_score, labels=np.sort(train['target'].unique()), weights='quadratic')"
   ]
  },
  {
   "cell_type": "code",
   "execution_count": 21,
   "metadata": {
    "execution": {
     "iopub.execute_input": "2021-07-20T16:35:21.704712Z",
     "iopub.status.busy": "2021-07-20T16:35:21.704712Z",
     "iopub.status.idle": "2021-07-20T16:35:21.720339Z",
     "shell.execute_reply": "2021-07-20T16:35:21.720339Z"
    }
   },
   "outputs": [],
   "source": [
    "@np.vectorize\n",
    "def predict(proba_0: float, proba_1: float, proba_2: float, proba_3: float) -> int:\n",
    "    return np.argmax((proba_0, proba_1, proba_2, proba_3))"
   ]
  },
  {
   "cell_type": "code",
   "execution_count": 22,
   "metadata": {
    "execution": {
     "iopub.execute_input": "2021-07-20T16:35:21.735928Z",
     "iopub.status.busy": "2021-07-20T16:35:21.720339Z",
     "iopub.status.idle": "2021-07-20T16:35:21.742490Z",
     "shell.execute_reply": "2021-07-20T16:35:21.735928Z"
    }
   },
   "outputs": [],
   "source": [
    "metrics = defaultdict(list)"
   ]
  },
  {
   "cell_type": "markdown",
   "metadata": {},
   "source": [
    "## Training set"
   ]
  },
  {
   "cell_type": "code",
   "execution_count": 23,
   "metadata": {
    "execution": {
     "iopub.execute_input": "2021-07-20T16:35:21.752055Z",
     "iopub.status.busy": "2021-07-20T16:35:21.752055Z",
     "iopub.status.idle": "2021-07-20T16:35:22.113669Z",
     "shell.execute_reply": "2021-07-20T16:35:22.113669Z"
    }
   },
   "outputs": [
    {
     "name": "stderr",
     "output_type": "stream",
     "text": [
      "2021-07-21 01:35:21,752 - __main__ - DEBUG - Evaluate cv result (training set) Fold 1\n",
      "2021-07-21 01:35:22,050 - __main__ - DEBUG - Loss: 0.8105381096033067\n",
      "2021-07-21 01:35:22,050 - __main__ - DEBUG - Evaluate cv result (training set) Fold 2\n",
      "2021-07-21 01:35:22,066 - __main__ - DEBUG - Loss: 0.8110304850219507\n",
      "2021-07-21 01:35:22,066 - __main__ - DEBUG - Evaluate cv result (training set) Fold 3\n",
      "2021-07-21 01:35:22,082 - __main__ - DEBUG - Loss: 0.7855444167880744\n",
      "2021-07-21 01:35:22,082 - __main__ - DEBUG - Evaluate cv result (training set) Fold 4\n",
      "2021-07-21 01:35:22,082 - __main__ - DEBUG - Loss: 0.7780640654407786\n",
      "2021-07-21 01:35:22,082 - __main__ - DEBUG - Evaluate cv result (training set) Fold 5\n",
      "2021-07-21 01:35:22,097 - __main__ - DEBUG - Loss: 0.8329358825055541\n"
     ]
    }
   ],
   "source": [
    "pred_train_dfs = []\n",
    "for i in range(N_SPLITS):\n",
    "    num_fold = i + 1\n",
    "    logger.debug('Evaluate cv result (training set) Fold {}'.format(num_fold))\n",
    "    # Read cv result\n",
    "    filepath_fold_train = os.path.join(output_dir, f'cv_fold{num_fold}_training.csv')\n",
    "    pred_train_df = pd.read_csv(filepath_fold_train)\n",
    "    pred_train_df['actual'] = train.loc[pred_train_df['object_id'], TARGET].values\n",
    "    if REGRESSION:\n",
    "        if TARGET == 'target':\n",
    "            pred_train_df['pred'].clip(lower=0, upper=3, inplace=True)\n",
    "        else:\n",
    "            pred_train_df['pred'] = np.vectorize(soring_date2target)(pred_train_df['pred'])\n",
    "            pred_train_df['actual'] = np.vectorize(soring_date2target)(pred_train_df['actual'])\n",
    "    else:\n",
    "        pred_train_df['pred'] = predict(pred_train_df['0'], pred_train_df['1'],\n",
    "                                        pred_train_df['2'], pred_train_df['3'])\n",
    "    if not (REGRESSION and TARGET == 'target'):\n",
    "        print(confusion_matrix(pred_train_df['actual'], pred_train_df['pred'],\n",
    "                               labels=np.sort(train['target'].unique())))\n",
    "    loss = rmse(pred_train_df['actual'], pred_train_df['pred'])\n",
    "#     score = qwk(pred_train_df['actual'], pred_train_df['pred'])\n",
    "    logger.debug('Loss: {}'.format(loss))\n",
    "#     logger.debug('Score: {}'.format(score))\n",
    "    metrics['train_losses'].append(loss)\n",
    "#     metrics['train_scores'].append(score)\n",
    "    pred_train_dfs.append(pred_train_df)\n",
    "\n",
    "metrics['train_losses_avg'] = np.mean(metrics['train_losses'])\n",
    "metrics['train_losses_std'] = np.std(metrics['train_losses'])\n",
    "# metrics['train_scores_avg'] = np.mean(metrics['train_scores'])\n",
    "# metrics['train_scores_std'] = np.std(metrics['train_scores'])"
   ]
  },
  {
   "cell_type": "code",
   "execution_count": 24,
   "metadata": {
    "execution": {
     "iopub.execute_input": "2021-07-20T16:35:22.113669Z",
     "iopub.status.busy": "2021-07-20T16:35:22.113669Z",
     "iopub.status.idle": "2021-07-20T16:35:22.145064Z",
     "shell.execute_reply": "2021-07-20T16:35:22.145064Z"
    }
   },
   "outputs": [
    {
     "data": {
      "text/html": [
       "<div>\n",
       "<style scoped>\n",
       "    .dataframe tbody tr th:only-of-type {\n",
       "        vertical-align: middle;\n",
       "    }\n",
       "\n",
       "    .dataframe tbody tr th {\n",
       "        vertical-align: top;\n",
       "    }\n",
       "\n",
       "    .dataframe thead th {\n",
       "        text-align: right;\n",
       "    }\n",
       "</style>\n",
       "<table border=\"1\" class=\"dataframe\">\n",
       "  <thead>\n",
       "    <tr style=\"text-align: right;\">\n",
       "      <th></th>\n",
       "      <th>pred</th>\n",
       "      <th>actual</th>\n",
       "    </tr>\n",
       "    <tr>\n",
       "      <th>object_id</th>\n",
       "      <th></th>\n",
       "      <th></th>\n",
       "    </tr>\n",
       "  </thead>\n",
       "  <tbody>\n",
       "    <tr>\n",
       "      <th>002bff09b09998d0be65</th>\n",
       "      <td>1.10172</td>\n",
       "      <td>1</td>\n",
       "    </tr>\n",
       "    <tr>\n",
       "      <th>00309fb1ef05416f9c1f</th>\n",
       "      <td>1.83802</td>\n",
       "      <td>3</td>\n",
       "    </tr>\n",
       "    <tr>\n",
       "      <th>003a1562e97f79ba96dc</th>\n",
       "      <td>1.85150</td>\n",
       "      <td>3</td>\n",
       "    </tr>\n",
       "    <tr>\n",
       "      <th>004890880e8e7431147b</th>\n",
       "      <td>0.94285</td>\n",
       "      <td>2</td>\n",
       "    </tr>\n",
       "    <tr>\n",
       "      <th>00718c32602425f504c1</th>\n",
       "      <td>1.90438</td>\n",
       "      <td>3</td>\n",
       "    </tr>\n",
       "    <tr>\n",
       "      <th>...</th>\n",
       "      <td>...</td>\n",
       "      <td>...</td>\n",
       "    </tr>\n",
       "    <tr>\n",
       "      <th>ffa3259fff8e6f3818a1</th>\n",
       "      <td>1.55841</td>\n",
       "      <td>3</td>\n",
       "    </tr>\n",
       "    <tr>\n",
       "      <th>ffd4d361756587883e48</th>\n",
       "      <td>0.78167</td>\n",
       "      <td>1</td>\n",
       "    </tr>\n",
       "    <tr>\n",
       "      <th>ffd794b7b311b7b7fd92</th>\n",
       "      <td>1.91032</td>\n",
       "      <td>2</td>\n",
       "    </tr>\n",
       "    <tr>\n",
       "      <th>ffe49bba69d06446de7e</th>\n",
       "      <td>1.23539</td>\n",
       "      <td>3</td>\n",
       "    </tr>\n",
       "    <tr>\n",
       "      <th>ffe77db10be3400bed53</th>\n",
       "      <td>1.31441</td>\n",
       "      <td>1</td>\n",
       "    </tr>\n",
       "  </tbody>\n",
       "</table>\n",
       "<p>3937 rows × 2 columns</p>\n",
       "</div>"
      ],
      "text/plain": [
       "                        pred  actual\n",
       "object_id                           \n",
       "002bff09b09998d0be65 1.10172       1\n",
       "00309fb1ef05416f9c1f 1.83802       3\n",
       "003a1562e97f79ba96dc 1.85150       3\n",
       "004890880e8e7431147b 0.94285       2\n",
       "00718c32602425f504c1 1.90438       3\n",
       "...                      ...     ...\n",
       "ffa3259fff8e6f3818a1 1.55841       3\n",
       "ffd4d361756587883e48 0.78167       1\n",
       "ffd794b7b311b7b7fd92 1.91032       2\n",
       "ffe49bba69d06446de7e 1.23539       3\n",
       "ffe77db10be3400bed53 1.31441       1\n",
       "\n",
       "[3937 rows x 2 columns]"
      ]
     },
     "execution_count": 24,
     "metadata": {},
     "output_type": "execute_result"
    }
   ],
   "source": [
    "pred_train = pd.concat(pred_train_dfs).groupby('object_id').sum()\n",
    "pred_train = pred_train / N_SPLITS\n",
    "if not REGRESSION:\n",
    "    pred_train['pred'] = predict(pred_train['0'], pred_train['1'], pred_train['2'], pred_train['3'])\n",
    "pred_train['actual'] = train.loc[pred_train.index, TARGET].values\n",
    "if REGRESSION and TARGET == 'sorting_date':\n",
    "    pred_train['actual'] = np.vectorize(soring_date2target)(pred_train['actual'])\n",
    "# for c in ('pred', 'actual'):\n",
    "#     pred_train[c] = pred_train[c].astype('int')\n",
    "pred_train"
   ]
  },
  {
   "cell_type": "code",
   "execution_count": 25,
   "metadata": {
    "execution": {
     "iopub.execute_input": "2021-07-20T16:35:22.160711Z",
     "iopub.status.busy": "2021-07-20T16:35:22.160711Z",
     "iopub.status.idle": "2021-07-20T16:35:22.177019Z",
     "shell.execute_reply": "2021-07-20T16:35:22.177019Z"
    }
   },
   "outputs": [
    {
     "name": "stderr",
     "output_type": "stream",
     "text": [
      "2021-07-21 01:35:22,160 - __main__ - INFO - Training loss: 0.8873520658503753\n"
     ]
    }
   ],
   "source": [
    "if not (REGRESSION and TARGET == 'target'):\n",
    "    print(confusion_matrix(pred_train['actual'], pred_train['pred'], labels=np.sort(train['target'].unique())))\n",
    "loss = rmse(pred_train['actual'], pred_train['pred'])\n",
    "# score = qwk(pred_train['actual'], pred_train['pred'])\n",
    "metrics['train_loss'] = loss\n",
    "# metrics['train_score'] = score\n",
    "logger.info('Training loss: {}'.format(loss))\n",
    "# logger.info('Training score: {}'.format(score))"
   ]
  },
  {
   "cell_type": "code",
   "execution_count": 26,
   "metadata": {
    "execution": {
     "iopub.execute_input": "2021-07-20T16:35:22.192048Z",
     "iopub.status.busy": "2021-07-20T16:35:22.192048Z",
     "iopub.status.idle": "2021-07-20T16:35:22.223376Z",
     "shell.execute_reply": "2021-07-20T16:35:22.223376Z"
    }
   },
   "outputs": [
    {
     "name": "stderr",
     "output_type": "stream",
     "text": [
      "2021-07-21 01:35:22,192 - __main__ - DEBUG - Write cv result to ..\\scripts\\..\\experiments\\exp012\\prediction_train.csv\n"
     ]
    }
   ],
   "source": [
    "pred_train.to_csv(os.path.join(output_dir, 'prediction_train.csv'))\n",
    "logger.debug('Write cv result to {}'.format(os.path.join(output_dir, 'prediction_train.csv')))"
   ]
  },
  {
   "cell_type": "markdown",
   "metadata": {},
   "source": [
    "## Validation set"
   ]
  },
  {
   "cell_type": "code",
   "execution_count": 27,
   "metadata": {
    "execution": {
     "iopub.execute_input": "2021-07-20T16:35:22.223376Z",
     "iopub.status.busy": "2021-07-20T16:35:22.223376Z",
     "iopub.status.idle": "2021-07-20T16:35:22.302660Z",
     "shell.execute_reply": "2021-07-20T16:35:22.302660Z"
    }
   },
   "outputs": [
    {
     "name": "stderr",
     "output_type": "stream",
     "text": [
      "2021-07-21 01:35:22,223 - __main__ - DEBUG - Evaluate cv result (validation set) Fold 1\n",
      "2021-07-21 01:35:22,238 - __main__ - DEBUG - Loss: 0.8379114606952209\n",
      "2021-07-21 01:35:22,238 - __main__ - DEBUG - Evaluate cv result (validation set) Fold 2\n",
      "2021-07-21 01:35:22,243 - __main__ - DEBUG - Loss: 0.848367281755134\n",
      "2021-07-21 01:35:22,243 - __main__ - DEBUG - Evaluate cv result (validation set) Fold 3\n",
      "2021-07-21 01:35:22,255 - __main__ - DEBUG - Loss: 0.8103946967027115\n",
      "2021-07-21 01:35:22,255 - __main__ - DEBUG - Evaluate cv result (validation set) Fold 4\n",
      "2021-07-21 01:35:22,270 - __main__ - DEBUG - Loss: 0.8678550273610941\n",
      "2021-07-21 01:35:22,270 - __main__ - DEBUG - Evaluate cv result (validation set) Fold 5\n",
      "2021-07-21 01:35:22,270 - __main__ - DEBUG - Loss: 0.8433184409332284\n"
     ]
    }
   ],
   "source": [
    "pred_valid_dfs = []\n",
    "for i in range(N_SPLITS):\n",
    "    num_fold = i + 1\n",
    "    logger.debug('Evaluate cv result (validation set) Fold {}'.format(num_fold))\n",
    "    # Read cv result\n",
    "    filepath_fold_valid = os.path.join(output_dir, f'cv_fold{num_fold}_validation.csv')\n",
    "    pred_valid_df = pd.read_csv(filepath_fold_valid)\n",
    "    pred_valid_df['actual'] = train.loc[pred_valid_df['object_id'], TARGET].values\n",
    "    if REGRESSION:\n",
    "        if TARGET == 'target':\n",
    "            pred_valid_df['pred'].clip(lower=0, upper=3, inplace=True)\n",
    "        else:\n",
    "            pred_valid_df['pred'] = np.vectorize(soring_date2target)(pred_valid_df['pred'])\n",
    "            pred_valid_df['actual'] = np.vectorize(soring_date2target)(pred_valid_df['actual'])\n",
    "    else:\n",
    "        pred_valid_df['pred'] = predict(pred_valid_df['0'], pred_valid_df['1'],\n",
    "                                        pred_valid_df['2'], pred_valid_df['3'])        \n",
    "    \n",
    "    if not (REGRESSION and TARGET == 'target'):\n",
    "        print(confusion_matrix(pred_valid_df['actual'], pred_valid_df['pred'],\n",
    "                               labels=np.sort(train['target'].unique())))\n",
    "    loss = rmse(pred_valid_df['actual'], pred_valid_df['pred'])\n",
    "#     score = qwk(pred_valid_df['actual'], pred_valid_df['pred'])\n",
    "    logger.debug('Loss: {}'.format(loss))\n",
    "#     logger.debug('Score: {}'.format(score))\n",
    "    metrics['valid_losses'].append(loss)\n",
    "#     metrics['valid_scores'].append(score)\n",
    "    pred_valid_dfs.append(pred_valid_df)\n",
    "    \n",
    "metrics['valid_losses_avg'] = np.mean(metrics['valid_losses'])\n",
    "metrics['valid_losses_std'] = np.std(metrics['valid_losses'])\n",
    "# metrics['valid_scores_avg'] = np.mean(metrics['valid_scores'])\n",
    "# metrics['valid_scores_std'] = np.std(metrics['valid_scores'])"
   ]
  },
  {
   "cell_type": "code",
   "execution_count": 28,
   "metadata": {
    "execution": {
     "iopub.execute_input": "2021-07-20T16:35:22.302660Z",
     "iopub.status.busy": "2021-07-20T16:35:22.302660Z",
     "iopub.status.idle": "2021-07-20T16:35:22.333933Z",
     "shell.execute_reply": "2021-07-20T16:35:22.333933Z"
    }
   },
   "outputs": [
    {
     "data": {
      "text/html": [
       "<div>\n",
       "<style scoped>\n",
       "    .dataframe tbody tr th:only-of-type {\n",
       "        vertical-align: middle;\n",
       "    }\n",
       "\n",
       "    .dataframe tbody tr th {\n",
       "        vertical-align: top;\n",
       "    }\n",
       "\n",
       "    .dataframe thead th {\n",
       "        text-align: right;\n",
       "    }\n",
       "</style>\n",
       "<table border=\"1\" class=\"dataframe\">\n",
       "  <thead>\n",
       "    <tr style=\"text-align: right;\">\n",
       "      <th></th>\n",
       "      <th>pred</th>\n",
       "      <th>actual</th>\n",
       "    </tr>\n",
       "    <tr>\n",
       "      <th>object_id</th>\n",
       "      <th></th>\n",
       "      <th></th>\n",
       "    </tr>\n",
       "  </thead>\n",
       "  <tbody>\n",
       "    <tr>\n",
       "      <th>002bff09b09998d0be65</th>\n",
       "      <td>0.22289</td>\n",
       "      <td>1</td>\n",
       "    </tr>\n",
       "    <tr>\n",
       "      <th>00309fb1ef05416f9c1f</th>\n",
       "      <td>0.43376</td>\n",
       "      <td>3</td>\n",
       "    </tr>\n",
       "    <tr>\n",
       "      <th>003a1562e97f79ba96dc</th>\n",
       "      <td>0.40468</td>\n",
       "      <td>3</td>\n",
       "    </tr>\n",
       "    <tr>\n",
       "      <th>004890880e8e7431147b</th>\n",
       "      <td>0.14016</td>\n",
       "      <td>2</td>\n",
       "    </tr>\n",
       "    <tr>\n",
       "      <th>00718c32602425f504c1</th>\n",
       "      <td>0.41116</td>\n",
       "      <td>3</td>\n",
       "    </tr>\n",
       "    <tr>\n",
       "      <th>...</th>\n",
       "      <td>...</td>\n",
       "      <td>...</td>\n",
       "    </tr>\n",
       "    <tr>\n",
       "      <th>ffa3259fff8e6f3818a1</th>\n",
       "      <td>0.32199</td>\n",
       "      <td>3</td>\n",
       "    </tr>\n",
       "    <tr>\n",
       "      <th>ffd4d361756587883e48</th>\n",
       "      <td>0.19970</td>\n",
       "      <td>1</td>\n",
       "    </tr>\n",
       "    <tr>\n",
       "      <th>ffd794b7b311b7b7fd92</th>\n",
       "      <td>0.53639</td>\n",
       "      <td>2</td>\n",
       "    </tr>\n",
       "    <tr>\n",
       "      <th>ffe49bba69d06446de7e</th>\n",
       "      <td>0.31711</td>\n",
       "      <td>3</td>\n",
       "    </tr>\n",
       "    <tr>\n",
       "      <th>ffe77db10be3400bed53</th>\n",
       "      <td>0.31594</td>\n",
       "      <td>1</td>\n",
       "    </tr>\n",
       "  </tbody>\n",
       "</table>\n",
       "<p>3937 rows × 2 columns</p>\n",
       "</div>"
      ],
      "text/plain": [
       "                        pred  actual\n",
       "object_id                           \n",
       "002bff09b09998d0be65 0.22289       1\n",
       "00309fb1ef05416f9c1f 0.43376       3\n",
       "003a1562e97f79ba96dc 0.40468       3\n",
       "004890880e8e7431147b 0.14016       2\n",
       "00718c32602425f504c1 0.41116       3\n",
       "...                      ...     ...\n",
       "ffa3259fff8e6f3818a1 0.32199       3\n",
       "ffd4d361756587883e48 0.19970       1\n",
       "ffd794b7b311b7b7fd92 0.53639       2\n",
       "ffe49bba69d06446de7e 0.31711       3\n",
       "ffe77db10be3400bed53 0.31594       1\n",
       "\n",
       "[3937 rows x 2 columns]"
      ]
     },
     "execution_count": 28,
     "metadata": {},
     "output_type": "execute_result"
    }
   ],
   "source": [
    "pred_valid = pd.concat(pred_valid_dfs).groupby('object_id').sum()\n",
    "pred_valid = pred_valid / N_SPLITS\n",
    "if not REGRESSION:\n",
    "    pred_valid['pred'] = predict(pred_valid['0'], pred_valid['1'], pred_valid['2'], pred_valid['3'])\n",
    "pred_valid['actual'] = train.loc[pred_valid.index, TARGET].values\n",
    "if REGRESSION and TARGET == 'sorting_date':\n",
    "    pred_valid['actual'] = np.vectorize(soring_date2target)(pred_valid['actual'])\n",
    "# for c in ('pred', 'actual'):\n",
    "#     pred_valid[c] = pred_valid[c].astype('int')\n",
    "pred_valid"
   ]
  },
  {
   "cell_type": "code",
   "execution_count": 29,
   "metadata": {
    "execution": {
     "iopub.execute_input": "2021-07-20T16:35:22.333933Z",
     "iopub.status.busy": "2021-07-20T16:35:22.333933Z",
     "iopub.status.idle": "2021-07-20T16:35:22.350511Z",
     "shell.execute_reply": "2021-07-20T16:35:22.350511Z"
    }
   },
   "outputs": [
    {
     "name": "stderr",
     "output_type": "stream",
     "text": [
      "2021-07-21 01:35:22,333 - __main__ - INFO - Validatino loss: 1.7150954262821403\n"
     ]
    }
   ],
   "source": [
    "if not REGRESSION:\n",
    "    print(confusion_matrix(pred_valid['actual'], pred_valid['pred'], labels=np.sort(train['target'].unique())))\n",
    "loss = rmse(pred_valid['actual'], pred_valid['pred'])\n",
    "# score = qwk(pred_valid['actual'], pred_valid['pred'])\n",
    "metrics['valid_loss'] = loss\n",
    "# metrics['valid_score'] = score\n",
    "logger.info('Validatino loss: {}'.format(loss))\n",
    "# logger.info('Validatino score: {}'.format(score))"
   ]
  },
  {
   "cell_type": "code",
   "execution_count": 30,
   "metadata": {
    "execution": {
     "iopub.execute_input": "2021-07-20T16:35:22.350511Z",
     "iopub.status.busy": "2021-07-20T16:35:22.350511Z",
     "iopub.status.idle": "2021-07-20T16:35:22.366197Z",
     "shell.execute_reply": "2021-07-20T16:35:22.366197Z"
    }
   },
   "outputs": [
    {
     "name": "stderr",
     "output_type": "stream",
     "text": [
      "2021-07-21 01:35:22,350 - __main__ - DEBUG - Write cv result to ..\\scripts\\..\\experiments\\exp012\\prediction_valid.csv\n"
     ]
    }
   ],
   "source": [
    "pred_valid.to_csv(os.path.join(output_dir, 'prediction_valid.csv'))\n",
    "logger.debug('Write cv result to {}'.format(os.path.join(output_dir, 'prediction_valid.csv')))"
   ]
  },
  {
   "cell_type": "code",
   "execution_count": 31,
   "metadata": {
    "execution": {
     "iopub.execute_input": "2021-07-20T16:35:22.371296Z",
     "iopub.status.busy": "2021-07-20T16:35:22.371296Z",
     "iopub.status.idle": "2021-07-20T16:35:22.397714Z",
     "shell.execute_reply": "2021-07-20T16:35:22.397714Z"
    }
   },
   "outputs": [
    {
     "name": "stderr",
     "output_type": "stream",
     "text": [
      "2021-07-21 01:35:22,381 - __main__ - DEBUG - Write metrics to ..\\scripts\\..\\experiments\\exp012\\metrics.json\n"
     ]
    }
   ],
   "source": [
    "with open(os.path.join(output_dir, 'metrics.json'), 'w') as f:\n",
    "    json.dump(dict(metrics), f)\n",
    "logger.debug('Write metrics to {}'.format(os.path.join(output_dir, 'metrics.json')))"
   ]
  },
  {
   "cell_type": "markdown",
   "metadata": {},
   "source": [
    "# Prediction"
   ]
  },
  {
   "cell_type": "code",
   "execution_count": 32,
   "metadata": {
    "execution": {
     "iopub.execute_input": "2021-07-20T16:35:22.397714Z",
     "iopub.status.busy": "2021-07-20T16:35:22.397714Z",
     "iopub.status.idle": "2021-07-20T16:35:22.476072Z",
     "shell.execute_reply": "2021-07-20T16:35:22.476072Z"
    }
   },
   "outputs": [],
   "source": [
    "pred_test_dfs = []\n",
    "for i in range(N_SPLITS):\n",
    "    num_fold = i + 1\n",
    "    # Read cv result\n",
    "    filepath_fold_test = os.path.join(output_dir, f'cv_fold{num_fold}_test.csv')\n",
    "    pred_test_df = pd.read_csv(filepath_fold_test)\n",
    "    pred_test_dfs.append(pred_test_df)"
   ]
  },
  {
   "cell_type": "code",
   "execution_count": 33,
   "metadata": {
    "execution": {
     "iopub.execute_input": "2021-07-20T16:35:22.476072Z",
     "iopub.status.busy": "2021-07-20T16:35:22.476072Z",
     "iopub.status.idle": "2021-07-20T16:35:22.507322Z",
     "shell.execute_reply": "2021-07-20T16:35:22.507322Z"
    }
   },
   "outputs": [
    {
     "data": {
      "text/html": [
       "<div>\n",
       "<style scoped>\n",
       "    .dataframe tbody tr th:only-of-type {\n",
       "        vertical-align: middle;\n",
       "    }\n",
       "\n",
       "    .dataframe tbody tr th {\n",
       "        vertical-align: top;\n",
       "    }\n",
       "\n",
       "    .dataframe thead th {\n",
       "        text-align: right;\n",
       "    }\n",
       "</style>\n",
       "<table border=\"1\" class=\"dataframe\">\n",
       "  <thead>\n",
       "    <tr style=\"text-align: right;\">\n",
       "      <th></th>\n",
       "      <th>pred</th>\n",
       "    </tr>\n",
       "    <tr>\n",
       "      <th>object_id</th>\n",
       "      <th></th>\n",
       "    </tr>\n",
       "  </thead>\n",
       "  <tbody>\n",
       "    <tr>\n",
       "      <th>0009e50b94be36ccad39</th>\n",
       "      <td>1.38151</td>\n",
       "    </tr>\n",
       "    <tr>\n",
       "      <th>000bd5e82eb22f199f44</th>\n",
       "      <td>2.12472</td>\n",
       "    </tr>\n",
       "    <tr>\n",
       "      <th>0015f44de1854f617516</th>\n",
       "      <td>1.74514</td>\n",
       "    </tr>\n",
       "    <tr>\n",
       "      <th>00388a678879ba1efa27</th>\n",
       "      <td>2.05267</td>\n",
       "    </tr>\n",
       "    <tr>\n",
       "      <th>005e1e7c6496902d23f3</th>\n",
       "      <td>0.75759</td>\n",
       "    </tr>\n",
       "    <tr>\n",
       "      <th>...</th>\n",
       "      <td>...</td>\n",
       "    </tr>\n",
       "    <tr>\n",
       "      <th>ffbe65ad399b632dcbd0</th>\n",
       "      <td>2.09462</td>\n",
       "    </tr>\n",
       "    <tr>\n",
       "      <th>ffd7b2d646c0320c311a</th>\n",
       "      <td>1.01437</td>\n",
       "    </tr>\n",
       "    <tr>\n",
       "      <th>ffdb93ede17d4501e530</th>\n",
       "      <td>1.68707</td>\n",
       "    </tr>\n",
       "    <tr>\n",
       "      <th>ffe111402004b0ed46b4</th>\n",
       "      <td>1.77674</td>\n",
       "    </tr>\n",
       "    <tr>\n",
       "      <th>fffdb3c248a7dcd3cccf</th>\n",
       "      <td>1.42799</td>\n",
       "    </tr>\n",
       "  </tbody>\n",
       "</table>\n",
       "<p>5919 rows × 1 columns</p>\n",
       "</div>"
      ],
      "text/plain": [
       "                        pred\n",
       "object_id                   \n",
       "0009e50b94be36ccad39 1.38151\n",
       "000bd5e82eb22f199f44 2.12472\n",
       "0015f44de1854f617516 1.74514\n",
       "00388a678879ba1efa27 2.05267\n",
       "005e1e7c6496902d23f3 0.75759\n",
       "...                      ...\n",
       "ffbe65ad399b632dcbd0 2.09462\n",
       "ffd7b2d646c0320c311a 1.01437\n",
       "ffdb93ede17d4501e530 1.68707\n",
       "ffe111402004b0ed46b4 1.77674\n",
       "fffdb3c248a7dcd3cccf 1.42799\n",
       "\n",
       "[5919 rows x 1 columns]"
      ]
     },
     "execution_count": 33,
     "metadata": {},
     "output_type": "execute_result"
    }
   ],
   "source": [
    "pred_test = pd.concat(pred_test_dfs).groupby('object_id').sum()\n",
    "pred_test = pred_test / N_SPLITS\n",
    "if REGRESSION:\n",
    "    if TARGET == 'target':\n",
    "        pred_test['pred'].clip(lower=0, upper=3, inplace=True)\n",
    "    else:\n",
    "        pred_test['pred'] = np.vectorize(soring_date2target)(pred_test['pred'])\n",
    "else:\n",
    "    pred_test['pred'] = predict(pred_test['0'], pred_test['1'], pred_test['2'], pred_test['3'])\n",
    "pred_test"
   ]
  },
  {
   "cell_type": "code",
   "execution_count": 34,
   "metadata": {
    "execution": {
     "iopub.execute_input": "2021-07-20T16:35:22.507322Z",
     "iopub.status.busy": "2021-07-20T16:35:22.507322Z",
     "iopub.status.idle": "2021-07-20T16:35:22.522543Z",
     "shell.execute_reply": "2021-07-20T16:35:22.522543Z"
    }
   },
   "outputs": [
    {
     "data": {
      "text/html": [
       "<div>\n",
       "<style scoped>\n",
       "    .dataframe tbody tr th:only-of-type {\n",
       "        vertical-align: middle;\n",
       "    }\n",
       "\n",
       "    .dataframe tbody tr th {\n",
       "        vertical-align: top;\n",
       "    }\n",
       "\n",
       "    .dataframe thead th {\n",
       "        text-align: right;\n",
       "    }\n",
       "</style>\n",
       "<table border=\"1\" class=\"dataframe\">\n",
       "  <thead>\n",
       "    <tr style=\"text-align: right;\">\n",
       "      <th></th>\n",
       "      <th>target</th>\n",
       "    </tr>\n",
       "  </thead>\n",
       "  <tbody>\n",
       "    <tr>\n",
       "      <th>0</th>\n",
       "      <td>1.38151</td>\n",
       "    </tr>\n",
       "    <tr>\n",
       "      <th>1</th>\n",
       "      <td>2.12472</td>\n",
       "    </tr>\n",
       "    <tr>\n",
       "      <th>2</th>\n",
       "      <td>1.74514</td>\n",
       "    </tr>\n",
       "    <tr>\n",
       "      <th>3</th>\n",
       "      <td>2.05267</td>\n",
       "    </tr>\n",
       "    <tr>\n",
       "      <th>4</th>\n",
       "      <td>0.75759</td>\n",
       "    </tr>\n",
       "    <tr>\n",
       "      <th>...</th>\n",
       "      <td>...</td>\n",
       "    </tr>\n",
       "    <tr>\n",
       "      <th>5914</th>\n",
       "      <td>2.09462</td>\n",
       "    </tr>\n",
       "    <tr>\n",
       "      <th>5915</th>\n",
       "      <td>1.01437</td>\n",
       "    </tr>\n",
       "    <tr>\n",
       "      <th>5916</th>\n",
       "      <td>1.68707</td>\n",
       "    </tr>\n",
       "    <tr>\n",
       "      <th>5917</th>\n",
       "      <td>1.77674</td>\n",
       "    </tr>\n",
       "    <tr>\n",
       "      <th>5918</th>\n",
       "      <td>1.42799</td>\n",
       "    </tr>\n",
       "  </tbody>\n",
       "</table>\n",
       "<p>5919 rows × 1 columns</p>\n",
       "</div>"
      ],
      "text/plain": [
       "      target\n",
       "0    1.38151\n",
       "1    2.12472\n",
       "2    1.74514\n",
       "3    2.05267\n",
       "4    0.75759\n",
       "...      ...\n",
       "5914 2.09462\n",
       "5915 1.01437\n",
       "5916 1.68707\n",
       "5917 1.77674\n",
       "5918 1.42799\n",
       "\n",
       "[5919 rows x 1 columns]"
      ]
     },
     "execution_count": 34,
     "metadata": {},
     "output_type": "execute_result"
    }
   ],
   "source": [
    "test['target'] = pred_test.loc[test['object_id'], 'pred'].values\n",
    "test = test[['target']]\n",
    "test"
   ]
  },
  {
   "cell_type": "code",
   "execution_count": 35,
   "metadata": {
    "execution": {
     "iopub.execute_input": "2021-07-20T16:35:22.522543Z",
     "iopub.status.busy": "2021-07-20T16:35:22.522543Z",
     "iopub.status.idle": "2021-07-20T16:35:22.538571Z",
     "shell.execute_reply": "2021-07-20T16:35:22.538571Z"
    }
   },
   "outputs": [
    {
     "data": {
      "text/html": [
       "<div>\n",
       "<style scoped>\n",
       "    .dataframe tbody tr th:only-of-type {\n",
       "        vertical-align: middle;\n",
       "    }\n",
       "\n",
       "    .dataframe tbody tr th {\n",
       "        vertical-align: top;\n",
       "    }\n",
       "\n",
       "    .dataframe thead th {\n",
       "        text-align: right;\n",
       "    }\n",
       "</style>\n",
       "<table border=\"1\" class=\"dataframe\">\n",
       "  <thead>\n",
       "    <tr style=\"text-align: right;\">\n",
       "      <th></th>\n",
       "      <th>target</th>\n",
       "    </tr>\n",
       "  </thead>\n",
       "  <tbody>\n",
       "    <tr>\n",
       "      <th>0</th>\n",
       "      <td>3</td>\n",
       "    </tr>\n",
       "    <tr>\n",
       "      <th>1</th>\n",
       "      <td>1</td>\n",
       "    </tr>\n",
       "    <tr>\n",
       "      <th>2</th>\n",
       "      <td>3</td>\n",
       "    </tr>\n",
       "    <tr>\n",
       "      <th>3</th>\n",
       "      <td>3</td>\n",
       "    </tr>\n",
       "    <tr>\n",
       "      <th>4</th>\n",
       "      <td>0</td>\n",
       "    </tr>\n",
       "    <tr>\n",
       "      <th>...</th>\n",
       "      <td>...</td>\n",
       "    </tr>\n",
       "    <tr>\n",
       "      <th>5914</th>\n",
       "      <td>2</td>\n",
       "    </tr>\n",
       "    <tr>\n",
       "      <th>5915</th>\n",
       "      <td>1</td>\n",
       "    </tr>\n",
       "    <tr>\n",
       "      <th>5916</th>\n",
       "      <td>1</td>\n",
       "    </tr>\n",
       "    <tr>\n",
       "      <th>5917</th>\n",
       "      <td>3</td>\n",
       "    </tr>\n",
       "    <tr>\n",
       "      <th>5918</th>\n",
       "      <td>3</td>\n",
       "    </tr>\n",
       "  </tbody>\n",
       "</table>\n",
       "<p>5919 rows × 1 columns</p>\n",
       "</div>"
      ],
      "text/plain": [
       "      target\n",
       "0          3\n",
       "1          1\n",
       "2          3\n",
       "3          3\n",
       "4          0\n",
       "...      ...\n",
       "5914       2\n",
       "5915       1\n",
       "5916       1\n",
       "5917       3\n",
       "5918       3\n",
       "\n",
       "[5919 rows x 1 columns]"
      ]
     },
     "execution_count": 35,
     "metadata": {},
     "output_type": "execute_result"
    }
   ],
   "source": [
    "sample_submission"
   ]
  },
  {
   "cell_type": "code",
   "execution_count": 36,
   "metadata": {
    "execution": {
     "iopub.execute_input": "2021-07-20T16:35:22.544082Z",
     "iopub.status.busy": "2021-07-20T16:35:22.544082Z",
     "iopub.status.idle": "2021-07-20T16:35:22.571019Z",
     "shell.execute_reply": "2021-07-20T16:35:22.571019Z"
    }
   },
   "outputs": [
    {
     "name": "stderr",
     "output_type": "stream",
     "text": [
      "2021-07-21 01:35:22,544 - __main__ - DEBUG - Write submission to ..\\scripts\\..\\experiments\\exp012\\012_submission.csv\n"
     ]
    }
   ],
   "source": [
    "test.to_csv(os.path.join(output_dir, f'{str(EXP_NO).zfill(3)}_submission.csv'), index=False)\n",
    "logger.debug('Write submission to {}'.format(os.path.join(output_dir, f'{str(EXP_NO).zfill(3)}_submission.csv')))"
   ]
  },
  {
   "cell_type": "code",
   "execution_count": 37,
   "metadata": {
    "execution": {
     "iopub.execute_input": "2021-07-20T16:35:22.585879Z",
     "iopub.status.busy": "2021-07-20T16:35:22.571019Z",
     "iopub.status.idle": "2021-07-20T16:35:22.758748Z",
     "shell.execute_reply": "2021-07-20T16:35:22.758748Z"
    }
   },
   "outputs": [
    {
     "name": "stderr",
     "output_type": "stream",
     "text": [
      "2021-07-21 01:35:22,664 - __main__ - DEBUG - Write figure to ..\\scripts\\..\\experiments\\exp012\\prediction.png\n"
     ]
    },
    {
     "data": {
      "image/png": "[encoded data removed]",
      "text/plain": [
       "<Figure size 432x288 with 1 Axes>"
      ]
     },
     "metadata": {
      "needs_background": "light"
     },
     "output_type": "display_data"
    }
   ],
   "source": [
    "fig = plt.figure()\n",
    "if not (REGRESSION and TARGET == 'target'):\n",
    "    sns.countplot(data=test, x='target')\n",
    "else:\n",
    "    sns.histplot(data=test, x='target')\n",
    "sns.despine()\n",
    "fig.savefig(os.path.join(output_dir, 'prediction.png'))\n",
    "logger.debug('Write figure to {}'.format(os.path.join(output_dir, 'prediction.png')))"
   ]
  },
  {
   "cell_type": "code",
   "execution_count": 38,
   "metadata": {
    "execution": {
     "iopub.execute_input": "2021-07-20T16:35:22.758748Z",
     "iopub.status.busy": "2021-07-20T16:35:22.758748Z",
     "iopub.status.idle": "2021-07-20T16:35:22.774445Z",
     "shell.execute_reply": "2021-07-20T16:35:22.774445Z"
    }
   },
   "outputs": [
    {
     "name": "stderr",
     "output_type": "stream",
     "text": [
      "2021-07-21 01:35:22,758 - __main__ - DEBUG - Complete (55390.714 seconds passed)\n"
     ]
    }
   ],
   "source": [
    "logger.debug('Complete ({:.3f} seconds passed)'.format(time.time() - SINCE))"
   ]
  }
 ],
 "metadata": {
  "kernelspec": {
   "display_name": "Python 3 (ipykernel)",
   "language": "python",
   "name": "python3"
  },
  "language_info": {
   "codemirror_mode": {
    "name": "ipython",
    "version": 3
   },
   "file_extension": ".py",
   "mimetype": "text/x-python",
   "name": "python",
   "nbconvert_exporter": "python",
   "pygments_lexer": "ipython3",
   "version": "3.9.0"
  }
 },
 "nbformat": 4,
 "nbformat_minor": 4
}
