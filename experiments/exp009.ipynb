{
 "cells": [
  {
   "cell_type": "markdown",
   "metadata": {},
   "source": [
    "# Settings"
   ]
  },
  {
   "cell_type": "code",
   "execution_count": 1,
   "metadata": {
    "execution": {
     "iopub.execute_input": "2021-07-18T16:07:28.895296Z",
     "iopub.status.busy": "2021-07-18T16:07:28.895296Z",
     "iopub.status.idle": "2021-07-18T16:07:28.910961Z",
     "shell.execute_reply": "2021-07-18T16:07:28.910961Z"
    }
   },
   "outputs": [],
   "source": [
    "EXP_NO = 9\n",
    "SEED = 1\n",
    "N_SPLITS = 5\n",
    "TARGET = 'target'\n",
    "GROUP = 'art_series_id'\n",
    "REGRESSION = True"
   ]
  },
  {
   "cell_type": "code",
   "execution_count": 2,
   "metadata": {
    "execution": {
     "iopub.execute_input": "2021-07-18T16:07:28.910961Z",
     "iopub.status.busy": "2021-07-18T16:07:28.910961Z",
     "iopub.status.idle": "2021-07-18T16:07:28.926586Z",
     "shell.execute_reply": "2021-07-18T16:07:28.926586Z"
    }
   },
   "outputs": [],
   "source": [
    "assert((TARGET, REGRESSION) in (('target', True), ('target', False), ('sorting_date', True)))"
   ]
  },
  {
   "cell_type": "markdown",
   "metadata": {},
   "source": [
    "# Library"
   ]
  },
  {
   "cell_type": "code",
   "execution_count": 3,
   "metadata": {
    "execution": {
     "iopub.execute_input": "2021-07-18T16:07:28.926586Z",
     "iopub.status.busy": "2021-07-18T16:07:28.926586Z",
     "iopub.status.idle": "2021-07-18T16:07:34.061997Z",
     "shell.execute_reply": "2021-07-18T16:07:34.061997Z"
    }
   },
   "outputs": [
    {
     "name": "stderr",
     "output_type": "stream",
     "text": [
      "Intel(R) Extension for Scikit-learn* enabled (https://github.com/intel/scikit-learn-intelex)\n"
     ]
    }
   ],
   "source": [
    "from collections import defaultdict\n",
    "from functools import partial\n",
    "import gc\n",
    "import glob\n",
    "import json\n",
    "from logging import getLogger, StreamHandler, FileHandler, DEBUG, Formatter\n",
    "import pickle\n",
    "import os\n",
    "import sys\n",
    "import time\n",
    "\n",
    "import lightgbm as lgbm\n",
    "import matplotlib.pyplot as plt\n",
    "import numpy as np\n",
    "import pandas as pd\n",
    "import seaborn as sns\n",
    "from skimage.feature import hog\n",
    "from skimage.color import rgb2hsv\n",
    "from sklearn.svm import SVR\n",
    "from sklearn.metrics import confusion_matrix, mean_squared_error, cohen_kappa_score\n",
    "from sklearnex import patch_sklearn\n",
    "patch_sklearn()\n",
    "\n",
    "SCRIPTS_DIR = os.path.join('..', 'scripts')\n",
    "assert(os.path.isdir(SCRIPTS_DIR))\n",
    "if SCRIPTS_DIR not in sys.path: sys.path.append(SCRIPTS_DIR)\n",
    "\n",
    "from cross_validation import load_cv_object_ids\n",
    "from dataset import load_csvfiles, load_photofile\n",
    "from folder import experiment_dir_of\n",
    "from target import soring_date2target"
   ]
  },
  {
   "cell_type": "code",
   "execution_count": 4,
   "metadata": {
    "execution": {
     "iopub.execute_input": "2021-07-18T16:07:34.061997Z",
     "iopub.status.busy": "2021-07-18T16:07:34.061997Z",
     "iopub.status.idle": "2021-07-18T16:07:34.077625Z",
     "shell.execute_reply": "2021-07-18T16:07:34.077625Z"
    }
   },
   "outputs": [],
   "source": [
    "pd.options.display.float_format = '{:.5f}'.format"
   ]
  },
  {
   "cell_type": "markdown",
   "metadata": {},
   "source": [
    "# Prepare directory"
   ]
  },
  {
   "cell_type": "code",
   "execution_count": 5,
   "metadata": {
    "execution": {
     "iopub.execute_input": "2021-07-18T16:07:34.077625Z",
     "iopub.status.busy": "2021-07-18T16:07:34.077625Z",
     "iopub.status.idle": "2021-07-18T16:07:34.093267Z",
     "shell.execute_reply": "2021-07-18T16:07:34.093267Z"
    }
   },
   "outputs": [],
   "source": [
    "output_dir = experiment_dir_of(EXP_NO)"
   ]
  },
  {
   "cell_type": "code",
   "execution_count": 6,
   "metadata": {
    "execution": {
     "iopub.execute_input": "2021-07-18T16:07:34.093267Z",
     "iopub.status.busy": "2021-07-18T16:07:34.093267Z",
     "iopub.status.idle": "2021-07-18T16:07:34.108872Z",
     "shell.execute_reply": "2021-07-18T16:07:34.108872Z"
    }
   },
   "outputs": [
    {
     "data": {
      "text/plain": [
       "'..\\\\scripts\\\\..\\\\experiments\\\\exp009'"
      ]
     },
     "execution_count": 6,
     "metadata": {},
     "output_type": "execute_result"
    }
   ],
   "source": [
    "output_dir"
   ]
  },
  {
   "cell_type": "markdown",
   "metadata": {},
   "source": [
    "# Prepare logger"
   ]
  },
  {
   "cell_type": "code",
   "execution_count": 7,
   "metadata": {
    "execution": {
     "iopub.execute_input": "2021-07-18T16:07:34.108872Z",
     "iopub.status.busy": "2021-07-18T16:07:34.108872Z",
     "iopub.status.idle": "2021-07-18T16:07:34.124499Z",
     "shell.execute_reply": "2021-07-18T16:07:34.124499Z"
    }
   },
   "outputs": [],
   "source": [
    "logger = getLogger(__name__)"
   ]
  },
  {
   "cell_type": "code",
   "execution_count": 8,
   "metadata": {
    "execution": {
     "iopub.execute_input": "2021-07-18T16:07:34.124499Z",
     "iopub.status.busy": "2021-07-18T16:07:34.124499Z",
     "iopub.status.idle": "2021-07-18T16:07:34.140547Z",
     "shell.execute_reply": "2021-07-18T16:07:34.140547Z"
    }
   },
   "outputs": [
    {
     "data": {
      "text/plain": [
       "2"
      ]
     },
     "execution_count": 8,
     "metadata": {},
     "output_type": "execute_result"
    }
   ],
   "source": [
    "'''Refference\n",
    "https://docs.python.org/ja/3/howto/logging-cookbook.html\n",
    "'''\n",
    "logger.setLevel(DEBUG)\n",
    "# create file handler which logs even debug messages\n",
    "fh = FileHandler(os.path.join(output_dir, 'log.log'))\n",
    "fh.setLevel(DEBUG)\n",
    "# create console handler with a higher log level\n",
    "ch = StreamHandler()\n",
    "ch.setLevel(DEBUG)\n",
    "# create formatter and add it to the handlers\n",
    "formatter = Formatter('%(asctime)s - %(name)s - %(levelname)s - %(message)s')\n",
    "fh.setFormatter(formatter)\n",
    "ch.setFormatter(formatter)\n",
    "# add the handlers to the logger\n",
    "logger.addHandler(fh)\n",
    "logger.addHandler(ch)\n",
    "len(logger.handlers)"
   ]
  },
  {
   "cell_type": "code",
   "execution_count": 9,
   "metadata": {
    "execution": {
     "iopub.execute_input": "2021-07-18T16:07:34.140547Z",
     "iopub.status.busy": "2021-07-18T16:07:34.140547Z",
     "iopub.status.idle": "2021-07-18T16:07:34.156180Z",
     "shell.execute_reply": "2021-07-18T16:07:34.156180Z"
    }
   },
   "outputs": [
    {
     "name": "stderr",
     "output_type": "stream",
     "text": [
      "2021-07-19 01:07:34,140 - __main__ - INFO - Experiment no: 9\n",
      "2021-07-19 01:07:34,140 - __main__ - INFO - CV: StratifiedGroupKFold\n",
      "2021-07-19 01:07:34,140 - __main__ - INFO - SEED: 1\n",
      "2021-07-19 01:07:34,140 - __main__ - INFO - REGRESSION: True\n"
     ]
    }
   ],
   "source": [
    "logger.info('Experiment no: {}'.format(EXP_NO))\n",
    "logger.info('CV: StratifiedGroupKFold')\n",
    "logger.info('SEED: {}'.format(SEED))\n",
    "logger.info('REGRESSION: {}'.format(REGRESSION))"
   ]
  },
  {
   "cell_type": "markdown",
   "metadata": {},
   "source": [
    "# Load csv files"
   ]
  },
  {
   "cell_type": "code",
   "execution_count": 10,
   "metadata": {
    "execution": {
     "iopub.execute_input": "2021-07-18T16:07:34.156180Z",
     "iopub.status.busy": "2021-07-18T16:07:34.156180Z",
     "iopub.status.idle": "2021-07-18T16:07:34.171805Z",
     "shell.execute_reply": "2021-07-18T16:07:34.171805Z"
    }
   },
   "outputs": [],
   "source": [
    "SINCE = time.time()"
   ]
  },
  {
   "cell_type": "code",
   "execution_count": 11,
   "metadata": {
    "execution": {
     "iopub.execute_input": "2021-07-18T16:07:34.171805Z",
     "iopub.status.busy": "2021-07-18T16:07:34.171805Z",
     "iopub.status.idle": "2021-07-18T16:07:34.250391Z",
     "shell.execute_reply": "2021-07-18T16:07:34.250391Z"
    }
   },
   "outputs": [
    {
     "name": "stderr",
     "output_type": "stream",
     "text": [
      "2021-07-19 01:07:34,171 - __main__ - DEBUG - Start loading csv files (0.016 seconds passed)\n",
      "2021-07-19 01:07:34,218 - __main__ - DEBUG - Complete loading csv files (0.063 seconds passed)\n"
     ]
    }
   ],
   "source": [
    "logger.debug('Start loading csv files ({:.3f} seconds passed)'.format(time.time() - SINCE))\n",
    "train, test, materials, techniques, sample_submission = load_csvfiles()\n",
    "logger.debug('Complete loading csv files ({:.3f} seconds passed)'.format(time.time() - SINCE))"
   ]
  },
  {
   "cell_type": "code",
   "execution_count": 12,
   "metadata": {
    "execution": {
     "iopub.execute_input": "2021-07-18T16:07:34.250391Z",
     "iopub.status.busy": "2021-07-18T16:07:34.250391Z",
     "iopub.status.idle": "2021-07-18T16:07:34.266024Z",
     "shell.execute_reply": "2021-07-18T16:07:34.266024Z"
    }
   },
   "outputs": [
    {
     "data": {
      "text/html": [
       "<div>\n",
       "<style scoped>\n",
       "    .dataframe tbody tr th:only-of-type {\n",
       "        vertical-align: middle;\n",
       "    }\n",
       "\n",
       "    .dataframe tbody tr th {\n",
       "        vertical-align: top;\n",
       "    }\n",
       "\n",
       "    .dataframe thead th {\n",
       "        text-align: right;\n",
       "    }\n",
       "</style>\n",
       "<table border=\"1\" class=\"dataframe\">\n",
       "  <thead>\n",
       "    <tr style=\"text-align: right;\">\n",
       "      <th></th>\n",
       "      <th>object_id</th>\n",
       "      <th>sorting_date</th>\n",
       "      <th>art_series_id</th>\n",
       "      <th>target</th>\n",
       "    </tr>\n",
       "  </thead>\n",
       "  <tbody>\n",
       "    <tr>\n",
       "      <th>0</th>\n",
       "      <td>002bff09b09998d0be65</td>\n",
       "      <td>1631</td>\n",
       "      <td>509357f67692a6a45626</td>\n",
       "      <td>1</td>\n",
       "    </tr>\n",
       "    <tr>\n",
       "      <th>1</th>\n",
       "      <td>00309fb1ef05416f9c1f</td>\n",
       "      <td>1900</td>\n",
       "      <td>7987b47bbe5dc3039179</td>\n",
       "      <td>3</td>\n",
       "    </tr>\n",
       "    <tr>\n",
       "      <th>2</th>\n",
       "      <td>003a1562e97f79ba96dc</td>\n",
       "      <td>1834</td>\n",
       "      <td>ded7c3c9636708e5b14c</td>\n",
       "      <td>3</td>\n",
       "    </tr>\n",
       "    <tr>\n",
       "      <th>3</th>\n",
       "      <td>004890880e8e7431147b</td>\n",
       "      <td>1743</td>\n",
       "      <td>582ac2d7f0cef195b605</td>\n",
       "      <td>2</td>\n",
       "    </tr>\n",
       "    <tr>\n",
       "      <th>4</th>\n",
       "      <td>00718c32602425f504c1</td>\n",
       "      <td>1885</td>\n",
       "      <td>64c907f0c08dce4fb8e8</td>\n",
       "      <td>3</td>\n",
       "    </tr>\n",
       "    <tr>\n",
       "      <th>...</th>\n",
       "      <td>...</td>\n",
       "      <td>...</td>\n",
       "      <td>...</td>\n",
       "      <td>...</td>\n",
       "    </tr>\n",
       "    <tr>\n",
       "      <th>3932</th>\n",
       "      <td>ffa3259fff8e6f3818a1</td>\n",
       "      <td>1850</td>\n",
       "      <td>b187c294b0550acf049a</td>\n",
       "      <td>3</td>\n",
       "    </tr>\n",
       "    <tr>\n",
       "      <th>3933</th>\n",
       "      <td>ffd4d361756587883e48</td>\n",
       "      <td>1670</td>\n",
       "      <td>ad49a044770a48f860a6</td>\n",
       "      <td>1</td>\n",
       "    </tr>\n",
       "    <tr>\n",
       "      <th>3934</th>\n",
       "      <td>ffd794b7b311b7b7fd92</td>\n",
       "      <td>1789</td>\n",
       "      <td>f030a01b480b18a27be2</td>\n",
       "      <td>2</td>\n",
       "    </tr>\n",
       "    <tr>\n",
       "      <th>3935</th>\n",
       "      <td>ffe49bba69d06446de7e</td>\n",
       "      <td>1805</td>\n",
       "      <td>f5287bc84a05aada1d17</td>\n",
       "      <td>3</td>\n",
       "    </tr>\n",
       "    <tr>\n",
       "      <th>3936</th>\n",
       "      <td>ffe77db10be3400bed53</td>\n",
       "      <td>1700</td>\n",
       "      <td>60dec6e091cdd973e617</td>\n",
       "      <td>1</td>\n",
       "    </tr>\n",
       "  </tbody>\n",
       "</table>\n",
       "<p>3937 rows × 4 columns</p>\n",
       "</div>"
      ],
      "text/plain": [
       "                 object_id  sorting_date         art_series_id  target\n",
       "0     002bff09b09998d0be65          1631  509357f67692a6a45626       1\n",
       "1     00309fb1ef05416f9c1f          1900  7987b47bbe5dc3039179       3\n",
       "2     003a1562e97f79ba96dc          1834  ded7c3c9636708e5b14c       3\n",
       "3     004890880e8e7431147b          1743  582ac2d7f0cef195b605       2\n",
       "4     00718c32602425f504c1          1885  64c907f0c08dce4fb8e8       3\n",
       "...                    ...           ...                   ...     ...\n",
       "3932  ffa3259fff8e6f3818a1          1850  b187c294b0550acf049a       3\n",
       "3933  ffd4d361756587883e48          1670  ad49a044770a48f860a6       1\n",
       "3934  ffd794b7b311b7b7fd92          1789  f030a01b480b18a27be2       2\n",
       "3935  ffe49bba69d06446de7e          1805  f5287bc84a05aada1d17       3\n",
       "3936  ffe77db10be3400bed53          1700  60dec6e091cdd973e617       1\n",
       "\n",
       "[3937 rows x 4 columns]"
      ]
     },
     "execution_count": 12,
     "metadata": {},
     "output_type": "execute_result"
    }
   ],
   "source": [
    "train"
   ]
  },
  {
   "cell_type": "code",
   "execution_count": 13,
   "metadata": {
    "execution": {
     "iopub.execute_input": "2021-07-18T16:07:34.266024Z",
     "iopub.status.busy": "2021-07-18T16:07:34.266024Z",
     "iopub.status.idle": "2021-07-18T16:07:34.281649Z",
     "shell.execute_reply": "2021-07-18T16:07:34.281649Z"
    }
   },
   "outputs": [
    {
     "data": {
      "text/html": [
       "<div>\n",
       "<style scoped>\n",
       "    .dataframe tbody tr th:only-of-type {\n",
       "        vertical-align: middle;\n",
       "    }\n",
       "\n",
       "    .dataframe tbody tr th {\n",
       "        vertical-align: top;\n",
       "    }\n",
       "\n",
       "    .dataframe thead th {\n",
       "        text-align: right;\n",
       "    }\n",
       "</style>\n",
       "<table border=\"1\" class=\"dataframe\">\n",
       "  <thead>\n",
       "    <tr style=\"text-align: right;\">\n",
       "      <th></th>\n",
       "      <th>object_id</th>\n",
       "    </tr>\n",
       "  </thead>\n",
       "  <tbody>\n",
       "    <tr>\n",
       "      <th>0</th>\n",
       "      <td>0009e50b94be36ccad39</td>\n",
       "    </tr>\n",
       "    <tr>\n",
       "      <th>1</th>\n",
       "      <td>000bd5e82eb22f199f44</td>\n",
       "    </tr>\n",
       "    <tr>\n",
       "      <th>2</th>\n",
       "      <td>0015f44de1854f617516</td>\n",
       "    </tr>\n",
       "    <tr>\n",
       "      <th>3</th>\n",
       "      <td>00388a678879ba1efa27</td>\n",
       "    </tr>\n",
       "    <tr>\n",
       "      <th>4</th>\n",
       "      <td>005e1e7c6496902d23f3</td>\n",
       "    </tr>\n",
       "    <tr>\n",
       "      <th>...</th>\n",
       "      <td>...</td>\n",
       "    </tr>\n",
       "    <tr>\n",
       "      <th>5914</th>\n",
       "      <td>ffbe65ad399b632dcbd0</td>\n",
       "    </tr>\n",
       "    <tr>\n",
       "      <th>5915</th>\n",
       "      <td>ffd7b2d646c0320c311a</td>\n",
       "    </tr>\n",
       "    <tr>\n",
       "      <th>5916</th>\n",
       "      <td>ffdb93ede17d4501e530</td>\n",
       "    </tr>\n",
       "    <tr>\n",
       "      <th>5917</th>\n",
       "      <td>ffe111402004b0ed46b4</td>\n",
       "    </tr>\n",
       "    <tr>\n",
       "      <th>5918</th>\n",
       "      <td>fffdb3c248a7dcd3cccf</td>\n",
       "    </tr>\n",
       "  </tbody>\n",
       "</table>\n",
       "<p>5919 rows × 1 columns</p>\n",
       "</div>"
      ],
      "text/plain": [
       "                 object_id\n",
       "0     0009e50b94be36ccad39\n",
       "1     000bd5e82eb22f199f44\n",
       "2     0015f44de1854f617516\n",
       "3     00388a678879ba1efa27\n",
       "4     005e1e7c6496902d23f3\n",
       "...                    ...\n",
       "5914  ffbe65ad399b632dcbd0\n",
       "5915  ffd7b2d646c0320c311a\n",
       "5916  ffdb93ede17d4501e530\n",
       "5917  ffe111402004b0ed46b4\n",
       "5918  fffdb3c248a7dcd3cccf\n",
       "\n",
       "[5919 rows x 1 columns]"
      ]
     },
     "execution_count": 13,
     "metadata": {},
     "output_type": "execute_result"
    }
   ],
   "source": [
    "test"
   ]
  },
  {
   "cell_type": "markdown",
   "metadata": {},
   "source": [
    "# Feature engineering"
   ]
  },
  {
   "cell_type": "markdown",
   "metadata": {},
   "source": [
    "## Extract \"H\" of HSV"
   ]
  },
  {
   "cell_type": "code",
   "execution_count": 14,
   "metadata": {
    "execution": {
     "iopub.execute_input": "2021-07-18T16:07:34.281649Z",
     "iopub.status.busy": "2021-07-18T16:07:34.281649Z",
     "iopub.status.idle": "2021-07-18T16:07:34.297274Z",
     "shell.execute_reply": "2021-07-18T16:07:34.297274Z"
    }
   },
   "outputs": [],
   "source": [
    "def extract_and_flatten(image_array: np.ndarray) -> np.ndarray:\n",
    "    hsv_image = rgb2hsv(image_array)\n",
    "    hue_image = hsv_image[:, :, 0]\n",
    "    return hue_image.flatten()"
   ]
  },
  {
   "cell_type": "code",
   "execution_count": 15,
   "metadata": {
    "execution": {
     "iopub.execute_input": "2021-07-18T16:07:34.297274Z",
     "iopub.status.busy": "2021-07-18T16:07:34.297274Z",
     "iopub.status.idle": "2021-07-18T16:08:36.056743Z",
     "shell.execute_reply": "2021-07-18T16:08:36.056743Z"
    }
   },
   "outputs": [
    {
     "name": "stdout",
     "output_type": "stream",
     "text": [
      "Wall time: 1min 1s\n"
     ]
    }
   ],
   "source": [
    "%%time\n",
    "train_features = {object_id: extract_and_flatten(load_photofile(object_id)) for object_id in train['object_id']}"
   ]
  },
  {
   "cell_type": "code",
   "execution_count": 16,
   "metadata": {
    "execution": {
     "iopub.execute_input": "2021-07-18T16:08:36.056743Z",
     "iopub.status.busy": "2021-07-18T16:08:36.056743Z",
     "iopub.status.idle": "2021-07-18T16:10:10.066122Z",
     "shell.execute_reply": "2021-07-18T16:10:10.066122Z"
    }
   },
   "outputs": [
    {
     "name": "stdout",
     "output_type": "stream",
     "text": [
      "Wall time: 1min 33s\n"
     ]
    }
   ],
   "source": [
    "%%time\n",
    "X_test = np.array([extract_and_flatten(load_photofile(object_id)) for object_id in test['object_id']])"
   ]
  },
  {
   "cell_type": "markdown",
   "metadata": {},
   "source": [
    "# Cross validation"
   ]
  },
  {
   "cell_type": "code",
   "execution_count": 17,
   "metadata": {
    "execution": {
     "iopub.execute_input": "2021-07-18T16:10:10.066122Z",
     "iopub.status.busy": "2021-07-18T16:10:10.066122Z",
     "iopub.status.idle": "2021-07-18T16:10:10.081773Z",
     "shell.execute_reply": "2021-07-18T16:10:10.081773Z"
    }
   },
   "outputs": [],
   "source": [
    "train.set_index('object_id', inplace=True)"
   ]
  },
  {
   "cell_type": "code",
   "execution_count": 18,
   "metadata": {
    "execution": {
     "iopub.execute_input": "2021-07-18T16:10:10.081773Z",
     "iopub.status.busy": "2021-07-18T16:10:10.081773Z",
     "iopub.status.idle": "2021-07-18T18:12:34.773790Z",
     "shell.execute_reply": "2021-07-18T18:12:34.769790Z"
    }
   },
   "outputs": [
    {
     "name": "stderr",
     "output_type": "stream",
     "text": [
      "2021-07-19 01:10:10,097 - __main__ - DEBUG - Start fold 1 (155.942 seconds passed)\n",
      "2021-07-19 01:10:10,502 - __main__ - DEBUG - Start training model (156.346 seconds passed)\n",
      "2021-07-19 01:12:23,622 - __main__ - DEBUG - Complete training (289.466 seconds passed)\n",
      "2021-07-19 01:33:51,400 - __main__ - DEBUG - Save training fold to ..\\scripts\\..\\experiments\\exp009\\cv_fold1_training.csv (1577.244 seconds passed)\n",
      "2021-07-19 01:33:51,400 - __main__ - DEBUG - Save validation fold to ..\\scripts\\..\\experiments\\exp009\\cv_fold1_validation.csv (1577.244 seconds passed)\n",
      "2021-07-19 01:33:51,415 - __main__ - DEBUG - Save test result ..\\scripts\\..\\experiments\\exp009\\cv_fold1_test.csv (1577.259 seconds passed)\n",
      "2021-07-19 01:33:52,676 - __main__ - DEBUG - Save model ..\\scripts\\..\\experiments\\exp009\\cv_fold1_model.pkl (1578.520 seconds passed)\n",
      "2021-07-19 01:33:52,832 - __main__ - DEBUG - Complete fold 1 (1578.676 seconds passed)\n",
      "2021-07-19 01:33:52,832 - __main__ - DEBUG - Start fold 2 (1578.676 seconds passed)\n",
      "2021-07-19 01:33:53,223 - __main__ - DEBUG - Start training model (1579.068 seconds passed)\n",
      "2021-07-19 01:36:12,832 - __main__ - DEBUG - Complete training (1718.676 seconds passed)\n",
      "2021-07-19 01:58:31,700 - __main__ - DEBUG - Save training fold to ..\\scripts\\..\\experiments\\exp009\\cv_fold2_training.csv (3057.544 seconds passed)\n",
      "2021-07-19 01:58:31,706 - __main__ - DEBUG - Save validation fold to ..\\scripts\\..\\experiments\\exp009\\cv_fold2_validation.csv (3057.550 seconds passed)\n",
      "2021-07-19 01:58:31,737 - __main__ - DEBUG - Save test result ..\\scripts\\..\\experiments\\exp009\\cv_fold2_test.csv (3057.581 seconds passed)\n",
      "2021-07-19 01:58:32,980 - __main__ - DEBUG - Save model ..\\scripts\\..\\experiments\\exp009\\cv_fold2_model.pkl (3058.824 seconds passed)\n",
      "2021-07-19 01:58:33,217 - __main__ - DEBUG - Complete fold 2 (3059.061 seconds passed)\n",
      "2021-07-19 01:58:33,219 - __main__ - DEBUG - Start fold 3 (3059.063 seconds passed)\n",
      "2021-07-19 01:58:33,724 - __main__ - DEBUG - Start training model (3059.569 seconds passed)\n",
      "2021-07-19 02:00:50,717 - __main__ - DEBUG - Complete training (3196.561 seconds passed)\n",
      "2021-07-19 02:23:03,741 - __main__ - DEBUG - Save training fold to ..\\scripts\\..\\experiments\\exp009\\cv_fold3_training.csv (4529.585 seconds passed)\n",
      "2021-07-19 02:23:03,741 - __main__ - DEBUG - Save validation fold to ..\\scripts\\..\\experiments\\exp009\\cv_fold3_validation.csv (4529.585 seconds passed)\n",
      "2021-07-19 02:23:03,758 - __main__ - DEBUG - Save test result ..\\scripts\\..\\experiments\\exp009\\cv_fold3_test.csv (4529.602 seconds passed)\n",
      "2021-07-19 02:23:05,009 - __main__ - DEBUG - Save model ..\\scripts\\..\\experiments\\exp009\\cv_fold3_model.pkl (4530.853 seconds passed)\n",
      "2021-07-19 02:23:05,211 - __main__ - DEBUG - Complete fold 3 (4531.055 seconds passed)\n",
      "2021-07-19 02:23:05,213 - __main__ - DEBUG - Start fold 4 (4531.057 seconds passed)\n",
      "2021-07-19 02:23:05,620 - __main__ - DEBUG - Start training model (4531.465 seconds passed)\n",
      "2021-07-19 02:25:20,008 - __main__ - DEBUG - Complete training (4665.853 seconds passed)\n",
      "2021-07-19 02:47:29,392 - __main__ - DEBUG - Save training fold to ..\\scripts\\..\\experiments\\exp009\\cv_fold4_training.csv (5995.237 seconds passed)\n",
      "2021-07-19 02:47:29,396 - __main__ - DEBUG - Save validation fold to ..\\scripts\\..\\experiments\\exp009\\cv_fold4_validation.csv (5995.241 seconds passed)\n",
      "2021-07-19 02:47:29,421 - __main__ - DEBUG - Save test result ..\\scripts\\..\\experiments\\exp009\\cv_fold4_test.csv (5995.266 seconds passed)\n",
      "2021-07-19 02:47:30,605 - __main__ - DEBUG - Save model ..\\scripts\\..\\experiments\\exp009\\cv_fold4_model.pkl (5996.450 seconds passed)\n",
      "2021-07-19 02:47:30,961 - __main__ - DEBUG - Complete fold 4 (5996.806 seconds passed)\n",
      "2021-07-19 02:47:30,963 - __main__ - DEBUG - Start fold 5 (5996.808 seconds passed)\n",
      "2021-07-19 02:47:31,400 - __main__ - DEBUG - Start training model (5997.245 seconds passed)\n",
      "2021-07-19 02:49:54,036 - __main__ - DEBUG - Complete training (6139.880 seconds passed)\n",
      "2021-07-19 03:12:33,044 - __main__ - DEBUG - Save training fold to ..\\scripts\\..\\experiments\\exp009\\cv_fold5_training.csv (7498.889 seconds passed)\n",
      "2021-07-19 03:12:33,051 - __main__ - DEBUG - Save validation fold to ..\\scripts\\..\\experiments\\exp009\\cv_fold5_validation.csv (7498.895 seconds passed)\n",
      "2021-07-19 03:12:33,078 - __main__ - DEBUG - Save test result ..\\scripts\\..\\experiments\\exp009\\cv_fold5_test.csv (7498.922 seconds passed)\n",
      "2021-07-19 03:12:34,411 - __main__ - DEBUG - Save model ..\\scripts\\..\\experiments\\exp009\\cv_fold5_model.pkl (7500.255 seconds passed)\n",
      "2021-07-19 03:12:34,753 - __main__ - DEBUG - Complete fold 5 (7500.598 seconds passed)\n"
     ]
    }
   ],
   "source": [
    "fold_object_ids = load_cv_object_ids()\n",
    "for i, (train_object_ids, valid_object_ids) in enumerate(zip(fold_object_ids[0], fold_object_ids[1])):\n",
    "    assert(set(train_object_ids) & set(valid_object_ids) == set())\n",
    "    num_fold = i + 1\n",
    "    logger.debug('Start fold {} ({:.3f} seconds passed)'.format(num_fold, time.time() - SINCE))\n",
    "\n",
    "    # Separate dataset into training/validation fold\n",
    "    X_train = np.array([train_features[object_id] for object_id in train_object_ids])\n",
    "    y_train = train.loc[train_object_ids, TARGET].values\n",
    "    X_valid = np.array([train_features[object_id] for object_id in valid_object_ids])\n",
    "    y_valid = train.loc[valid_object_ids, TARGET].values\n",
    "    \n",
    "    # Training\n",
    "    logger.debug('Start training model ({:.3f} seconds passed)'.format(time.time() - SINCE))\n",
    "    ## train estimator\n",
    "    estimator = SVR(C=10.0)\n",
    "    estimator.fit(X_train, y_train)\n",
    "    logger.debug('Complete training ({:.3f} seconds passed)'.format(time.time() - SINCE))\n",
    "    \n",
    "    # Save model and prediction\n",
    "    ## Prediction\n",
    "    if REGRESSION:\n",
    "        pred_train = pd.DataFrame(data=estimator.predict(X_train), columns=['pred'])\n",
    "        pred_valid = pd.DataFrame(data=estimator.predict(X_valid), columns=['pred'])\n",
    "        pred_test = pd.DataFrame(data=estimator.predict(X_test), columns=['pred'])\n",
    "    else:\n",
    "        try:\n",
    "            pred_train = pd.DataFrame(data=estimator.predict_proba(X_train),\n",
    "                                      columns=estimator.classes_)\n",
    "            pred_valid = pd.DataFrame(data=estimator.predict_proba(X_valid),\n",
    "                                      columns=estimator.classes_)\n",
    "            pred_test = pd.DataFrame(data=estimator.predict_proba(X_test),\n",
    "                                     columns=estimator.classes_)\n",
    "        except AttributeError:\n",
    "            pred_train = pd.DataFrame(data=estimator.decision_function(X_train),\n",
    "                                      columns=estimator.classes_)\n",
    "            pred_valid = pd.DataFrame(data=estimator.decision_function(X_valid),\n",
    "                                      columns=estimator.classes_)\n",
    "            pred_test = pd.DataFrame(data=estimator.decision_function(X_test),\n",
    "                                     columns=estimator.classes_)\n",
    "    ## Training set\n",
    "    pred_train['object_id'] = train_object_ids\n",
    "    filepath_fold_train = os.path.join(output_dir, f'cv_fold{num_fold}_training.csv')\n",
    "    pred_train.to_csv(filepath_fold_train, index=False)\n",
    "    logger.debug('Save training fold to {} ({:.3f} seconds passed)' \\\n",
    "                .format(filepath_fold_train, time.time() - SINCE))\n",
    "    ## Validation set\n",
    "    pred_valid['object_id'] = valid_object_ids\n",
    "    filepath_fold_valid = os.path.join(output_dir, f'cv_fold{num_fold}_validation.csv')\n",
    "    pred_valid.to_csv(filepath_fold_valid, index=False)\n",
    "    logger.debug('Save validation fold to {} ({:.3f} seconds passed)' \\\n",
    "                .format(filepath_fold_valid, time.time() - SINCE))\n",
    "    ## Test set\n",
    "    pred_test['object_id'] = test['object_id'].values\n",
    "    filepath_fold_test = os.path.join(output_dir, f'cv_fold{num_fold}_test.csv')\n",
    "    pred_test.to_csv(filepath_fold_test, index=False)\n",
    "    logger.debug('Save test result {} ({:.3f} seconds passed)' \\\n",
    "                 .format(filepath_fold_test, time.time() - SINCE))\n",
    "    ## Model\n",
    "    filepath_fold_model = os.path.join(output_dir, f'cv_fold{num_fold}_model.pkl')\n",
    "    with open(filepath_fold_model, 'wb') as f:\n",
    "        pickle.dump(estimator, f)\n",
    "    logger.debug('Save model {} ({:.3f} seconds passed)'.format(filepath_fold_model, time.time() - SINCE))\n",
    "    \n",
    "    # Save memory\n",
    "    del (estimator, X_train, X_valid, y_train, y_valid, pred_train, pred_valid, pred_test)\n",
    "    gc.collect()\n",
    "\n",
    "    logger.debug('Complete fold {} ({:.3f} seconds passed)'.format(num_fold, time.time() - SINCE))"
   ]
  },
  {
   "cell_type": "markdown",
   "metadata": {},
   "source": [
    "# Evaluation"
   ]
  },
  {
   "cell_type": "code",
   "execution_count": 19,
   "metadata": {
    "execution": {
     "iopub.execute_input": "2021-07-18T18:12:34.798791Z",
     "iopub.status.busy": "2021-07-18T18:12:34.795793Z",
     "iopub.status.idle": "2021-07-18T18:12:34.811791Z",
     "shell.execute_reply": "2021-07-18T18:12:34.812791Z"
    }
   },
   "outputs": [],
   "source": [
    "rmse = partial(mean_squared_error, squared=False)"
   ]
  },
  {
   "cell_type": "code",
   "execution_count": 20,
   "metadata": {
    "execution": {
     "iopub.execute_input": "2021-07-18T18:12:34.813201Z",
     "iopub.status.busy": "2021-07-18T18:12:34.813201Z",
     "iopub.status.idle": "2021-07-18T18:12:34.828829Z",
     "shell.execute_reply": "2021-07-18T18:12:34.828829Z"
    }
   },
   "outputs": [],
   "source": [
    "# qwk = partial(cohen_kappa_score, labels=np.sort(train['target'].unique()), weights='quadratic')"
   ]
  },
  {
   "cell_type": "code",
   "execution_count": 21,
   "metadata": {
    "execution": {
     "iopub.execute_input": "2021-07-18T18:12:34.838488Z",
     "iopub.status.busy": "2021-07-18T18:12:34.838488Z",
     "iopub.status.idle": "2021-07-18T18:12:34.853279Z",
     "shell.execute_reply": "2021-07-18T18:12:34.853279Z"
    }
   },
   "outputs": [],
   "source": [
    "@np.vectorize\n",
    "def predict(proba_0: float, proba_1: float, proba_2: float, proba_3: float) -> int:\n",
    "    return np.argmax((proba_0, proba_1, proba_2, proba_3))"
   ]
  },
  {
   "cell_type": "code",
   "execution_count": 22,
   "metadata": {
    "execution": {
     "iopub.execute_input": "2021-07-18T18:12:34.853279Z",
     "iopub.status.busy": "2021-07-18T18:12:34.853279Z",
     "iopub.status.idle": "2021-07-18T18:12:34.868906Z",
     "shell.execute_reply": "2021-07-18T18:12:34.868906Z"
    }
   },
   "outputs": [],
   "source": [
    "metrics = defaultdict(list)"
   ]
  },
  {
   "cell_type": "markdown",
   "metadata": {},
   "source": [
    "## Training set"
   ]
  },
  {
   "cell_type": "code",
   "execution_count": 23,
   "metadata": {
    "execution": {
     "iopub.execute_input": "2021-07-18T18:12:34.884532Z",
     "iopub.status.busy": "2021-07-18T18:12:34.868906Z",
     "iopub.status.idle": "2021-07-18T18:12:35.009855Z",
     "shell.execute_reply": "2021-07-18T18:12:35.010857Z"
    }
   },
   "outputs": [
    {
     "name": "stderr",
     "output_type": "stream",
     "text": [
      "2021-07-19 03:12:34,868 - __main__ - DEBUG - Evaluate cv result (training set) Fold 1\n",
      "2021-07-19 03:12:34,915 - __main__ - DEBUG - Loss: 0.5934307044863708\n",
      "2021-07-19 03:12:34,915 - __main__ - DEBUG - Evaluate cv result (training set) Fold 2\n",
      "2021-07-19 03:12:34,947 - __main__ - DEBUG - Loss: 0.6041804445968109\n",
      "2021-07-19 03:12:34,947 - __main__ - DEBUG - Evaluate cv result (training set) Fold 3\n",
      "2021-07-19 03:12:34,967 - __main__ - DEBUG - Loss: 0.6033470994523202\n",
      "2021-07-19 03:12:34,968 - __main__ - DEBUG - Evaluate cv result (training set) Fold 4\n",
      "2021-07-19 03:12:34,985 - __main__ - DEBUG - Loss: 0.5934216621315974\n",
      "2021-07-19 03:12:34,986 - __main__ - DEBUG - Evaluate cv result (training set) Fold 5\n",
      "2021-07-19 03:12:35,003 - __main__ - DEBUG - Loss: 0.5956561580790537\n"
     ]
    }
   ],
   "source": [
    "pred_train_dfs = []\n",
    "for i in range(N_SPLITS):\n",
    "    num_fold = i + 1\n",
    "    logger.debug('Evaluate cv result (training set) Fold {}'.format(num_fold))\n",
    "    # Read cv result\n",
    "    filepath_fold_train = os.path.join(output_dir, f'cv_fold{num_fold}_training.csv')\n",
    "    pred_train_df = pd.read_csv(filepath_fold_train)\n",
    "    pred_train_df['actual'] = train.loc[pred_train_df['object_id'], TARGET].values\n",
    "    if REGRESSION:\n",
    "        if TARGET == 'target':\n",
    "            pred_train_df['pred'].clip(lower=0, upper=3, inplace=True)\n",
    "        else:\n",
    "            pred_train_df['pred'] = np.vectorize(soring_date2target)(pred_train_df['pred'])\n",
    "            pred_train_df['actual'] = np.vectorize(soring_date2target)(pred_train_df['actual'])\n",
    "    else:\n",
    "        pred_train_df['pred'] = predict(pred_train_df['0'], pred_train_df['1'],\n",
    "                                        pred_train_df['2'], pred_train_df['3'])\n",
    "    if not (REGRESSION and TARGET == 'target'):\n",
    "        print(confusion_matrix(pred_train_df['actual'], pred_train_df['pred'],\n",
    "                               labels=np.sort(train['target'].unique())))\n",
    "    loss = rmse(pred_train_df['actual'], pred_train_df['pred'])\n",
    "#     score = qwk(pred_train_df['actual'], pred_train_df['pred'])\n",
    "    logger.debug('Loss: {}'.format(loss))\n",
    "#     logger.debug('Score: {}'.format(score))\n",
    "    metrics['train_losses'].append(loss)\n",
    "#     metrics['train_scores'].append(score)\n",
    "    pred_train_dfs.append(pred_train_df)\n",
    "\n",
    "metrics['train_losses_avg'] = np.mean(metrics['train_losses'])\n",
    "metrics['train_losses_std'] = np.std(metrics['train_losses'])\n",
    "# metrics['train_scores_avg'] = np.mean(metrics['train_scores'])\n",
    "# metrics['train_scores_std'] = np.std(metrics['train_scores'])"
   ]
  },
  {
   "cell_type": "code",
   "execution_count": 24,
   "metadata": {
    "execution": {
     "iopub.execute_input": "2021-07-18T18:12:35.017855Z",
     "iopub.status.busy": "2021-07-18T18:12:35.016856Z",
     "iopub.status.idle": "2021-07-18T18:12:35.057341Z",
     "shell.execute_reply": "2021-07-18T18:12:35.056342Z"
    }
   },
   "outputs": [
    {
     "data": {
      "text/html": [
       "<div>\n",
       "<style scoped>\n",
       "    .dataframe tbody tr th:only-of-type {\n",
       "        vertical-align: middle;\n",
       "    }\n",
       "\n",
       "    .dataframe tbody tr th {\n",
       "        vertical-align: top;\n",
       "    }\n",
       "\n",
       "    .dataframe thead th {\n",
       "        text-align: right;\n",
       "    }\n",
       "</style>\n",
       "<table border=\"1\" class=\"dataframe\">\n",
       "  <thead>\n",
       "    <tr style=\"text-align: right;\">\n",
       "      <th></th>\n",
       "      <th>pred</th>\n",
       "      <th>actual</th>\n",
       "    </tr>\n",
       "    <tr>\n",
       "      <th>object_id</th>\n",
       "      <th></th>\n",
       "      <th></th>\n",
       "    </tr>\n",
       "  </thead>\n",
       "  <tbody>\n",
       "    <tr>\n",
       "      <th>002bff09b09998d0be65</th>\n",
       "      <td>1.30648</td>\n",
       "      <td>1</td>\n",
       "    </tr>\n",
       "    <tr>\n",
       "      <th>00309fb1ef05416f9c1f</th>\n",
       "      <td>2.32000</td>\n",
       "      <td>3</td>\n",
       "    </tr>\n",
       "    <tr>\n",
       "      <th>003a1562e97f79ba96dc</th>\n",
       "      <td>2.32007</td>\n",
       "      <td>3</td>\n",
       "    </tr>\n",
       "    <tr>\n",
       "      <th>004890880e8e7431147b</th>\n",
       "      <td>1.56589</td>\n",
       "      <td>2</td>\n",
       "    </tr>\n",
       "    <tr>\n",
       "      <th>00718c32602425f504c1</th>\n",
       "      <td>2.32009</td>\n",
       "      <td>3</td>\n",
       "    </tr>\n",
       "    <tr>\n",
       "      <th>...</th>\n",
       "      <td>...</td>\n",
       "      <td>...</td>\n",
       "    </tr>\n",
       "    <tr>\n",
       "      <th>ffa3259fff8e6f3818a1</th>\n",
       "      <td>2.32005</td>\n",
       "      <td>3</td>\n",
       "    </tr>\n",
       "    <tr>\n",
       "      <th>ffd4d361756587883e48</th>\n",
       "      <td>1.26554</td>\n",
       "      <td>1</td>\n",
       "    </tr>\n",
       "    <tr>\n",
       "      <th>ffd794b7b311b7b7fd92</th>\n",
       "      <td>1.52003</td>\n",
       "      <td>2</td>\n",
       "    </tr>\n",
       "    <tr>\n",
       "      <th>ffe49bba69d06446de7e</th>\n",
       "      <td>1.60635</td>\n",
       "      <td>3</td>\n",
       "    </tr>\n",
       "    <tr>\n",
       "      <th>ffe77db10be3400bed53</th>\n",
       "      <td>1.57291</td>\n",
       "      <td>1</td>\n",
       "    </tr>\n",
       "  </tbody>\n",
       "</table>\n",
       "<p>3937 rows × 2 columns</p>\n",
       "</div>"
      ],
      "text/plain": [
       "                        pred  actual\n",
       "object_id                           \n",
       "002bff09b09998d0be65 1.30648       1\n",
       "00309fb1ef05416f9c1f 2.32000       3\n",
       "003a1562e97f79ba96dc 2.32007       3\n",
       "004890880e8e7431147b 1.56589       2\n",
       "00718c32602425f504c1 2.32009       3\n",
       "...                      ...     ...\n",
       "ffa3259fff8e6f3818a1 2.32005       3\n",
       "ffd4d361756587883e48 1.26554       1\n",
       "ffd794b7b311b7b7fd92 1.52003       2\n",
       "ffe49bba69d06446de7e 1.60635       3\n",
       "ffe77db10be3400bed53 1.57291       1\n",
       "\n",
       "[3937 rows x 2 columns]"
      ]
     },
     "execution_count": 24,
     "metadata": {},
     "output_type": "execute_result"
    }
   ],
   "source": [
    "pred_train = pd.concat(pred_train_dfs).groupby('object_id').sum()\n",
    "pred_train = pred_train / N_SPLITS\n",
    "if not REGRESSION:\n",
    "    pred_train['pred'] = predict(pred_train['0'], pred_train['1'], pred_train['2'], pred_train['3'])\n",
    "pred_train['actual'] = train.loc[pred_train.index, TARGET].values\n",
    "if REGRESSION and TARGET == 'sorting_date':\n",
    "    pred_train['actual'] = np.vectorize(soring_date2target)(pred_train['actual'])\n",
    "# for c in ('pred', 'actual'):\n",
    "#     pred_train[c] = pred_train[c].astype('int')\n",
    "pred_train"
   ]
  },
  {
   "cell_type": "code",
   "execution_count": 25,
   "metadata": {
    "execution": {
     "iopub.execute_input": "2021-07-18T18:12:35.062880Z",
     "iopub.status.busy": "2021-07-18T18:12:35.062880Z",
     "iopub.status.idle": "2021-07-18T18:12:35.072880Z",
     "shell.execute_reply": "2021-07-18T18:12:35.072880Z"
    }
   },
   "outputs": [
    {
     "name": "stderr",
     "output_type": "stream",
     "text": [
      "2021-07-19 03:12:35,061 - __main__ - INFO - Training loss: 0.7174939040510003\n"
     ]
    }
   ],
   "source": [
    "if not (REGRESSION and TARGET == 'target'):\n",
    "    print(confusion_matrix(pred_train['actual'], pred_train['pred'], labels=np.sort(train['target'].unique())))\n",
    "loss = rmse(pred_train['actual'], pred_train['pred'])\n",
    "# score = qwk(pred_train['actual'], pred_train['pred'])\n",
    "metrics['train_loss'] = loss\n",
    "# metrics['train_score'] = score\n",
    "logger.info('Training loss: {}'.format(loss))\n",
    "# logger.info('Training score: {}'.format(score))"
   ]
  },
  {
   "cell_type": "code",
   "execution_count": 26,
   "metadata": {
    "execution": {
     "iopub.execute_input": "2021-07-18T18:12:35.076880Z",
     "iopub.status.busy": "2021-07-18T18:12:35.076880Z",
     "iopub.status.idle": "2021-07-18T18:12:35.104881Z",
     "shell.execute_reply": "2021-07-18T18:12:35.104881Z"
    }
   },
   "outputs": [
    {
     "name": "stderr",
     "output_type": "stream",
     "text": [
      "2021-07-19 03:12:35,086 - __main__ - DEBUG - Write cv result to ..\\scripts\\..\\experiments\\exp009\\prediction_train.csv\n"
     ]
    }
   ],
   "source": [
    "pred_train.to_csv(os.path.join(output_dir, 'prediction_train.csv'))\n",
    "logger.debug('Write cv result to {}'.format(os.path.join(output_dir, 'prediction_train.csv')))"
   ]
  },
  {
   "cell_type": "markdown",
   "metadata": {},
   "source": [
    "## Validation set"
   ]
  },
  {
   "cell_type": "code",
   "execution_count": 27,
   "metadata": {
    "execution": {
     "iopub.execute_input": "2021-07-18T18:12:35.116881Z",
     "iopub.status.busy": "2021-07-18T18:12:35.114880Z",
     "iopub.status.idle": "2021-07-18T18:12:35.199512Z",
     "shell.execute_reply": "2021-07-18T18:12:35.199512Z"
    }
   },
   "outputs": [
    {
     "name": "stderr",
     "output_type": "stream",
     "text": [
      "2021-07-19 03:12:35,113 - __main__ - DEBUG - Evaluate cv result (validation set) Fold 1\n",
      "2021-07-19 03:12:35,127 - __main__ - DEBUG - Loss: 0.9831303701529929\n",
      "2021-07-19 03:12:35,128 - __main__ - DEBUG - Evaluate cv result (validation set) Fold 2\n",
      "2021-07-19 03:12:35,141 - __main__ - DEBUG - Loss: 0.9734340259214598\n",
      "2021-07-19 03:12:35,142 - __main__ - DEBUG - Evaluate cv result (validation set) Fold 3\n",
      "2021-07-19 03:12:35,155 - __main__ - DEBUG - Loss: 0.9679745213367397\n",
      "2021-07-19 03:12:35,156 - __main__ - DEBUG - Evaluate cv result (validation set) Fold 4\n",
      "2021-07-19 03:12:35,169 - __main__ - DEBUG - Loss: 0.9808218063673844\n",
      "2021-07-19 03:12:35,170 - __main__ - DEBUG - Evaluate cv result (validation set) Fold 5\n",
      "2021-07-19 03:12:35,183 - __main__ - DEBUG - Loss: 0.9357958949396926\n"
     ]
    }
   ],
   "source": [
    "pred_valid_dfs = []\n",
    "for i in range(N_SPLITS):\n",
    "    num_fold = i + 1\n",
    "    logger.debug('Evaluate cv result (validation set) Fold {}'.format(num_fold))\n",
    "    # Read cv result\n",
    "    filepath_fold_valid = os.path.join(output_dir, f'cv_fold{num_fold}_validation.csv')\n",
    "    pred_valid_df = pd.read_csv(filepath_fold_valid)\n",
    "    pred_valid_df['actual'] = train.loc[pred_valid_df['object_id'], TARGET].values\n",
    "    if REGRESSION:\n",
    "        if TARGET == 'target':\n",
    "            pred_valid_df['pred'].clip(lower=0, upper=3, inplace=True)\n",
    "        else:\n",
    "            pred_valid_df['pred'] = np.vectorize(soring_date2target)(pred_valid_df['pred'])\n",
    "            pred_valid_df['actual'] = np.vectorize(soring_date2target)(pred_valid_df['actual'])\n",
    "    else:\n",
    "        pred_valid_df['pred'] = predict(pred_valid_df['0'], pred_valid_df['1'],\n",
    "                                        pred_valid_df['2'], pred_valid_df['3'])        \n",
    "    \n",
    "    if not (REGRESSION and TARGET == 'target'):\n",
    "        print(confusion_matrix(pred_valid_df['actual'], pred_valid_df['pred'],\n",
    "                               labels=np.sort(train['target'].unique())))\n",
    "    loss = rmse(pred_valid_df['actual'], pred_valid_df['pred'])\n",
    "#     score = qwk(pred_valid_df['actual'], pred_valid_df['pred'])\n",
    "    logger.debug('Loss: {}'.format(loss))\n",
    "#     logger.debug('Score: {}'.format(score))\n",
    "    metrics['valid_losses'].append(loss)\n",
    "#     metrics['valid_scores'].append(score)\n",
    "    pred_valid_dfs.append(pred_valid_df)\n",
    "    \n",
    "metrics['valid_losses_avg'] = np.mean(metrics['valid_losses'])\n",
    "metrics['valid_losses_std'] = np.std(metrics['valid_losses'])\n",
    "# metrics['valid_scores_avg'] = np.mean(metrics['valid_scores'])\n",
    "# metrics['valid_scores_std'] = np.std(metrics['valid_scores'])"
   ]
  },
  {
   "cell_type": "code",
   "execution_count": 28,
   "metadata": {
    "execution": {
     "iopub.execute_input": "2021-07-18T18:12:35.208648Z",
     "iopub.status.busy": "2021-07-18T18:12:35.206511Z",
     "iopub.status.idle": "2021-07-18T18:12:35.229876Z",
     "shell.execute_reply": "2021-07-18T18:12:35.228871Z"
    }
   },
   "outputs": [
    {
     "data": {
      "text/html": [
       "<div>\n",
       "<style scoped>\n",
       "    .dataframe tbody tr th:only-of-type {\n",
       "        vertical-align: middle;\n",
       "    }\n",
       "\n",
       "    .dataframe tbody tr th {\n",
       "        vertical-align: top;\n",
       "    }\n",
       "\n",
       "    .dataframe thead th {\n",
       "        text-align: right;\n",
       "    }\n",
       "</style>\n",
       "<table border=\"1\" class=\"dataframe\">\n",
       "  <thead>\n",
       "    <tr style=\"text-align: right;\">\n",
       "      <th></th>\n",
       "      <th>pred</th>\n",
       "      <th>actual</th>\n",
       "    </tr>\n",
       "    <tr>\n",
       "      <th>object_id</th>\n",
       "      <th></th>\n",
       "      <th></th>\n",
       "    </tr>\n",
       "  </thead>\n",
       "  <tbody>\n",
       "    <tr>\n",
       "      <th>002bff09b09998d0be65</th>\n",
       "      <td>0.37796</td>\n",
       "      <td>1</td>\n",
       "    </tr>\n",
       "    <tr>\n",
       "      <th>00309fb1ef05416f9c1f</th>\n",
       "      <td>0.34790</td>\n",
       "      <td>3</td>\n",
       "    </tr>\n",
       "    <tr>\n",
       "      <th>003a1562e97f79ba96dc</th>\n",
       "      <td>0.54735</td>\n",
       "      <td>3</td>\n",
       "    </tr>\n",
       "    <tr>\n",
       "      <th>004890880e8e7431147b</th>\n",
       "      <td>0.40552</td>\n",
       "      <td>2</td>\n",
       "    </tr>\n",
       "    <tr>\n",
       "      <th>00718c32602425f504c1</th>\n",
       "      <td>0.55591</td>\n",
       "      <td>3</td>\n",
       "    </tr>\n",
       "    <tr>\n",
       "      <th>...</th>\n",
       "      <td>...</td>\n",
       "      <td>...</td>\n",
       "    </tr>\n",
       "    <tr>\n",
       "      <th>ffa3259fff8e6f3818a1</th>\n",
       "      <td>0.42049</td>\n",
       "      <td>3</td>\n",
       "    </tr>\n",
       "    <tr>\n",
       "      <th>ffd4d361756587883e48</th>\n",
       "      <td>0.32856</td>\n",
       "      <td>1</td>\n",
       "    </tr>\n",
       "    <tr>\n",
       "      <th>ffd794b7b311b7b7fd92</th>\n",
       "      <td>0.32024</td>\n",
       "      <td>2</td>\n",
       "    </tr>\n",
       "    <tr>\n",
       "      <th>ffe49bba69d06446de7e</th>\n",
       "      <td>0.38565</td>\n",
       "      <td>3</td>\n",
       "    </tr>\n",
       "    <tr>\n",
       "      <th>ffe77db10be3400bed53</th>\n",
       "      <td>0.40631</td>\n",
       "      <td>1</td>\n",
       "    </tr>\n",
       "  </tbody>\n",
       "</table>\n",
       "<p>3937 rows × 2 columns</p>\n",
       "</div>"
      ],
      "text/plain": [
       "                        pred  actual\n",
       "object_id                           \n",
       "002bff09b09998d0be65 0.37796       1\n",
       "00309fb1ef05416f9c1f 0.34790       3\n",
       "003a1562e97f79ba96dc 0.54735       3\n",
       "004890880e8e7431147b 0.40552       2\n",
       "00718c32602425f504c1 0.55591       3\n",
       "...                      ...     ...\n",
       "ffa3259fff8e6f3818a1 0.42049       3\n",
       "ffd4d361756587883e48 0.32856       1\n",
       "ffd794b7b311b7b7fd92 0.32024       2\n",
       "ffe49bba69d06446de7e 0.38565       3\n",
       "ffe77db10be3400bed53 0.40631       1\n",
       "\n",
       "[3937 rows x 2 columns]"
      ]
     },
     "execution_count": 28,
     "metadata": {},
     "output_type": "execute_result"
    }
   ],
   "source": [
    "pred_valid = pd.concat(pred_valid_dfs).groupby('object_id').sum()\n",
    "pred_valid = pred_valid / N_SPLITS\n",
    "if not REGRESSION:\n",
    "    pred_valid['pred'] = predict(pred_valid['0'], pred_valid['1'], pred_valid['2'], pred_valid['3'])\n",
    "pred_valid['actual'] = train.loc[pred_valid.index, TARGET].values\n",
    "if REGRESSION and TARGET == 'sorting_date':\n",
    "    pred_valid['actual'] = np.vectorize(soring_date2target)(pred_valid['actual'])\n",
    "# for c in ('pred', 'actual'):\n",
    "#     pred_valid[c] = pred_valid[c].astype('int')\n",
    "pred_valid"
   ]
  },
  {
   "cell_type": "code",
   "execution_count": 29,
   "metadata": {
    "execution": {
     "iopub.execute_input": "2021-07-18T18:12:35.235876Z",
     "iopub.status.busy": "2021-07-18T18:12:35.231872Z",
     "iopub.status.idle": "2021-07-18T18:12:35.244122Z",
     "shell.execute_reply": "2021-07-18T18:12:35.244122Z"
    }
   },
   "outputs": [
    {
     "name": "stderr",
     "output_type": "stream",
     "text": [
      "2021-07-19 03:12:35,234 - __main__ - INFO - Validatino loss: 1.7204441861469475\n"
     ]
    }
   ],
   "source": [
    "if not REGRESSION:\n",
    "    print(confusion_matrix(pred_valid['actual'], pred_valid['pred'], labels=np.sort(train['target'].unique())))\n",
    "loss = rmse(pred_valid['actual'], pred_valid['pred'])\n",
    "# score = qwk(pred_valid['actual'], pred_valid['pred'])\n",
    "metrics['valid_loss'] = loss\n",
    "# metrics['valid_score'] = score\n",
    "logger.info('Validatino loss: {}'.format(loss))\n",
    "# logger.info('Validatino score: {}'.format(score))"
   ]
  },
  {
   "cell_type": "code",
   "execution_count": 30,
   "metadata": {
    "execution": {
     "iopub.execute_input": "2021-07-18T18:12:35.249126Z",
     "iopub.status.busy": "2021-07-18T18:12:35.248124Z",
     "iopub.status.idle": "2021-07-18T18:12:35.279784Z",
     "shell.execute_reply": "2021-07-18T18:12:35.279784Z"
    }
   },
   "outputs": [
    {
     "name": "stderr",
     "output_type": "stream",
     "text": [
      "2021-07-19 03:12:35,257 - __main__ - DEBUG - Write cv result to ..\\scripts\\..\\experiments\\exp009\\prediction_valid.csv\n"
     ]
    }
   ],
   "source": [
    "pred_valid.to_csv(os.path.join(output_dir, 'prediction_valid.csv'))\n",
    "logger.debug('Write cv result to {}'.format(os.path.join(output_dir, 'prediction_valid.csv')))"
   ]
  },
  {
   "cell_type": "code",
   "execution_count": 31,
   "metadata": {
    "execution": {
     "iopub.execute_input": "2021-07-18T18:12:35.279784Z",
     "iopub.status.busy": "2021-07-18T18:12:35.279784Z",
     "iopub.status.idle": "2021-07-18T18:12:35.297979Z",
     "shell.execute_reply": "2021-07-18T18:12:35.296912Z"
    }
   },
   "outputs": [
    {
     "name": "stderr",
     "output_type": "stream",
     "text": [
      "2021-07-19 03:12:35,279 - __main__ - DEBUG - Write metrics to ..\\scripts\\..\\experiments\\exp009\\metrics.json\n"
     ]
    }
   ],
   "source": [
    "with open(os.path.join(output_dir, 'metrics.json'), 'w') as f:\n",
    "    json.dump(dict(metrics), f)\n",
    "logger.debug('Write metrics to {}'.format(os.path.join(output_dir, 'metrics.json')))"
   ]
  },
  {
   "cell_type": "markdown",
   "metadata": {},
   "source": [
    "# Prediction"
   ]
  },
  {
   "cell_type": "code",
   "execution_count": 32,
   "metadata": {
    "execution": {
     "iopub.execute_input": "2021-07-18T18:12:35.297979Z",
     "iopub.status.busy": "2021-07-18T18:12:35.297979Z",
     "iopub.status.idle": "2021-07-18T18:12:35.377439Z",
     "shell.execute_reply": "2021-07-18T18:12:35.377439Z"
    }
   },
   "outputs": [],
   "source": [
    "pred_test_dfs = []\n",
    "for i in range(N_SPLITS):\n",
    "    num_fold = i + 1\n",
    "    # Read cv result\n",
    "    filepath_fold_test = os.path.join(output_dir, f'cv_fold{num_fold}_test.csv')\n",
    "    pred_test_df = pd.read_csv(filepath_fold_test)\n",
    "    pred_test_dfs.append(pred_test_df)"
   ]
  },
  {
   "cell_type": "code",
   "execution_count": 33,
   "metadata": {
    "execution": {
     "iopub.execute_input": "2021-07-18T18:12:35.377439Z",
     "iopub.status.busy": "2021-07-18T18:12:35.377439Z",
     "iopub.status.idle": "2021-07-18T18:12:35.408688Z",
     "shell.execute_reply": "2021-07-18T18:12:35.408688Z"
    }
   },
   "outputs": [
    {
     "data": {
      "text/html": [
       "<div>\n",
       "<style scoped>\n",
       "    .dataframe tbody tr th:only-of-type {\n",
       "        vertical-align: middle;\n",
       "    }\n",
       "\n",
       "    .dataframe tbody tr th {\n",
       "        vertical-align: top;\n",
       "    }\n",
       "\n",
       "    .dataframe thead th {\n",
       "        text-align: right;\n",
       "    }\n",
       "</style>\n",
       "<table border=\"1\" class=\"dataframe\">\n",
       "  <thead>\n",
       "    <tr style=\"text-align: right;\">\n",
       "      <th></th>\n",
       "      <th>pred</th>\n",
       "    </tr>\n",
       "    <tr>\n",
       "      <th>object_id</th>\n",
       "      <th></th>\n",
       "    </tr>\n",
       "  </thead>\n",
       "  <tbody>\n",
       "    <tr>\n",
       "      <th>0009e50b94be36ccad39</th>\n",
       "      <td>1.61610</td>\n",
       "    </tr>\n",
       "    <tr>\n",
       "      <th>000bd5e82eb22f199f44</th>\n",
       "      <td>1.68038</td>\n",
       "    </tr>\n",
       "    <tr>\n",
       "      <th>0015f44de1854f617516</th>\n",
       "      <td>2.05362</td>\n",
       "    </tr>\n",
       "    <tr>\n",
       "      <th>00388a678879ba1efa27</th>\n",
       "      <td>2.07284</td>\n",
       "    </tr>\n",
       "    <tr>\n",
       "      <th>005e1e7c6496902d23f3</th>\n",
       "      <td>1.76321</td>\n",
       "    </tr>\n",
       "    <tr>\n",
       "      <th>...</th>\n",
       "      <td>...</td>\n",
       "    </tr>\n",
       "    <tr>\n",
       "      <th>ffbe65ad399b632dcbd0</th>\n",
       "      <td>1.52981</td>\n",
       "    </tr>\n",
       "    <tr>\n",
       "      <th>ffd7b2d646c0320c311a</th>\n",
       "      <td>1.28521</td>\n",
       "    </tr>\n",
       "    <tr>\n",
       "      <th>ffdb93ede17d4501e530</th>\n",
       "      <td>2.29718</td>\n",
       "    </tr>\n",
       "    <tr>\n",
       "      <th>ffe111402004b0ed46b4</th>\n",
       "      <td>2.01971</td>\n",
       "    </tr>\n",
       "    <tr>\n",
       "      <th>fffdb3c248a7dcd3cccf</th>\n",
       "      <td>1.67365</td>\n",
       "    </tr>\n",
       "  </tbody>\n",
       "</table>\n",
       "<p>5919 rows × 1 columns</p>\n",
       "</div>"
      ],
      "text/plain": [
       "                        pred\n",
       "object_id                   \n",
       "0009e50b94be36ccad39 1.61610\n",
       "000bd5e82eb22f199f44 1.68038\n",
       "0015f44de1854f617516 2.05362\n",
       "00388a678879ba1efa27 2.07284\n",
       "005e1e7c6496902d23f3 1.76321\n",
       "...                      ...\n",
       "ffbe65ad399b632dcbd0 1.52981\n",
       "ffd7b2d646c0320c311a 1.28521\n",
       "ffdb93ede17d4501e530 2.29718\n",
       "ffe111402004b0ed46b4 2.01971\n",
       "fffdb3c248a7dcd3cccf 1.67365\n",
       "\n",
       "[5919 rows x 1 columns]"
      ]
     },
     "execution_count": 33,
     "metadata": {},
     "output_type": "execute_result"
    }
   ],
   "source": [
    "pred_test = pd.concat(pred_test_dfs).groupby('object_id').sum()\n",
    "pred_test = pred_test / N_SPLITS\n",
    "if REGRESSION:\n",
    "    if TARGET == 'target':\n",
    "        pred_test['pred'].clip(lower=0, upper=3, inplace=True)\n",
    "    else:\n",
    "        pred_test['pred'] = np.vectorize(soring_date2target)(pred_test['pred'])\n",
    "else:\n",
    "    pred_test['pred'] = predict(pred_test['0'], pred_test['1'], pred_test['2'], pred_test['3'])\n",
    "pred_test"
   ]
  },
  {
   "cell_type": "code",
   "execution_count": 34,
   "metadata": {
    "execution": {
     "iopub.execute_input": "2021-07-18T18:12:35.408688Z",
     "iopub.status.busy": "2021-07-18T18:12:35.408688Z",
     "iopub.status.idle": "2021-07-18T18:12:35.424314Z",
     "shell.execute_reply": "2021-07-18T18:12:35.424314Z"
    }
   },
   "outputs": [
    {
     "data": {
      "text/html": [
       "<div>\n",
       "<style scoped>\n",
       "    .dataframe tbody tr th:only-of-type {\n",
       "        vertical-align: middle;\n",
       "    }\n",
       "\n",
       "    .dataframe tbody tr th {\n",
       "        vertical-align: top;\n",
       "    }\n",
       "\n",
       "    .dataframe thead th {\n",
       "        text-align: right;\n",
       "    }\n",
       "</style>\n",
       "<table border=\"1\" class=\"dataframe\">\n",
       "  <thead>\n",
       "    <tr style=\"text-align: right;\">\n",
       "      <th></th>\n",
       "      <th>target</th>\n",
       "    </tr>\n",
       "  </thead>\n",
       "  <tbody>\n",
       "    <tr>\n",
       "      <th>0</th>\n",
       "      <td>1.61610</td>\n",
       "    </tr>\n",
       "    <tr>\n",
       "      <th>1</th>\n",
       "      <td>1.68038</td>\n",
       "    </tr>\n",
       "    <tr>\n",
       "      <th>2</th>\n",
       "      <td>2.05362</td>\n",
       "    </tr>\n",
       "    <tr>\n",
       "      <th>3</th>\n",
       "      <td>2.07284</td>\n",
       "    </tr>\n",
       "    <tr>\n",
       "      <th>4</th>\n",
       "      <td>1.76321</td>\n",
       "    </tr>\n",
       "    <tr>\n",
       "      <th>...</th>\n",
       "      <td>...</td>\n",
       "    </tr>\n",
       "    <tr>\n",
       "      <th>5914</th>\n",
       "      <td>1.52981</td>\n",
       "    </tr>\n",
       "    <tr>\n",
       "      <th>5915</th>\n",
       "      <td>1.28521</td>\n",
       "    </tr>\n",
       "    <tr>\n",
       "      <th>5916</th>\n",
       "      <td>2.29718</td>\n",
       "    </tr>\n",
       "    <tr>\n",
       "      <th>5917</th>\n",
       "      <td>2.01971</td>\n",
       "    </tr>\n",
       "    <tr>\n",
       "      <th>5918</th>\n",
       "      <td>1.67365</td>\n",
       "    </tr>\n",
       "  </tbody>\n",
       "</table>\n",
       "<p>5919 rows × 1 columns</p>\n",
       "</div>"
      ],
      "text/plain": [
       "      target\n",
       "0    1.61610\n",
       "1    1.68038\n",
       "2    2.05362\n",
       "3    2.07284\n",
       "4    1.76321\n",
       "...      ...\n",
       "5914 1.52981\n",
       "5915 1.28521\n",
       "5916 2.29718\n",
       "5917 2.01971\n",
       "5918 1.67365\n",
       "\n",
       "[5919 rows x 1 columns]"
      ]
     },
     "execution_count": 34,
     "metadata": {},
     "output_type": "execute_result"
    }
   ],
   "source": [
    "test['target'] = pred_test.loc[test['object_id'], 'pred'].values\n",
    "test = test[['target']]\n",
    "test"
   ]
  },
  {
   "cell_type": "code",
   "execution_count": 35,
   "metadata": {
    "execution": {
     "iopub.execute_input": "2021-07-18T18:12:35.424314Z",
     "iopub.status.busy": "2021-07-18T18:12:35.424314Z",
     "iopub.status.idle": "2021-07-18T18:12:35.439939Z",
     "shell.execute_reply": "2021-07-18T18:12:35.439939Z"
    }
   },
   "outputs": [
    {
     "data": {
      "text/html": [
       "<div>\n",
       "<style scoped>\n",
       "    .dataframe tbody tr th:only-of-type {\n",
       "        vertical-align: middle;\n",
       "    }\n",
       "\n",
       "    .dataframe tbody tr th {\n",
       "        vertical-align: top;\n",
       "    }\n",
       "\n",
       "    .dataframe thead th {\n",
       "        text-align: right;\n",
       "    }\n",
       "</style>\n",
       "<table border=\"1\" class=\"dataframe\">\n",
       "  <thead>\n",
       "    <tr style=\"text-align: right;\">\n",
       "      <th></th>\n",
       "      <th>target</th>\n",
       "    </tr>\n",
       "  </thead>\n",
       "  <tbody>\n",
       "    <tr>\n",
       "      <th>0</th>\n",
       "      <td>3</td>\n",
       "    </tr>\n",
       "    <tr>\n",
       "      <th>1</th>\n",
       "      <td>1</td>\n",
       "    </tr>\n",
       "    <tr>\n",
       "      <th>2</th>\n",
       "      <td>3</td>\n",
       "    </tr>\n",
       "    <tr>\n",
       "      <th>3</th>\n",
       "      <td>3</td>\n",
       "    </tr>\n",
       "    <tr>\n",
       "      <th>4</th>\n",
       "      <td>0</td>\n",
       "    </tr>\n",
       "    <tr>\n",
       "      <th>...</th>\n",
       "      <td>...</td>\n",
       "    </tr>\n",
       "    <tr>\n",
       "      <th>5914</th>\n",
       "      <td>2</td>\n",
       "    </tr>\n",
       "    <tr>\n",
       "      <th>5915</th>\n",
       "      <td>1</td>\n",
       "    </tr>\n",
       "    <tr>\n",
       "      <th>5916</th>\n",
       "      <td>1</td>\n",
       "    </tr>\n",
       "    <tr>\n",
       "      <th>5917</th>\n",
       "      <td>3</td>\n",
       "    </tr>\n",
       "    <tr>\n",
       "      <th>5918</th>\n",
       "      <td>3</td>\n",
       "    </tr>\n",
       "  </tbody>\n",
       "</table>\n",
       "<p>5919 rows × 1 columns</p>\n",
       "</div>"
      ],
      "text/plain": [
       "      target\n",
       "0          3\n",
       "1          1\n",
       "2          3\n",
       "3          3\n",
       "4          0\n",
       "...      ...\n",
       "5914       2\n",
       "5915       1\n",
       "5916       1\n",
       "5917       3\n",
       "5918       3\n",
       "\n",
       "[5919 rows x 1 columns]"
      ]
     },
     "execution_count": 35,
     "metadata": {},
     "output_type": "execute_result"
    }
   ],
   "source": [
    "sample_submission"
   ]
  },
  {
   "cell_type": "code",
   "execution_count": 36,
   "metadata": {
    "execution": {
     "iopub.execute_input": "2021-07-18T18:12:35.439939Z",
     "iopub.status.busy": "2021-07-18T18:12:35.439939Z",
     "iopub.status.idle": "2021-07-18T18:12:35.472602Z",
     "shell.execute_reply": "2021-07-18T18:12:35.472602Z"
    }
   },
   "outputs": [
    {
     "name": "stderr",
     "output_type": "stream",
     "text": [
      "2021-07-19 03:12:35,455 - __main__ - DEBUG - Write submission to ..\\scripts\\..\\experiments\\exp009\\009_submission.csv\n"
     ]
    }
   ],
   "source": [
    "test.to_csv(os.path.join(output_dir, f'{str(EXP_NO).zfill(3)}_submission.csv'), index=False)\n",
    "logger.debug('Write submission to {}'.format(os.path.join(output_dir, f'{str(EXP_NO).zfill(3)}_submission.csv')))"
   ]
  },
  {
   "cell_type": "code",
   "execution_count": 37,
   "metadata": {
    "execution": {
     "iopub.execute_input": "2021-07-18T18:12:35.481272Z",
     "iopub.status.busy": "2021-07-18T18:12:35.480272Z",
     "iopub.status.idle": "2021-07-18T18:12:35.761664Z",
     "shell.execute_reply": "2021-07-18T18:12:35.761664Z"
    }
   },
   "outputs": [
    {
     "name": "stderr",
     "output_type": "stream",
     "text": [
      "2021-07-19 03:12:35,620 - __main__ - DEBUG - Write figure to ..\\scripts\\..\\experiments\\exp009\\prediction.png\n"
     ]
    },
    {
     "data": {
      "image/png": "[encoded data removed]",
      "text/plain": [
       "<Figure size 432x288 with 1 Axes>"
      ]
     },
     "metadata": {
      "needs_background": "light"
     },
     "output_type": "display_data"
    }
   ],
   "source": [
    "fig = plt.figure()\n",
    "if not (REGRESSION and TARGET == 'target'):\n",
    "    sns.countplot(data=test, x='target')\n",
    "else:\n",
    "    sns.histplot(data=test, x='target')\n",
    "sns.despine()\n",
    "fig.savefig(os.path.join(output_dir, 'prediction.png'))\n",
    "logger.debug('Write figure to {}'.format(os.path.join(output_dir, 'prediction.png')))"
   ]
  },
  {
   "cell_type": "code",
   "execution_count": 38,
   "metadata": {
    "execution": {
     "iopub.execute_input": "2021-07-18T18:12:35.761664Z",
     "iopub.status.busy": "2021-07-18T18:12:35.761664Z",
     "iopub.status.idle": "2021-07-18T18:12:35.777340Z",
     "shell.execute_reply": "2021-07-18T18:12:35.777340Z"
    }
   },
   "outputs": [
    {
     "name": "stderr",
     "output_type": "stream",
     "text": [
      "2021-07-19 03:12:35,761 - __main__ - DEBUG - Complete (7501.605 seconds passed)\n"
     ]
    }
   ],
   "source": [
    "logger.debug('Complete ({:.3f} seconds passed)'.format(time.time() - SINCE))"
   ]
  },
  {
   "cell_type": "code",
   "execution_count": null,
   "metadata": {},
   "outputs": [],
   "source": []
  }
 ],
 "metadata": {
  "kernelspec": {
   "display_name": "Python 3 (ipykernel)",
   "language": "python",
   "name": "python3"
  },
  "language_info": {
   "codemirror_mode": {
    "name": "ipython",
    "version": 3
   },
   "file_extension": ".py",
   "mimetype": "text/x-python",
   "name": "python",
   "nbconvert_exporter": "python",
   "pygments_lexer": "ipython3",
   "version": "3.9.0"
  }
 },
 "nbformat": 4,
 "nbformat_minor": 4
}
