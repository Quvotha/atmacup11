{
 "cells": [
  {
   "cell_type": "markdown",
   "metadata": {},
   "source": [
    "# Settings"
   ]
  },
  {
   "cell_type": "code",
   "execution_count": 1,
   "metadata": {},
   "outputs": [],
   "source": [
    "EXP_NO = 2\n",
    "SEED = 1\n",
    "N_SPLITS = 5\n",
    "CV = 'StratifiedKFold'\n",
    "TARGET = 'target'\n",
    "GROUP = 'art_series_id'"
   ]
  },
  {
   "cell_type": "markdown",
   "metadata": {},
   "source": [
    "# Library"
   ]
  },
  {
   "cell_type": "code",
   "execution_count": 2,
   "metadata": {},
   "outputs": [],
   "source": [
    "from collections import defaultdict\n",
    "from functools import partial\n",
    "import gc\n",
    "import glob\n",
    "import json\n",
    "from logging import getLogger, StreamHandler, FileHandler, DEBUG, Formatter\n",
    "import pickle\n",
    "import os\n",
    "import sys\n",
    "import time\n",
    "\n",
    "import lightgbm as lgbm\n",
    "import matplotlib.pyplot as plt\n",
    "import numpy as np\n",
    "import pandas as pd\n",
    "import seaborn as sns\n",
    "from sklearn.decomposition import PCA\n",
    "from sklearn.metrics import confusion_matrix, mean_squared_error, cohen_kappa_score\n",
    "from sklearn.model_selection import GroupKFold, StratifiedKFold\n",
    "from sklearn.pipeline import Pipeline\n",
    "\n",
    "SCRIPTS_DIR = os.path.join('..', 'scripts')\n",
    "assert(os.path.dirname(SCRIPTS_DIR))\n",
    "if SCRIPTS_DIR not in sys.path: sys.path.append(SCRIPTS_DIR)\n",
    "from folder import experiment_dir_of\n",
    "from dataset import load_csvfiles, load_photofiles"
   ]
  },
  {
   "cell_type": "code",
   "execution_count": 3,
   "metadata": {},
   "outputs": [],
   "source": [
    "pd.options.display.float_format = '{:.5f}'.format"
   ]
  },
  {
   "cell_type": "markdown",
   "metadata": {},
   "source": [
    "# Prepare directory"
   ]
  },
  {
   "cell_type": "code",
   "execution_count": 4,
   "metadata": {},
   "outputs": [],
   "source": [
    "output_dir = experiment_dir_of(EXP_NO)"
   ]
  },
  {
   "cell_type": "code",
   "execution_count": 5,
   "metadata": {},
   "outputs": [
    {
     "data": {
      "text/plain": [
       "'..\\\\scripts\\\\..\\\\experiments\\\\exp002'"
      ]
     },
     "execution_count": 5,
     "metadata": {},
     "output_type": "execute_result"
    }
   ],
   "source": [
    "output_dir"
   ]
  },
  {
   "cell_type": "markdown",
   "metadata": {},
   "source": [
    "# Prepare logger"
   ]
  },
  {
   "cell_type": "code",
   "execution_count": 6,
   "metadata": {},
   "outputs": [],
   "source": [
    "logger = getLogger(__name__)"
   ]
  },
  {
   "cell_type": "code",
   "execution_count": 7,
   "metadata": {},
   "outputs": [
    {
     "data": {
      "text/plain": [
       "2"
      ]
     },
     "execution_count": 7,
     "metadata": {},
     "output_type": "execute_result"
    }
   ],
   "source": [
    "'''Refference\n",
    "https://docs.python.org/ja/3/howto/logging-cookbook.html\n",
    "'''\n",
    "logger.setLevel(DEBUG)\n",
    "# create file handler which logs even debug messages\n",
    "fh = FileHandler(os.path.join(output_dir, 'log.log'))\n",
    "fh.setLevel(DEBUG)\n",
    "# create console handler with a higher log level\n",
    "ch = StreamHandler()\n",
    "ch.setLevel(DEBUG)\n",
    "# create formatter and add it to the handlers\n",
    "formatter = Formatter('%(asctime)s - %(name)s - %(levelname)s - %(message)s')\n",
    "fh.setFormatter(formatter)\n",
    "ch.setFormatter(formatter)\n",
    "# add the handlers to the logger\n",
    "logger.addHandler(fh)\n",
    "logger.addHandler(ch)\n",
    "len(logger.handlers)"
   ]
  },
  {
   "cell_type": "code",
   "execution_count": 8,
   "metadata": {},
   "outputs": [
    {
     "name": "stderr",
     "output_type": "stream",
     "text": [
      "2021-07-12 04:00:44,731 - __main__ - INFO - Experiment no: 2\n",
      "2021-07-12 04:00:44,734 - __main__ - INFO - CV: StratifiedKFold\n",
      "2021-07-12 04:00:44,735 - __main__ - INFO - SEED: 1\n"
     ]
    }
   ],
   "source": [
    "logger.info('Experiment no: {}'.format(EXP_NO))\n",
    "logger.info('CV: {}'.format(CV))\n",
    "logger.info('SEED: {}'.format(SEED))"
   ]
  },
  {
   "cell_type": "markdown",
   "metadata": {},
   "source": [
    "# Load csv files"
   ]
  },
  {
   "cell_type": "code",
   "execution_count": 9,
   "metadata": {},
   "outputs": [],
   "source": [
    "SINCE = time.time()"
   ]
  },
  {
   "cell_type": "code",
   "execution_count": 10,
   "metadata": {},
   "outputs": [
    {
     "name": "stderr",
     "output_type": "stream",
     "text": [
      "2021-07-12 04:00:44,763 - __main__ - DEBUG - Start loading csv files (0.017 seconds passed)\n",
      "2021-07-12 04:00:44,789 - __main__ - DEBUG - Complete loading csv files (0.043 seconds passed)\n"
     ]
    }
   ],
   "source": [
    "logger.debug('Start loading csv files ({:.3f} seconds passed)'.format(time.time() - SINCE))\n",
    "train, test, materials, techniques, sample_submission = load_csvfiles()\n",
    "logger.debug('Complete loading csv files ({:.3f} seconds passed)'.format(time.time() - SINCE))"
   ]
  },
  {
   "cell_type": "code",
   "execution_count": 11,
   "metadata": {},
   "outputs": [
    {
     "data": {
      "text/html": [
       "<div>\n",
       "<style scoped>\n",
       "    .dataframe tbody tr th:only-of-type {\n",
       "        vertical-align: middle;\n",
       "    }\n",
       "\n",
       "    .dataframe tbody tr th {\n",
       "        vertical-align: top;\n",
       "    }\n",
       "\n",
       "    .dataframe thead th {\n",
       "        text-align: right;\n",
       "    }\n",
       "</style>\n",
       "<table border=\"1\" class=\"dataframe\">\n",
       "  <thead>\n",
       "    <tr style=\"text-align: right;\">\n",
       "      <th></th>\n",
       "      <th>object_id</th>\n",
       "      <th>sorting_date</th>\n",
       "      <th>art_series_id</th>\n",
       "      <th>target</th>\n",
       "    </tr>\n",
       "  </thead>\n",
       "  <tbody>\n",
       "    <tr>\n",
       "      <th>0</th>\n",
       "      <td>002bff09b09998d0be65</td>\n",
       "      <td>1631</td>\n",
       "      <td>509357f67692a6a45626</td>\n",
       "      <td>1</td>\n",
       "    </tr>\n",
       "    <tr>\n",
       "      <th>1</th>\n",
       "      <td>00309fb1ef05416f9c1f</td>\n",
       "      <td>1900</td>\n",
       "      <td>7987b47bbe5dc3039179</td>\n",
       "      <td>3</td>\n",
       "    </tr>\n",
       "    <tr>\n",
       "      <th>2</th>\n",
       "      <td>003a1562e97f79ba96dc</td>\n",
       "      <td>1834</td>\n",
       "      <td>ded7c3c9636708e5b14c</td>\n",
       "      <td>3</td>\n",
       "    </tr>\n",
       "    <tr>\n",
       "      <th>3</th>\n",
       "      <td>004890880e8e7431147b</td>\n",
       "      <td>1743</td>\n",
       "      <td>582ac2d7f0cef195b605</td>\n",
       "      <td>2</td>\n",
       "    </tr>\n",
       "    <tr>\n",
       "      <th>4</th>\n",
       "      <td>00718c32602425f504c1</td>\n",
       "      <td>1885</td>\n",
       "      <td>64c907f0c08dce4fb8e8</td>\n",
       "      <td>3</td>\n",
       "    </tr>\n",
       "    <tr>\n",
       "      <th>...</th>\n",
       "      <td>...</td>\n",
       "      <td>...</td>\n",
       "      <td>...</td>\n",
       "      <td>...</td>\n",
       "    </tr>\n",
       "    <tr>\n",
       "      <th>3932</th>\n",
       "      <td>ffa3259fff8e6f3818a1</td>\n",
       "      <td>1850</td>\n",
       "      <td>b187c294b0550acf049a</td>\n",
       "      <td>3</td>\n",
       "    </tr>\n",
       "    <tr>\n",
       "      <th>3933</th>\n",
       "      <td>ffd4d361756587883e48</td>\n",
       "      <td>1670</td>\n",
       "      <td>ad49a044770a48f860a6</td>\n",
       "      <td>1</td>\n",
       "    </tr>\n",
       "    <tr>\n",
       "      <th>3934</th>\n",
       "      <td>ffd794b7b311b7b7fd92</td>\n",
       "      <td>1789</td>\n",
       "      <td>f030a01b480b18a27be2</td>\n",
       "      <td>2</td>\n",
       "    </tr>\n",
       "    <tr>\n",
       "      <th>3935</th>\n",
       "      <td>ffe49bba69d06446de7e</td>\n",
       "      <td>1805</td>\n",
       "      <td>f5287bc84a05aada1d17</td>\n",
       "      <td>3</td>\n",
       "    </tr>\n",
       "    <tr>\n",
       "      <th>3936</th>\n",
       "      <td>ffe77db10be3400bed53</td>\n",
       "      <td>1700</td>\n",
       "      <td>60dec6e091cdd973e617</td>\n",
       "      <td>1</td>\n",
       "    </tr>\n",
       "  </tbody>\n",
       "</table>\n",
       "<p>3937 rows × 4 columns</p>\n",
       "</div>"
      ],
      "text/plain": [
       "                 object_id  sorting_date         art_series_id  target\n",
       "0     002bff09b09998d0be65          1631  509357f67692a6a45626       1\n",
       "1     00309fb1ef05416f9c1f          1900  7987b47bbe5dc3039179       3\n",
       "2     003a1562e97f79ba96dc          1834  ded7c3c9636708e5b14c       3\n",
       "3     004890880e8e7431147b          1743  582ac2d7f0cef195b605       2\n",
       "4     00718c32602425f504c1          1885  64c907f0c08dce4fb8e8       3\n",
       "...                    ...           ...                   ...     ...\n",
       "3932  ffa3259fff8e6f3818a1          1850  b187c294b0550acf049a       3\n",
       "3933  ffd4d361756587883e48          1670  ad49a044770a48f860a6       1\n",
       "3934  ffd794b7b311b7b7fd92          1789  f030a01b480b18a27be2       2\n",
       "3935  ffe49bba69d06446de7e          1805  f5287bc84a05aada1d17       3\n",
       "3936  ffe77db10be3400bed53          1700  60dec6e091cdd973e617       1\n",
       "\n",
       "[3937 rows x 4 columns]"
      ]
     },
     "execution_count": 11,
     "metadata": {},
     "output_type": "execute_result"
    }
   ],
   "source": [
    "train"
   ]
  },
  {
   "cell_type": "code",
   "execution_count": 12,
   "metadata": {},
   "outputs": [
    {
     "data": {
      "text/html": [
       "<div>\n",
       "<style scoped>\n",
       "    .dataframe tbody tr th:only-of-type {\n",
       "        vertical-align: middle;\n",
       "    }\n",
       "\n",
       "    .dataframe tbody tr th {\n",
       "        vertical-align: top;\n",
       "    }\n",
       "\n",
       "    .dataframe thead th {\n",
       "        text-align: right;\n",
       "    }\n",
       "</style>\n",
       "<table border=\"1\" class=\"dataframe\">\n",
       "  <thead>\n",
       "    <tr style=\"text-align: right;\">\n",
       "      <th></th>\n",
       "      <th>object_id</th>\n",
       "    </tr>\n",
       "  </thead>\n",
       "  <tbody>\n",
       "    <tr>\n",
       "      <th>0</th>\n",
       "      <td>0009e50b94be36ccad39</td>\n",
       "    </tr>\n",
       "    <tr>\n",
       "      <th>1</th>\n",
       "      <td>000bd5e82eb22f199f44</td>\n",
       "    </tr>\n",
       "    <tr>\n",
       "      <th>2</th>\n",
       "      <td>0015f44de1854f617516</td>\n",
       "    </tr>\n",
       "    <tr>\n",
       "      <th>3</th>\n",
       "      <td>00388a678879ba1efa27</td>\n",
       "    </tr>\n",
       "    <tr>\n",
       "      <th>4</th>\n",
       "      <td>005e1e7c6496902d23f3</td>\n",
       "    </tr>\n",
       "    <tr>\n",
       "      <th>...</th>\n",
       "      <td>...</td>\n",
       "    </tr>\n",
       "    <tr>\n",
       "      <th>5914</th>\n",
       "      <td>ffbe65ad399b632dcbd0</td>\n",
       "    </tr>\n",
       "    <tr>\n",
       "      <th>5915</th>\n",
       "      <td>ffd7b2d646c0320c311a</td>\n",
       "    </tr>\n",
       "    <tr>\n",
       "      <th>5916</th>\n",
       "      <td>ffdb93ede17d4501e530</td>\n",
       "    </tr>\n",
       "    <tr>\n",
       "      <th>5917</th>\n",
       "      <td>ffe111402004b0ed46b4</td>\n",
       "    </tr>\n",
       "    <tr>\n",
       "      <th>5918</th>\n",
       "      <td>fffdb3c248a7dcd3cccf</td>\n",
       "    </tr>\n",
       "  </tbody>\n",
       "</table>\n",
       "<p>5919 rows × 1 columns</p>\n",
       "</div>"
      ],
      "text/plain": [
       "                 object_id\n",
       "0     0009e50b94be36ccad39\n",
       "1     000bd5e82eb22f199f44\n",
       "2     0015f44de1854f617516\n",
       "3     00388a678879ba1efa27\n",
       "4     005e1e7c6496902d23f3\n",
       "...                    ...\n",
       "5914  ffbe65ad399b632dcbd0\n",
       "5915  ffd7b2d646c0320c311a\n",
       "5916  ffdb93ede17d4501e530\n",
       "5917  ffe111402004b0ed46b4\n",
       "5918  fffdb3c248a7dcd3cccf\n",
       "\n",
       "[5919 rows x 1 columns]"
      ]
     },
     "execution_count": 12,
     "metadata": {},
     "output_type": "execute_result"
    }
   ],
   "source": [
    "test"
   ]
  },
  {
   "cell_type": "markdown",
   "metadata": {},
   "source": [
    "# Cross validation"
   ]
  },
  {
   "cell_type": "code",
   "execution_count": 13,
   "metadata": {},
   "outputs": [],
   "source": [
    "# Splitter\n",
    "if CV == 'GroupKFold':\n",
    "    splitter = GroupKFold(n_splits=5)\n",
    "    fold_indice = splitter.split(X=train, y=train[TARGET], groups=train[GROUP])\n",
    "elif CV == 'StratifiedKFold':\n",
    "    splitter = StratifiedKFold(n_splits=5, shuffle=True, random_state=SEED)\n",
    "    fold_indice = splitter.split(X=train, y=train[TARGET])\n",
    "else:\n",
    "    raise ValueError(CV)"
   ]
  },
  {
   "cell_type": "code",
   "execution_count": 14,
   "metadata": {},
   "outputs": [
    {
     "name": "stderr",
     "output_type": "stream",
     "text": [
      "2021-07-12 04:00:44,857 - __main__ - DEBUG - Start loading test images (0.111 seconds passed)\n",
      "2021-07-12 04:00:53,346 - __main__ - DEBUG - Complete loading test images (8.600 seconds passed)\n"
     ]
    },
    {
     "name": "stdout",
     "output_type": "stream",
     "text": [
      "Wall time: 8.49 s\n"
     ]
    }
   ],
   "source": [
    "%%time\n",
    "# Load and flatten test set images\n",
    "logger.debug('Start loading test images ({:.3f} seconds passed)'.format(time.time() - SINCE))\n",
    "test_images = load_photofiles(test['object_id'])\n",
    "logger.debug('Complete loading test images ({:.3f} seconds passed)'.format(time.time() - SINCE))\n",
    "test_images = test_images.reshape(test_images.shape[0], -1)"
   ]
  },
  {
   "cell_type": "code",
   "execution_count": 15,
   "metadata": {},
   "outputs": [
    {
     "name": "stderr",
     "output_type": "stream",
     "text": [
      "2021-07-12 04:00:53,382 - __main__ - DEBUG - Start fold 1 (8.635 seconds passed)\n",
      "2021-07-12 04:00:58,308 - __main__ - DEBUG - Start training model (13.562 seconds passed)\n",
      "2021-07-12 04:03:54,838 - __main__ - DEBUG - Complete dimension reducing (190.076 seconds passed)\n",
      "2021-07-12 04:04:02,217 - __main__ - DEBUG - Complete training (197.471 seconds passed)\n",
      "2021-07-12 04:04:02,389 - __main__ - DEBUG - Save training fold to ..\\scripts\\..\\experiments\\exp002\\cv_fold1_training.csv (197.643 seconds passed)\n",
      "2021-07-12 04:04:02,422 - __main__ - DEBUG - Save validation fold to ..\\scripts\\..\\experiments\\exp002\\cv_fold1_validation.csv (197.676 seconds passed)\n",
      "2021-07-12 04:04:02,569 - __main__ - DEBUG - Save test result ..\\scripts\\..\\experiments\\exp002\\cv_fold1_test.csv (197.823 seconds passed)\n",
      "2021-07-12 04:04:03,819 - __main__ - DEBUG - Save model ..\\scripts\\..\\experiments\\exp002\\cv_fold1_model.pickle (199.072 seconds passed)\n",
      "2021-07-12 04:04:04,379 - __main__ - DEBUG - Complete fold 1 (199.633 seconds passed)\n",
      "2021-07-12 04:04:04,380 - __main__ - DEBUG - Start fold 2 (199.634 seconds passed)\n",
      "2021-07-12 04:04:10,088 - __main__ - DEBUG - Start training model (205.342 seconds passed)\n",
      "2021-07-12 04:07:04,809 - __main__ - DEBUG - Complete dimension reducing (380.047 seconds passed)\n",
      "2021-07-12 04:07:10,919 - __main__ - DEBUG - Complete training (386.172 seconds passed)\n",
      "2021-07-12 04:07:11,047 - __main__ - DEBUG - Save training fold to ..\\scripts\\..\\experiments\\exp002\\cv_fold2_training.csv (386.301 seconds passed)\n",
      "2021-07-12 04:07:11,083 - __main__ - DEBUG - Save validation fold to ..\\scripts\\..\\experiments\\exp002\\cv_fold2_validation.csv (386.337 seconds passed)\n",
      "2021-07-12 04:07:11,223 - __main__ - DEBUG - Save test result ..\\scripts\\..\\experiments\\exp002\\cv_fold2_test.csv (386.476 seconds passed)\n",
      "2021-07-12 04:07:12,750 - __main__ - DEBUG - Save model ..\\scripts\\..\\experiments\\exp002\\cv_fold2_model.pickle (388.004 seconds passed)\n",
      "2021-07-12 04:07:13,260 - __main__ - DEBUG - Complete fold 2 (388.513 seconds passed)\n",
      "2021-07-12 04:07:13,260 - __main__ - DEBUG - Start fold 3 (388.513 seconds passed)\n",
      "2021-07-12 04:07:18,710 - __main__ - DEBUG - Start training model (393.963 seconds passed)\n",
      "2021-07-12 04:10:07,788 - __main__ - DEBUG - Complete dimension reducing (563.025 seconds passed)\n",
      "2021-07-12 04:10:15,158 - __main__ - DEBUG - Complete training (570.411 seconds passed)\n",
      "2021-07-12 04:10:15,289 - __main__ - DEBUG - Save training fold to ..\\scripts\\..\\experiments\\exp002\\cv_fold3_training.csv (570.542 seconds passed)\n",
      "2021-07-12 04:10:15,321 - __main__ - DEBUG - Save validation fold to ..\\scripts\\..\\experiments\\exp002\\cv_fold3_validation.csv (570.575 seconds passed)\n",
      "2021-07-12 04:10:15,466 - __main__ - DEBUG - Save test result ..\\scripts\\..\\experiments\\exp002\\cv_fold3_test.csv (570.720 seconds passed)\n",
      "2021-07-12 04:10:16,795 - __main__ - DEBUG - Save model ..\\scripts\\..\\experiments\\exp002\\cv_fold3_model.pickle (572.048 seconds passed)\n",
      "2021-07-12 04:10:17,327 - __main__ - DEBUG - Complete fold 3 (572.581 seconds passed)\n",
      "2021-07-12 04:10:17,327 - __main__ - DEBUG - Start fold 4 (572.581 seconds passed)\n",
      "2021-07-12 04:10:24,249 - __main__ - DEBUG - Start training model (579.503 seconds passed)\n",
      "2021-07-12 04:13:06,468 - __main__ - DEBUG - Complete dimension reducing (741.713 seconds passed)\n",
      "2021-07-12 04:13:12,821 - __main__ - DEBUG - Complete training (748.075 seconds passed)\n",
      "2021-07-12 04:13:12,960 - __main__ - DEBUG - Save training fold to ..\\scripts\\..\\experiments\\exp002\\cv_fold4_training.csv (748.214 seconds passed)\n",
      "2021-07-12 04:13:12,999 - __main__ - DEBUG - Save validation fold to ..\\scripts\\..\\experiments\\exp002\\cv_fold4_validation.csv (748.253 seconds passed)\n",
      "2021-07-12 04:13:13,162 - __main__ - DEBUG - Save test result ..\\scripts\\..\\experiments\\exp002\\cv_fold4_test.csv (748.416 seconds passed)\n",
      "2021-07-12 04:13:14,378 - __main__ - DEBUG - Save model ..\\scripts\\..\\experiments\\exp002\\cv_fold4_model.pickle (749.631 seconds passed)\n",
      "2021-07-12 04:13:14,830 - __main__ - DEBUG - Complete fold 4 (750.084 seconds passed)\n",
      "2021-07-12 04:13:14,831 - __main__ - DEBUG - Start fold 5 (750.085 seconds passed)\n",
      "2021-07-12 04:13:20,447 - __main__ - DEBUG - Start training model (755.700 seconds passed)\n",
      "2021-07-12 04:15:59,356 - __main__ - DEBUG - Complete dimension reducing (914.594 seconds passed)\n",
      "2021-07-12 04:16:06,137 - __main__ - DEBUG - Complete training (921.391 seconds passed)\n",
      "2021-07-12 04:16:06,263 - __main__ - DEBUG - Save training fold to ..\\scripts\\..\\experiments\\exp002\\cv_fold5_training.csv (921.517 seconds passed)\n",
      "2021-07-12 04:16:06,294 - __main__ - DEBUG - Save validation fold to ..\\scripts\\..\\experiments\\exp002\\cv_fold5_validation.csv (921.548 seconds passed)\n",
      "2021-07-12 04:16:06,439 - __main__ - DEBUG - Save test result ..\\scripts\\..\\experiments\\exp002\\cv_fold5_test.csv (921.693 seconds passed)\n",
      "2021-07-12 04:16:07,640 - __main__ - DEBUG - Save model ..\\scripts\\..\\experiments\\exp002\\cv_fold5_model.pickle (922.893 seconds passed)\n",
      "2021-07-12 04:16:08,200 - __main__ - DEBUG - Complete fold 5 (923.453 seconds passed)\n"
     ]
    }
   ],
   "source": [
    "for i, (train_index, valid_index) in enumerate(fold_indice):\n",
    "    num_fold = i + 1\n",
    "    logger.debug('Start fold {} ({:.3f} seconds passed)'.format(num_fold, time.time() - SINCE))\n",
    "    # Separate dataset into training/validation fold\n",
    "#     train_index = train_index[:500]\n",
    "    id_train = train.iloc[train_index]['object_id']\n",
    "    X_train = load_photofiles(train.iloc[train_index]['object_id'])\n",
    "    y_train = train.iloc[train_index][TARGET]\n",
    "    id_valid = train.iloc[valid_index]['object_id']\n",
    "    X_valid = load_photofiles(train.iloc[valid_index]['object_id'])\n",
    "    y_valid = train.iloc[valid_index][TARGET]\n",
    "\n",
    "    # Flatten image data (number of images * flattened image size)\n",
    "    X_train = X_train.reshape(X_train.shape[0], -1)\n",
    "    X_valid = X_valid.reshape(X_valid.shape[0], -1)\n",
    "    \n",
    "    # Training\n",
    "    logger.debug('Start training model ({:.3f} seconds passed)'.format(time.time() - SINCE))\n",
    "    ## Dimension reducing\n",
    "    decomposer = PCA(n_components=0.9, random_state=SEED)\n",
    "    decomposer.fit(X_train)\n",
    "    X_train = decomposer.transform(X_train)\n",
    "    X_valid = decomposer.transform(X_valid)\n",
    "    X_test = decomposer.transform(test_images)\n",
    "    logger.debug('Complete dimension reducing ({:.3f} seconds passed)'.format(time.time() - SINCE))\n",
    "    ## train estimator\n",
    "    estimator = lgbm.LGBMClassifier(importance_type='gain', n_estimators=200, random_state=SEED,\n",
    "                                    n_jobs=-1, class_weight='balanced')\n",
    "    estimator.fit(X_train, y_train, feature_name=[f'comp{i + 1}' for i in range(X_train.shape[1])])\n",
    "    logger.debug('Complete training ({:.3f} seconds passed)'.format(time.time() - SINCE))\n",
    "    \n",
    "    # Save model and prediction\n",
    "    ## Training set\n",
    "    pred_train = pd.DataFrame(data=estimator.predict_proba(X_train),\n",
    "                              columns=estimator.classes_)\n",
    "    pred_train['object_id'] = id_train.values\n",
    "    filepath_fold_train = os.path.join(output_dir, f'cv_fold{num_fold}_training.csv')\n",
    "    pred_train.to_csv(filepath_fold_train, index=False)\n",
    "    logger.debug('Save training fold to {} ({:.3f} seconds passed)' \\\n",
    "                .format(filepath_fold_train, time.time() - SINCE))\n",
    "    ## Validation set\n",
    "    pred_valid = pd.DataFrame(data=estimator.predict_proba(X_valid),\n",
    "                              columns=estimator.classes_)\n",
    "    pred_valid['object_id'] = id_valid.values\n",
    "    filepath_fold_valid = os.path.join(output_dir, f'cv_fold{num_fold}_validation.csv')\n",
    "    pred_valid.to_csv(filepath_fold_valid, index=False)\n",
    "    logger.debug('Save validation fold to {} ({:.3f} seconds passed)' \\\n",
    "                .format(filepath_fold_valid, time.time() - SINCE))\n",
    "    ## Test set\n",
    "    pred_test = pd.DataFrame(data=estimator.predict_proba(X_test),\n",
    "                             columns=estimator.classes_)\n",
    "    pred_test['object_id'] = test['object_id'].values\n",
    "    filepath_fold_test = os.path.join(output_dir, f'cv_fold{num_fold}_test.csv')\n",
    "    pred_test.to_csv(filepath_fold_test, index=False)\n",
    "    logger.debug('Save test result {} ({:.3f} seconds passed)' \\\n",
    "                 .format(filepath_fold_test, time.time() - SINCE))\n",
    "    ## Model\n",
    "    filepath_fold_model = os.path.join(output_dir, f'cv_fold{num_fold}_model.pickle')\n",
    "    with open(filepath_fold_model, 'wb') as f:\n",
    "        model = [decomposer, estimator]\n",
    "        pickle.dump(model, f)\n",
    "    logger.debug('Save model {} ({:.3f} seconds passed)'.format(filepath_fold_model, time.time() - SINCE))\n",
    "    \n",
    "    # Save memory\n",
    "    del (model, decomposer, estimator, X_train, X_test, X_valid, y_train, y_valid,\n",
    "         pred_train, pred_valid, pred_test)\n",
    "    gc.collect()\n",
    "\n",
    "    logger.debug('Complete fold {} ({:.3f} seconds passed)'.format(num_fold, time.time() - SINCE))"
   ]
  },
  {
   "cell_type": "markdown",
   "metadata": {},
   "source": [
    "# Evaluation"
   ]
  },
  {
   "cell_type": "code",
   "execution_count": 16,
   "metadata": {},
   "outputs": [],
   "source": [
    "rmse = partial(mean_squared_error, squared=False)"
   ]
  },
  {
   "cell_type": "code",
   "execution_count": 17,
   "metadata": {},
   "outputs": [],
   "source": [
    "qwk = partial(cohen_kappa_score, labels=np.sort(train['target'].unique()), weights='quadratic')"
   ]
  },
  {
   "cell_type": "code",
   "execution_count": 18,
   "metadata": {},
   "outputs": [],
   "source": [
    "@np.vectorize\n",
    "def predict(proba_0: float, proba_1: float, proba_2: float, proba_3: float) -> int:\n",
    "    return np.argmax((proba_0, proba_1, proba_2, proba_3))"
   ]
  },
  {
   "cell_type": "code",
   "execution_count": 19,
   "metadata": {},
   "outputs": [],
   "source": [
    "assert(train['object_id'].duplicated().sum() == 0)\n",
    "train.set_index('object_id', inplace=True)"
   ]
  },
  {
   "cell_type": "code",
   "execution_count": 20,
   "metadata": {},
   "outputs": [],
   "source": [
    "metrics = defaultdict(list)"
   ]
  },
  {
   "cell_type": "markdown",
   "metadata": {},
   "source": [
    "## Training set"
   ]
  },
  {
   "cell_type": "code",
   "execution_count": 21,
   "metadata": {},
   "outputs": [
    {
     "name": "stderr",
     "output_type": "stream",
     "text": [
      "2021-07-12 04:16:08,318 - __main__ - DEBUG - Evaluate cv result (training set) Fold 1\n",
      "2021-07-12 04:16:08,378 - __main__ - DEBUG - Loss: 0.0\n",
      "2021-07-12 04:16:08,378 - __main__ - DEBUG - Score: 1.0\n",
      "2021-07-12 04:16:08,393 - __main__ - DEBUG - Evaluate cv result (training set) Fold 2\n",
      "2021-07-12 04:16:08,428 - __main__ - DEBUG - Loss: 0.0\n",
      "2021-07-12 04:16:08,428 - __main__ - DEBUG - Score: 1.0\n",
      "2021-07-12 04:16:08,428 - __main__ - DEBUG - Evaluate cv result (training set) Fold 3\n",
      "2021-07-12 04:16:08,452 - __main__ - DEBUG - Loss: 0.0\n",
      "2021-07-12 04:16:08,452 - __main__ - DEBUG - Score: 1.0\n",
      "2021-07-12 04:16:08,452 - __main__ - DEBUG - Evaluate cv result (training set) Fold 4\n",
      "2021-07-12 04:16:08,485 - __main__ - DEBUG - Loss: 0.0\n",
      "2021-07-12 04:16:08,500 - __main__ - DEBUG - Score: 1.0\n",
      "2021-07-12 04:16:08,500 - __main__ - DEBUG - Evaluate cv result (training set) Fold 5\n",
      "2021-07-12 04:16:08,533 - __main__ - DEBUG - Loss: 0.0\n",
      "2021-07-12 04:16:08,533 - __main__ - DEBUG - Score: 1.0\n"
     ]
    },
    {
     "name": "stdout",
     "output_type": "stream",
     "text": [
      "[[ 380    0    0    0]\n",
      " [   0  716    0    0]\n",
      " [   0    0 1209    0]\n",
      " [   0    0    0  844]]\n",
      "[[ 380    0    0    0]\n",
      " [   0  717    0    0]\n",
      " [   0    0 1208    0]\n",
      " [   0    0    0  844]]\n",
      "[[ 380    0    0    0]\n",
      " [   0  717    0    0]\n",
      " [   0    0 1209    0]\n",
      " [   0    0    0  844]]\n",
      "[[ 380    0    0    0]\n",
      " [   0  717    0    0]\n",
      " [   0    0 1209    0]\n",
      " [   0    0    0  844]]\n",
      "[[ 380    0    0    0]\n",
      " [   0  717    0    0]\n",
      " [   0    0 1209    0]\n",
      " [   0    0    0  844]]\n"
     ]
    }
   ],
   "source": [
    "pred_train_dfs = []\n",
    "for i in range(N_SPLITS):\n",
    "    num_fold = i + 1\n",
    "    logger.debug('Evaluate cv result (training set) Fold {}'.format(num_fold))\n",
    "    # Read cv result\n",
    "    filepath_fold_train = os.path.join(output_dir, f'cv_fold{num_fold}_training.csv')\n",
    "    pred_train_df = pd.read_csv(filepath_fold_train)\n",
    "    pred_train_df['pred'] = predict(pred_train_df['0'], pred_train_df['1'],\n",
    "                                    pred_train_df['2'], pred_train_df['3'])\n",
    "    pred_train_df['actual'] = train.loc[pred_train_df['object_id'], TARGET].values\n",
    "    print(confusion_matrix(pred_train_df['actual'], pred_train_df['pred'],\n",
    "                           labels=np.sort(train['target'].unique())))\n",
    "    loss = rmse(pred_train_df['actual'], pred_train_df['pred'])\n",
    "    score = qwk(pred_train_df['actual'], pred_train_df['pred'])\n",
    "    logger.debug('Loss: {}'.format(loss))\n",
    "    logger.debug('Score: {}'.format(score))\n",
    "    metrics['train_losses'].append(loss)\n",
    "    metrics['train_scores'].append(score)\n",
    "    pred_train_dfs.append(pred_train_df)\n",
    "\n",
    "metrics['train_losses_avg'] = np.mean(metrics['train_losses'])\n",
    "metrics['train_losses_std'] = np.std(metrics['train_losses'])\n",
    "metrics['train_scores_avg'] = np.mean(metrics['train_scores'])\n",
    "metrics['train_scores_std'] = np.std(metrics['train_scores'])"
   ]
  },
  {
   "cell_type": "code",
   "execution_count": 22,
   "metadata": {},
   "outputs": [
    {
     "data": {
      "text/html": [
       "<div>\n",
       "<style scoped>\n",
       "    .dataframe tbody tr th:only-of-type {\n",
       "        vertical-align: middle;\n",
       "    }\n",
       "\n",
       "    .dataframe tbody tr th {\n",
       "        vertical-align: top;\n",
       "    }\n",
       "\n",
       "    .dataframe thead th {\n",
       "        text-align: right;\n",
       "    }\n",
       "</style>\n",
       "<table border=\"1\" class=\"dataframe\">\n",
       "  <thead>\n",
       "    <tr style=\"text-align: right;\">\n",
       "      <th></th>\n",
       "      <th>0</th>\n",
       "      <th>1</th>\n",
       "      <th>2</th>\n",
       "      <th>3</th>\n",
       "      <th>pred</th>\n",
       "      <th>actual</th>\n",
       "    </tr>\n",
       "    <tr>\n",
       "      <th>object_id</th>\n",
       "      <th></th>\n",
       "      <th></th>\n",
       "      <th></th>\n",
       "      <th></th>\n",
       "      <th></th>\n",
       "      <th></th>\n",
       "    </tr>\n",
       "  </thead>\n",
       "  <tbody>\n",
       "    <tr>\n",
       "      <th>002bff09b09998d0be65</th>\n",
       "      <td>0.00010</td>\n",
       "      <td>0.79762</td>\n",
       "      <td>0.00091</td>\n",
       "      <td>0.00137</td>\n",
       "      <td>1</td>\n",
       "      <td>1</td>\n",
       "    </tr>\n",
       "    <tr>\n",
       "      <th>00309fb1ef05416f9c1f</th>\n",
       "      <td>0.00015</td>\n",
       "      <td>0.00134</td>\n",
       "      <td>0.00207</td>\n",
       "      <td>0.79644</td>\n",
       "      <td>3</td>\n",
       "      <td>3</td>\n",
       "    </tr>\n",
       "    <tr>\n",
       "      <th>003a1562e97f79ba96dc</th>\n",
       "      <td>0.00048</td>\n",
       "      <td>0.00116</td>\n",
       "      <td>0.00116</td>\n",
       "      <td>0.79720</td>\n",
       "      <td>3</td>\n",
       "      <td>3</td>\n",
       "    </tr>\n",
       "    <tr>\n",
       "      <th>004890880e8e7431147b</th>\n",
       "      <td>0.00017</td>\n",
       "      <td>0.00314</td>\n",
       "      <td>0.79408</td>\n",
       "      <td>0.00261</td>\n",
       "      <td>2</td>\n",
       "      <td>2</td>\n",
       "    </tr>\n",
       "    <tr>\n",
       "      <th>00718c32602425f504c1</th>\n",
       "      <td>0.00014</td>\n",
       "      <td>0.00117</td>\n",
       "      <td>0.00347</td>\n",
       "      <td>0.79521</td>\n",
       "      <td>3</td>\n",
       "      <td>3</td>\n",
       "    </tr>\n",
       "    <tr>\n",
       "      <th>...</th>\n",
       "      <td>...</td>\n",
       "      <td>...</td>\n",
       "      <td>...</td>\n",
       "      <td>...</td>\n",
       "      <td>...</td>\n",
       "      <td>...</td>\n",
       "    </tr>\n",
       "    <tr>\n",
       "      <th>ffa3259fff8e6f3818a1</th>\n",
       "      <td>0.00003</td>\n",
       "      <td>0.00068</td>\n",
       "      <td>0.00183</td>\n",
       "      <td>0.79746</td>\n",
       "      <td>3</td>\n",
       "      <td>3</td>\n",
       "    </tr>\n",
       "    <tr>\n",
       "      <th>ffd4d361756587883e48</th>\n",
       "      <td>0.00027</td>\n",
       "      <td>0.79714</td>\n",
       "      <td>0.00135</td>\n",
       "      <td>0.00124</td>\n",
       "      <td>1</td>\n",
       "      <td>1</td>\n",
       "    </tr>\n",
       "    <tr>\n",
       "      <th>ffd794b7b311b7b7fd92</th>\n",
       "      <td>0.00018</td>\n",
       "      <td>0.00065</td>\n",
       "      <td>0.79670</td>\n",
       "      <td>0.00247</td>\n",
       "      <td>2</td>\n",
       "      <td>2</td>\n",
       "    </tr>\n",
       "    <tr>\n",
       "      <th>ffe49bba69d06446de7e</th>\n",
       "      <td>0.00014</td>\n",
       "      <td>0.00139</td>\n",
       "      <td>0.00260</td>\n",
       "      <td>0.79588</td>\n",
       "      <td>3</td>\n",
       "      <td>3</td>\n",
       "    </tr>\n",
       "    <tr>\n",
       "      <th>ffe77db10be3400bed53</th>\n",
       "      <td>0.00011</td>\n",
       "      <td>0.79641</td>\n",
       "      <td>0.00258</td>\n",
       "      <td>0.00091</td>\n",
       "      <td>1</td>\n",
       "      <td>1</td>\n",
       "    </tr>\n",
       "  </tbody>\n",
       "</table>\n",
       "<p>3937 rows × 6 columns</p>\n",
       "</div>"
      ],
      "text/plain": [
       "                           0       1       2       3  pred  actual\n",
       "object_id                                                         \n",
       "002bff09b09998d0be65 0.00010 0.79762 0.00091 0.00137     1       1\n",
       "00309fb1ef05416f9c1f 0.00015 0.00134 0.00207 0.79644     3       3\n",
       "003a1562e97f79ba96dc 0.00048 0.00116 0.00116 0.79720     3       3\n",
       "004890880e8e7431147b 0.00017 0.00314 0.79408 0.00261     2       2\n",
       "00718c32602425f504c1 0.00014 0.00117 0.00347 0.79521     3       3\n",
       "...                      ...     ...     ...     ...   ...     ...\n",
       "ffa3259fff8e6f3818a1 0.00003 0.00068 0.00183 0.79746     3       3\n",
       "ffd4d361756587883e48 0.00027 0.79714 0.00135 0.00124     1       1\n",
       "ffd794b7b311b7b7fd92 0.00018 0.00065 0.79670 0.00247     2       2\n",
       "ffe49bba69d06446de7e 0.00014 0.00139 0.00260 0.79588     3       3\n",
       "ffe77db10be3400bed53 0.00011 0.79641 0.00258 0.00091     1       1\n",
       "\n",
       "[3937 rows x 6 columns]"
      ]
     },
     "execution_count": 22,
     "metadata": {},
     "output_type": "execute_result"
    }
   ],
   "source": [
    "pred_train = pd.concat(pred_train_dfs).groupby('object_id').sum()\n",
    "pred_train = pred_train / N_SPLITS\n",
    "pred_train['pred'] = predict(pred_train['0'], pred_train['1'], pred_train['2'], pred_train['3'])\n",
    "pred_train['actual'] = train.loc[pred_train.index, TARGET].values\n",
    "pred_train"
   ]
  },
  {
   "cell_type": "code",
   "execution_count": 23,
   "metadata": {},
   "outputs": [
    {
     "name": "stderr",
     "output_type": "stream",
     "text": [
      "2021-07-12 04:16:08,589 - __main__ - INFO - Training loss: 0.0\n",
      "2021-07-12 04:16:08,589 - __main__ - INFO - Training score: 1.0\n"
     ]
    },
    {
     "name": "stdout",
     "output_type": "stream",
     "text": [
      "[[ 475    0    0    0]\n",
      " [   0  896    0    0]\n",
      " [   0    0 1511    0]\n",
      " [   0    0    0 1055]]\n"
     ]
    }
   ],
   "source": [
    "print(confusion_matrix(pred_train['actual'], pred_train['pred'], labels=np.sort(train['target'].unique())))\n",
    "loss = rmse(pred_train['actual'], pred_train['pred'])\n",
    "score = qwk(pred_train['actual'], pred_train['pred'])\n",
    "metrics['train_loss'] = loss\n",
    "metrics['train_score'] = score\n",
    "logger.info('Training loss: {}'.format(loss))\n",
    "logger.info('Training score: {}'.format(score))"
   ]
  },
  {
   "cell_type": "code",
   "execution_count": 24,
   "metadata": {},
   "outputs": [
    {
     "name": "stderr",
     "output_type": "stream",
     "text": [
      "2021-07-12 04:16:08,636 - __main__ - DEBUG - Write cv result to ..\\scripts\\..\\experiments\\exp002\\prediction_train.csv\n"
     ]
    }
   ],
   "source": [
    "pred_train.to_csv(os.path.join(output_dir, 'prediction_train.csv'))\n",
    "logger.debug('Write cv result to {}'.format(os.path.join(output_dir, 'prediction_train.csv')))"
   ]
  },
  {
   "cell_type": "markdown",
   "metadata": {},
   "source": [
    "## Validation set"
   ]
  },
  {
   "cell_type": "code",
   "execution_count": 25,
   "metadata": {},
   "outputs": [
    {
     "name": "stderr",
     "output_type": "stream",
     "text": [
      "2021-07-12 04:16:08,644 - __main__ - DEBUG - Evaluate cv result (validation set) Fold 1\n",
      "2021-07-12 04:16:08,657 - __main__ - DEBUG - Loss: 1.1219996652098272\n",
      "2021-07-12 04:16:08,657 - __main__ - DEBUG - Score: 0.22362835672954873\n",
      "2021-07-12 04:16:08,673 - __main__ - DEBUG - Evaluate cv result (validation set) Fold 2\n",
      "2021-07-12 04:16:08,676 - __main__ - DEBUG - Loss: 1.0728537777471803\n",
      "2021-07-12 04:16:08,676 - __main__ - DEBUG - Score: 0.2743174858461064\n",
      "2021-07-12 04:16:08,692 - __main__ - DEBUG - Evaluate cv result (validation set) Fold 3\n",
      "2021-07-12 04:16:08,696 - __main__ - DEBUG - Loss: 1.0835491590961117\n",
      "2021-07-12 04:16:08,696 - __main__ - DEBUG - Score: 0.2927837858865635\n",
      "2021-07-12 04:16:08,696 - __main__ - DEBUG - Evaluate cv result (validation set) Fold 4\n",
      "2021-07-12 04:16:08,718 - __main__ - DEBUG - Loss: 1.1141916916734549\n",
      "2021-07-12 04:16:08,718 - __main__ - DEBUG - Score: 0.2564479459698342\n",
      "2021-07-12 04:16:08,718 - __main__ - DEBUG - Evaluate cv result (validation set) Fold 5\n",
      "2021-07-12 04:16:08,734 - __main__ - DEBUG - Loss: 1.0207504028930643\n",
      "2021-07-12 04:16:08,734 - __main__ - DEBUG - Score: 0.34551554316915967\n"
     ]
    },
    {
     "name": "stdout",
     "output_type": "stream",
     "text": [
      "[[ 13  21  35  26]\n",
      " [ 13  43  83  41]\n",
      " [  2  37 199  64]\n",
      " [  7  20  85  99]]\n",
      "[[  8  36  24  27]\n",
      " [  6  48  83  42]\n",
      " [  5  34 212  52]\n",
      " [  3  16  78 114]]\n",
      "[[ 13  22  30  30]\n",
      " [  8  57  72  42]\n",
      " [  2  43 182  75]\n",
      " [  1  14  73 123]]\n",
      "[[ 12  23  29  31]\n",
      " [  6  49  76  48]\n",
      " [  4  38 180  80]\n",
      " [  1  18  70 122]]\n",
      "[[ 16  24  38  17]\n",
      " [  5  52  84  38]\n",
      " [  1  36 204  61]\n",
      " [  1  17  72 121]]\n"
     ]
    }
   ],
   "source": [
    "pred_valid_dfs = []\n",
    "for i in range(N_SPLITS):\n",
    "    num_fold = i + 1\n",
    "    logger.debug('Evaluate cv result (validation set) Fold {}'.format(num_fold))\n",
    "    # Read cv result\n",
    "    filepath_fold_valid = os.path.join(output_dir, f'cv_fold{num_fold}_validation.csv')\n",
    "    pred_valid_df = pd.read_csv(filepath_fold_valid)\n",
    "    pred_valid_df['pred'] = predict(pred_valid_df['0'], pred_valid_df['1'],\n",
    "                                    pred_valid_df['2'], pred_valid_df['3'])\n",
    "    pred_valid_df['actual'] = train.loc[pred_valid_df['object_id'], TARGET].values\n",
    "    print(confusion_matrix(pred_valid_df['actual'], pred_valid_df['pred'],\n",
    "                           labels=np.sort(train['target'].unique())))\n",
    "    loss = rmse(pred_valid_df['actual'], pred_valid_df['pred'])\n",
    "    score = qwk(pred_valid_df['actual'], pred_valid_df['pred'])\n",
    "    logger.debug('Loss: {}'.format(loss))\n",
    "    logger.debug('Score: {}'.format(score))\n",
    "    metrics['valid_losses'].append(loss)\n",
    "    metrics['valid_scores'].append(score)\n",
    "    pred_valid_dfs.append(pred_valid_df)\n",
    "    \n",
    "metrics['valid_losses_avg'] = np.mean(metrics['valid_losses'])\n",
    "metrics['valid_losses_std'] = np.std(metrics['valid_losses'])\n",
    "metrics['valid_scores_avg'] = np.mean(metrics['valid_scores'])\n",
    "metrics['valid_scores_std'] = np.std(metrics['valid_scores'])"
   ]
  },
  {
   "cell_type": "code",
   "execution_count": 26,
   "metadata": {},
   "outputs": [
    {
     "data": {
      "text/html": [
       "<div>\n",
       "<style scoped>\n",
       "    .dataframe tbody tr th:only-of-type {\n",
       "        vertical-align: middle;\n",
       "    }\n",
       "\n",
       "    .dataframe tbody tr th {\n",
       "        vertical-align: top;\n",
       "    }\n",
       "\n",
       "    .dataframe thead th {\n",
       "        text-align: right;\n",
       "    }\n",
       "</style>\n",
       "<table border=\"1\" class=\"dataframe\">\n",
       "  <thead>\n",
       "    <tr style=\"text-align: right;\">\n",
       "      <th></th>\n",
       "      <th>0</th>\n",
       "      <th>1</th>\n",
       "      <th>2</th>\n",
       "      <th>3</th>\n",
       "      <th>pred</th>\n",
       "      <th>actual</th>\n",
       "    </tr>\n",
       "    <tr>\n",
       "      <th>object_id</th>\n",
       "      <th></th>\n",
       "      <th></th>\n",
       "      <th></th>\n",
       "      <th></th>\n",
       "      <th></th>\n",
       "      <th></th>\n",
       "    </tr>\n",
       "  </thead>\n",
       "  <tbody>\n",
       "    <tr>\n",
       "      <th>002bff09b09998d0be65</th>\n",
       "      <td>0.01116</td>\n",
       "      <td>0.09444</td>\n",
       "      <td>0.05781</td>\n",
       "      <td>0.03659</td>\n",
       "      <td>1</td>\n",
       "      <td>1</td>\n",
       "    </tr>\n",
       "    <tr>\n",
       "      <th>00309fb1ef05416f9c1f</th>\n",
       "      <td>0.00527</td>\n",
       "      <td>0.10044</td>\n",
       "      <td>0.03925</td>\n",
       "      <td>0.05504</td>\n",
       "      <td>1</td>\n",
       "      <td>3</td>\n",
       "    </tr>\n",
       "    <tr>\n",
       "      <th>003a1562e97f79ba96dc</th>\n",
       "      <td>0.01140</td>\n",
       "      <td>0.01707</td>\n",
       "      <td>0.00665</td>\n",
       "      <td>0.16488</td>\n",
       "      <td>3</td>\n",
       "      <td>3</td>\n",
       "    </tr>\n",
       "    <tr>\n",
       "      <th>004890880e8e7431147b</th>\n",
       "      <td>0.00234</td>\n",
       "      <td>0.03405</td>\n",
       "      <td>0.12960</td>\n",
       "      <td>0.03401</td>\n",
       "      <td>2</td>\n",
       "      <td>2</td>\n",
       "    </tr>\n",
       "    <tr>\n",
       "      <th>00718c32602425f504c1</th>\n",
       "      <td>0.00169</td>\n",
       "      <td>0.07210</td>\n",
       "      <td>0.09925</td>\n",
       "      <td>0.02696</td>\n",
       "      <td>2</td>\n",
       "      <td>3</td>\n",
       "    </tr>\n",
       "    <tr>\n",
       "      <th>...</th>\n",
       "      <td>...</td>\n",
       "      <td>...</td>\n",
       "      <td>...</td>\n",
       "      <td>...</td>\n",
       "      <td>...</td>\n",
       "      <td>...</td>\n",
       "    </tr>\n",
       "    <tr>\n",
       "      <th>ffa3259fff8e6f3818a1</th>\n",
       "      <td>0.00082</td>\n",
       "      <td>0.01993</td>\n",
       "      <td>0.02155</td>\n",
       "      <td>0.15771</td>\n",
       "      <td>3</td>\n",
       "      <td>3</td>\n",
       "    </tr>\n",
       "    <tr>\n",
       "      <th>ffd4d361756587883e48</th>\n",
       "      <td>0.01084</td>\n",
       "      <td>0.04873</td>\n",
       "      <td>0.02947</td>\n",
       "      <td>0.11096</td>\n",
       "      <td>3</td>\n",
       "      <td>1</td>\n",
       "    </tr>\n",
       "    <tr>\n",
       "      <th>ffd794b7b311b7b7fd92</th>\n",
       "      <td>0.00536</td>\n",
       "      <td>0.02356</td>\n",
       "      <td>0.14753</td>\n",
       "      <td>0.02355</td>\n",
       "      <td>2</td>\n",
       "      <td>2</td>\n",
       "    </tr>\n",
       "    <tr>\n",
       "      <th>ffe49bba69d06446de7e</th>\n",
       "      <td>0.00425</td>\n",
       "      <td>0.01490</td>\n",
       "      <td>0.14933</td>\n",
       "      <td>0.03152</td>\n",
       "      <td>2</td>\n",
       "      <td>3</td>\n",
       "    </tr>\n",
       "    <tr>\n",
       "      <th>ffe77db10be3400bed53</th>\n",
       "      <td>0.00015</td>\n",
       "      <td>0.01590</td>\n",
       "      <td>0.17308</td>\n",
       "      <td>0.01087</td>\n",
       "      <td>2</td>\n",
       "      <td>1</td>\n",
       "    </tr>\n",
       "  </tbody>\n",
       "</table>\n",
       "<p>3937 rows × 6 columns</p>\n",
       "</div>"
      ],
      "text/plain": [
       "                           0       1       2       3  pred  actual\n",
       "object_id                                                         \n",
       "002bff09b09998d0be65 0.01116 0.09444 0.05781 0.03659     1       1\n",
       "00309fb1ef05416f9c1f 0.00527 0.10044 0.03925 0.05504     1       3\n",
       "003a1562e97f79ba96dc 0.01140 0.01707 0.00665 0.16488     3       3\n",
       "004890880e8e7431147b 0.00234 0.03405 0.12960 0.03401     2       2\n",
       "00718c32602425f504c1 0.00169 0.07210 0.09925 0.02696     2       3\n",
       "...                      ...     ...     ...     ...   ...     ...\n",
       "ffa3259fff8e6f3818a1 0.00082 0.01993 0.02155 0.15771     3       3\n",
       "ffd4d361756587883e48 0.01084 0.04873 0.02947 0.11096     3       1\n",
       "ffd794b7b311b7b7fd92 0.00536 0.02356 0.14753 0.02355     2       2\n",
       "ffe49bba69d06446de7e 0.00425 0.01490 0.14933 0.03152     2       3\n",
       "ffe77db10be3400bed53 0.00015 0.01590 0.17308 0.01087     2       1\n",
       "\n",
       "[3937 rows x 6 columns]"
      ]
     },
     "execution_count": 26,
     "metadata": {},
     "output_type": "execute_result"
    }
   ],
   "source": [
    "pred_valid = pd.concat(pred_valid_dfs).groupby('object_id').sum()\n",
    "pred_valid = pred_valid / N_SPLITS\n",
    "pred_valid['pred'] = predict(pred_valid['0'], pred_valid['1'], pred_valid['2'], pred_valid['3'])\n",
    "pred_valid['actual'] = train.loc[pred_valid.index, TARGET].values\n",
    "pred_valid"
   ]
  },
  {
   "cell_type": "code",
   "execution_count": 27,
   "metadata": {},
   "outputs": [
    {
     "name": "stderr",
     "output_type": "stream",
     "text": [
      "2021-07-12 04:16:08,794 - __main__ - INFO - Validatino loss: 1.0832739020971076\n",
      "2021-07-12 04:16:08,794 - __main__ - INFO - Validatino score: 0.27824250100254355\n"
     ]
    },
    {
     "name": "stdout",
     "output_type": "stream",
     "text": [
      "[[ 62 126 156 131]\n",
      " [ 38 249 398 211]\n",
      " [ 14 188 977 332]\n",
      " [ 13  85 378 579]]\n"
     ]
    }
   ],
   "source": [
    "print(confusion_matrix(pred_valid['actual'], pred_valid['pred'], labels=np.sort(train['target'].unique())))\n",
    "loss = rmse(pred_valid['actual'], pred_valid['pred'])\n",
    "score = qwk(pred_valid['actual'], pred_valid['pred'])\n",
    "metrics['valid_loss'] = loss\n",
    "metrics['valid_score'] = score\n",
    "logger.info('Validatino loss: {}'.format(loss))\n",
    "logger.info('Validatino score: {}'.format(score))"
   ]
  },
  {
   "cell_type": "code",
   "execution_count": 28,
   "metadata": {},
   "outputs": [
    {
     "name": "stderr",
     "output_type": "stream",
     "text": [
      "2021-07-12 04:16:08,841 - __main__ - DEBUG - Write cv result to ..\\scripts\\..\\experiments\\exp002\\prediction_valid.csv\n"
     ]
    }
   ],
   "source": [
    "pred_valid.to_csv(os.path.join(output_dir, 'prediction_valid.csv'))\n",
    "logger.debug('Write cv result to {}'.format(os.path.join(output_dir, 'prediction_valid.csv')))"
   ]
  },
  {
   "cell_type": "code",
   "execution_count": 29,
   "metadata": {},
   "outputs": [
    {
     "name": "stderr",
     "output_type": "stream",
     "text": [
      "2021-07-12 04:16:08,851 - __main__ - DEBUG - Write metrics to ..\\scripts\\..\\experiments\\exp002\\metrics.json\n"
     ]
    }
   ],
   "source": [
    "with open(os.path.join(output_dir, 'metrics.json'), 'w') as f:\n",
    "    json.dump(dict(metrics), f)\n",
    "logger.debug('Write metrics to {}'.format(os.path.join(output_dir, 'metrics.json')))"
   ]
  },
  {
   "cell_type": "markdown",
   "metadata": {},
   "source": [
    "# Prediction"
   ]
  },
  {
   "cell_type": "code",
   "execution_count": 30,
   "metadata": {},
   "outputs": [],
   "source": [
    "pred_test_dfs = []\n",
    "for i in range(N_SPLITS):\n",
    "    num_fold = i + 1\n",
    "    # Read cv result\n",
    "    filepath_fold_test = os.path.join(output_dir, f'cv_fold{num_fold}_test.csv')\n",
    "    pred_test_df = pd.read_csv(filepath_fold_test)\n",
    "    pred_test_dfs.append(pred_test_df)"
   ]
  },
  {
   "cell_type": "code",
   "execution_count": 31,
   "metadata": {},
   "outputs": [
    {
     "data": {
      "text/html": [
       "<div>\n",
       "<style scoped>\n",
       "    .dataframe tbody tr th:only-of-type {\n",
       "        vertical-align: middle;\n",
       "    }\n",
       "\n",
       "    .dataframe tbody tr th {\n",
       "        vertical-align: top;\n",
       "    }\n",
       "\n",
       "    .dataframe thead th {\n",
       "        text-align: right;\n",
       "    }\n",
       "</style>\n",
       "<table border=\"1\" class=\"dataframe\">\n",
       "  <thead>\n",
       "    <tr style=\"text-align: right;\">\n",
       "      <th></th>\n",
       "      <th>0</th>\n",
       "      <th>1</th>\n",
       "      <th>2</th>\n",
       "      <th>3</th>\n",
       "      <th>pred</th>\n",
       "    </tr>\n",
       "    <tr>\n",
       "      <th>object_id</th>\n",
       "      <th></th>\n",
       "      <th></th>\n",
       "      <th></th>\n",
       "      <th></th>\n",
       "      <th></th>\n",
       "    </tr>\n",
       "  </thead>\n",
       "  <tbody>\n",
       "    <tr>\n",
       "      <th>0009e50b94be36ccad39</th>\n",
       "      <td>0.01143</td>\n",
       "      <td>0.66651</td>\n",
       "      <td>0.18971</td>\n",
       "      <td>0.13235</td>\n",
       "      <td>1</td>\n",
       "    </tr>\n",
       "    <tr>\n",
       "      <th>000bd5e82eb22f199f44</th>\n",
       "      <td>0.01396</td>\n",
       "      <td>0.38373</td>\n",
       "      <td>0.30663</td>\n",
       "      <td>0.29568</td>\n",
       "      <td>1</td>\n",
       "    </tr>\n",
       "    <tr>\n",
       "      <th>0015f44de1854f617516</th>\n",
       "      <td>0.05931</td>\n",
       "      <td>0.27908</td>\n",
       "      <td>0.52891</td>\n",
       "      <td>0.13269</td>\n",
       "      <td>2</td>\n",
       "    </tr>\n",
       "    <tr>\n",
       "      <th>00388a678879ba1efa27</th>\n",
       "      <td>0.01102</td>\n",
       "      <td>0.15063</td>\n",
       "      <td>0.39427</td>\n",
       "      <td>0.44407</td>\n",
       "      <td>3</td>\n",
       "    </tr>\n",
       "    <tr>\n",
       "      <th>005e1e7c6496902d23f3</th>\n",
       "      <td>0.08245</td>\n",
       "      <td>0.43057</td>\n",
       "      <td>0.40075</td>\n",
       "      <td>0.08623</td>\n",
       "      <td>1</td>\n",
       "    </tr>\n",
       "    <tr>\n",
       "      <th>...</th>\n",
       "      <td>...</td>\n",
       "      <td>...</td>\n",
       "      <td>...</td>\n",
       "      <td>...</td>\n",
       "      <td>...</td>\n",
       "    </tr>\n",
       "    <tr>\n",
       "      <th>ffbe65ad399b632dcbd0</th>\n",
       "      <td>0.00059</td>\n",
       "      <td>0.00284</td>\n",
       "      <td>0.07389</td>\n",
       "      <td>0.92268</td>\n",
       "      <td>3</td>\n",
       "    </tr>\n",
       "    <tr>\n",
       "      <th>ffd7b2d646c0320c311a</th>\n",
       "      <td>0.06562</td>\n",
       "      <td>0.48811</td>\n",
       "      <td>0.43459</td>\n",
       "      <td>0.01168</td>\n",
       "      <td>1</td>\n",
       "    </tr>\n",
       "    <tr>\n",
       "      <th>ffdb93ede17d4501e530</th>\n",
       "      <td>0.00112</td>\n",
       "      <td>0.20288</td>\n",
       "      <td>0.64883</td>\n",
       "      <td>0.14718</td>\n",
       "      <td>2</td>\n",
       "    </tr>\n",
       "    <tr>\n",
       "      <th>ffe111402004b0ed46b4</th>\n",
       "      <td>0.01303</td>\n",
       "      <td>0.08581</td>\n",
       "      <td>0.85119</td>\n",
       "      <td>0.04997</td>\n",
       "      <td>2</td>\n",
       "    </tr>\n",
       "    <tr>\n",
       "      <th>fffdb3c248a7dcd3cccf</th>\n",
       "      <td>0.12491</td>\n",
       "      <td>0.35418</td>\n",
       "      <td>0.48843</td>\n",
       "      <td>0.03248</td>\n",
       "      <td>2</td>\n",
       "    </tr>\n",
       "  </tbody>\n",
       "</table>\n",
       "<p>5919 rows × 5 columns</p>\n",
       "</div>"
      ],
      "text/plain": [
       "                           0       1       2       3  pred\n",
       "object_id                                                 \n",
       "0009e50b94be36ccad39 0.01143 0.66651 0.18971 0.13235     1\n",
       "000bd5e82eb22f199f44 0.01396 0.38373 0.30663 0.29568     1\n",
       "0015f44de1854f617516 0.05931 0.27908 0.52891 0.13269     2\n",
       "00388a678879ba1efa27 0.01102 0.15063 0.39427 0.44407     3\n",
       "005e1e7c6496902d23f3 0.08245 0.43057 0.40075 0.08623     1\n",
       "...                      ...     ...     ...     ...   ...\n",
       "ffbe65ad399b632dcbd0 0.00059 0.00284 0.07389 0.92268     3\n",
       "ffd7b2d646c0320c311a 0.06562 0.48811 0.43459 0.01168     1\n",
       "ffdb93ede17d4501e530 0.00112 0.20288 0.64883 0.14718     2\n",
       "ffe111402004b0ed46b4 0.01303 0.08581 0.85119 0.04997     2\n",
       "fffdb3c248a7dcd3cccf 0.12491 0.35418 0.48843 0.03248     2\n",
       "\n",
       "[5919 rows x 5 columns]"
      ]
     },
     "execution_count": 31,
     "metadata": {},
     "output_type": "execute_result"
    }
   ],
   "source": [
    "pred_test = pd.concat(pred_test_dfs).groupby('object_id').sum()\n",
    "pred_test = pred_test / N_SPLITS\n",
    "pred_test['pred'] = predict(pred_test['0'], pred_test['1'], pred_test['2'], pred_test['3'])\n",
    "pred_test"
   ]
  },
  {
   "cell_type": "code",
   "execution_count": 32,
   "metadata": {},
   "outputs": [
    {
     "data": {
      "text/html": [
       "<div>\n",
       "<style scoped>\n",
       "    .dataframe tbody tr th:only-of-type {\n",
       "        vertical-align: middle;\n",
       "    }\n",
       "\n",
       "    .dataframe tbody tr th {\n",
       "        vertical-align: top;\n",
       "    }\n",
       "\n",
       "    .dataframe thead th {\n",
       "        text-align: right;\n",
       "    }\n",
       "</style>\n",
       "<table border=\"1\" class=\"dataframe\">\n",
       "  <thead>\n",
       "    <tr style=\"text-align: right;\">\n",
       "      <th></th>\n",
       "      <th>target</th>\n",
       "    </tr>\n",
       "  </thead>\n",
       "  <tbody>\n",
       "    <tr>\n",
       "      <th>0</th>\n",
       "      <td>1</td>\n",
       "    </tr>\n",
       "    <tr>\n",
       "      <th>1</th>\n",
       "      <td>1</td>\n",
       "    </tr>\n",
       "    <tr>\n",
       "      <th>2</th>\n",
       "      <td>2</td>\n",
       "    </tr>\n",
       "    <tr>\n",
       "      <th>3</th>\n",
       "      <td>3</td>\n",
       "    </tr>\n",
       "    <tr>\n",
       "      <th>4</th>\n",
       "      <td>1</td>\n",
       "    </tr>\n",
       "    <tr>\n",
       "      <th>...</th>\n",
       "      <td>...</td>\n",
       "    </tr>\n",
       "    <tr>\n",
       "      <th>5914</th>\n",
       "      <td>3</td>\n",
       "    </tr>\n",
       "    <tr>\n",
       "      <th>5915</th>\n",
       "      <td>1</td>\n",
       "    </tr>\n",
       "    <tr>\n",
       "      <th>5916</th>\n",
       "      <td>2</td>\n",
       "    </tr>\n",
       "    <tr>\n",
       "      <th>5917</th>\n",
       "      <td>2</td>\n",
       "    </tr>\n",
       "    <tr>\n",
       "      <th>5918</th>\n",
       "      <td>2</td>\n",
       "    </tr>\n",
       "  </tbody>\n",
       "</table>\n",
       "<p>5919 rows × 1 columns</p>\n",
       "</div>"
      ],
      "text/plain": [
       "      target\n",
       "0          1\n",
       "1          1\n",
       "2          2\n",
       "3          3\n",
       "4          1\n",
       "...      ...\n",
       "5914       3\n",
       "5915       1\n",
       "5916       2\n",
       "5917       2\n",
       "5918       2\n",
       "\n",
       "[5919 rows x 1 columns]"
      ]
     },
     "execution_count": 32,
     "metadata": {},
     "output_type": "execute_result"
    }
   ],
   "source": [
    "test['target'] = pred_test.loc[test['object_id'], 'pred'].values\n",
    "test = test[['target']]\n",
    "test"
   ]
  },
  {
   "cell_type": "code",
   "execution_count": 33,
   "metadata": {},
   "outputs": [
    {
     "data": {
      "text/html": [
       "<div>\n",
       "<style scoped>\n",
       "    .dataframe tbody tr th:only-of-type {\n",
       "        vertical-align: middle;\n",
       "    }\n",
       "\n",
       "    .dataframe tbody tr th {\n",
       "        vertical-align: top;\n",
       "    }\n",
       "\n",
       "    .dataframe thead th {\n",
       "        text-align: right;\n",
       "    }\n",
       "</style>\n",
       "<table border=\"1\" class=\"dataframe\">\n",
       "  <thead>\n",
       "    <tr style=\"text-align: right;\">\n",
       "      <th></th>\n",
       "      <th>target</th>\n",
       "    </tr>\n",
       "  </thead>\n",
       "  <tbody>\n",
       "    <tr>\n",
       "      <th>0</th>\n",
       "      <td>3</td>\n",
       "    </tr>\n",
       "    <tr>\n",
       "      <th>1</th>\n",
       "      <td>1</td>\n",
       "    </tr>\n",
       "    <tr>\n",
       "      <th>2</th>\n",
       "      <td>3</td>\n",
       "    </tr>\n",
       "    <tr>\n",
       "      <th>3</th>\n",
       "      <td>3</td>\n",
       "    </tr>\n",
       "    <tr>\n",
       "      <th>4</th>\n",
       "      <td>0</td>\n",
       "    </tr>\n",
       "    <tr>\n",
       "      <th>...</th>\n",
       "      <td>...</td>\n",
       "    </tr>\n",
       "    <tr>\n",
       "      <th>5914</th>\n",
       "      <td>2</td>\n",
       "    </tr>\n",
       "    <tr>\n",
       "      <th>5915</th>\n",
       "      <td>1</td>\n",
       "    </tr>\n",
       "    <tr>\n",
       "      <th>5916</th>\n",
       "      <td>1</td>\n",
       "    </tr>\n",
       "    <tr>\n",
       "      <th>5917</th>\n",
       "      <td>3</td>\n",
       "    </tr>\n",
       "    <tr>\n",
       "      <th>5918</th>\n",
       "      <td>3</td>\n",
       "    </tr>\n",
       "  </tbody>\n",
       "</table>\n",
       "<p>5919 rows × 1 columns</p>\n",
       "</div>"
      ],
      "text/plain": [
       "      target\n",
       "0          3\n",
       "1          1\n",
       "2          3\n",
       "3          3\n",
       "4          0\n",
       "...      ...\n",
       "5914       2\n",
       "5915       1\n",
       "5916       1\n",
       "5917       3\n",
       "5918       3\n",
       "\n",
       "[5919 rows x 1 columns]"
      ]
     },
     "execution_count": 33,
     "metadata": {},
     "output_type": "execute_result"
    }
   ],
   "source": [
    "sample_submission"
   ]
  },
  {
   "cell_type": "code",
   "execution_count": 34,
   "metadata": {},
   "outputs": [
    {
     "name": "stderr",
     "output_type": "stream",
     "text": [
      "2021-07-12 04:16:09,050 - __main__ - DEBUG - Write submission to ..\\scripts\\..\\experiments\\exp002\\002_submission.csv\n"
     ]
    }
   ],
   "source": [
    "test.to_csv(os.path.join(output_dir, f'{str(EXP_NO).zfill(3)}_submission.csv'), index=False)\n",
    "logger.debug('Write submission to {}'.format(os.path.join(output_dir, f'{str(EXP_NO).zfill(3)}_submission.csv')))"
   ]
  },
  {
   "cell_type": "code",
   "execution_count": 35,
   "metadata": {},
   "outputs": [
    {
     "name": "stderr",
     "output_type": "stream",
     "text": [
      "2021-07-12 04:16:09,157 - __main__ - DEBUG - Write figure to ..\\scripts\\..\\experiments\\exp002\\prediction.png\n"
     ]
    },
    {
     "data": {
      "image/png": "[encoded data removed]",
      "text/plain": [
       "<Figure size 432x288 with 1 Axes>"
      ]
     },
     "metadata": {
      "needs_background": "light"
     },
     "output_type": "display_data"
    }
   ],
   "source": [
    "fig = plt.figure()\n",
    "sns.countplot(data=test, x='target')\n",
    "sns.despine()\n",
    "fig.savefig(os.path.join(output_dir, 'prediction.png'))\n",
    "logger.debug('Write figure to {}'.format(os.path.join(output_dir, 'prediction.png')))"
   ]
  },
  {
   "cell_type": "code",
   "execution_count": 36,
   "metadata": {},
   "outputs": [
    {
     "name": "stderr",
     "output_type": "stream",
     "text": [
      "2021-07-12 04:16:09,215 - __main__ - DEBUG - Complete (924.468 seconds passed)\n"
     ]
    }
   ],
   "source": [
    "logger.debug('Complete ({:.3f} seconds passed)'.format(time.time() - SINCE))"
   ]
  }
 ],
 "metadata": {
  "kernelspec": {
   "display_name": "Python 3 (ipykernel)",
   "language": "python",
   "name": "python3"
  },
  "language_info": {
   "codemirror_mode": {
    "name": "ipython",
    "version": 3
   },
   "file_extension": ".py",
   "mimetype": "text/x-python",
   "name": "python",
   "nbconvert_exporter": "python",
   "pygments_lexer": "ipython3",
   "version": "3.9.0"
  }
 },
 "nbformat": 4,
 "nbformat_minor": 4
}
