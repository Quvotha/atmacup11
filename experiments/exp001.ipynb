{
 "cells": [
  {
   "cell_type": "markdown",
   "metadata": {},
   "source": [
    "# Settings"
   ]
  },
  {
   "cell_type": "code",
   "execution_count": 1,
   "metadata": {},
   "outputs": [],
   "source": [
    "EXP_NO = 1\n",
    "SEED = 1\n",
    "N_SPLITS = 5\n",
    "CV = 'GroupKFold'\n",
    "TARGET = 'target'\n",
    "GROUP = 'art_series_id'"
   ]
  },
  {
   "cell_type": "markdown",
   "metadata": {},
   "source": [
    "# Library"
   ]
  },
  {
   "cell_type": "code",
   "execution_count": 2,
   "metadata": {},
   "outputs": [],
   "source": [
    "from collections import defaultdict\n",
    "from functools import partial\n",
    "import gc\n",
    "import glob\n",
    "import json\n",
    "from logging import getLogger, StreamHandler, FileHandler, DEBUG, Formatter\n",
    "import pickle\n",
    "import os\n",
    "import sys\n",
    "import time\n",
    "\n",
    "import lightgbm as lgbm\n",
    "import matplotlib.pyplot as plt\n",
    "import numpy as np\n",
    "import pandas as pd\n",
    "import seaborn as sns\n",
    "from sklearn.decomposition import PCA\n",
    "from sklearn.metrics import confusion_matrix, mean_squared_error, cohen_kappa_score\n",
    "from sklearn.model_selection import GroupKFold, StratifiedKFold\n",
    "from sklearn.pipeline import Pipeline\n",
    "\n",
    "SCRIPTS_DIR = os.path.join('..', 'scripts')\n",
    "assert(os.path.dirname(SCRIPTS_DIR))\n",
    "if SCRIPTS_DIR not in sys.path: sys.path.append(SCRIPTS_DIR)\n",
    "from folder import experiment_dir_of\n",
    "from dataset import load_csvfiles, load_photofiles"
   ]
  },
  {
   "cell_type": "code",
   "execution_count": 3,
   "metadata": {},
   "outputs": [],
   "source": [
    "pd.options.display.float_format = '{:.5f}'.format"
   ]
  },
  {
   "cell_type": "markdown",
   "metadata": {},
   "source": [
    "# Prepare directory"
   ]
  },
  {
   "cell_type": "code",
   "execution_count": 4,
   "metadata": {},
   "outputs": [],
   "source": [
    "output_dir = experiment_dir_of(EXP_NO)"
   ]
  },
  {
   "cell_type": "code",
   "execution_count": 5,
   "metadata": {},
   "outputs": [
    {
     "data": {
      "text/plain": [
       "'..\\\\scripts\\\\..\\\\experiments\\\\exp001'"
      ]
     },
     "execution_count": 5,
     "metadata": {},
     "output_type": "execute_result"
    }
   ],
   "source": [
    "output_dir"
   ]
  },
  {
   "cell_type": "markdown",
   "metadata": {},
   "source": [
    "# Prepare logger"
   ]
  },
  {
   "cell_type": "code",
   "execution_count": 6,
   "metadata": {},
   "outputs": [],
   "source": [
    "logger = getLogger(__name__)"
   ]
  },
  {
   "cell_type": "code",
   "execution_count": 7,
   "metadata": {},
   "outputs": [
    {
     "data": {
      "text/plain": [
       "2"
      ]
     },
     "execution_count": 7,
     "metadata": {},
     "output_type": "execute_result"
    }
   ],
   "source": [
    "'''Refference\n",
    "https://docs.python.org/ja/3/howto/logging-cookbook.html\n",
    "'''\n",
    "logger.setLevel(DEBUG)\n",
    "# create file handler which logs even debug messages\n",
    "fh = FileHandler(os.path.join(output_dir, 'log.log'))\n",
    "fh.setLevel(DEBUG)\n",
    "# create console handler with a higher log level\n",
    "ch = StreamHandler()\n",
    "ch.setLevel(DEBUG)\n",
    "# create formatter and add it to the handlers\n",
    "formatter = Formatter('%(asctime)s - %(name)s - %(levelname)s - %(message)s')\n",
    "fh.setFormatter(formatter)\n",
    "ch.setFormatter(formatter)\n",
    "# add the handlers to the logger\n",
    "logger.addHandler(fh)\n",
    "logger.addHandler(ch)\n",
    "len(logger.handlers)"
   ]
  },
  {
   "cell_type": "code",
   "execution_count": 8,
   "metadata": {},
   "outputs": [
    {
     "name": "stderr",
     "output_type": "stream",
     "text": [
      "2021-07-12 03:25:53,949 - __main__ - INFO - Experiment no: 1\n",
      "2021-07-12 03:25:53,952 - __main__ - INFO - CV: GroupKFold\n",
      "2021-07-12 03:25:53,953 - __main__ - INFO - SEED: 1\n"
     ]
    }
   ],
   "source": [
    "logger.info('Experiment no: {}'.format(EXP_NO))\n",
    "logger.info('CV: {}'.format(CV))\n",
    "logger.info('SEED: {}'.format(SEED))"
   ]
  },
  {
   "cell_type": "markdown",
   "metadata": {},
   "source": [
    "# Load csv files"
   ]
  },
  {
   "cell_type": "code",
   "execution_count": 9,
   "metadata": {},
   "outputs": [],
   "source": [
    "SINCE = time.time()"
   ]
  },
  {
   "cell_type": "code",
   "execution_count": 10,
   "metadata": {},
   "outputs": [
    {
     "name": "stderr",
     "output_type": "stream",
     "text": [
      "2021-07-12 03:25:53,982 - __main__ - DEBUG - Start loading csv files (0.017 seconds passed)\n",
      "2021-07-12 03:25:54,004 - __main__ - DEBUG - Complete loading csv files (0.039 seconds passed)\n"
     ]
    }
   ],
   "source": [
    "logger.debug('Start loading csv files ({:.3f} seconds passed)'.format(time.time() - SINCE))\n",
    "train, test, materials, techniques, sample_submission = load_csvfiles()\n",
    "logger.debug('Complete loading csv files ({:.3f} seconds passed)'.format(time.time() - SINCE))"
   ]
  },
  {
   "cell_type": "code",
   "execution_count": 11,
   "metadata": {},
   "outputs": [
    {
     "data": {
      "text/html": [
       "<div>\n",
       "<style scoped>\n",
       "    .dataframe tbody tr th:only-of-type {\n",
       "        vertical-align: middle;\n",
       "    }\n",
       "\n",
       "    .dataframe tbody tr th {\n",
       "        vertical-align: top;\n",
       "    }\n",
       "\n",
       "    .dataframe thead th {\n",
       "        text-align: right;\n",
       "    }\n",
       "</style>\n",
       "<table border=\"1\" class=\"dataframe\">\n",
       "  <thead>\n",
       "    <tr style=\"text-align: right;\">\n",
       "      <th></th>\n",
       "      <th>object_id</th>\n",
       "      <th>sorting_date</th>\n",
       "      <th>art_series_id</th>\n",
       "      <th>target</th>\n",
       "    </tr>\n",
       "  </thead>\n",
       "  <tbody>\n",
       "    <tr>\n",
       "      <th>0</th>\n",
       "      <td>002bff09b09998d0be65</td>\n",
       "      <td>1631</td>\n",
       "      <td>509357f67692a6a45626</td>\n",
       "      <td>1</td>\n",
       "    </tr>\n",
       "    <tr>\n",
       "      <th>1</th>\n",
       "      <td>00309fb1ef05416f9c1f</td>\n",
       "      <td>1900</td>\n",
       "      <td>7987b47bbe5dc3039179</td>\n",
       "      <td>3</td>\n",
       "    </tr>\n",
       "    <tr>\n",
       "      <th>2</th>\n",
       "      <td>003a1562e97f79ba96dc</td>\n",
       "      <td>1834</td>\n",
       "      <td>ded7c3c9636708e5b14c</td>\n",
       "      <td>3</td>\n",
       "    </tr>\n",
       "    <tr>\n",
       "      <th>3</th>\n",
       "      <td>004890880e8e7431147b</td>\n",
       "      <td>1743</td>\n",
       "      <td>582ac2d7f0cef195b605</td>\n",
       "      <td>2</td>\n",
       "    </tr>\n",
       "    <tr>\n",
       "      <th>4</th>\n",
       "      <td>00718c32602425f504c1</td>\n",
       "      <td>1885</td>\n",
       "      <td>64c907f0c08dce4fb8e8</td>\n",
       "      <td>3</td>\n",
       "    </tr>\n",
       "    <tr>\n",
       "      <th>...</th>\n",
       "      <td>...</td>\n",
       "      <td>...</td>\n",
       "      <td>...</td>\n",
       "      <td>...</td>\n",
       "    </tr>\n",
       "    <tr>\n",
       "      <th>3932</th>\n",
       "      <td>ffa3259fff8e6f3818a1</td>\n",
       "      <td>1850</td>\n",
       "      <td>b187c294b0550acf049a</td>\n",
       "      <td>3</td>\n",
       "    </tr>\n",
       "    <tr>\n",
       "      <th>3933</th>\n",
       "      <td>ffd4d361756587883e48</td>\n",
       "      <td>1670</td>\n",
       "      <td>ad49a044770a48f860a6</td>\n",
       "      <td>1</td>\n",
       "    </tr>\n",
       "    <tr>\n",
       "      <th>3934</th>\n",
       "      <td>ffd794b7b311b7b7fd92</td>\n",
       "      <td>1789</td>\n",
       "      <td>f030a01b480b18a27be2</td>\n",
       "      <td>2</td>\n",
       "    </tr>\n",
       "    <tr>\n",
       "      <th>3935</th>\n",
       "      <td>ffe49bba69d06446de7e</td>\n",
       "      <td>1805</td>\n",
       "      <td>f5287bc84a05aada1d17</td>\n",
       "      <td>3</td>\n",
       "    </tr>\n",
       "    <tr>\n",
       "      <th>3936</th>\n",
       "      <td>ffe77db10be3400bed53</td>\n",
       "      <td>1700</td>\n",
       "      <td>60dec6e091cdd973e617</td>\n",
       "      <td>1</td>\n",
       "    </tr>\n",
       "  </tbody>\n",
       "</table>\n",
       "<p>3937 rows × 4 columns</p>\n",
       "</div>"
      ],
      "text/plain": [
       "                 object_id  sorting_date         art_series_id  target\n",
       "0     002bff09b09998d0be65          1631  509357f67692a6a45626       1\n",
       "1     00309fb1ef05416f9c1f          1900  7987b47bbe5dc3039179       3\n",
       "2     003a1562e97f79ba96dc          1834  ded7c3c9636708e5b14c       3\n",
       "3     004890880e8e7431147b          1743  582ac2d7f0cef195b605       2\n",
       "4     00718c32602425f504c1          1885  64c907f0c08dce4fb8e8       3\n",
       "...                    ...           ...                   ...     ...\n",
       "3932  ffa3259fff8e6f3818a1          1850  b187c294b0550acf049a       3\n",
       "3933  ffd4d361756587883e48          1670  ad49a044770a48f860a6       1\n",
       "3934  ffd794b7b311b7b7fd92          1789  f030a01b480b18a27be2       2\n",
       "3935  ffe49bba69d06446de7e          1805  f5287bc84a05aada1d17       3\n",
       "3936  ffe77db10be3400bed53          1700  60dec6e091cdd973e617       1\n",
       "\n",
       "[3937 rows x 4 columns]"
      ]
     },
     "execution_count": 11,
     "metadata": {},
     "output_type": "execute_result"
    }
   ],
   "source": [
    "train"
   ]
  },
  {
   "cell_type": "code",
   "execution_count": 12,
   "metadata": {},
   "outputs": [
    {
     "data": {
      "text/html": [
       "<div>\n",
       "<style scoped>\n",
       "    .dataframe tbody tr th:only-of-type {\n",
       "        vertical-align: middle;\n",
       "    }\n",
       "\n",
       "    .dataframe tbody tr th {\n",
       "        vertical-align: top;\n",
       "    }\n",
       "\n",
       "    .dataframe thead th {\n",
       "        text-align: right;\n",
       "    }\n",
       "</style>\n",
       "<table border=\"1\" class=\"dataframe\">\n",
       "  <thead>\n",
       "    <tr style=\"text-align: right;\">\n",
       "      <th></th>\n",
       "      <th>object_id</th>\n",
       "    </tr>\n",
       "  </thead>\n",
       "  <tbody>\n",
       "    <tr>\n",
       "      <th>0</th>\n",
       "      <td>0009e50b94be36ccad39</td>\n",
       "    </tr>\n",
       "    <tr>\n",
       "      <th>1</th>\n",
       "      <td>000bd5e82eb22f199f44</td>\n",
       "    </tr>\n",
       "    <tr>\n",
       "      <th>2</th>\n",
       "      <td>0015f44de1854f617516</td>\n",
       "    </tr>\n",
       "    <tr>\n",
       "      <th>3</th>\n",
       "      <td>00388a678879ba1efa27</td>\n",
       "    </tr>\n",
       "    <tr>\n",
       "      <th>4</th>\n",
       "      <td>005e1e7c6496902d23f3</td>\n",
       "    </tr>\n",
       "    <tr>\n",
       "      <th>...</th>\n",
       "      <td>...</td>\n",
       "    </tr>\n",
       "    <tr>\n",
       "      <th>5914</th>\n",
       "      <td>ffbe65ad399b632dcbd0</td>\n",
       "    </tr>\n",
       "    <tr>\n",
       "      <th>5915</th>\n",
       "      <td>ffd7b2d646c0320c311a</td>\n",
       "    </tr>\n",
       "    <tr>\n",
       "      <th>5916</th>\n",
       "      <td>ffdb93ede17d4501e530</td>\n",
       "    </tr>\n",
       "    <tr>\n",
       "      <th>5917</th>\n",
       "      <td>ffe111402004b0ed46b4</td>\n",
       "    </tr>\n",
       "    <tr>\n",
       "      <th>5918</th>\n",
       "      <td>fffdb3c248a7dcd3cccf</td>\n",
       "    </tr>\n",
       "  </tbody>\n",
       "</table>\n",
       "<p>5919 rows × 1 columns</p>\n",
       "</div>"
      ],
      "text/plain": [
       "                 object_id\n",
       "0     0009e50b94be36ccad39\n",
       "1     000bd5e82eb22f199f44\n",
       "2     0015f44de1854f617516\n",
       "3     00388a678879ba1efa27\n",
       "4     005e1e7c6496902d23f3\n",
       "...                    ...\n",
       "5914  ffbe65ad399b632dcbd0\n",
       "5915  ffd7b2d646c0320c311a\n",
       "5916  ffdb93ede17d4501e530\n",
       "5917  ffe111402004b0ed46b4\n",
       "5918  fffdb3c248a7dcd3cccf\n",
       "\n",
       "[5919 rows x 1 columns]"
      ]
     },
     "execution_count": 12,
     "metadata": {},
     "output_type": "execute_result"
    }
   ],
   "source": [
    "test"
   ]
  },
  {
   "cell_type": "markdown",
   "metadata": {},
   "source": [
    "# Cross validation"
   ]
  },
  {
   "cell_type": "code",
   "execution_count": 13,
   "metadata": {},
   "outputs": [],
   "source": [
    "# Splitter\n",
    "if CV == 'GroupKFold':\n",
    "    splitter = GroupKFold(n_splits=5)\n",
    "    fold_indice = splitter.split(X=train, y=train[TARGET], groups=train[GROUP])\n",
    "elif CV == 'StratifiedKFold':\n",
    "    splitter = StratifiedKFold(n_splits=5, shuffle=True, random_state=SEED)\n",
    "    fold_indice = splitter.split(X=train, y=train[TARGET])\n",
    "else:\n",
    "    raise ValueError(CV)"
   ]
  },
  {
   "cell_type": "code",
   "execution_count": 14,
   "metadata": {},
   "outputs": [
    {
     "name": "stderr",
     "output_type": "stream",
     "text": [
      "2021-07-12 03:25:54,060 - __main__ - DEBUG - Start loading test images (0.096 seconds passed)\n",
      "2021-07-12 03:26:02,722 - __main__ - DEBUG - Complete loading test images (8.758 seconds passed)\n"
     ]
    },
    {
     "name": "stdout",
     "output_type": "stream",
     "text": [
      "Wall time: 8.66 s\n"
     ]
    }
   ],
   "source": [
    "%%time\n",
    "# Load and flatten test set images\n",
    "logger.debug('Start loading test images ({:.3f} seconds passed)'.format(time.time() - SINCE))\n",
    "test_images = load_photofiles(test['object_id'])\n",
    "logger.debug('Complete loading test images ({:.3f} seconds passed)'.format(time.time() - SINCE))\n",
    "test_images = test_images.reshape(test_images.shape[0], -1)"
   ]
  },
  {
   "cell_type": "code",
   "execution_count": 15,
   "metadata": {},
   "outputs": [
    {
     "name": "stderr",
     "output_type": "stream",
     "text": [
      "2021-07-12 03:26:02,760 - __main__ - DEBUG - Start fold 1 (8.796 seconds passed)\n",
      "2021-07-12 03:26:08,041 - __main__ - DEBUG - Start training model (14.076 seconds passed)\n",
      "2021-07-12 03:29:29,313 - __main__ - DEBUG - Complete dimension reducing (215.339 seconds passed)\n",
      "2021-07-12 03:29:35,222 - __main__ - DEBUG - Complete training (221.257 seconds passed)\n",
      "2021-07-12 03:29:35,391 - __main__ - DEBUG - Save training fold to ..\\scripts\\..\\experiments\\exp001\\cv_fold1_training.csv (221.426 seconds passed)\n",
      "2021-07-12 03:29:35,434 - __main__ - DEBUG - Save validation fold to ..\\scripts\\..\\experiments\\exp001\\cv_fold1_validation.csv (221.469 seconds passed)\n",
      "2021-07-12 03:29:35,557 - __main__ - DEBUG - Save test result ..\\scripts\\..\\experiments\\exp001\\cv_fold1_test.csv (221.593 seconds passed)\n",
      "2021-07-12 03:29:37,027 - __main__ - DEBUG - Save model ..\\scripts\\..\\experiments\\exp001\\cv_fold1_model.pickle (223.063 seconds passed)\n",
      "2021-07-12 03:29:37,573 - __main__ - DEBUG - Complete fold 1 (223.609 seconds passed)\n",
      "2021-07-12 03:29:37,575 - __main__ - DEBUG - Start fold 2 (223.611 seconds passed)\n",
      "2021-07-12 03:29:43,134 - __main__ - DEBUG - Start training model (229.169 seconds passed)\n",
      "2021-07-12 03:32:43,270 - __main__ - DEBUG - Complete dimension reducing (409.305 seconds passed)\n",
      "2021-07-12 03:32:50,048 - __main__ - DEBUG - Complete training (416.083 seconds passed)\n",
      "2021-07-12 03:32:50,167 - __main__ - DEBUG - Save training fold to ..\\scripts\\..\\experiments\\exp001\\cv_fold2_training.csv (416.203 seconds passed)\n",
      "2021-07-12 03:32:50,192 - __main__ - DEBUG - Save validation fold to ..\\scripts\\..\\experiments\\exp001\\cv_fold2_validation.csv (416.228 seconds passed)\n",
      "2021-07-12 03:32:50,322 - __main__ - DEBUG - Save test result ..\\scripts\\..\\experiments\\exp001\\cv_fold2_test.csv (416.358 seconds passed)\n",
      "2021-07-12 03:32:52,036 - __main__ - DEBUG - Save model ..\\scripts\\..\\experiments\\exp001\\cv_fold2_model.pickle (418.072 seconds passed)\n",
      "2021-07-12 03:32:52,552 - __main__ - DEBUG - Complete fold 2 (418.588 seconds passed)\n",
      "2021-07-12 03:32:52,552 - __main__ - DEBUG - Start fold 3 (418.588 seconds passed)\n",
      "2021-07-12 03:32:58,065 - __main__ - DEBUG - Start training model (424.101 seconds passed)\n",
      "2021-07-12 03:35:57,837 - __main__ - DEBUG - Complete dimension reducing (603.863 seconds passed)\n",
      "2021-07-12 03:36:05,751 - __main__ - DEBUG - Complete training (611.786 seconds passed)\n",
      "2021-07-12 03:36:05,871 - __main__ - DEBUG - Save training fold to ..\\scripts\\..\\experiments\\exp001\\cv_fold3_training.csv (611.905 seconds passed)\n",
      "2021-07-12 03:36:05,901 - __main__ - DEBUG - Save validation fold to ..\\scripts\\..\\experiments\\exp001\\cv_fold3_validation.csv (611.936 seconds passed)\n",
      "2021-07-12 03:36:06,039 - __main__ - DEBUG - Save test result ..\\scripts\\..\\experiments\\exp001\\cv_fold3_test.csv (612.074 seconds passed)\n",
      "2021-07-12 03:36:07,694 - __main__ - DEBUG - Save model ..\\scripts\\..\\experiments\\exp001\\cv_fold3_model.pickle (613.729 seconds passed)\n",
      "2021-07-12 03:36:08,195 - __main__ - DEBUG - Complete fold 3 (614.231 seconds passed)\n",
      "2021-07-12 03:36:08,196 - __main__ - DEBUG - Start fold 4 (614.232 seconds passed)\n",
      "2021-07-12 03:36:14,346 - __main__ - DEBUG - Start training model (620.381 seconds passed)\n",
      "2021-07-12 03:39:24,206 - __main__ - DEBUG - Complete dimension reducing (810.242 seconds passed)\n",
      "2021-07-12 03:39:31,119 - __main__ - DEBUG - Complete training (817.154 seconds passed)\n",
      "2021-07-12 03:39:31,250 - __main__ - DEBUG - Save training fold to ..\\scripts\\..\\experiments\\exp001\\cv_fold4_training.csv (817.286 seconds passed)\n",
      "2021-07-12 03:39:31,288 - __main__ - DEBUG - Save validation fold to ..\\scripts\\..\\experiments\\exp001\\cv_fold4_validation.csv (817.323 seconds passed)\n",
      "2021-07-12 03:39:31,432 - __main__ - DEBUG - Save test result ..\\scripts\\..\\experiments\\exp001\\cv_fold4_test.csv (817.467 seconds passed)\n",
      "2021-07-12 03:39:32,824 - __main__ - DEBUG - Save model ..\\scripts\\..\\experiments\\exp001\\cv_fold4_model.pickle (818.859 seconds passed)\n",
      "2021-07-12 03:39:33,307 - __main__ - DEBUG - Complete fold 4 (819.342 seconds passed)\n",
      "2021-07-12 03:39:33,308 - __main__ - DEBUG - Start fold 5 (819.344 seconds passed)\n",
      "2021-07-12 03:39:38,688 - __main__ - DEBUG - Start training model (824.723 seconds passed)\n",
      "2021-07-12 03:42:40,532 - __main__ - DEBUG - Complete dimension reducing (1006.557 seconds passed)\n",
      "2021-07-12 03:42:47,873 - __main__ - DEBUG - Complete training (1013.909 seconds passed)\n",
      "2021-07-12 03:42:47,990 - __main__ - DEBUG - Save training fold to ..\\scripts\\..\\experiments\\exp001\\cv_fold5_training.csv (1014.026 seconds passed)\n",
      "2021-07-12 03:42:48,019 - __main__ - DEBUG - Save validation fold to ..\\scripts\\..\\experiments\\exp001\\cv_fold5_validation.csv (1014.055 seconds passed)\n",
      "2021-07-12 03:42:48,173 - __main__ - DEBUG - Save test result ..\\scripts\\..\\experiments\\exp001\\cv_fold5_test.csv (1014.209 seconds passed)\n",
      "2021-07-12 03:42:49,944 - __main__ - DEBUG - Save model ..\\scripts\\..\\experiments\\exp001\\cv_fold5_model.pickle (1015.980 seconds passed)\n",
      "2021-07-12 03:42:50,511 - __main__ - DEBUG - Complete fold 5 (1016.547 seconds passed)\n"
     ]
    }
   ],
   "source": [
    "for i, (train_index, valid_index) in enumerate(fold_indice):\n",
    "    num_fold = i + 1\n",
    "    logger.debug('Start fold {} ({:.3f} seconds passed)'.format(num_fold, time.time() - SINCE))\n",
    "    # Separate dataset into training/validation fold\n",
    "#     train_index = train_index[:500]\n",
    "    id_train = train.iloc[train_index]['object_id']\n",
    "    X_train = load_photofiles(train.iloc[train_index]['object_id'])\n",
    "    y_train = train.iloc[train_index][TARGET]\n",
    "    id_valid = train.iloc[valid_index]['object_id']\n",
    "    X_valid = load_photofiles(train.iloc[valid_index]['object_id'])\n",
    "    y_valid = train.iloc[valid_index][TARGET]\n",
    "\n",
    "    # Flatten image data (number of images * flattened image size)\n",
    "    X_train = X_train.reshape(X_train.shape[0], -1)\n",
    "    X_valid = X_valid.reshape(X_valid.shape[0], -1)\n",
    "    \n",
    "    # Training\n",
    "    logger.debug('Start training model ({:.3f} seconds passed)'.format(time.time() - SINCE))\n",
    "    ## Dimension reducing\n",
    "    decomposer = PCA(n_components=0.9, random_state=SEED)\n",
    "    decomposer.fit(X_train)\n",
    "    X_train = decomposer.transform(X_train)\n",
    "    X_valid = decomposer.transform(X_valid)\n",
    "    X_test = decomposer.transform(test_images)\n",
    "    logger.debug('Complete dimension reducing ({:.3f} seconds passed)'.format(time.time() - SINCE))\n",
    "    ## train estimator\n",
    "    estimator = lgbm.LGBMClassifier(importance_type='gain', n_estimators=200, random_state=SEED,\n",
    "                                    n_jobs=-1, class_weight='balanced')\n",
    "    estimator.fit(X_train, y_train, feature_name=[f'comp{i + 1}' for i in range(X_train.shape[1])])\n",
    "    logger.debug('Complete training ({:.3f} seconds passed)'.format(time.time() - SINCE))\n",
    "    \n",
    "    # Save model and prediction\n",
    "    ## Training set\n",
    "    pred_train = pd.DataFrame(data=estimator.predict_proba(X_train),\n",
    "                              columns=estimator.classes_)\n",
    "    pred_train['object_id'] = id_train.values\n",
    "    filepath_fold_train = os.path.join(output_dir, f'cv_fold{num_fold}_training.csv')\n",
    "    pred_train.to_csv(filepath_fold_train, index=False)\n",
    "    logger.debug('Save training fold to {} ({:.3f} seconds passed)' \\\n",
    "                .format(filepath_fold_train, time.time() - SINCE))\n",
    "    ## Validation set\n",
    "    pred_valid = pd.DataFrame(data=estimator.predict_proba(X_valid),\n",
    "                              columns=estimator.classes_)\n",
    "    pred_valid['object_id'] = id_valid.values\n",
    "    filepath_fold_valid = os.path.join(output_dir, f'cv_fold{num_fold}_validation.csv')\n",
    "    pred_valid.to_csv(filepath_fold_valid, index=False)\n",
    "    logger.debug('Save validation fold to {} ({:.3f} seconds passed)' \\\n",
    "                .format(filepath_fold_valid, time.time() - SINCE))\n",
    "    ## Test set\n",
    "    pred_test = pd.DataFrame(data=estimator.predict_proba(X_test),\n",
    "                             columns=estimator.classes_)\n",
    "    pred_test['object_id'] = test['object_id'].values\n",
    "    filepath_fold_test = os.path.join(output_dir, f'cv_fold{num_fold}_test.csv')\n",
    "    pred_test.to_csv(filepath_fold_test, index=False)\n",
    "    logger.debug('Save test result {} ({:.3f} seconds passed)' \\\n",
    "                 .format(filepath_fold_test, time.time() - SINCE))\n",
    "    ## Model\n",
    "    filepath_fold_model = os.path.join(output_dir, f'cv_fold{num_fold}_model.pickle')\n",
    "    with open(filepath_fold_model, 'wb') as f:\n",
    "        model = [decomposer, estimator]\n",
    "        pickle.dump(model, f)\n",
    "    logger.debug('Save model {} ({:.3f} seconds passed)'.format(filepath_fold_model, time.time() - SINCE))\n",
    "    \n",
    "    # Save memory\n",
    "    del (model, decomposer, estimator, X_train, X_test, X_valid, y_train, y_valid,\n",
    "         pred_train, pred_valid, pred_test)\n",
    "    gc.collect()\n",
    "\n",
    "    logger.debug('Complete fold {} ({:.3f} seconds passed)'.format(num_fold, time.time() - SINCE))"
   ]
  },
  {
   "cell_type": "markdown",
   "metadata": {},
   "source": [
    "# Evaluation"
   ]
  },
  {
   "cell_type": "code",
   "execution_count": 16,
   "metadata": {},
   "outputs": [],
   "source": [
    "rmse = partial(mean_squared_error, squared=False)"
   ]
  },
  {
   "cell_type": "code",
   "execution_count": 17,
   "metadata": {},
   "outputs": [],
   "source": [
    "qwk = partial(cohen_kappa_score, labels=np.sort(train['target'].unique()), weights='quadratic')"
   ]
  },
  {
   "cell_type": "code",
   "execution_count": 18,
   "metadata": {},
   "outputs": [],
   "source": [
    "@np.vectorize\n",
    "def predict(proba_0: float, proba_1: float, proba_2: float, proba_3: float) -> int:\n",
    "    return np.argmax((proba_0, proba_1, proba_2, proba_3))"
   ]
  },
  {
   "cell_type": "code",
   "execution_count": 19,
   "metadata": {},
   "outputs": [],
   "source": [
    "assert(train['object_id'].duplicated().sum() == 0)\n",
    "train.set_index('object_id', inplace=True)"
   ]
  },
  {
   "cell_type": "code",
   "execution_count": 20,
   "metadata": {},
   "outputs": [],
   "source": [
    "metrics = defaultdict(list)"
   ]
  },
  {
   "cell_type": "markdown",
   "metadata": {},
   "source": [
    "## Training set"
   ]
  },
  {
   "cell_type": "code",
   "execution_count": 21,
   "metadata": {},
   "outputs": [
    {
     "name": "stderr",
     "output_type": "stream",
     "text": [
      "2021-07-12 03:42:50,613 - __main__ - DEBUG - Evaluate cv result (training set) Fold 1\n",
      "2021-07-12 03:42:50,860 - __main__ - DEBUG - Loss: 0.0\n",
      "2021-07-12 03:42:50,861 - __main__ - DEBUG - Score: 1.0\n",
      "2021-07-12 03:42:50,862 - __main__ - DEBUG - Evaluate cv result (training set) Fold 2\n",
      "2021-07-12 03:42:50,902 - __main__ - DEBUG - Loss: 0.0\n",
      "2021-07-12 03:42:50,902 - __main__ - DEBUG - Score: 1.0\n",
      "2021-07-12 03:42:50,903 - __main__ - DEBUG - Evaluate cv result (training set) Fold 3\n",
      "2021-07-12 03:42:50,940 - __main__ - DEBUG - Loss: 0.0\n",
      "2021-07-12 03:42:50,941 - __main__ - DEBUG - Score: 1.0\n",
      "2021-07-12 03:42:50,942 - __main__ - DEBUG - Evaluate cv result (training set) Fold 4\n",
      "2021-07-12 03:42:50,977 - __main__ - DEBUG - Loss: 0.0\n",
      "2021-07-12 03:42:50,977 - __main__ - DEBUG - Score: 1.0\n",
      "2021-07-12 03:42:50,978 - __main__ - DEBUG - Evaluate cv result (training set) Fold 5\n",
      "2021-07-12 03:42:51,013 - __main__ - DEBUG - Loss: 0.0\n",
      "2021-07-12 03:42:51,013 - __main__ - DEBUG - Score: 1.0\n"
     ]
    },
    {
     "name": "stdout",
     "output_type": "stream",
     "text": [
      "[[ 372    0    0    0]\n",
      " [   0  710    0    0]\n",
      " [   0    0 1206    0]\n",
      " [   0    0    0  861]]\n",
      "[[ 381    0    0    0]\n",
      " [   0  733    0    0]\n",
      " [   0    0 1179    0]\n",
      " [   0    0    0  856]]\n",
      "[[ 379    0    0    0]\n",
      " [   0  710    0    0]\n",
      " [   0    0 1235    0]\n",
      " [   0    0    0  826]]\n",
      "[[ 372    0    0    0]\n",
      " [   0  706    0    0]\n",
      " [   0    0 1224    0]\n",
      " [   0    0    0  848]]\n",
      "[[ 396    0    0    0]\n",
      " [   0  725    0    0]\n",
      " [   0    0 1200    0]\n",
      " [   0    0    0  829]]\n"
     ]
    }
   ],
   "source": [
    "pred_train_dfs = []\n",
    "for i in range(N_SPLITS):\n",
    "    num_fold = i + 1\n",
    "    logger.debug('Evaluate cv result (training set) Fold {}'.format(num_fold))\n",
    "    # Read cv result\n",
    "    filepath_fold_train = os.path.join(output_dir, f'cv_fold{num_fold}_training.csv')\n",
    "    pred_train_df = pd.read_csv(filepath_fold_train)\n",
    "    pred_train_df['pred'] = predict(pred_train_df['0'], pred_train_df['1'],\n",
    "                                    pred_train_df['2'], pred_train_df['3'])\n",
    "    pred_train_df['actual'] = train.loc[pred_train_df['object_id'], TARGET].values\n",
    "    print(confusion_matrix(pred_train_df['actual'], pred_train_df['pred'],\n",
    "                           labels=np.sort(train['target'].unique())))\n",
    "    loss = rmse(pred_train_df['actual'], pred_train_df['pred'])\n",
    "    score = qwk(pred_train_df['actual'], pred_train_df['pred'])\n",
    "    logger.debug('Loss: {}'.format(loss))\n",
    "    logger.debug('Score: {}'.format(score))\n",
    "    metrics['train_losses'].append(loss)\n",
    "    metrics['train_scores'].append(score)\n",
    "    pred_train_dfs.append(pred_train_df)\n",
    "\n",
    "metrics['train_losses_avg'] = np.mean(metrics['train_losses'])\n",
    "metrics['train_losses_std'] = np.std(metrics['train_losses'])\n",
    "metrics['train_scores_avg'] = np.mean(metrics['train_scores'])\n",
    "metrics['train_scores_std'] = np.std(metrics['train_scores'])"
   ]
  },
  {
   "cell_type": "code",
   "execution_count": 22,
   "metadata": {},
   "outputs": [
    {
     "data": {
      "text/html": [
       "<div>\n",
       "<style scoped>\n",
       "    .dataframe tbody tr th:only-of-type {\n",
       "        vertical-align: middle;\n",
       "    }\n",
       "\n",
       "    .dataframe tbody tr th {\n",
       "        vertical-align: top;\n",
       "    }\n",
       "\n",
       "    .dataframe thead th {\n",
       "        text-align: right;\n",
       "    }\n",
       "</style>\n",
       "<table border=\"1\" class=\"dataframe\">\n",
       "  <thead>\n",
       "    <tr style=\"text-align: right;\">\n",
       "      <th></th>\n",
       "      <th>0</th>\n",
       "      <th>1</th>\n",
       "      <th>2</th>\n",
       "      <th>3</th>\n",
       "      <th>pred</th>\n",
       "      <th>actual</th>\n",
       "    </tr>\n",
       "    <tr>\n",
       "      <th>object_id</th>\n",
       "      <th></th>\n",
       "      <th></th>\n",
       "      <th></th>\n",
       "      <th></th>\n",
       "      <th></th>\n",
       "      <th></th>\n",
       "    </tr>\n",
       "  </thead>\n",
       "  <tbody>\n",
       "    <tr>\n",
       "      <th>002bff09b09998d0be65</th>\n",
       "      <td>0.00007</td>\n",
       "      <td>0.79764</td>\n",
       "      <td>0.00134</td>\n",
       "      <td>0.00096</td>\n",
       "      <td>1</td>\n",
       "      <td>1</td>\n",
       "    </tr>\n",
       "    <tr>\n",
       "      <th>00309fb1ef05416f9c1f</th>\n",
       "      <td>0.00012</td>\n",
       "      <td>0.00143</td>\n",
       "      <td>0.00150</td>\n",
       "      <td>0.79695</td>\n",
       "      <td>3</td>\n",
       "      <td>3</td>\n",
       "    </tr>\n",
       "    <tr>\n",
       "      <th>003a1562e97f79ba96dc</th>\n",
       "      <td>0.00021</td>\n",
       "      <td>0.00103</td>\n",
       "      <td>0.00116</td>\n",
       "      <td>0.79759</td>\n",
       "      <td>3</td>\n",
       "      <td>3</td>\n",
       "    </tr>\n",
       "    <tr>\n",
       "      <th>004890880e8e7431147b</th>\n",
       "      <td>0.00009</td>\n",
       "      <td>0.00390</td>\n",
       "      <td>0.79381</td>\n",
       "      <td>0.00220</td>\n",
       "      <td>2</td>\n",
       "      <td>2</td>\n",
       "    </tr>\n",
       "    <tr>\n",
       "      <th>00718c32602425f504c1</th>\n",
       "      <td>0.00022</td>\n",
       "      <td>0.00141</td>\n",
       "      <td>0.00261</td>\n",
       "      <td>0.79576</td>\n",
       "      <td>3</td>\n",
       "      <td>3</td>\n",
       "    </tr>\n",
       "    <tr>\n",
       "      <th>...</th>\n",
       "      <td>...</td>\n",
       "      <td>...</td>\n",
       "      <td>...</td>\n",
       "      <td>...</td>\n",
       "      <td>...</td>\n",
       "      <td>...</td>\n",
       "    </tr>\n",
       "    <tr>\n",
       "      <th>ffa3259fff8e6f3818a1</th>\n",
       "      <td>0.00006</td>\n",
       "      <td>0.00075</td>\n",
       "      <td>0.00104</td>\n",
       "      <td>0.79815</td>\n",
       "      <td>3</td>\n",
       "      <td>3</td>\n",
       "    </tr>\n",
       "    <tr>\n",
       "      <th>ffd4d361756587883e48</th>\n",
       "      <td>0.00024</td>\n",
       "      <td>0.79713</td>\n",
       "      <td>0.00146</td>\n",
       "      <td>0.00117</td>\n",
       "      <td>1</td>\n",
       "      <td>1</td>\n",
       "    </tr>\n",
       "    <tr>\n",
       "      <th>ffd794b7b311b7b7fd92</th>\n",
       "      <td>0.00016</td>\n",
       "      <td>0.00086</td>\n",
       "      <td>0.79676</td>\n",
       "      <td>0.00222</td>\n",
       "      <td>2</td>\n",
       "      <td>2</td>\n",
       "    </tr>\n",
       "    <tr>\n",
       "      <th>ffe49bba69d06446de7e</th>\n",
       "      <td>0.00022</td>\n",
       "      <td>0.00151</td>\n",
       "      <td>0.00210</td>\n",
       "      <td>0.79617</td>\n",
       "      <td>3</td>\n",
       "      <td>3</td>\n",
       "    </tr>\n",
       "    <tr>\n",
       "      <th>ffe77db10be3400bed53</th>\n",
       "      <td>0.00009</td>\n",
       "      <td>0.79648</td>\n",
       "      <td>0.00246</td>\n",
       "      <td>0.00096</td>\n",
       "      <td>1</td>\n",
       "      <td>1</td>\n",
       "    </tr>\n",
       "  </tbody>\n",
       "</table>\n",
       "<p>3937 rows × 6 columns</p>\n",
       "</div>"
      ],
      "text/plain": [
       "                           0       1       2       3  pred  actual\n",
       "object_id                                                         \n",
       "002bff09b09998d0be65 0.00007 0.79764 0.00134 0.00096     1       1\n",
       "00309fb1ef05416f9c1f 0.00012 0.00143 0.00150 0.79695     3       3\n",
       "003a1562e97f79ba96dc 0.00021 0.00103 0.00116 0.79759     3       3\n",
       "004890880e8e7431147b 0.00009 0.00390 0.79381 0.00220     2       2\n",
       "00718c32602425f504c1 0.00022 0.00141 0.00261 0.79576     3       3\n",
       "...                      ...     ...     ...     ...   ...     ...\n",
       "ffa3259fff8e6f3818a1 0.00006 0.00075 0.00104 0.79815     3       3\n",
       "ffd4d361756587883e48 0.00024 0.79713 0.00146 0.00117     1       1\n",
       "ffd794b7b311b7b7fd92 0.00016 0.00086 0.79676 0.00222     2       2\n",
       "ffe49bba69d06446de7e 0.00022 0.00151 0.00210 0.79617     3       3\n",
       "ffe77db10be3400bed53 0.00009 0.79648 0.00246 0.00096     1       1\n",
       "\n",
       "[3937 rows x 6 columns]"
      ]
     },
     "execution_count": 22,
     "metadata": {},
     "output_type": "execute_result"
    }
   ],
   "source": [
    "pred_train = pd.concat(pred_train_dfs).groupby('object_id').sum()\n",
    "pred_train = pred_train / N_SPLITS\n",
    "pred_train['pred'] = predict(pred_train['0'], pred_train['1'], pred_train['2'], pred_train['3'])\n",
    "pred_train['actual'] = train.loc[pred_train.index, TARGET].values\n",
    "pred_train"
   ]
  },
  {
   "cell_type": "code",
   "execution_count": 23,
   "metadata": {},
   "outputs": [
    {
     "name": "stderr",
     "output_type": "stream",
     "text": [
      "2021-07-12 03:42:51,085 - __main__ - INFO - Training loss: 0.0\n",
      "2021-07-12 03:42:51,086 - __main__ - INFO - Training score\n"
     ]
    },
    {
     "name": "stdout",
     "output_type": "stream",
     "text": [
      "[[ 475    0    0    0]\n",
      " [   0  896    0    0]\n",
      " [   0    0 1511    0]\n",
      " [   0    0    0 1055]]\n"
     ]
    }
   ],
   "source": [
    "print(confusion_matrix(pred_train['actual'], pred_train['pred'], labels=np.sort(train['target'].unique())))\n",
    "loss = rmse(pred_train['actual'], pred_train['pred'])\n",
    "score = qwk(pred_train['actual'], pred_train['pred'])\n",
    "metrics['train_loss'] = loss\n",
    "metrics['train_score'] = score\n",
    "logger.info('Training loss: {}'.format(loss))\n",
    "logger.info('Training score'.format(score))"
   ]
  },
  {
   "cell_type": "code",
   "execution_count": 24,
   "metadata": {},
   "outputs": [
    {
     "name": "stderr",
     "output_type": "stream",
     "text": [
      "2021-07-12 03:42:51,125 - __main__ - DEBUG - Write cv result to ..\\scripts\\..\\experiments\\exp001\\prediction_train.csv\n"
     ]
    }
   ],
   "source": [
    "pred_train.to_csv(os.path.join(output_dir, 'prediction_train.csv'))\n",
    "logger.debug('Write cv result to {}'.format(os.path.join(output_dir, 'prediction_train.csv')))"
   ]
  },
  {
   "cell_type": "markdown",
   "metadata": {},
   "source": [
    "## Validation set"
   ]
  },
  {
   "cell_type": "code",
   "execution_count": 25,
   "metadata": {},
   "outputs": [
    {
     "name": "stderr",
     "output_type": "stream",
     "text": [
      "2021-07-12 03:42:51,145 - __main__ - DEBUG - Evaluate cv result (validation set) Fold 1\n",
      "2021-07-12 03:42:51,172 - __main__ - DEBUG - Loss: 1.1008764390294454\n",
      "2021-07-12 03:42:51,173 - __main__ - DEBUG - Score: 0.2785404762817809\n",
      "2021-07-12 03:42:51,173 - __main__ - DEBUG - Evaluate cv result (validation set) Fold 2\n",
      "2021-07-12 03:42:51,198 - __main__ - DEBUG - Loss: 1.0579647159057446\n",
      "2021-07-12 03:42:51,198 - __main__ - DEBUG - Score: 0.2800865119285365\n",
      "2021-07-12 03:42:51,199 - __main__ - DEBUG - Evaluate cv result (validation set) Fold 3\n",
      "2021-07-12 03:42:51,221 - __main__ - DEBUG - Loss: 1.0386434315445914\n",
      "2021-07-12 03:42:51,222 - __main__ - DEBUG - Score: 0.313004389324554\n",
      "2021-07-12 03:42:51,223 - __main__ - DEBUG - Evaluate cv result (validation set) Fold 4\n",
      "2021-07-12 03:42:51,240 - __main__ - DEBUG - Loss: 1.0711653334277973\n",
      "2021-07-12 03:42:51,240 - __main__ - DEBUG - Score: 0.32939364686632155\n",
      "2021-07-12 03:42:51,241 - __main__ - DEBUG - Evaluate cv result (validation set) Fold 5\n",
      "2021-07-12 03:42:51,258 - __main__ - DEBUG - Loss: 1.0550297032378304\n",
      "2021-07-12 03:42:51,259 - __main__ - DEBUG - Score: 0.3128473578872666\n"
     ]
    },
    {
     "name": "stdout",
     "output_type": "stream",
     "text": [
      "[[ 19  20  33  31]\n",
      " [  7  48  89  42]\n",
      " [  0  35 197  73]\n",
      " [  2  18  62 112]]\n",
      "[[ 11  29  31  23]\n",
      " [  4  44  81  34]\n",
      " [  1  50 209  72]\n",
      " [  5  16  66 112]]\n",
      "[[ 11  28  35  22]\n",
      " [  7  60  92  27]\n",
      " [  1  29 209  37]\n",
      " [  4  20  90 115]]\n",
      "[[ 16  31  30  26]\n",
      " [ 11  49  89  41]\n",
      " [  4  24 186  73]\n",
      " [  1  14  76 116]]\n",
      "[[ 19  13  27  20]\n",
      " [ 12  47  67  45]\n",
      " [  7  43 203  58]\n",
      " [  5  18  70 133]]\n"
     ]
    }
   ],
   "source": [
    "pred_valid_dfs = []\n",
    "for i in range(N_SPLITS):\n",
    "    num_fold = i + 1\n",
    "    logger.debug('Evaluate cv result (validation set) Fold {}'.format(num_fold))\n",
    "    # Read cv result\n",
    "    filepath_fold_valid = os.path.join(output_dir, f'cv_fold{num_fold}_validation.csv')\n",
    "    pred_valid_df = pd.read_csv(filepath_fold_valid)\n",
    "    pred_valid_df['pred'] = predict(pred_valid_df['0'], pred_valid_df['1'],\n",
    "                                    pred_valid_df['2'], pred_valid_df['3'])\n",
    "    pred_valid_df['actual'] = train.loc[pred_valid_df['object_id'], TARGET].values\n",
    "    print(confusion_matrix(pred_valid_df['actual'], pred_valid_df['pred'],\n",
    "                           labels=np.sort(train['target'].unique())))\n",
    "    loss = rmse(pred_valid_df['actual'], pred_valid_df['pred'])\n",
    "    score = qwk(pred_valid_df['actual'], pred_valid_df['pred'])\n",
    "    logger.debug('Loss: {}'.format(loss))\n",
    "    logger.debug('Score: {}'.format(score))\n",
    "    metrics['valid_losses'].append(loss)\n",
    "    metrics['valid_scores'].append(score)\n",
    "    pred_valid_dfs.append(pred_valid_df)\n",
    "    \n",
    "metrics['valid_losses_avg'] = np.mean(metrics['valid_losses'])\n",
    "metrics['valid_losses_std'] = np.std(metrics['valid_losses'])\n",
    "metrics['valid_scores_avg'] = np.mean(metrics['valid_scores'])\n",
    "metrics['valid_scores_std'] = np.std(metrics['valid_scores'])"
   ]
  },
  {
   "cell_type": "code",
   "execution_count": 26,
   "metadata": {},
   "outputs": [
    {
     "data": {
      "text/html": [
       "<div>\n",
       "<style scoped>\n",
       "    .dataframe tbody tr th:only-of-type {\n",
       "        vertical-align: middle;\n",
       "    }\n",
       "\n",
       "    .dataframe tbody tr th {\n",
       "        vertical-align: top;\n",
       "    }\n",
       "\n",
       "    .dataframe thead th {\n",
       "        text-align: right;\n",
       "    }\n",
       "</style>\n",
       "<table border=\"1\" class=\"dataframe\">\n",
       "  <thead>\n",
       "    <tr style=\"text-align: right;\">\n",
       "      <th></th>\n",
       "      <th>0</th>\n",
       "      <th>1</th>\n",
       "      <th>2</th>\n",
       "      <th>3</th>\n",
       "      <th>pred</th>\n",
       "      <th>actual</th>\n",
       "    </tr>\n",
       "    <tr>\n",
       "      <th>object_id</th>\n",
       "      <th></th>\n",
       "      <th></th>\n",
       "      <th></th>\n",
       "      <th></th>\n",
       "      <th></th>\n",
       "      <th></th>\n",
       "    </tr>\n",
       "  </thead>\n",
       "  <tbody>\n",
       "    <tr>\n",
       "      <th>002bff09b09998d0be65</th>\n",
       "      <td>0.00796</td>\n",
       "      <td>0.07626</td>\n",
       "      <td>0.08470</td>\n",
       "      <td>0.03109</td>\n",
       "      <td>2</td>\n",
       "      <td>1</td>\n",
       "    </tr>\n",
       "    <tr>\n",
       "      <th>00309fb1ef05416f9c1f</th>\n",
       "      <td>0.02007</td>\n",
       "      <td>0.07187</td>\n",
       "      <td>0.09236</td>\n",
       "      <td>0.01570</td>\n",
       "      <td>2</td>\n",
       "      <td>3</td>\n",
       "    </tr>\n",
       "    <tr>\n",
       "      <th>003a1562e97f79ba96dc</th>\n",
       "      <td>0.00664</td>\n",
       "      <td>0.00259</td>\n",
       "      <td>0.02743</td>\n",
       "      <td>0.16333</td>\n",
       "      <td>3</td>\n",
       "      <td>3</td>\n",
       "    </tr>\n",
       "    <tr>\n",
       "      <th>004890880e8e7431147b</th>\n",
       "      <td>0.00160</td>\n",
       "      <td>0.05659</td>\n",
       "      <td>0.12008</td>\n",
       "      <td>0.02172</td>\n",
       "      <td>2</td>\n",
       "      <td>2</td>\n",
       "    </tr>\n",
       "    <tr>\n",
       "      <th>00718c32602425f504c1</th>\n",
       "      <td>0.00038</td>\n",
       "      <td>0.01885</td>\n",
       "      <td>0.13312</td>\n",
       "      <td>0.04764</td>\n",
       "      <td>2</td>\n",
       "      <td>3</td>\n",
       "    </tr>\n",
       "    <tr>\n",
       "      <th>...</th>\n",
       "      <td>...</td>\n",
       "      <td>...</td>\n",
       "      <td>...</td>\n",
       "      <td>...</td>\n",
       "      <td>...</td>\n",
       "      <td>...</td>\n",
       "    </tr>\n",
       "    <tr>\n",
       "      <th>ffa3259fff8e6f3818a1</th>\n",
       "      <td>0.00012</td>\n",
       "      <td>0.00357</td>\n",
       "      <td>0.00363</td>\n",
       "      <td>0.19268</td>\n",
       "      <td>3</td>\n",
       "      <td>3</td>\n",
       "    </tr>\n",
       "    <tr>\n",
       "      <th>ffd4d361756587883e48</th>\n",
       "      <td>0.00381</td>\n",
       "      <td>0.00852</td>\n",
       "      <td>0.10254</td>\n",
       "      <td>0.08513</td>\n",
       "      <td>2</td>\n",
       "      <td>1</td>\n",
       "    </tr>\n",
       "    <tr>\n",
       "      <th>ffd794b7b311b7b7fd92</th>\n",
       "      <td>0.00324</td>\n",
       "      <td>0.01220</td>\n",
       "      <td>0.15592</td>\n",
       "      <td>0.02864</td>\n",
       "      <td>2</td>\n",
       "      <td>2</td>\n",
       "    </tr>\n",
       "    <tr>\n",
       "      <th>ffe49bba69d06446de7e</th>\n",
       "      <td>0.00061</td>\n",
       "      <td>0.03430</td>\n",
       "      <td>0.16004</td>\n",
       "      <td>0.00504</td>\n",
       "      <td>2</td>\n",
       "      <td>3</td>\n",
       "    </tr>\n",
       "    <tr>\n",
       "      <th>ffe77db10be3400bed53</th>\n",
       "      <td>0.00046</td>\n",
       "      <td>0.03596</td>\n",
       "      <td>0.07128</td>\n",
       "      <td>0.09231</td>\n",
       "      <td>3</td>\n",
       "      <td>1</td>\n",
       "    </tr>\n",
       "  </tbody>\n",
       "</table>\n",
       "<p>3937 rows × 6 columns</p>\n",
       "</div>"
      ],
      "text/plain": [
       "                           0       1       2       3  pred  actual\n",
       "object_id                                                         \n",
       "002bff09b09998d0be65 0.00796 0.07626 0.08470 0.03109     2       1\n",
       "00309fb1ef05416f9c1f 0.02007 0.07187 0.09236 0.01570     2       3\n",
       "003a1562e97f79ba96dc 0.00664 0.00259 0.02743 0.16333     3       3\n",
       "004890880e8e7431147b 0.00160 0.05659 0.12008 0.02172     2       2\n",
       "00718c32602425f504c1 0.00038 0.01885 0.13312 0.04764     2       3\n",
       "...                      ...     ...     ...     ...   ...     ...\n",
       "ffa3259fff8e6f3818a1 0.00012 0.00357 0.00363 0.19268     3       3\n",
       "ffd4d361756587883e48 0.00381 0.00852 0.10254 0.08513     2       1\n",
       "ffd794b7b311b7b7fd92 0.00324 0.01220 0.15592 0.02864     2       2\n",
       "ffe49bba69d06446de7e 0.00061 0.03430 0.16004 0.00504     2       3\n",
       "ffe77db10be3400bed53 0.00046 0.03596 0.07128 0.09231     3       1\n",
       "\n",
       "[3937 rows x 6 columns]"
      ]
     },
     "execution_count": 26,
     "metadata": {},
     "output_type": "execute_result"
    }
   ],
   "source": [
    "pred_valid = pd.concat(pred_valid_dfs).groupby('object_id').sum()\n",
    "pred_valid = pred_valid / N_SPLITS\n",
    "pred_valid['pred'] = predict(pred_valid['0'], pred_valid['1'], pred_valid['2'], pred_valid['3'])\n",
    "pred_valid['actual'] = train.loc[pred_valid.index, TARGET].values\n",
    "pred_valid"
   ]
  },
  {
   "cell_type": "code",
   "execution_count": 27,
   "metadata": {},
   "outputs": [
    {
     "name": "stderr",
     "output_type": "stream",
     "text": [
      "2021-07-12 03:42:51,323 - __main__ - INFO - Validatino loss: 1.0649470729686694\n",
      "2021-07-12 03:42:51,324 - __main__ - INFO - Validatino score: 0.30237816484399205\n"
     ]
    },
    {
     "name": "stdout",
     "output_type": "stream",
     "text": [
      "[[  76  121  156  122]\n",
      " [  41  248  418  189]\n",
      " [  13  181 1004  313]\n",
      " [  17   86  364  588]]\n"
     ]
    }
   ],
   "source": [
    "print(confusion_matrix(pred_valid['actual'], pred_valid['pred'], labels=np.sort(train['target'].unique())))\n",
    "loss = rmse(pred_valid['actual'], pred_valid['pred'])\n",
    "score = qwk(pred_valid['actual'], pred_valid['pred'])\n",
    "metrics['valid_loss'] = loss\n",
    "metrics['valid_score'] = score\n",
    "logger.info('Validatino loss: {}'.format(loss))\n",
    "logger.info('Validatino score: {}'.format(score))"
   ]
  },
  {
   "cell_type": "code",
   "execution_count": 28,
   "metadata": {},
   "outputs": [
    {
     "name": "stderr",
     "output_type": "stream",
     "text": [
      "2021-07-12 03:42:51,364 - __main__ - DEBUG - Write cv result to ..\\scripts\\..\\experiments\\exp001\\prediction_valid.csv\n"
     ]
    }
   ],
   "source": [
    "pred_valid.to_csv(os.path.join(output_dir, 'prediction_valid.csv'))\n",
    "logger.debug('Write cv result to {}'.format(os.path.join(output_dir, 'prediction_valid.csv')))"
   ]
  },
  {
   "cell_type": "code",
   "execution_count": 29,
   "metadata": {},
   "outputs": [
    {
     "name": "stderr",
     "output_type": "stream",
     "text": [
      "2021-07-12 03:42:51,385 - __main__ - DEBUG - Write metrics to ..\\scripts\\..\\experiments\\exp001\\metrics.json\n"
     ]
    }
   ],
   "source": [
    "with open(os.path.join(output_dir, 'metrics.json'), 'w') as f:\n",
    "    json.dump(dict(metrics), f)\n",
    "logger.debug('Write metrics to {}'.format(os.path.join(output_dir, 'metrics.json')))"
   ]
  },
  {
   "cell_type": "markdown",
   "metadata": {},
   "source": [
    "# Prediction"
   ]
  },
  {
   "cell_type": "code",
   "execution_count": 41,
   "metadata": {},
   "outputs": [],
   "source": [
    "pred_test_dfs = []\n",
    "for i in range(N_SPLITS):\n",
    "    num_fold = i + 1\n",
    "    # Read cv result\n",
    "    filepath_fold_test = os.path.join(output_dir, f'cv_fold{num_fold}_test.csv')\n",
    "    pred_test_df = pd.read_csv(filepath_fold_test)\n",
    "    pred_test_dfs.append(pred_test_df)"
   ]
  },
  {
   "cell_type": "code",
   "execution_count": 42,
   "metadata": {},
   "outputs": [
    {
     "data": {
      "text/html": [
       "<div>\n",
       "<style scoped>\n",
       "    .dataframe tbody tr th:only-of-type {\n",
       "        vertical-align: middle;\n",
       "    }\n",
       "\n",
       "    .dataframe tbody tr th {\n",
       "        vertical-align: top;\n",
       "    }\n",
       "\n",
       "    .dataframe thead th {\n",
       "        text-align: right;\n",
       "    }\n",
       "</style>\n",
       "<table border=\"1\" class=\"dataframe\">\n",
       "  <thead>\n",
       "    <tr style=\"text-align: right;\">\n",
       "      <th></th>\n",
       "      <th>0</th>\n",
       "      <th>1</th>\n",
       "      <th>2</th>\n",
       "      <th>3</th>\n",
       "      <th>pred</th>\n",
       "    </tr>\n",
       "    <tr>\n",
       "      <th>object_id</th>\n",
       "      <th></th>\n",
       "      <th></th>\n",
       "      <th></th>\n",
       "      <th></th>\n",
       "      <th></th>\n",
       "    </tr>\n",
       "  </thead>\n",
       "  <tbody>\n",
       "    <tr>\n",
       "      <th>0009e50b94be36ccad39</th>\n",
       "      <td>0.00436</td>\n",
       "      <td>0.50680</td>\n",
       "      <td>0.34465</td>\n",
       "      <td>0.14419</td>\n",
       "      <td>1</td>\n",
       "    </tr>\n",
       "    <tr>\n",
       "      <th>000bd5e82eb22f199f44</th>\n",
       "      <td>0.00931</td>\n",
       "      <td>0.40002</td>\n",
       "      <td>0.20612</td>\n",
       "      <td>0.38455</td>\n",
       "      <td>1</td>\n",
       "    </tr>\n",
       "    <tr>\n",
       "      <th>0015f44de1854f617516</th>\n",
       "      <td>0.03310</td>\n",
       "      <td>0.25407</td>\n",
       "      <td>0.57125</td>\n",
       "      <td>0.14159</td>\n",
       "      <td>2</td>\n",
       "    </tr>\n",
       "    <tr>\n",
       "      <th>00388a678879ba1efa27</th>\n",
       "      <td>0.00476</td>\n",
       "      <td>0.13998</td>\n",
       "      <td>0.39015</td>\n",
       "      <td>0.46511</td>\n",
       "      <td>3</td>\n",
       "    </tr>\n",
       "    <tr>\n",
       "      <th>005e1e7c6496902d23f3</th>\n",
       "      <td>0.14452</td>\n",
       "      <td>0.43917</td>\n",
       "      <td>0.34946</td>\n",
       "      <td>0.06685</td>\n",
       "      <td>1</td>\n",
       "    </tr>\n",
       "    <tr>\n",
       "      <th>...</th>\n",
       "      <td>...</td>\n",
       "      <td>...</td>\n",
       "      <td>...</td>\n",
       "      <td>...</td>\n",
       "      <td>...</td>\n",
       "    </tr>\n",
       "    <tr>\n",
       "      <th>ffbe65ad399b632dcbd0</th>\n",
       "      <td>0.00038</td>\n",
       "      <td>0.00268</td>\n",
       "      <td>0.05400</td>\n",
       "      <td>0.94293</td>\n",
       "      <td>3</td>\n",
       "    </tr>\n",
       "    <tr>\n",
       "      <th>ffd7b2d646c0320c311a</th>\n",
       "      <td>0.18447</td>\n",
       "      <td>0.35204</td>\n",
       "      <td>0.41701</td>\n",
       "      <td>0.04648</td>\n",
       "      <td>2</td>\n",
       "    </tr>\n",
       "    <tr>\n",
       "      <th>ffdb93ede17d4501e530</th>\n",
       "      <td>0.00428</td>\n",
       "      <td>0.38781</td>\n",
       "      <td>0.49243</td>\n",
       "      <td>0.11549</td>\n",
       "      <td>2</td>\n",
       "    </tr>\n",
       "    <tr>\n",
       "      <th>ffe111402004b0ed46b4</th>\n",
       "      <td>0.01174</td>\n",
       "      <td>0.11757</td>\n",
       "      <td>0.76844</td>\n",
       "      <td>0.10225</td>\n",
       "      <td>2</td>\n",
       "    </tr>\n",
       "    <tr>\n",
       "      <th>fffdb3c248a7dcd3cccf</th>\n",
       "      <td>0.02809</td>\n",
       "      <td>0.25109</td>\n",
       "      <td>0.66145</td>\n",
       "      <td>0.05937</td>\n",
       "      <td>2</td>\n",
       "    </tr>\n",
       "  </tbody>\n",
       "</table>\n",
       "<p>5919 rows × 5 columns</p>\n",
       "</div>"
      ],
      "text/plain": [
       "                           0       1       2       3  pred\n",
       "object_id                                                 \n",
       "0009e50b94be36ccad39 0.00436 0.50680 0.34465 0.14419     1\n",
       "000bd5e82eb22f199f44 0.00931 0.40002 0.20612 0.38455     1\n",
       "0015f44de1854f617516 0.03310 0.25407 0.57125 0.14159     2\n",
       "00388a678879ba1efa27 0.00476 0.13998 0.39015 0.46511     3\n",
       "005e1e7c6496902d23f3 0.14452 0.43917 0.34946 0.06685     1\n",
       "...                      ...     ...     ...     ...   ...\n",
       "ffbe65ad399b632dcbd0 0.00038 0.00268 0.05400 0.94293     3\n",
       "ffd7b2d646c0320c311a 0.18447 0.35204 0.41701 0.04648     2\n",
       "ffdb93ede17d4501e530 0.00428 0.38781 0.49243 0.11549     2\n",
       "ffe111402004b0ed46b4 0.01174 0.11757 0.76844 0.10225     2\n",
       "fffdb3c248a7dcd3cccf 0.02809 0.25109 0.66145 0.05937     2\n",
       "\n",
       "[5919 rows x 5 columns]"
      ]
     },
     "execution_count": 42,
     "metadata": {},
     "output_type": "execute_result"
    }
   ],
   "source": [
    "pred_test = pd.concat(pred_test_dfs).groupby('object_id').sum()\n",
    "pred_test = pred_test / N_SPLITS\n",
    "pred_test['pred'] = predict(pred_test['0'], pred_test['1'], pred_test['2'], pred_test['3'])\n",
    "pred_test"
   ]
  },
  {
   "cell_type": "code",
   "execution_count": 43,
   "metadata": {},
   "outputs": [
    {
     "data": {
      "text/html": [
       "<div>\n",
       "<style scoped>\n",
       "    .dataframe tbody tr th:only-of-type {\n",
       "        vertical-align: middle;\n",
       "    }\n",
       "\n",
       "    .dataframe tbody tr th {\n",
       "        vertical-align: top;\n",
       "    }\n",
       "\n",
       "    .dataframe thead th {\n",
       "        text-align: right;\n",
       "    }\n",
       "</style>\n",
       "<table border=\"1\" class=\"dataframe\">\n",
       "  <thead>\n",
       "    <tr style=\"text-align: right;\">\n",
       "      <th></th>\n",
       "      <th>target</th>\n",
       "    </tr>\n",
       "  </thead>\n",
       "  <tbody>\n",
       "    <tr>\n",
       "      <th>0</th>\n",
       "      <td>1</td>\n",
       "    </tr>\n",
       "    <tr>\n",
       "      <th>1</th>\n",
       "      <td>1</td>\n",
       "    </tr>\n",
       "    <tr>\n",
       "      <th>2</th>\n",
       "      <td>2</td>\n",
       "    </tr>\n",
       "    <tr>\n",
       "      <th>3</th>\n",
       "      <td>3</td>\n",
       "    </tr>\n",
       "    <tr>\n",
       "      <th>4</th>\n",
       "      <td>1</td>\n",
       "    </tr>\n",
       "    <tr>\n",
       "      <th>...</th>\n",
       "      <td>...</td>\n",
       "    </tr>\n",
       "    <tr>\n",
       "      <th>5914</th>\n",
       "      <td>3</td>\n",
       "    </tr>\n",
       "    <tr>\n",
       "      <th>5915</th>\n",
       "      <td>2</td>\n",
       "    </tr>\n",
       "    <tr>\n",
       "      <th>5916</th>\n",
       "      <td>2</td>\n",
       "    </tr>\n",
       "    <tr>\n",
       "      <th>5917</th>\n",
       "      <td>2</td>\n",
       "    </tr>\n",
       "    <tr>\n",
       "      <th>5918</th>\n",
       "      <td>2</td>\n",
       "    </tr>\n",
       "  </tbody>\n",
       "</table>\n",
       "<p>5919 rows × 1 columns</p>\n",
       "</div>"
      ],
      "text/plain": [
       "      target\n",
       "0          1\n",
       "1          1\n",
       "2          2\n",
       "3          3\n",
       "4          1\n",
       "...      ...\n",
       "5914       3\n",
       "5915       2\n",
       "5916       2\n",
       "5917       2\n",
       "5918       2\n",
       "\n",
       "[5919 rows x 1 columns]"
      ]
     },
     "execution_count": 43,
     "metadata": {},
     "output_type": "execute_result"
    }
   ],
   "source": [
    "test['target'] = pred_test.loc[test['object_id'], 'pred'].values\n",
    "test = test[['target']]\n",
    "test"
   ]
  },
  {
   "cell_type": "code",
   "execution_count": 44,
   "metadata": {},
   "outputs": [
    {
     "data": {
      "text/html": [
       "<div>\n",
       "<style scoped>\n",
       "    .dataframe tbody tr th:only-of-type {\n",
       "        vertical-align: middle;\n",
       "    }\n",
       "\n",
       "    .dataframe tbody tr th {\n",
       "        vertical-align: top;\n",
       "    }\n",
       "\n",
       "    .dataframe thead th {\n",
       "        text-align: right;\n",
       "    }\n",
       "</style>\n",
       "<table border=\"1\" class=\"dataframe\">\n",
       "  <thead>\n",
       "    <tr style=\"text-align: right;\">\n",
       "      <th></th>\n",
       "      <th>target</th>\n",
       "    </tr>\n",
       "  </thead>\n",
       "  <tbody>\n",
       "    <tr>\n",
       "      <th>0</th>\n",
       "      <td>3</td>\n",
       "    </tr>\n",
       "    <tr>\n",
       "      <th>1</th>\n",
       "      <td>1</td>\n",
       "    </tr>\n",
       "    <tr>\n",
       "      <th>2</th>\n",
       "      <td>3</td>\n",
       "    </tr>\n",
       "    <tr>\n",
       "      <th>3</th>\n",
       "      <td>3</td>\n",
       "    </tr>\n",
       "    <tr>\n",
       "      <th>4</th>\n",
       "      <td>0</td>\n",
       "    </tr>\n",
       "    <tr>\n",
       "      <th>...</th>\n",
       "      <td>...</td>\n",
       "    </tr>\n",
       "    <tr>\n",
       "      <th>5914</th>\n",
       "      <td>2</td>\n",
       "    </tr>\n",
       "    <tr>\n",
       "      <th>5915</th>\n",
       "      <td>1</td>\n",
       "    </tr>\n",
       "    <tr>\n",
       "      <th>5916</th>\n",
       "      <td>1</td>\n",
       "    </tr>\n",
       "    <tr>\n",
       "      <th>5917</th>\n",
       "      <td>3</td>\n",
       "    </tr>\n",
       "    <tr>\n",
       "      <th>5918</th>\n",
       "      <td>3</td>\n",
       "    </tr>\n",
       "  </tbody>\n",
       "</table>\n",
       "<p>5919 rows × 1 columns</p>\n",
       "</div>"
      ],
      "text/plain": [
       "      target\n",
       "0          3\n",
       "1          1\n",
       "2          3\n",
       "3          3\n",
       "4          0\n",
       "...      ...\n",
       "5914       2\n",
       "5915       1\n",
       "5916       1\n",
       "5917       3\n",
       "5918       3\n",
       "\n",
       "[5919 rows x 1 columns]"
      ]
     },
     "execution_count": 44,
     "metadata": {},
     "output_type": "execute_result"
    }
   ],
   "source": [
    "sample_submission"
   ]
  },
  {
   "cell_type": "code",
   "execution_count": 45,
   "metadata": {},
   "outputs": [
    {
     "name": "stderr",
     "output_type": "stream",
     "text": [
      "2021-07-12 03:48:22,664 - __main__ - DEBUG - Write submission to ..\\scripts\\..\\experiments\\exp001\\001_submission.csv\n"
     ]
    }
   ],
   "source": [
    "test.to_csv(os.path.join(output_dir, f'{str(EXP_NO).zfill(3)}_submission.csv'), index=True)\n",
    "logger.debug('Write submission to {}'.format(os.path.join(output_dir, f'{str(EXP_NO).zfill(3)}_submission.csv')))"
   ]
  },
  {
   "cell_type": "code",
   "execution_count": 46,
   "metadata": {},
   "outputs": [
    {
     "name": "stderr",
     "output_type": "stream",
     "text": [
      "C:\\Users\\nndropout\\miniconda3\\envs\\img-beginner\\lib\\site-packages\\seaborn\\_decorators.py:36: FutureWarning: Pass the following variable as a keyword arg: x. From version 0.12, the only valid positional argument will be `data`, and passing other arguments without an explicit keyword will result in an error or misinterpretation.\n",
      "  warnings.warn(\n",
      "2021-07-12 03:48:22,876 - __main__ - DEBUG - Write figure to ..\\scripts\\..\\experiments\\exp001\\prediction.png\n"
     ]
    },
    {
     "data": {
      "image/png": "[encoded data removed]",
      "text/plain": [
       "<Figure size 432x288 with 1 Axes>"
      ]
     },
     "metadata": {
      "needs_background": "light"
     },
     "output_type": "display_data"
    }
   ],
   "source": [
    "fig = plt.figure()\n",
    "sns.countplot(test['target'])\n",
    "sns.despine()\n",
    "fig.savefig(os.path.join(output_dir, 'prediction.png'))\n",
    "logger.debug('Write figure to {}'.format(os.path.join(output_dir, 'prediction.png')))"
   ]
  },
  {
   "cell_type": "code",
   "execution_count": null,
   "metadata": {},
   "outputs": [],
   "source": []
  }
 ],
 "metadata": {
  "kernelspec": {
   "display_name": "Python 3 (ipykernel)",
   "language": "python",
   "name": "python3"
  },
  "language_info": {
   "codemirror_mode": {
    "name": "ipython",
    "version": 3
   },
   "file_extension": ".py",
   "mimetype": "text/x-python",
   "name": "python",
   "nbconvert_exporter": "python",
   "pygments_lexer": "ipython3",
   "version": "3.9.0"
  }
 },
 "nbformat": 4,
 "nbformat_minor": 4
}
