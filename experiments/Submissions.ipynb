{
 "cells": [
  {
   "cell_type": "code",
   "execution_count": 1,
   "id": "417a6eac",
   "metadata": {},
   "outputs": [],
   "source": [
    "import glob\n",
    "import json\n",
    "import os\n",
    "\n",
    "import pandas as pd\n",
    "import matplotlib.pyplot as plt\n",
    "import seaborn as sns"
   ]
  },
  {
   "cell_type": "code",
   "execution_count": 2,
   "id": "504b6a38",
   "metadata": {},
   "outputs": [
    {
     "name": "stdout",
     "output_type": "stream",
     "text": [
      "Wall time: 26min 3s\n"
     ]
    },
    {
     "name": "stderr",
     "output_type": "stream",
     "text": [
      "[NbConvertApp] Converting notebook exp018.ipynb to notebook\n",
      "[NbConvertApp] Writing 73063 bytes to exp018.ipynb\n"
     ]
    }
   ],
   "source": [
    "%%time\n",
    "!jupyter nbconvert --to notebook --execute exp018.ipynb --inplace"
   ]
  },
  {
   "cell_type": "code",
   "execution_count": 3,
   "id": "d3013b06",
   "metadata": {},
   "outputs": [
    {
     "name": "stdout",
     "output_type": "stream",
     "text": [
      "Wall time: 25min 50s\n"
     ]
    },
    {
     "name": "stderr",
     "output_type": "stream",
     "text": [
      "[NbConvertApp] Converting notebook exp019.ipynb to notebook\n",
      "[NbConvertApp] Writing 72864 bytes to exp019.ipynb\n"
     ]
    }
   ],
   "source": [
    "%%time\n",
    "!jupyter nbconvert --to notebook --execute exp019.ipynb --inplace"
   ]
  },
  {
   "cell_type": "code",
   "execution_count": 4,
   "id": "d9a6351e",
   "metadata": {},
   "outputs": [
    {
     "name": "stdout",
     "output_type": "stream",
     "text": [
      "Wall time: 15h 23min 19s\n"
     ]
    },
    {
     "name": "stderr",
     "output_type": "stream",
     "text": [
      "[NbConvertApp] Converting notebook exp012.ipynb to notebook\n",
      "[NbConvertApp] Writing 250399 bytes to exp012.ipynb\n"
     ]
    }
   ],
   "source": [
    "%%time\n",
    "!jupyter nbconvert --to notebook --execute exp012.ipynb --inplace"
   ]
  },
  {
   "cell_type": "code",
   "execution_count": null,
   "id": "1cad32e0",
   "metadata": {},
   "outputs": [],
   "source": [
    "%%time\n",
    "!jupyter nbconvert --to notebook --execute exp013.ipynb --inplace"
   ]
  },
  {
   "cell_type": "code",
   "execution_count": null,
   "id": "72810c26",
   "metadata": {},
   "outputs": [],
   "source": [
    "%%time\n",
    "!jupyter nbconvert --to notebook --execute exp014.ipynb --inplace"
   ]
  },
  {
   "cell_type": "code",
   "execution_count": null,
   "id": "3da83269",
   "metadata": {},
   "outputs": [],
   "source": [
    "%%time\n",
    "!jupyter nbconvert --to notebook --execute exp015.ipynb --inplace"
   ]
  },
  {
   "cell_type": "code",
   "execution_count": null,
   "id": "b9ae233e",
   "metadata": {},
   "outputs": [],
   "source": [
    "%%time\n",
    "!jupyter nbconvert --to notebook --execute exp016.ipynb --inplace"
   ]
  },
  {
   "cell_type": "code",
   "execution_count": null,
   "id": "3db61474",
   "metadata": {},
   "outputs": [],
   "source": [
    "%%time\n",
    "!jupyter nbconvert --to notebook --execute exp017.ipynb --inplace"
   ]
  },
  {
   "cell_type": "code",
   "execution_count": null,
   "id": "7e6ba668",
   "metadata": {},
   "outputs": [],
   "source": [
    "%%time\n",
    "!jupyter nbconvert --to notebook --execute exp018.ipynb --inplace"
   ]
  },
  {
   "cell_type": "markdown",
   "id": "014955c7",
   "metadata": {},
   "source": [
    "# CV vs Leader board"
   ]
  },
  {
   "cell_type": "code",
   "execution_count": null,
   "id": "2e704350",
   "metadata": {},
   "outputs": [],
   "source": [
    "leaderboard = pd.read_csv('LeaderBoard.csv').sort_values('Filename', ascending=False)\n",
    "leaderboard"
   ]
  },
  {
   "cell_type": "code",
   "execution_count": null,
   "id": "dfb31882",
   "metadata": {},
   "outputs": [],
   "source": [
    "metrics = []\n",
    "for filepath in glob.glob(os.path.join('exp*', 'metrics.json')):\n",
    "    with open(filepath, 'r') as f:\n",
    "        metric = json.load(f)\n",
    "    cv = metric['valid_losses_avg']\n",
    "    dirname = os.path.split(os.path.dirname(filepath))[-1]\n",
    "    submission_filename = dirname.replace('exp', '') + '_submission.csv'\n",
    "    metrics.append([submission_filename, cv])\n",
    "metrics = pd.DataFrame(data=metrics, columns=['Filename', 'CV']).sort_values('Filename', ascending=False)\n",
    "metrics"
   ]
  },
  {
   "cell_type": "code",
   "execution_count": null,
   "id": "cff07c90",
   "metadata": {},
   "outputs": [],
   "source": [
    "cv_lb = pd.merge(metrics, leaderboard, how='left').sort_values('Filename', ascending=False)\n",
    "cv_lb"
   ]
  },
  {
   "cell_type": "code",
   "execution_count": null,
   "id": "a9978616",
   "metadata": {},
   "outputs": [],
   "source": [
    "ax = sns.scatterplot(data=cv_lb, x='CV', y='Metric')\n",
    "ax.set_aspect('equal')\n",
    "ax.set_title('CV vs Public LB', fontsize=14)\n",
    "display(cv_lb.corr())"
   ]
  },
  {
   "cell_type": "markdown",
   "id": "33a00b7c",
   "metadata": {},
   "source": [
    "# Compare submission files"
   ]
  },
  {
   "cell_type": "markdown",
   "id": "36287510",
   "metadata": {},
   "source": [
    "## Corerration matrix"
   ]
  },
  {
   "cell_type": "code",
   "execution_count": null,
   "id": "fb395a1a",
   "metadata": {},
   "outputs": [],
   "source": [
    "submissions = pd.DataFrame()\n",
    "for filepath in glob.glob(os.path.join('exp*', '*_submission.csv')):\n",
    "    df = pd.read_csv(filepath)\n",
    "    submissions[os.path.split(filepath)[0]] = df['target'].values\n",
    "submissions"
   ]
  },
  {
   "cell_type": "code",
   "execution_count": null,
   "id": "d8669cac",
   "metadata": {},
   "outputs": [],
   "source": [
    "plt.figure(figsize=(12.5, 12.5))\n",
    "sns.heatmap(submissions.corr(), vmin=-1, vmax=1, annot=True)\n",
    "sns.despine()"
   ]
  },
  {
   "cell_type": "markdown",
   "id": "b04f805b",
   "metadata": {},
   "source": [
    "## Pairplot"
   ]
  },
  {
   "cell_type": "code",
   "execution_count": null,
   "id": "ae7513f0",
   "metadata": {},
   "outputs": [],
   "source": [
    "plt.figure(figsize=(8.5, 8.5))\n",
    "sns.pairplot(submissions, corner=True)\n",
    "sns.despine()"
   ]
  }
 ],
 "metadata": {
  "kernelspec": {
   "display_name": "Python 3 (ipykernel)",
   "language": "python",
   "name": "python3"
  },
  "language_info": {
   "codemirror_mode": {
    "name": "ipython",
    "version": 3
   },
   "file_extension": ".py",
   "mimetype": "text/x-python",
   "name": "python",
   "nbconvert_exporter": "python",
   "pygments_lexer": "ipython3",
   "version": "3.9.0"
  }
 },
 "nbformat": 4,
 "nbformat_minor": 5
}
