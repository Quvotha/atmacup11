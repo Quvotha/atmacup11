{
 "cells": [
  {
   "cell_type": "markdown",
   "metadata": {},
   "source": [
    "# Settings"
   ]
  },
  {
   "cell_type": "code",
   "execution_count": 1,
   "metadata": {
    "execution": {
     "iopub.execute_input": "2021-07-18T20:08:16.954305Z",
     "iopub.status.busy": "2021-07-18T20:08:16.953299Z",
     "iopub.status.idle": "2021-07-18T20:08:16.958812Z",
     "shell.execute_reply": "2021-07-18T20:08:16.958812Z"
    }
   },
   "outputs": [],
   "source": [
    "EXP_NO = 20\n",
    "SEED = 1\n",
    "N_SPLITS = 5\n",
    "TARGET = 'target'\n",
    "GROUP = 'art_series_id'\n",
    "REGRESSION = True"
   ]
  },
  {
   "cell_type": "code",
   "execution_count": 2,
   "metadata": {
    "execution": {
     "iopub.execute_input": "2021-07-18T20:08:16.958812Z",
     "iopub.status.busy": "2021-07-18T20:08:16.958812Z",
     "iopub.status.idle": "2021-07-18T20:08:16.974446Z",
     "shell.execute_reply": "2021-07-18T20:08:16.974446Z"
    }
   },
   "outputs": [],
   "source": [
    "assert((TARGET, REGRESSION) in (('target', True), ('target', False), ('sorting_date', True)))"
   ]
  },
  {
   "cell_type": "markdown",
   "metadata": {},
   "source": [
    "# Library"
   ]
  },
  {
   "cell_type": "code",
   "execution_count": 3,
   "metadata": {
    "execution": {
     "iopub.execute_input": "2021-07-18T20:08:16.974446Z",
     "iopub.status.busy": "2021-07-18T20:08:16.974446Z",
     "iopub.status.idle": "2021-07-18T20:08:20.307818Z",
     "shell.execute_reply": "2021-07-18T20:08:20.307818Z"
    }
   },
   "outputs": [],
   "source": [
    "from collections import defaultdict\n",
    "from functools import partial\n",
    "import gc\n",
    "import glob\n",
    "import json\n",
    "from logging import getLogger, StreamHandler, FileHandler, DEBUG, Formatter\n",
    "import pickle\n",
    "import os\n",
    "import sys\n",
    "import time\n",
    "\n",
    "import lightgbm as lgbm\n",
    "import matplotlib.pyplot as plt\n",
    "import numpy as np\n",
    "import pandas as pd\n",
    "import seaborn as sns\n",
    "from skimage.feature import hog\n",
    "from skimage.color import rgb2hsv\n",
    "from sklearn.svm import SVR\n",
    "from sklearn.metrics import confusion_matrix, mean_squared_error, cohen_kappa_score\n",
    "from sklearnex import patch_sklearn\n",
    "\n",
    "\n",
    "SCRIPTS_DIR = os.path.join('..', 'scripts')\n",
    "assert(os.path.isdir(SCRIPTS_DIR))\n",
    "if SCRIPTS_DIR not in sys.path: sys.path.append(SCRIPTS_DIR)\n",
    "\n",
    "from cross_validation import load_cv_object_ids\n",
    "from features import extract_representative_color_features, extract_representative_colors\n",
    "from dataset import load_csvfiles, load_photofile\n",
    "from folder import experiment_dir_of\n",
    "from target import soring_date2target"
   ]
  },
  {
   "cell_type": "code",
   "execution_count": 4,
   "metadata": {
    "execution": {
     "iopub.execute_input": "2021-07-18T20:08:20.307818Z",
     "iopub.status.busy": "2021-07-18T20:08:20.307818Z",
     "iopub.status.idle": "2021-07-18T20:08:20.323443Z",
     "shell.execute_reply": "2021-07-18T20:08:20.323443Z"
    }
   },
   "outputs": [],
   "source": [
    "pd.options.display.float_format = '{:.5f}'.format"
   ]
  },
  {
   "cell_type": "code",
   "execution_count": 5,
   "metadata": {},
   "outputs": [
    {
     "name": "stderr",
     "output_type": "stream",
     "text": [
      "Intel(R) Extension for Scikit-learn* enabled (https://github.com/intel/scikit-learn-intelex)\n"
     ]
    }
   ],
   "source": [
    "patch_sklearn()"
   ]
  },
  {
   "cell_type": "markdown",
   "metadata": {},
   "source": [
    "# Prepare directory"
   ]
  },
  {
   "cell_type": "code",
   "execution_count": 6,
   "metadata": {
    "execution": {
     "iopub.execute_input": "2021-07-18T20:08:20.323443Z",
     "iopub.status.busy": "2021-07-18T20:08:20.323443Z",
     "iopub.status.idle": "2021-07-18T20:08:20.339068Z",
     "shell.execute_reply": "2021-07-18T20:08:20.339068Z"
    }
   },
   "outputs": [],
   "source": [
    "output_dir = experiment_dir_of(EXP_NO)"
   ]
  },
  {
   "cell_type": "code",
   "execution_count": 7,
   "metadata": {
    "execution": {
     "iopub.execute_input": "2021-07-18T20:08:20.339068Z",
     "iopub.status.busy": "2021-07-18T20:08:20.339068Z",
     "iopub.status.idle": "2021-07-18T20:08:20.354692Z",
     "shell.execute_reply": "2021-07-18T20:08:20.354692Z"
    }
   },
   "outputs": [
    {
     "data": {
      "text/plain": [
       "'..\\\\scripts\\\\..\\\\experiments\\\\exp020'"
      ]
     },
     "execution_count": 7,
     "metadata": {},
     "output_type": "execute_result"
    }
   ],
   "source": [
    "output_dir"
   ]
  },
  {
   "cell_type": "markdown",
   "metadata": {},
   "source": [
    "# Prepare logger"
   ]
  },
  {
   "cell_type": "code",
   "execution_count": 8,
   "metadata": {
    "execution": {
     "iopub.execute_input": "2021-07-18T20:08:20.354692Z",
     "iopub.status.busy": "2021-07-18T20:08:20.354692Z",
     "iopub.status.idle": "2021-07-18T20:08:20.370316Z",
     "shell.execute_reply": "2021-07-18T20:08:20.370316Z"
    }
   },
   "outputs": [],
   "source": [
    "logger = getLogger(__name__)"
   ]
  },
  {
   "cell_type": "code",
   "execution_count": 9,
   "metadata": {
    "execution": {
     "iopub.execute_input": "2021-07-18T20:08:20.370316Z",
     "iopub.status.busy": "2021-07-18T20:08:20.370316Z",
     "iopub.status.idle": "2021-07-18T20:08:20.385940Z",
     "shell.execute_reply": "2021-07-18T20:08:20.385940Z"
    }
   },
   "outputs": [
    {
     "data": {
      "text/plain": [
       "2"
      ]
     },
     "execution_count": 9,
     "metadata": {},
     "output_type": "execute_result"
    }
   ],
   "source": [
    "'''Refference\n",
    "https://docs.python.org/ja/3/howto/logging-cookbook.html\n",
    "'''\n",
    "logger.setLevel(DEBUG)\n",
    "# create file handler which logs even debug messages\n",
    "fh = FileHandler(os.path.join(output_dir, 'log.log'))\n",
    "fh.setLevel(DEBUG)\n",
    "# create console handler with a higher log level\n",
    "ch = StreamHandler()\n",
    "ch.setLevel(DEBUG)\n",
    "# create formatter and add it to the handlers\n",
    "formatter = Formatter('%(asctime)s - %(name)s - %(levelname)s - %(message)s')\n",
    "fh.setFormatter(formatter)\n",
    "ch.setFormatter(formatter)\n",
    "# add the handlers to the logger\n",
    "logger.addHandler(fh)\n",
    "logger.addHandler(ch)\n",
    "len(logger.handlers)"
   ]
  },
  {
   "cell_type": "code",
   "execution_count": 10,
   "metadata": {
    "execution": {
     "iopub.execute_input": "2021-07-18T20:08:20.385940Z",
     "iopub.status.busy": "2021-07-18T20:08:20.385940Z",
     "iopub.status.idle": "2021-07-18T20:08:20.401565Z",
     "shell.execute_reply": "2021-07-18T20:08:20.401565Z"
    }
   },
   "outputs": [
    {
     "name": "stderr",
     "output_type": "stream",
     "text": [
      "2021-07-21 19:36:10,626 - __main__ - INFO - Experiment no: 20\n",
      "2021-07-21 19:36:10,627 - __main__ - INFO - CV: StratifiedGroupKFold\n",
      "2021-07-21 19:36:10,628 - __main__ - INFO - SEED: 1\n",
      "2021-07-21 19:36:10,629 - __main__ - INFO - REGRESSION: True\n"
     ]
    }
   ],
   "source": [
    "logger.info('Experiment no: {}'.format(EXP_NO))\n",
    "logger.info('CV: StratifiedGroupKFold')\n",
    "logger.info('SEED: {}'.format(SEED))\n",
    "logger.info('REGRESSION: {}'.format(REGRESSION))"
   ]
  },
  {
   "cell_type": "markdown",
   "metadata": {},
   "source": [
    "# Load csv files"
   ]
  },
  {
   "cell_type": "code",
   "execution_count": 11,
   "metadata": {
    "execution": {
     "iopub.execute_input": "2021-07-18T20:08:20.401565Z",
     "iopub.status.busy": "2021-07-18T20:08:20.401565Z",
     "iopub.status.idle": "2021-07-18T20:08:20.417191Z",
     "shell.execute_reply": "2021-07-18T20:08:20.417191Z"
    }
   },
   "outputs": [],
   "source": [
    "SINCE = time.time()"
   ]
  },
  {
   "cell_type": "code",
   "execution_count": 12,
   "metadata": {
    "execution": {
     "iopub.execute_input": "2021-07-18T20:08:20.417191Z",
     "iopub.status.busy": "2021-07-18T20:08:20.417191Z",
     "iopub.status.idle": "2021-07-18T20:08:20.448443Z",
     "shell.execute_reply": "2021-07-18T20:08:20.448443Z"
    }
   },
   "outputs": [
    {
     "name": "stderr",
     "output_type": "stream",
     "text": [
      "2021-07-21 19:36:10,655 - __main__ - DEBUG - Start loading csv files (0.017 seconds passed)\n",
      "2021-07-21 19:36:10,678 - __main__ - DEBUG - Complete loading csv files (0.040 seconds passed)\n"
     ]
    }
   ],
   "source": [
    "logger.debug('Start loading csv files ({:.3f} seconds passed)'.format(time.time() - SINCE))\n",
    "train, test, materials, techniques, sample_submission = load_csvfiles()\n",
    "logger.debug('Complete loading csv files ({:.3f} seconds passed)'.format(time.time() - SINCE))"
   ]
  },
  {
   "cell_type": "code",
   "execution_count": 13,
   "metadata": {
    "execution": {
     "iopub.execute_input": "2021-07-18T20:08:20.448443Z",
     "iopub.status.busy": "2021-07-18T20:08:20.448443Z",
     "iopub.status.idle": "2021-07-18T20:08:20.464067Z",
     "shell.execute_reply": "2021-07-18T20:08:20.464067Z"
    }
   },
   "outputs": [
    {
     "data": {
      "text/html": [
       "<div>\n",
       "<style scoped>\n",
       "    .dataframe tbody tr th:only-of-type {\n",
       "        vertical-align: middle;\n",
       "    }\n",
       "\n",
       "    .dataframe tbody tr th {\n",
       "        vertical-align: top;\n",
       "    }\n",
       "\n",
       "    .dataframe thead th {\n",
       "        text-align: right;\n",
       "    }\n",
       "</style>\n",
       "<table border=\"1\" class=\"dataframe\">\n",
       "  <thead>\n",
       "    <tr style=\"text-align: right;\">\n",
       "      <th></th>\n",
       "      <th>object_id</th>\n",
       "      <th>sorting_date</th>\n",
       "      <th>art_series_id</th>\n",
       "      <th>target</th>\n",
       "    </tr>\n",
       "  </thead>\n",
       "  <tbody>\n",
       "    <tr>\n",
       "      <th>0</th>\n",
       "      <td>002bff09b09998d0be65</td>\n",
       "      <td>1631</td>\n",
       "      <td>509357f67692a6a45626</td>\n",
       "      <td>1</td>\n",
       "    </tr>\n",
       "    <tr>\n",
       "      <th>1</th>\n",
       "      <td>00309fb1ef05416f9c1f</td>\n",
       "      <td>1900</td>\n",
       "      <td>7987b47bbe5dc3039179</td>\n",
       "      <td>3</td>\n",
       "    </tr>\n",
       "    <tr>\n",
       "      <th>2</th>\n",
       "      <td>003a1562e97f79ba96dc</td>\n",
       "      <td>1834</td>\n",
       "      <td>ded7c3c9636708e5b14c</td>\n",
       "      <td>3</td>\n",
       "    </tr>\n",
       "    <tr>\n",
       "      <th>3</th>\n",
       "      <td>004890880e8e7431147b</td>\n",
       "      <td>1743</td>\n",
       "      <td>582ac2d7f0cef195b605</td>\n",
       "      <td>2</td>\n",
       "    </tr>\n",
       "    <tr>\n",
       "      <th>4</th>\n",
       "      <td>00718c32602425f504c1</td>\n",
       "      <td>1885</td>\n",
       "      <td>64c907f0c08dce4fb8e8</td>\n",
       "      <td>3</td>\n",
       "    </tr>\n",
       "    <tr>\n",
       "      <th>...</th>\n",
       "      <td>...</td>\n",
       "      <td>...</td>\n",
       "      <td>...</td>\n",
       "      <td>...</td>\n",
       "    </tr>\n",
       "    <tr>\n",
       "      <th>3932</th>\n",
       "      <td>ffa3259fff8e6f3818a1</td>\n",
       "      <td>1850</td>\n",
       "      <td>b187c294b0550acf049a</td>\n",
       "      <td>3</td>\n",
       "    </tr>\n",
       "    <tr>\n",
       "      <th>3933</th>\n",
       "      <td>ffd4d361756587883e48</td>\n",
       "      <td>1670</td>\n",
       "      <td>ad49a044770a48f860a6</td>\n",
       "      <td>1</td>\n",
       "    </tr>\n",
       "    <tr>\n",
       "      <th>3934</th>\n",
       "      <td>ffd794b7b311b7b7fd92</td>\n",
       "      <td>1789</td>\n",
       "      <td>f030a01b480b18a27be2</td>\n",
       "      <td>2</td>\n",
       "    </tr>\n",
       "    <tr>\n",
       "      <th>3935</th>\n",
       "      <td>ffe49bba69d06446de7e</td>\n",
       "      <td>1805</td>\n",
       "      <td>f5287bc84a05aada1d17</td>\n",
       "      <td>3</td>\n",
       "    </tr>\n",
       "    <tr>\n",
       "      <th>3936</th>\n",
       "      <td>ffe77db10be3400bed53</td>\n",
       "      <td>1700</td>\n",
       "      <td>60dec6e091cdd973e617</td>\n",
       "      <td>1</td>\n",
       "    </tr>\n",
       "  </tbody>\n",
       "</table>\n",
       "<p>3937 rows × 4 columns</p>\n",
       "</div>"
      ],
      "text/plain": [
       "                 object_id  sorting_date         art_series_id  target\n",
       "0     002bff09b09998d0be65          1631  509357f67692a6a45626       1\n",
       "1     00309fb1ef05416f9c1f          1900  7987b47bbe5dc3039179       3\n",
       "2     003a1562e97f79ba96dc          1834  ded7c3c9636708e5b14c       3\n",
       "3     004890880e8e7431147b          1743  582ac2d7f0cef195b605       2\n",
       "4     00718c32602425f504c1          1885  64c907f0c08dce4fb8e8       3\n",
       "...                    ...           ...                   ...     ...\n",
       "3932  ffa3259fff8e6f3818a1          1850  b187c294b0550acf049a       3\n",
       "3933  ffd4d361756587883e48          1670  ad49a044770a48f860a6       1\n",
       "3934  ffd794b7b311b7b7fd92          1789  f030a01b480b18a27be2       2\n",
       "3935  ffe49bba69d06446de7e          1805  f5287bc84a05aada1d17       3\n",
       "3936  ffe77db10be3400bed53          1700  60dec6e091cdd973e617       1\n",
       "\n",
       "[3937 rows x 4 columns]"
      ]
     },
     "execution_count": 13,
     "metadata": {},
     "output_type": "execute_result"
    }
   ],
   "source": [
    "train"
   ]
  },
  {
   "cell_type": "code",
   "execution_count": 14,
   "metadata": {
    "execution": {
     "iopub.execute_input": "2021-07-18T20:08:20.464067Z",
     "iopub.status.busy": "2021-07-18T20:08:20.464067Z",
     "iopub.status.idle": "2021-07-18T20:08:20.479691Z",
     "shell.execute_reply": "2021-07-18T20:08:20.479691Z"
    }
   },
   "outputs": [
    {
     "data": {
      "text/html": [
       "<div>\n",
       "<style scoped>\n",
       "    .dataframe tbody tr th:only-of-type {\n",
       "        vertical-align: middle;\n",
       "    }\n",
       "\n",
       "    .dataframe tbody tr th {\n",
       "        vertical-align: top;\n",
       "    }\n",
       "\n",
       "    .dataframe thead th {\n",
       "        text-align: right;\n",
       "    }\n",
       "</style>\n",
       "<table border=\"1\" class=\"dataframe\">\n",
       "  <thead>\n",
       "    <tr style=\"text-align: right;\">\n",
       "      <th></th>\n",
       "      <th>object_id</th>\n",
       "    </tr>\n",
       "  </thead>\n",
       "  <tbody>\n",
       "    <tr>\n",
       "      <th>0</th>\n",
       "      <td>0009e50b94be36ccad39</td>\n",
       "    </tr>\n",
       "    <tr>\n",
       "      <th>1</th>\n",
       "      <td>000bd5e82eb22f199f44</td>\n",
       "    </tr>\n",
       "    <tr>\n",
       "      <th>2</th>\n",
       "      <td>0015f44de1854f617516</td>\n",
       "    </tr>\n",
       "    <tr>\n",
       "      <th>3</th>\n",
       "      <td>00388a678879ba1efa27</td>\n",
       "    </tr>\n",
       "    <tr>\n",
       "      <th>4</th>\n",
       "      <td>005e1e7c6496902d23f3</td>\n",
       "    </tr>\n",
       "    <tr>\n",
       "      <th>...</th>\n",
       "      <td>...</td>\n",
       "    </tr>\n",
       "    <tr>\n",
       "      <th>5914</th>\n",
       "      <td>ffbe65ad399b632dcbd0</td>\n",
       "    </tr>\n",
       "    <tr>\n",
       "      <th>5915</th>\n",
       "      <td>ffd7b2d646c0320c311a</td>\n",
       "    </tr>\n",
       "    <tr>\n",
       "      <th>5916</th>\n",
       "      <td>ffdb93ede17d4501e530</td>\n",
       "    </tr>\n",
       "    <tr>\n",
       "      <th>5917</th>\n",
       "      <td>ffe111402004b0ed46b4</td>\n",
       "    </tr>\n",
       "    <tr>\n",
       "      <th>5918</th>\n",
       "      <td>fffdb3c248a7dcd3cccf</td>\n",
       "    </tr>\n",
       "  </tbody>\n",
       "</table>\n",
       "<p>5919 rows × 1 columns</p>\n",
       "</div>"
      ],
      "text/plain": [
       "                 object_id\n",
       "0     0009e50b94be36ccad39\n",
       "1     000bd5e82eb22f199f44\n",
       "2     0015f44de1854f617516\n",
       "3     00388a678879ba1efa27\n",
       "4     005e1e7c6496902d23f3\n",
       "...                    ...\n",
       "5914  ffbe65ad399b632dcbd0\n",
       "5915  ffd7b2d646c0320c311a\n",
       "5916  ffdb93ede17d4501e530\n",
       "5917  ffe111402004b0ed46b4\n",
       "5918  fffdb3c248a7dcd3cccf\n",
       "\n",
       "[5919 rows x 1 columns]"
      ]
     },
     "execution_count": 14,
     "metadata": {},
     "output_type": "execute_result"
    }
   ],
   "source": [
    "test"
   ]
  },
  {
   "cell_type": "markdown",
   "metadata": {},
   "source": [
    "# Feature engineering"
   ]
  },
  {
   "cell_type": "markdown",
   "metadata": {},
   "source": [
    "## Extract representative colors"
   ]
  },
  {
   "cell_type": "markdown",
   "metadata": {},
   "source": [
    "Refference:  \n",
    "https://qiita.com/simonritchie/items/396112fb8a10702a3644"
   ]
  },
  {
   "cell_type": "markdown",
   "metadata": {},
   "source": [
    "### Example: extract 5 representative colors"
   ]
  },
  {
   "cell_type": "code",
   "execution_count": 15,
   "metadata": {},
   "outputs": [
    {
     "data": {
      "text/plain": [
       "'02347217e42a82dd5d64'"
      ]
     },
     "execution_count": 15,
     "metadata": {},
     "output_type": "execute_result"
    }
   ],
   "source": [
    "sample_object_id = train.sample(1)['object_id'].values[0]\n",
    "sample_object_id"
   ]
  },
  {
   "cell_type": "code",
   "execution_count": 16,
   "metadata": {},
   "outputs": [
    {
     "data": {
      "text/plain": [
       "<matplotlib.image.AxesImage at 0x1e6485d2310>"
      ]
     },
     "execution_count": 16,
     "metadata": {},
     "output_type": "execute_result"
    },
    {
     "data": {
      "image/png": "[encoded data removed]",
      "text/plain": [
       "<Figure size 432x288 with 1 Axes>"
      ]
     },
     "metadata": {
      "needs_background": "light"
     },
     "output_type": "display_data"
    }
   ],
   "source": [
    "image = load_photofile(sample_object_id)\n",
    "plt.imshow(image)"
   ]
  },
  {
   "cell_type": "code",
   "execution_count": 17,
   "metadata": {},
   "outputs": [
    {
     "name": "stderr",
     "output_type": "stream",
     "text": [
      "C:\\Users\\nndropout\\miniconda3\\envs\\atmacup11\\lib\\site-packages\\sklearn\\cluster\\_kmeans.py:792: FutureWarning: 'n_jobs' was deprecated in version 0.23 and will be removed in 1.0 (renaming of 0.25).\n",
      "  warnings.warn(\"'n_jobs' was deprecated in version 0.23 and will be\"\n"
     ]
    },
    {
     "name": "stdout",
     "output_type": "stream",
     "text": [
      "Wall time: 829 ms\n"
     ]
    },
    {
     "data": {
      "text/plain": [
       "array([151.50283861, 138.08678021, 116.81021898, 170.8596094 ,\n",
       "       157.9459383 , 137.0478347 , 185.37556054, 172.62972454,\n",
       "       151.52098014, 198.76422764, 186.37347561, 164.88998984,\n",
       "       210.06748003, 198.30425394, 176.94580004, 219.41004184,\n",
       "       210.326867  , 191.00748066, 228.17114137, 220.33426645,\n",
       "       202.42231836, 251.36509704, 247.79080496, 242.21174038])"
      ]
     },
     "execution_count": 17,
     "metadata": {},
     "output_type": "execute_result"
    }
   ],
   "source": [
    "%%time\n",
    "representitive_colors = extract_representative_colors(image, n_jobs=-1, num_colors=8, seed=SEED)\n",
    "representitive_colors"
   ]
  },
  {
   "cell_type": "code",
   "execution_count": 18,
   "metadata": {},
   "outputs": [
    {
     "data": {
      "image/png": "[encoded data removed]",
      "text/plain": [
       "<PIL.Image.Image image mode=RGB size=32x32 at 0x1E64863B520>"
      ]
     },
     "metadata": {},
     "output_type": "display_data"
    },
    {
     "data": {
      "image/png": "[encoded data removed]",
      "text/plain": [
       "<PIL.Image.Image image mode=RGB size=32x32 at 0x1E64864DCA0>"
      ]
     },
     "metadata": {},
     "output_type": "display_data"
    },
    {
     "data": {
      "image/png": "[encoded data removed]",
      "text/plain": [
       "<PIL.Image.Image image mode=RGB size=32x32 at 0x1E64863BD90>"
      ]
     },
     "metadata": {},
     "output_type": "display_data"
    },
    {
     "data": {
      "image/png": "[encoded data removed]",
      "text/plain": [
       "<PIL.Image.Image image mode=RGB size=32x32 at 0x1E64863B400>"
      ]
     },
     "metadata": {},
     "output_type": "display_data"
    },
    {
     "data": {
      "image/png": "[encoded data removed]",
      "text/plain": [
       "<PIL.Image.Image image mode=RGB size=32x32 at 0x1E64863BD90>"
      ]
     },
     "metadata": {},
     "output_type": "display_data"
    },
    {
     "data": {
      "image/png": "[encoded data removed]",
      "text/plain": [
       "<PIL.Image.Image image mode=RGB size=32x32 at 0x1E63D5BCD00>"
      ]
     },
     "metadata": {},
     "output_type": "display_data"
    },
    {
     "data": {
      "image/png": "[encoded data removed]",
      "text/plain": [
       "<PIL.Image.Image image mode=RGB size=32x32 at 0x1E64863B2E0>"
      ]
     },
     "metadata": {},
     "output_type": "display_data"
    },
    {
     "data": {
      "image/png": "[encoded data removed]",
      "text/plain": [
       "<PIL.Image.Image image mode=RGB size=32x32 at 0x1E64863BD90>"
      ]
     },
     "metadata": {},
     "output_type": "display_data"
    }
   ],
   "source": [
    "from PIL import Image\n",
    "representitive_colors = representitive_colors.reshape(-1, 3).astype(int, copy=False)\n",
    "for rgb_arr in representitive_colors:\n",
    "    color_hex_str = '#%02x%02x%02x' % tuple(rgb_arr)\n",
    "    color_img = Image.new(\n",
    "        mode='RGB', size=(32, 32), color=color_hex_str)\n",
    "    display(color_img)"
   ]
  },
  {
   "cell_type": "code",
   "execution_count": 19,
   "metadata": {},
   "outputs": [],
   "source": [
    "import warnings"
   ]
  },
  {
   "cell_type": "code",
   "execution_count": 20,
   "metadata": {
    "execution": {
     "iopub.execute_input": "2021-07-18T20:08:20.495316Z",
     "iopub.status.busy": "2021-07-18T20:08:20.495316Z",
     "iopub.status.idle": "2021-07-18T20:09:00.164611Z",
     "shell.execute_reply": "2021-07-18T20:09:00.164611Z"
    }
   },
   "outputs": [
    {
     "name": "stdout",
     "output_type": "stream",
     "text": [
      "Wall time: 2h 16min 6s\n"
     ]
    }
   ],
   "source": [
    "%%time\n",
    "with warnings.catch_warnings():\n",
    "    warnings.simplefilter('ignore')\n",
    "    train_features = {object_id: extract_representative_color_features(object_id, seed=SEED, n_jobs=-1, num_colors=8)\n",
    "                      for object_id in train['object_id']}"
   ]
  },
  {
   "cell_type": "code",
   "execution_count": 21,
   "metadata": {
    "execution": {
     "iopub.execute_input": "2021-07-18T20:09:00.164611Z",
     "iopub.status.busy": "2021-07-18T20:09:00.164611Z",
     "iopub.status.idle": "2021-07-18T20:10:01.964606Z",
     "shell.execute_reply": "2021-07-18T20:10:01.964606Z"
    }
   },
   "outputs": [
    {
     "name": "stdout",
     "output_type": "stream",
     "text": [
      "Wall time: 3h 27min 21s\n"
     ]
    }
   ],
   "source": [
    "%%time\n",
    "with warnings.catch_warnings():\n",
    "    warnings.simplefilter('ignore')\n",
    "    X_test = np.array([extract_representative_color_features(object_id, seed=SEED, n_jobs=-1, num_colors=8)\n",
    "                      for object_id in test['object_id']])"
   ]
  },
  {
   "cell_type": "markdown",
   "metadata": {},
   "source": [
    "# Cross validation"
   ]
  },
  {
   "cell_type": "code",
   "execution_count": 22,
   "metadata": {
    "execution": {
     "iopub.execute_input": "2021-07-18T20:10:01.964606Z",
     "iopub.status.busy": "2021-07-18T20:10:01.964606Z",
     "iopub.status.idle": "2021-07-18T20:10:01.980230Z",
     "shell.execute_reply": "2021-07-18T20:10:01.980230Z"
    }
   },
   "outputs": [],
   "source": [
    "train.set_index('object_id', inplace=True)"
   ]
  },
  {
   "cell_type": "code",
   "execution_count": 23,
   "metadata": {
    "execution": {
     "iopub.execute_input": "2021-07-18T20:10:01.994728Z",
     "iopub.status.busy": "2021-07-18T20:10:01.994728Z",
     "iopub.status.idle": "2021-07-19T01:53:32.057807Z",
     "shell.execute_reply": "2021-07-19T01:53:32.057807Z"
    }
   },
   "outputs": [
    {
     "name": "stderr",
     "output_type": "stream",
     "text": [
      "2021-07-22 01:19:40,748 - __main__ - DEBUG - Start fold 1 (20610.110 seconds passed)\n",
      "2021-07-22 01:19:40,773 - __main__ - DEBUG - Start training model (20610.135 seconds passed)\n",
      "2021-07-22 01:19:43,060 - __main__ - DEBUG - Complete training (20612.423 seconds passed)\n",
      "2021-07-22 01:19:51,982 - __main__ - DEBUG - Save training fold to ..\\scripts\\..\\experiments\\exp020\\cv_fold1_training.csv (20621.344 seconds passed)\n",
      "2021-07-22 01:19:51,987 - __main__ - DEBUG - Save validation fold to ..\\scripts\\..\\experiments\\exp020\\cv_fold1_validation.csv (20621.349 seconds passed)\n",
      "2021-07-22 01:19:52,004 - __main__ - DEBUG - Save test result ..\\scripts\\..\\experiments\\exp020\\cv_fold1_test.csv (20621.366 seconds passed)\n",
      "2021-07-22 01:19:52,014 - __main__ - DEBUG - Save model ..\\scripts\\..\\experiments\\exp020\\cv_fold1_model.pkl (20621.376 seconds passed)\n",
      "2021-07-22 01:19:52,236 - __main__ - DEBUG - Complete fold 1 (20621.598 seconds passed)\n",
      "2021-07-22 01:19:52,237 - __main__ - DEBUG - Start fold 2 (20621.599 seconds passed)\n",
      "2021-07-22 01:19:52,251 - __main__ - DEBUG - Start training model (20621.613 seconds passed)\n",
      "2021-07-22 01:19:54,634 - __main__ - DEBUG - Complete training (20623.996 seconds passed)\n",
      "2021-07-22 01:20:03,270 - __main__ - DEBUG - Save training fold to ..\\scripts\\..\\experiments\\exp020\\cv_fold2_training.csv (20632.632 seconds passed)\n",
      "2021-07-22 01:20:03,276 - __main__ - DEBUG - Save validation fold to ..\\scripts\\..\\experiments\\exp020\\cv_fold2_validation.csv (20632.638 seconds passed)\n",
      "2021-07-22 01:20:03,301 - __main__ - DEBUG - Save test result ..\\scripts\\..\\experiments\\exp020\\cv_fold2_test.csv (20632.663 seconds passed)\n",
      "2021-07-22 01:20:03,308 - __main__ - DEBUG - Save model ..\\scripts\\..\\experiments\\exp020\\cv_fold2_model.pkl (20632.670 seconds passed)\n",
      "2021-07-22 01:20:03,363 - __main__ - DEBUG - Complete fold 2 (20632.725 seconds passed)\n",
      "2021-07-22 01:20:03,364 - __main__ - DEBUG - Start fold 3 (20632.726 seconds passed)\n",
      "2021-07-22 01:20:03,371 - __main__ - DEBUG - Start training model (20632.733 seconds passed)\n",
      "2021-07-22 01:20:05,648 - __main__ - DEBUG - Complete training (20635.010 seconds passed)\n",
      "2021-07-22 01:20:14,293 - __main__ - DEBUG - Save training fold to ..\\scripts\\..\\experiments\\exp020\\cv_fold3_training.csv (20643.656 seconds passed)\n",
      "2021-07-22 01:20:14,298 - __main__ - DEBUG - Save validation fold to ..\\scripts\\..\\experiments\\exp020\\cv_fold3_validation.csv (20643.661 seconds passed)\n",
      "2021-07-22 01:20:14,315 - __main__ - DEBUG - Save test result ..\\scripts\\..\\experiments\\exp020\\cv_fold3_test.csv (20643.678 seconds passed)\n",
      "2021-07-22 01:20:14,322 - __main__ - DEBUG - Save model ..\\scripts\\..\\experiments\\exp020\\cv_fold3_model.pkl (20643.685 seconds passed)\n",
      "2021-07-22 01:20:14,376 - __main__ - DEBUG - Complete fold 3 (20643.739 seconds passed)\n",
      "2021-07-22 01:20:14,377 - __main__ - DEBUG - Start fold 4 (20643.739 seconds passed)\n",
      "2021-07-22 01:20:14,386 - __main__ - DEBUG - Start training model (20643.748 seconds passed)\n",
      "2021-07-22 01:20:16,354 - __main__ - DEBUG - Complete training (20645.717 seconds passed)\n",
      "2021-07-22 01:20:25,516 - __main__ - DEBUG - Save training fold to ..\\scripts\\..\\experiments\\exp020\\cv_fold4_training.csv (20654.879 seconds passed)\n",
      "2021-07-22 01:20:25,521 - __main__ - DEBUG - Save validation fold to ..\\scripts\\..\\experiments\\exp020\\cv_fold4_validation.csv (20654.884 seconds passed)\n",
      "2021-07-22 01:20:25,538 - __main__ - DEBUG - Save test result ..\\scripts\\..\\experiments\\exp020\\cv_fold4_test.csv (20654.901 seconds passed)\n",
      "2021-07-22 01:20:25,546 - __main__ - DEBUG - Save model ..\\scripts\\..\\experiments\\exp020\\cv_fold4_model.pkl (20654.909 seconds passed)\n",
      "2021-07-22 01:20:25,623 - __main__ - DEBUG - Complete fold 4 (20654.986 seconds passed)\n",
      "2021-07-22 01:20:25,624 - __main__ - DEBUG - Start fold 5 (20654.987 seconds passed)\n",
      "2021-07-22 01:20:25,634 - __main__ - DEBUG - Start training model (20654.997 seconds passed)\n",
      "2021-07-22 01:20:27,902 - __main__ - DEBUG - Complete training (20657.264 seconds passed)\n",
      "2021-07-22 01:20:36,881 - __main__ - DEBUG - Save training fold to ..\\scripts\\..\\experiments\\exp020\\cv_fold5_training.csv (20666.244 seconds passed)\n",
      "2021-07-22 01:20:36,887 - __main__ - DEBUG - Save validation fold to ..\\scripts\\..\\experiments\\exp020\\cv_fold5_validation.csv (20666.250 seconds passed)\n",
      "2021-07-22 01:20:36,904 - __main__ - DEBUG - Save test result ..\\scripts\\..\\experiments\\exp020\\cv_fold5_test.csv (20666.267 seconds passed)\n",
      "2021-07-22 01:20:36,911 - __main__ - DEBUG - Save model ..\\scripts\\..\\experiments\\exp020\\cv_fold5_model.pkl (20666.274 seconds passed)\n",
      "2021-07-22 01:20:36,970 - __main__ - DEBUG - Complete fold 5 (20666.333 seconds passed)\n"
     ]
    }
   ],
   "source": [
    "fold_object_ids = load_cv_object_ids()\n",
    "for i, (train_object_ids, valid_object_ids) in enumerate(zip(fold_object_ids[0], fold_object_ids[1])):\n",
    "    assert(set(train_object_ids) & set(valid_object_ids) == set())\n",
    "    num_fold = i + 1\n",
    "    logger.debug('Start fold {} ({:.3f} seconds passed)'.format(num_fold, time.time() - SINCE))\n",
    "\n",
    "    # Separate dataset into training/validation fold\n",
    "    X_train = np.array([train_features[object_id] for object_id in train_object_ids])\n",
    "    y_train = train.loc[train_object_ids, TARGET].values\n",
    "    X_valid = np.array([train_features[object_id] for object_id in valid_object_ids])\n",
    "    y_valid = train.loc[valid_object_ids, TARGET].values\n",
    "    \n",
    "    # Training\n",
    "    logger.debug('Start training model ({:.3f} seconds passed)'.format(time.time() - SINCE))\n",
    "    ## train estimator\n",
    "    estimator = SVR(C=10.0)\n",
    "    estimator.fit(X_train, y_train)\n",
    "    logger.debug('Complete training ({:.3f} seconds passed)'.format(time.time() - SINCE))\n",
    "    \n",
    "    # Save model and prediction\n",
    "    ## Prediction\n",
    "    if REGRESSION:\n",
    "        pred_train = pd.DataFrame(data=estimator.predict(X_train), columns=['pred'])\n",
    "        pred_valid = pd.DataFrame(data=estimator.predict(X_valid), columns=['pred'])\n",
    "        pred_test = pd.DataFrame(data=estimator.predict(X_test), columns=['pred'])\n",
    "    else:\n",
    "        try:\n",
    "            pred_train = pd.DataFrame(data=estimator.predict_proba(X_train),\n",
    "                                      columns=estimator.classes_)\n",
    "            pred_valid = pd.DataFrame(data=estimator.predict_proba(X_valid),\n",
    "                                      columns=estimator.classes_)\n",
    "            pred_test = pd.DataFrame(data=estimator.predict_proba(X_test),\n",
    "                                     columns=estimator.classes_)\n",
    "        except AttributeError:\n",
    "            pred_train = pd.DataFrame(data=estimator.decision_function(X_train),\n",
    "                                      columns=estimator.classes_)\n",
    "            pred_valid = pd.DataFrame(data=estimator.decision_function(X_valid),\n",
    "                                      columns=estimator.classes_)\n",
    "            pred_test = pd.DataFrame(data=estimator.decision_function(X_test),\n",
    "                                     columns=estimator.classes_)\n",
    "    ## Training set\n",
    "    pred_train['object_id'] = train_object_ids\n",
    "    filepath_fold_train = os.path.join(output_dir, f'cv_fold{num_fold}_training.csv')\n",
    "    pred_train.to_csv(filepath_fold_train, index=False)\n",
    "    logger.debug('Save training fold to {} ({:.3f} seconds passed)' \\\n",
    "                .format(filepath_fold_train, time.time() - SINCE))\n",
    "    ## Validation set\n",
    "    pred_valid['object_id'] = valid_object_ids\n",
    "    filepath_fold_valid = os.path.join(output_dir, f'cv_fold{num_fold}_validation.csv')\n",
    "    pred_valid.to_csv(filepath_fold_valid, index=False)\n",
    "    logger.debug('Save validation fold to {} ({:.3f} seconds passed)' \\\n",
    "                .format(filepath_fold_valid, time.time() - SINCE))\n",
    "    ## Test set\n",
    "    pred_test['object_id'] = test['object_id'].values\n",
    "    filepath_fold_test = os.path.join(output_dir, f'cv_fold{num_fold}_test.csv')\n",
    "    pred_test.to_csv(filepath_fold_test, index=False)\n",
    "    logger.debug('Save test result {} ({:.3f} seconds passed)' \\\n",
    "                 .format(filepath_fold_test, time.time() - SINCE))\n",
    "    ## Model\n",
    "    filepath_fold_model = os.path.join(output_dir, f'cv_fold{num_fold}_model.pkl')\n",
    "    with open(filepath_fold_model, 'wb') as f:\n",
    "        pickle.dump(estimator, f)\n",
    "    logger.debug('Save model {} ({:.3f} seconds passed)'.format(filepath_fold_model, time.time() - SINCE))\n",
    "    \n",
    "    # Save memory\n",
    "    del (estimator, X_train, X_valid, y_train, y_valid, pred_train, pred_valid, pred_test)\n",
    "    gc.collect()\n",
    "\n",
    "    logger.debug('Complete fold {} ({:.3f} seconds passed)'.format(num_fold, time.time() - SINCE))"
   ]
  },
  {
   "cell_type": "markdown",
   "metadata": {},
   "source": [
    "# Evaluation"
   ]
  },
  {
   "cell_type": "code",
   "execution_count": 24,
   "metadata": {
    "execution": {
     "iopub.execute_input": "2021-07-19T01:53:32.057807Z",
     "iopub.status.busy": "2021-07-19T01:53:32.057807Z",
     "iopub.status.idle": "2021-07-19T01:53:32.073436Z",
     "shell.execute_reply": "2021-07-19T01:53:32.073436Z"
    }
   },
   "outputs": [],
   "source": [
    "rmse = partial(mean_squared_error, squared=False)"
   ]
  },
  {
   "cell_type": "code",
   "execution_count": 25,
   "metadata": {
    "execution": {
     "iopub.execute_input": "2021-07-19T01:53:32.073436Z",
     "iopub.status.busy": "2021-07-19T01:53:32.073436Z",
     "iopub.status.idle": "2021-07-19T01:53:32.089063Z",
     "shell.execute_reply": "2021-07-19T01:53:32.089063Z"
    }
   },
   "outputs": [],
   "source": [
    "# qwk = partial(cohen_kappa_score, labels=np.sort(train['target'].unique()), weights='quadratic')"
   ]
  },
  {
   "cell_type": "code",
   "execution_count": 26,
   "metadata": {
    "execution": {
     "iopub.execute_input": "2021-07-19T01:53:32.089063Z",
     "iopub.status.busy": "2021-07-19T01:53:32.089063Z",
     "iopub.status.idle": "2021-07-19T01:53:32.104732Z",
     "shell.execute_reply": "2021-07-19T01:53:32.104732Z"
    }
   },
   "outputs": [],
   "source": [
    "@np.vectorize\n",
    "def predict(proba_0: float, proba_1: float, proba_2: float, proba_3: float) -> int:\n",
    "    return np.argmax((proba_0, proba_1, proba_2, proba_3))"
   ]
  },
  {
   "cell_type": "code",
   "execution_count": 27,
   "metadata": {
    "execution": {
     "iopub.execute_input": "2021-07-19T01:53:32.104732Z",
     "iopub.status.busy": "2021-07-19T01:53:32.104732Z",
     "iopub.status.idle": "2021-07-19T01:53:32.120309Z",
     "shell.execute_reply": "2021-07-19T01:53:32.120309Z"
    }
   },
   "outputs": [],
   "source": [
    "metrics = defaultdict(list)"
   ]
  },
  {
   "cell_type": "markdown",
   "metadata": {},
   "source": [
    "## Training set"
   ]
  },
  {
   "cell_type": "code",
   "execution_count": 28,
   "metadata": {
    "execution": {
     "iopub.execute_input": "2021-07-19T01:53:32.120309Z",
     "iopub.status.busy": "2021-07-19T01:53:32.120309Z",
     "iopub.status.idle": "2021-07-19T01:53:32.229684Z",
     "shell.execute_reply": "2021-07-19T01:53:32.229684Z"
    }
   },
   "outputs": [
    {
     "name": "stderr",
     "output_type": "stream",
     "text": [
      "2021-07-22 01:20:37,048 - __main__ - DEBUG - Evaluate cv result (training set) Fold 1\n",
      "2021-07-22 01:20:37,063 - __main__ - DEBUG - Loss: 0.6559200730444071\n",
      "2021-07-22 01:20:37,064 - __main__ - DEBUG - Evaluate cv result (training set) Fold 2\n",
      "2021-07-22 01:20:37,077 - __main__ - DEBUG - Loss: 0.6386197475159422\n",
      "2021-07-22 01:20:37,078 - __main__ - DEBUG - Evaluate cv result (training set) Fold 3\n",
      "2021-07-22 01:20:37,091 - __main__ - DEBUG - Loss: 0.6504573540164685\n",
      "2021-07-22 01:20:37,091 - __main__ - DEBUG - Evaluate cv result (training set) Fold 4\n",
      "2021-07-22 01:20:37,104 - __main__ - DEBUG - Loss: 0.6420628932287621\n",
      "2021-07-22 01:20:37,105 - __main__ - DEBUG - Evaluate cv result (training set) Fold 5\n",
      "2021-07-22 01:20:37,118 - __main__ - DEBUG - Loss: 0.6526939756402065\n"
     ]
    }
   ],
   "source": [
    "pred_train_dfs = []\n",
    "for i in range(N_SPLITS):\n",
    "    num_fold = i + 1\n",
    "    logger.debug('Evaluate cv result (training set) Fold {}'.format(num_fold))\n",
    "    # Read cv result\n",
    "    filepath_fold_train = os.path.join(output_dir, f'cv_fold{num_fold}_training.csv')\n",
    "    pred_train_df = pd.read_csv(filepath_fold_train)\n",
    "    pred_train_df['actual'] = train.loc[pred_train_df['object_id'], TARGET].values\n",
    "    if REGRESSION:\n",
    "        if TARGET == 'target':\n",
    "            pred_train_df['pred'].clip(lower=0, upper=3, inplace=True)\n",
    "        else:\n",
    "            pred_train_df['pred'] = np.vectorize(soring_date2target)(pred_train_df['pred'])\n",
    "            pred_train_df['actual'] = np.vectorize(soring_date2target)(pred_train_df['actual'])\n",
    "    else:\n",
    "        pred_train_df['pred'] = predict(pred_train_df['0'], pred_train_df['1'],\n",
    "                                        pred_train_df['2'], pred_train_df['3'])\n",
    "    if not (REGRESSION and TARGET == 'target'):\n",
    "        print(confusion_matrix(pred_train_df['actual'], pred_train_df['pred'],\n",
    "                               labels=np.sort(train['target'].unique())))\n",
    "    loss = rmse(pred_train_df['actual'], pred_train_df['pred'])\n",
    "#     score = qwk(pred_train_df['actual'], pred_train_df['pred'])\n",
    "    logger.debug('Loss: {}'.format(loss))\n",
    "#     logger.debug('Score: {}'.format(score))\n",
    "    metrics['train_losses'].append(loss)\n",
    "#     metrics['train_scores'].append(score)\n",
    "    pred_train_dfs.append(pred_train_df)\n",
    "\n",
    "metrics['train_losses_avg'] = np.mean(metrics['train_losses'])\n",
    "metrics['train_losses_std'] = np.std(metrics['train_losses'])\n",
    "# metrics['train_scores_avg'] = np.mean(metrics['train_scores'])\n",
    "# metrics['train_scores_std'] = np.std(metrics['train_scores'])"
   ]
  },
  {
   "cell_type": "code",
   "execution_count": 29,
   "metadata": {
    "execution": {
     "iopub.execute_input": "2021-07-19T01:53:32.229684Z",
     "iopub.status.busy": "2021-07-19T01:53:32.229684Z",
     "iopub.status.idle": "2021-07-19T01:53:32.260934Z",
     "shell.execute_reply": "2021-07-19T01:53:32.260934Z"
    }
   },
   "outputs": [
    {
     "data": {
      "text/html": [
       "<div>\n",
       "<style scoped>\n",
       "    .dataframe tbody tr th:only-of-type {\n",
       "        vertical-align: middle;\n",
       "    }\n",
       "\n",
       "    .dataframe tbody tr th {\n",
       "        vertical-align: top;\n",
       "    }\n",
       "\n",
       "    .dataframe thead th {\n",
       "        text-align: right;\n",
       "    }\n",
       "</style>\n",
       "<table border=\"1\" class=\"dataframe\">\n",
       "  <thead>\n",
       "    <tr style=\"text-align: right;\">\n",
       "      <th></th>\n",
       "      <th>pred</th>\n",
       "      <th>actual</th>\n",
       "    </tr>\n",
       "    <tr>\n",
       "      <th>object_id</th>\n",
       "      <th></th>\n",
       "      <th></th>\n",
       "    </tr>\n",
       "  </thead>\n",
       "  <tbody>\n",
       "    <tr>\n",
       "      <th>002bff09b09998d0be65</th>\n",
       "      <td>1.17321</td>\n",
       "      <td>1</td>\n",
       "    </tr>\n",
       "    <tr>\n",
       "      <th>00309fb1ef05416f9c1f</th>\n",
       "      <td>2.38002</td>\n",
       "      <td>3</td>\n",
       "    </tr>\n",
       "    <tr>\n",
       "      <th>003a1562e97f79ba96dc</th>\n",
       "      <td>2.32518</td>\n",
       "      <td>3</td>\n",
       "    </tr>\n",
       "    <tr>\n",
       "      <th>004890880e8e7431147b</th>\n",
       "      <td>0.84172</td>\n",
       "      <td>2</td>\n",
       "    </tr>\n",
       "    <tr>\n",
       "      <th>00718c32602425f504c1</th>\n",
       "      <td>2.31994</td>\n",
       "      <td>3</td>\n",
       "    </tr>\n",
       "    <tr>\n",
       "      <th>...</th>\n",
       "      <td>...</td>\n",
       "      <td>...</td>\n",
       "    </tr>\n",
       "    <tr>\n",
       "      <th>ffa3259fff8e6f3818a1</th>\n",
       "      <td>2.14527</td>\n",
       "      <td>3</td>\n",
       "    </tr>\n",
       "    <tr>\n",
       "      <th>ffd4d361756587883e48</th>\n",
       "      <td>1.08791</td>\n",
       "      <td>1</td>\n",
       "    </tr>\n",
       "    <tr>\n",
       "      <th>ffd794b7b311b7b7fd92</th>\n",
       "      <td>1.68001</td>\n",
       "      <td>2</td>\n",
       "    </tr>\n",
       "    <tr>\n",
       "      <th>ffe49bba69d06446de7e</th>\n",
       "      <td>1.45448</td>\n",
       "      <td>3</td>\n",
       "    </tr>\n",
       "    <tr>\n",
       "      <th>ffe77db10be3400bed53</th>\n",
       "      <td>1.21797</td>\n",
       "      <td>1</td>\n",
       "    </tr>\n",
       "  </tbody>\n",
       "</table>\n",
       "<p>3937 rows × 2 columns</p>\n",
       "</div>"
      ],
      "text/plain": [
       "                        pred  actual\n",
       "object_id                           \n",
       "002bff09b09998d0be65 1.17321       1\n",
       "00309fb1ef05416f9c1f 2.38002       3\n",
       "003a1562e97f79ba96dc 2.32518       3\n",
       "004890880e8e7431147b 0.84172       2\n",
       "00718c32602425f504c1 2.31994       3\n",
       "...                      ...     ...\n",
       "ffa3259fff8e6f3818a1 2.14527       3\n",
       "ffd4d361756587883e48 1.08791       1\n",
       "ffd794b7b311b7b7fd92 1.68001       2\n",
       "ffe49bba69d06446de7e 1.45448       3\n",
       "ffe77db10be3400bed53 1.21797       1\n",
       "\n",
       "[3937 rows x 2 columns]"
      ]
     },
     "execution_count": 29,
     "metadata": {},
     "output_type": "execute_result"
    }
   ],
   "source": [
    "pred_train = pd.concat(pred_train_dfs).groupby('object_id').sum()\n",
    "pred_train = pred_train / N_SPLITS\n",
    "if not REGRESSION:\n",
    "    pred_train['pred'] = predict(pred_train['0'], pred_train['1'], pred_train['2'], pred_train['3'])\n",
    "pred_train['actual'] = train.loc[pred_train.index, TARGET].values\n",
    "if REGRESSION and TARGET == 'sorting_date':\n",
    "    pred_train['actual'] = np.vectorize(soring_date2target)(pred_train['actual'])\n",
    "# for c in ('pred', 'actual'):\n",
    "#     pred_train[c] = pred_train[c].astype('int')\n",
    "pred_train"
   ]
  },
  {
   "cell_type": "code",
   "execution_count": 30,
   "metadata": {
    "execution": {
     "iopub.execute_input": "2021-07-19T01:53:32.260934Z",
     "iopub.status.busy": "2021-07-19T01:53:32.260934Z",
     "iopub.status.idle": "2021-07-19T01:53:32.276559Z",
     "shell.execute_reply": "2021-07-19T01:53:32.276559Z"
    }
   },
   "outputs": [
    {
     "name": "stderr",
     "output_type": "stream",
     "text": [
      "2021-07-22 01:20:37,186 - __main__ - INFO - Training loss: 0.7395504178327841\n"
     ]
    }
   ],
   "source": [
    "if not (REGRESSION and TARGET == 'target'):\n",
    "    print(confusion_matrix(pred_train['actual'], pred_train['pred'], labels=np.sort(train['target'].unique())))\n",
    "loss = rmse(pred_train['actual'], pred_train['pred'])\n",
    "# score = qwk(pred_train['actual'], pred_train['pred'])\n",
    "metrics['train_loss'] = loss\n",
    "# metrics['train_score'] = score\n",
    "logger.info('Training loss: {}'.format(loss))\n",
    "# logger.info('Training score: {}'.format(score))"
   ]
  },
  {
   "cell_type": "code",
   "execution_count": 31,
   "metadata": {
    "execution": {
     "iopub.execute_input": "2021-07-19T01:53:32.276559Z",
     "iopub.status.busy": "2021-07-19T01:53:32.276559Z",
     "iopub.status.idle": "2021-07-19T01:53:32.292186Z",
     "shell.execute_reply": "2021-07-19T01:53:32.292186Z"
    }
   },
   "outputs": [
    {
     "name": "stderr",
     "output_type": "stream",
     "text": [
      "2021-07-22 01:20:37,213 - __main__ - DEBUG - Write cv result to ..\\scripts\\..\\experiments\\exp020\\prediction_train.csv\n"
     ]
    }
   ],
   "source": [
    "pred_train.to_csv(os.path.join(output_dir, 'prediction_train.csv'))\n",
    "logger.debug('Write cv result to {}'.format(os.path.join(output_dir, 'prediction_train.csv')))"
   ]
  },
  {
   "cell_type": "markdown",
   "metadata": {},
   "source": [
    "## Validation set"
   ]
  },
  {
   "cell_type": "code",
   "execution_count": 32,
   "metadata": {
    "execution": {
     "iopub.execute_input": "2021-07-19T01:53:32.292186Z",
     "iopub.status.busy": "2021-07-19T01:53:32.292186Z",
     "iopub.status.idle": "2021-07-19T01:53:32.370361Z",
     "shell.execute_reply": "2021-07-19T01:53:32.370361Z"
    }
   },
   "outputs": [
    {
     "name": "stderr",
     "output_type": "stream",
     "text": [
      "2021-07-22 01:20:37,235 - __main__ - DEBUG - Evaluate cv result (validation set) Fold 1\n",
      "2021-07-22 01:20:37,250 - __main__ - DEBUG - Loss: 0.8177676241818103\n",
      "2021-07-22 01:20:37,251 - __main__ - DEBUG - Evaluate cv result (validation set) Fold 2\n",
      "2021-07-22 01:20:37,263 - __main__ - DEBUG - Loss: 0.8690084017023342\n",
      "2021-07-22 01:20:37,264 - __main__ - DEBUG - Evaluate cv result (validation set) Fold 3\n",
      "2021-07-22 01:20:37,275 - __main__ - DEBUG - Loss: 0.8316098785293601\n",
      "2021-07-22 01:20:37,276 - __main__ - DEBUG - Evaluate cv result (validation set) Fold 4\n",
      "2021-07-22 01:20:37,287 - __main__ - DEBUG - Loss: 0.8630016664958585\n",
      "2021-07-22 01:20:37,287 - __main__ - DEBUG - Evaluate cv result (validation set) Fold 5\n",
      "2021-07-22 01:20:37,298 - __main__ - DEBUG - Loss: 0.8338738268955338\n"
     ]
    }
   ],
   "source": [
    "pred_valid_dfs = []\n",
    "for i in range(N_SPLITS):\n",
    "    num_fold = i + 1\n",
    "    logger.debug('Evaluate cv result (validation set) Fold {}'.format(num_fold))\n",
    "    # Read cv result\n",
    "    filepath_fold_valid = os.path.join(output_dir, f'cv_fold{num_fold}_validation.csv')\n",
    "    pred_valid_df = pd.read_csv(filepath_fold_valid)\n",
    "    pred_valid_df['actual'] = train.loc[pred_valid_df['object_id'], TARGET].values\n",
    "    if REGRESSION:\n",
    "        if TARGET == 'target':\n",
    "            pred_valid_df['pred'].clip(lower=0, upper=3, inplace=True)\n",
    "        else:\n",
    "            pred_valid_df['pred'] = np.vectorize(soring_date2target)(pred_valid_df['pred'])\n",
    "            pred_valid_df['actual'] = np.vectorize(soring_date2target)(pred_valid_df['actual'])\n",
    "    else:\n",
    "        pred_valid_df['pred'] = predict(pred_valid_df['0'], pred_valid_df['1'],\n",
    "                                        pred_valid_df['2'], pred_valid_df['3'])        \n",
    "    \n",
    "    if not (REGRESSION and TARGET == 'target'):\n",
    "        print(confusion_matrix(pred_valid_df['actual'], pred_valid_df['pred'],\n",
    "                               labels=np.sort(train['target'].unique())))\n",
    "    loss = rmse(pred_valid_df['actual'], pred_valid_df['pred'])\n",
    "#     score = qwk(pred_valid_df['actual'], pred_valid_df['pred'])\n",
    "    logger.debug('Loss: {}'.format(loss))\n",
    "#     logger.debug('Score: {}'.format(score))\n",
    "    metrics['valid_losses'].append(loss)\n",
    "#     metrics['valid_scores'].append(score)\n",
    "    pred_valid_dfs.append(pred_valid_df)\n",
    "    \n",
    "metrics['valid_losses_avg'] = np.mean(metrics['valid_losses'])\n",
    "metrics['valid_losses_std'] = np.std(metrics['valid_losses'])\n",
    "# metrics['valid_scores_avg'] = np.mean(metrics['valid_scores'])\n",
    "# metrics['valid_scores_std'] = np.std(metrics['valid_scores'])"
   ]
  },
  {
   "cell_type": "code",
   "execution_count": 33,
   "metadata": {
    "execution": {
     "iopub.execute_input": "2021-07-19T01:53:32.370361Z",
     "iopub.status.busy": "2021-07-19T01:53:32.370361Z",
     "iopub.status.idle": "2021-07-19T01:53:32.401610Z",
     "shell.execute_reply": "2021-07-19T01:53:32.401610Z"
    }
   },
   "outputs": [
    {
     "data": {
      "text/html": [
       "<div>\n",
       "<style scoped>\n",
       "    .dataframe tbody tr th:only-of-type {\n",
       "        vertical-align: middle;\n",
       "    }\n",
       "\n",
       "    .dataframe tbody tr th {\n",
       "        vertical-align: top;\n",
       "    }\n",
       "\n",
       "    .dataframe thead th {\n",
       "        text-align: right;\n",
       "    }\n",
       "</style>\n",
       "<table border=\"1\" class=\"dataframe\">\n",
       "  <thead>\n",
       "    <tr style=\"text-align: right;\">\n",
       "      <th></th>\n",
       "      <th>pred</th>\n",
       "      <th>actual</th>\n",
       "    </tr>\n",
       "    <tr>\n",
       "      <th>object_id</th>\n",
       "      <th></th>\n",
       "      <th></th>\n",
       "    </tr>\n",
       "  </thead>\n",
       "  <tbody>\n",
       "    <tr>\n",
       "      <th>002bff09b09998d0be65</th>\n",
       "      <td>0.30754</td>\n",
       "      <td>1</td>\n",
       "    </tr>\n",
       "    <tr>\n",
       "      <th>00309fb1ef05416f9c1f</th>\n",
       "      <td>0.60000</td>\n",
       "      <td>3</td>\n",
       "    </tr>\n",
       "    <tr>\n",
       "      <th>003a1562e97f79ba96dc</th>\n",
       "      <td>0.54862</td>\n",
       "      <td>3</td>\n",
       "    </tr>\n",
       "    <tr>\n",
       "      <th>004890880e8e7431147b</th>\n",
       "      <td>0.15862</td>\n",
       "      <td>2</td>\n",
       "    </tr>\n",
       "    <tr>\n",
       "      <th>00718c32602425f504c1</th>\n",
       "      <td>0.55454</td>\n",
       "      <td>3</td>\n",
       "    </tr>\n",
       "    <tr>\n",
       "      <th>...</th>\n",
       "      <td>...</td>\n",
       "      <td>...</td>\n",
       "    </tr>\n",
       "    <tr>\n",
       "      <th>ffa3259fff8e6f3818a1</th>\n",
       "      <td>0.44896</td>\n",
       "      <td>3</td>\n",
       "    </tr>\n",
       "    <tr>\n",
       "      <th>ffd4d361756587883e48</th>\n",
       "      <td>0.24465</td>\n",
       "      <td>1</td>\n",
       "    </tr>\n",
       "    <tr>\n",
       "      <th>ffd794b7b311b7b7fd92</th>\n",
       "      <td>0.60000</td>\n",
       "      <td>2</td>\n",
       "    </tr>\n",
       "    <tr>\n",
       "      <th>ffe49bba69d06446de7e</th>\n",
       "      <td>0.30837</td>\n",
       "      <td>3</td>\n",
       "    </tr>\n",
       "    <tr>\n",
       "      <th>ffe77db10be3400bed53</th>\n",
       "      <td>0.31541</td>\n",
       "      <td>1</td>\n",
       "    </tr>\n",
       "  </tbody>\n",
       "</table>\n",
       "<p>3937 rows × 2 columns</p>\n",
       "</div>"
      ],
      "text/plain": [
       "                        pred  actual\n",
       "object_id                           \n",
       "002bff09b09998d0be65 0.30754       1\n",
       "00309fb1ef05416f9c1f 0.60000       3\n",
       "003a1562e97f79ba96dc 0.54862       3\n",
       "004890880e8e7431147b 0.15862       2\n",
       "00718c32602425f504c1 0.55454       3\n",
       "...                      ...     ...\n",
       "ffa3259fff8e6f3818a1 0.44896       3\n",
       "ffd4d361756587883e48 0.24465       1\n",
       "ffd794b7b311b7b7fd92 0.60000       2\n",
       "ffe49bba69d06446de7e 0.30837       3\n",
       "ffe77db10be3400bed53 0.31541       1\n",
       "\n",
       "[3937 rows x 2 columns]"
      ]
     },
     "execution_count": 33,
     "metadata": {},
     "output_type": "execute_result"
    }
   ],
   "source": [
    "pred_valid = pd.concat(pred_valid_dfs).groupby('object_id').sum()\n",
    "pred_valid = pred_valid / N_SPLITS\n",
    "if not REGRESSION:\n",
    "    pred_valid['pred'] = predict(pred_valid['0'], pred_valid['1'], pred_valid['2'], pred_valid['3'])\n",
    "pred_valid['actual'] = train.loc[pred_valid.index, TARGET].values\n",
    "if REGRESSION and TARGET == 'sorting_date':\n",
    "    pred_valid['actual'] = np.vectorize(soring_date2target)(pred_valid['actual'])\n",
    "# for c in ('pred', 'actual'):\n",
    "#     pred_valid[c] = pred_valid[c].astype('int')\n",
    "pred_valid"
   ]
  },
  {
   "cell_type": "code",
   "execution_count": 34,
   "metadata": {
    "execution": {
     "iopub.execute_input": "2021-07-19T01:53:32.401610Z",
     "iopub.status.busy": "2021-07-19T01:53:32.401610Z",
     "iopub.status.idle": "2021-07-19T01:53:32.417184Z",
     "shell.execute_reply": "2021-07-19T01:53:32.417184Z"
    }
   },
   "outputs": [
    {
     "name": "stderr",
     "output_type": "stream",
     "text": [
      "2021-07-22 01:20:37,342 - __main__ - INFO - Validatino loss: 1.6956907711910478\n"
     ]
    }
   ],
   "source": [
    "if not REGRESSION:\n",
    "    print(confusion_matrix(pred_valid['actual'], pred_valid['pred'], labels=np.sort(train['target'].unique())))\n",
    "loss = rmse(pred_valid['actual'], pred_valid['pred'])\n",
    "# score = qwk(pred_valid['actual'], pred_valid['pred'])\n",
    "metrics['valid_loss'] = loss\n",
    "# metrics['valid_score'] = score\n",
    "logger.info('Validatino loss: {}'.format(loss))\n",
    "# logger.info('Validatino score: {}'.format(score))"
   ]
  },
  {
   "cell_type": "code",
   "execution_count": 35,
   "metadata": {
    "execution": {
     "iopub.execute_input": "2021-07-19T01:53:32.417184Z",
     "iopub.status.busy": "2021-07-19T01:53:32.417184Z",
     "iopub.status.idle": "2021-07-19T01:53:32.432810Z",
     "shell.execute_reply": "2021-07-19T01:53:32.432810Z"
    }
   },
   "outputs": [
    {
     "name": "stderr",
     "output_type": "stream",
     "text": [
      "2021-07-22 01:20:37,366 - __main__ - DEBUG - Write cv result to ..\\scripts\\..\\experiments\\exp020\\prediction_valid.csv\n"
     ]
    }
   ],
   "source": [
    "pred_valid.to_csv(os.path.join(output_dir, 'prediction_valid.csv'))\n",
    "logger.debug('Write cv result to {}'.format(os.path.join(output_dir, 'prediction_valid.csv')))"
   ]
  },
  {
   "cell_type": "code",
   "execution_count": 36,
   "metadata": {
    "execution": {
     "iopub.execute_input": "2021-07-19T01:53:32.432810Z",
     "iopub.status.busy": "2021-07-19T01:53:32.432810Z",
     "iopub.status.idle": "2021-07-19T01:53:32.448438Z",
     "shell.execute_reply": "2021-07-19T01:53:32.448438Z"
    }
   },
   "outputs": [
    {
     "name": "stderr",
     "output_type": "stream",
     "text": [
      "2021-07-22 01:20:37,373 - __main__ - DEBUG - Write metrics to ..\\scripts\\..\\experiments\\exp020\\metrics.json\n"
     ]
    }
   ],
   "source": [
    "with open(os.path.join(output_dir, 'metrics.json'), 'w') as f:\n",
    "    json.dump(dict(metrics), f)\n",
    "logger.debug('Write metrics to {}'.format(os.path.join(output_dir, 'metrics.json')))"
   ]
  },
  {
   "cell_type": "markdown",
   "metadata": {},
   "source": [
    "# Prediction"
   ]
  },
  {
   "cell_type": "code",
   "execution_count": 37,
   "metadata": {
    "execution": {
     "iopub.execute_input": "2021-07-19T01:53:32.448438Z",
     "iopub.status.busy": "2021-07-19T01:53:32.448438Z",
     "iopub.status.idle": "2021-07-19T01:53:32.526561Z",
     "shell.execute_reply": "2021-07-19T01:53:32.526561Z"
    }
   },
   "outputs": [],
   "source": [
    "pred_test_dfs = []\n",
    "for i in range(N_SPLITS):\n",
    "    num_fold = i + 1\n",
    "    # Read cv result\n",
    "    filepath_fold_test = os.path.join(output_dir, f'cv_fold{num_fold}_test.csv')\n",
    "    pred_test_df = pd.read_csv(filepath_fold_test)\n",
    "    pred_test_dfs.append(pred_test_df)"
   ]
  },
  {
   "cell_type": "code",
   "execution_count": 38,
   "metadata": {
    "execution": {
     "iopub.execute_input": "2021-07-19T01:53:32.526561Z",
     "iopub.status.busy": "2021-07-19T01:53:32.526561Z",
     "iopub.status.idle": "2021-07-19T01:53:32.557807Z",
     "shell.execute_reply": "2021-07-19T01:53:32.557807Z"
    }
   },
   "outputs": [
    {
     "data": {
      "text/html": [
       "<div>\n",
       "<style scoped>\n",
       "    .dataframe tbody tr th:only-of-type {\n",
       "        vertical-align: middle;\n",
       "    }\n",
       "\n",
       "    .dataframe tbody tr th {\n",
       "        vertical-align: top;\n",
       "    }\n",
       "\n",
       "    .dataframe thead th {\n",
       "        text-align: right;\n",
       "    }\n",
       "</style>\n",
       "<table border=\"1\" class=\"dataframe\">\n",
       "  <thead>\n",
       "    <tr style=\"text-align: right;\">\n",
       "      <th></th>\n",
       "      <th>pred</th>\n",
       "    </tr>\n",
       "    <tr>\n",
       "      <th>object_id</th>\n",
       "      <th></th>\n",
       "    </tr>\n",
       "  </thead>\n",
       "  <tbody>\n",
       "    <tr>\n",
       "      <th>0009e50b94be36ccad39</th>\n",
       "      <td>1.19447</td>\n",
       "    </tr>\n",
       "    <tr>\n",
       "      <th>000bd5e82eb22f199f44</th>\n",
       "      <td>2.36135</td>\n",
       "    </tr>\n",
       "    <tr>\n",
       "      <th>0015f44de1854f617516</th>\n",
       "      <td>1.23330</td>\n",
       "    </tr>\n",
       "    <tr>\n",
       "      <th>00388a678879ba1efa27</th>\n",
       "      <td>1.87745</td>\n",
       "    </tr>\n",
       "    <tr>\n",
       "      <th>005e1e7c6496902d23f3</th>\n",
       "      <td>0.96986</td>\n",
       "    </tr>\n",
       "    <tr>\n",
       "      <th>...</th>\n",
       "      <td>...</td>\n",
       "    </tr>\n",
       "    <tr>\n",
       "      <th>ffbe65ad399b632dcbd0</th>\n",
       "      <td>2.15393</td>\n",
       "    </tr>\n",
       "    <tr>\n",
       "      <th>ffd7b2d646c0320c311a</th>\n",
       "      <td>0.99894</td>\n",
       "    </tr>\n",
       "    <tr>\n",
       "      <th>ffdb93ede17d4501e530</th>\n",
       "      <td>2.14517</td>\n",
       "    </tr>\n",
       "    <tr>\n",
       "      <th>ffe111402004b0ed46b4</th>\n",
       "      <td>1.96117</td>\n",
       "    </tr>\n",
       "    <tr>\n",
       "      <th>fffdb3c248a7dcd3cccf</th>\n",
       "      <td>1.25010</td>\n",
       "    </tr>\n",
       "  </tbody>\n",
       "</table>\n",
       "<p>5919 rows × 1 columns</p>\n",
       "</div>"
      ],
      "text/plain": [
       "                        pred\n",
       "object_id                   \n",
       "0009e50b94be36ccad39 1.19447\n",
       "000bd5e82eb22f199f44 2.36135\n",
       "0015f44de1854f617516 1.23330\n",
       "00388a678879ba1efa27 1.87745\n",
       "005e1e7c6496902d23f3 0.96986\n",
       "...                      ...\n",
       "ffbe65ad399b632dcbd0 2.15393\n",
       "ffd7b2d646c0320c311a 0.99894\n",
       "ffdb93ede17d4501e530 2.14517\n",
       "ffe111402004b0ed46b4 1.96117\n",
       "fffdb3c248a7dcd3cccf 1.25010\n",
       "\n",
       "[5919 rows x 1 columns]"
      ]
     },
     "execution_count": 38,
     "metadata": {},
     "output_type": "execute_result"
    }
   ],
   "source": [
    "pred_test = pd.concat(pred_test_dfs).groupby('object_id').sum()\n",
    "pred_test = pred_test / N_SPLITS\n",
    "if REGRESSION:\n",
    "    if TARGET == 'target':\n",
    "        pred_test['pred'].clip(lower=0, upper=3, inplace=True)\n",
    "    else:\n",
    "        pred_test['pred'] = np.vectorize(soring_date2target)(pred_test['pred'])\n",
    "else:\n",
    "    pred_test['pred'] = predict(pred_test['0'], pred_test['1'], pred_test['2'], pred_test['3'])\n",
    "pred_test"
   ]
  },
  {
   "cell_type": "code",
   "execution_count": 39,
   "metadata": {
    "execution": {
     "iopub.execute_input": "2021-07-19T01:53:32.557807Z",
     "iopub.status.busy": "2021-07-19T01:53:32.557807Z",
     "iopub.status.idle": "2021-07-19T01:53:32.573434Z",
     "shell.execute_reply": "2021-07-19T01:53:32.573434Z"
    }
   },
   "outputs": [
    {
     "data": {
      "text/html": [
       "<div>\n",
       "<style scoped>\n",
       "    .dataframe tbody tr th:only-of-type {\n",
       "        vertical-align: middle;\n",
       "    }\n",
       "\n",
       "    .dataframe tbody tr th {\n",
       "        vertical-align: top;\n",
       "    }\n",
       "\n",
       "    .dataframe thead th {\n",
       "        text-align: right;\n",
       "    }\n",
       "</style>\n",
       "<table border=\"1\" class=\"dataframe\">\n",
       "  <thead>\n",
       "    <tr style=\"text-align: right;\">\n",
       "      <th></th>\n",
       "      <th>target</th>\n",
       "    </tr>\n",
       "  </thead>\n",
       "  <tbody>\n",
       "    <tr>\n",
       "      <th>0</th>\n",
       "      <td>1.19447</td>\n",
       "    </tr>\n",
       "    <tr>\n",
       "      <th>1</th>\n",
       "      <td>2.36135</td>\n",
       "    </tr>\n",
       "    <tr>\n",
       "      <th>2</th>\n",
       "      <td>1.23330</td>\n",
       "    </tr>\n",
       "    <tr>\n",
       "      <th>3</th>\n",
       "      <td>1.87745</td>\n",
       "    </tr>\n",
       "    <tr>\n",
       "      <th>4</th>\n",
       "      <td>0.96986</td>\n",
       "    </tr>\n",
       "    <tr>\n",
       "      <th>...</th>\n",
       "      <td>...</td>\n",
       "    </tr>\n",
       "    <tr>\n",
       "      <th>5914</th>\n",
       "      <td>2.15393</td>\n",
       "    </tr>\n",
       "    <tr>\n",
       "      <th>5915</th>\n",
       "      <td>0.99894</td>\n",
       "    </tr>\n",
       "    <tr>\n",
       "      <th>5916</th>\n",
       "      <td>2.14517</td>\n",
       "    </tr>\n",
       "    <tr>\n",
       "      <th>5917</th>\n",
       "      <td>1.96117</td>\n",
       "    </tr>\n",
       "    <tr>\n",
       "      <th>5918</th>\n",
       "      <td>1.25010</td>\n",
       "    </tr>\n",
       "  </tbody>\n",
       "</table>\n",
       "<p>5919 rows × 1 columns</p>\n",
       "</div>"
      ],
      "text/plain": [
       "      target\n",
       "0    1.19447\n",
       "1    2.36135\n",
       "2    1.23330\n",
       "3    1.87745\n",
       "4    0.96986\n",
       "...      ...\n",
       "5914 2.15393\n",
       "5915 0.99894\n",
       "5916 2.14517\n",
       "5917 1.96117\n",
       "5918 1.25010\n",
       "\n",
       "[5919 rows x 1 columns]"
      ]
     },
     "execution_count": 39,
     "metadata": {},
     "output_type": "execute_result"
    }
   ],
   "source": [
    "test['target'] = pred_test.loc[test['object_id'], 'pred'].values\n",
    "test = test[['target']]\n",
    "test"
   ]
  },
  {
   "cell_type": "code",
   "execution_count": 40,
   "metadata": {
    "execution": {
     "iopub.execute_input": "2021-07-19T01:53:32.573434Z",
     "iopub.status.busy": "2021-07-19T01:53:32.573434Z",
     "iopub.status.idle": "2021-07-19T01:53:32.589059Z",
     "shell.execute_reply": "2021-07-19T01:53:32.589059Z"
    }
   },
   "outputs": [
    {
     "data": {
      "text/html": [
       "<div>\n",
       "<style scoped>\n",
       "    .dataframe tbody tr th:only-of-type {\n",
       "        vertical-align: middle;\n",
       "    }\n",
       "\n",
       "    .dataframe tbody tr th {\n",
       "        vertical-align: top;\n",
       "    }\n",
       "\n",
       "    .dataframe thead th {\n",
       "        text-align: right;\n",
       "    }\n",
       "</style>\n",
       "<table border=\"1\" class=\"dataframe\">\n",
       "  <thead>\n",
       "    <tr style=\"text-align: right;\">\n",
       "      <th></th>\n",
       "      <th>target</th>\n",
       "    </tr>\n",
       "  </thead>\n",
       "  <tbody>\n",
       "    <tr>\n",
       "      <th>0</th>\n",
       "      <td>3</td>\n",
       "    </tr>\n",
       "    <tr>\n",
       "      <th>1</th>\n",
       "      <td>1</td>\n",
       "    </tr>\n",
       "    <tr>\n",
       "      <th>2</th>\n",
       "      <td>3</td>\n",
       "    </tr>\n",
       "    <tr>\n",
       "      <th>3</th>\n",
       "      <td>3</td>\n",
       "    </tr>\n",
       "    <tr>\n",
       "      <th>4</th>\n",
       "      <td>0</td>\n",
       "    </tr>\n",
       "    <tr>\n",
       "      <th>...</th>\n",
       "      <td>...</td>\n",
       "    </tr>\n",
       "    <tr>\n",
       "      <th>5914</th>\n",
       "      <td>2</td>\n",
       "    </tr>\n",
       "    <tr>\n",
       "      <th>5915</th>\n",
       "      <td>1</td>\n",
       "    </tr>\n",
       "    <tr>\n",
       "      <th>5916</th>\n",
       "      <td>1</td>\n",
       "    </tr>\n",
       "    <tr>\n",
       "      <th>5917</th>\n",
       "      <td>3</td>\n",
       "    </tr>\n",
       "    <tr>\n",
       "      <th>5918</th>\n",
       "      <td>3</td>\n",
       "    </tr>\n",
       "  </tbody>\n",
       "</table>\n",
       "<p>5919 rows × 1 columns</p>\n",
       "</div>"
      ],
      "text/plain": [
       "      target\n",
       "0          3\n",
       "1          1\n",
       "2          3\n",
       "3          3\n",
       "4          0\n",
       "...      ...\n",
       "5914       2\n",
       "5915       1\n",
       "5916       1\n",
       "5917       3\n",
       "5918       3\n",
       "\n",
       "[5919 rows x 1 columns]"
      ]
     },
     "execution_count": 40,
     "metadata": {},
     "output_type": "execute_result"
    }
   ],
   "source": [
    "sample_submission"
   ]
  },
  {
   "cell_type": "code",
   "execution_count": 41,
   "metadata": {
    "execution": {
     "iopub.execute_input": "2021-07-19T01:53:32.589059Z",
     "iopub.status.busy": "2021-07-19T01:53:32.589059Z",
     "iopub.status.idle": "2021-07-19T01:53:32.620310Z",
     "shell.execute_reply": "2021-07-19T01:53:32.620310Z"
    }
   },
   "outputs": [
    {
     "name": "stderr",
     "output_type": "stream",
     "text": [
      "2021-07-22 01:20:37,541 - __main__ - DEBUG - Write submission to ..\\scripts\\..\\experiments\\exp020\\020_submission.csv\n"
     ]
    }
   ],
   "source": [
    "test.to_csv(os.path.join(output_dir, f'{str(EXP_NO).zfill(3)}_submission.csv'), index=False)\n",
    "logger.debug('Write submission to {}'.format(os.path.join(output_dir, f'{str(EXP_NO).zfill(3)}_submission.csv')))"
   ]
  },
  {
   "cell_type": "code",
   "execution_count": 42,
   "metadata": {
    "execution": {
     "iopub.execute_input": "2021-07-19T01:53:32.620310Z",
     "iopub.status.busy": "2021-07-19T01:53:32.620310Z",
     "iopub.status.idle": "2021-07-19T01:53:32.824346Z",
     "shell.execute_reply": "2021-07-19T01:53:32.824346Z"
    }
   },
   "outputs": [
    {
     "name": "stderr",
     "output_type": "stream",
     "text": [
      "2021-07-22 01:20:37,653 - __main__ - DEBUG - Write figure to ..\\scripts\\..\\experiments\\exp020\\prediction.png\n"
     ]
    },
    {
     "data": {
      "image/png": "[encoded data removed]",
      "text/plain": [
       "<Figure size 432x288 with 1 Axes>"
      ]
     },
     "metadata": {
      "needs_background": "light"
     },
     "output_type": "display_data"
    }
   ],
   "source": [
    "fig = plt.figure()\n",
    "if not (REGRESSION and TARGET == 'target'):\n",
    "    sns.countplot(data=test, x='target')\n",
    "else:\n",
    "    sns.histplot(data=test, x='target')\n",
    "sns.despine()\n",
    "fig.savefig(os.path.join(output_dir, 'prediction.png'))\n",
    "logger.debug('Write figure to {}'.format(os.path.join(output_dir, 'prediction.png')))"
   ]
  },
  {
   "cell_type": "code",
   "execution_count": 43,
   "metadata": {
    "execution": {
     "iopub.execute_input": "2021-07-19T01:53:32.824346Z",
     "iopub.status.busy": "2021-07-19T01:53:32.824346Z",
     "iopub.status.idle": "2021-07-19T01:53:32.839975Z",
     "shell.execute_reply": "2021-07-19T01:53:32.839975Z"
    }
   },
   "outputs": [
    {
     "name": "stderr",
     "output_type": "stream",
     "text": [
      "2021-07-22 01:20:37,753 - __main__ - DEBUG - Complete (20667.115 seconds passed)\n"
     ]
    }
   ],
   "source": [
    "logger.debug('Complete ({:.3f} seconds passed)'.format(time.time() - SINCE))"
   ]
  },
  {
   "cell_type": "code",
   "execution_count": 44,
   "metadata": {},
   "outputs": [
    {
     "name": "stdout",
     "output_type": "stream",
     "text": [
      "Wall time: 27 ms\n"
     ]
    }
   ],
   "source": [
    "%%time\n",
    "with open(os.path.join(output_dir, 'train_features.pkl'), 'wb') as f:\n",
    "    pickle.dump(train_features, f)"
   ]
  },
  {
   "cell_type": "code",
   "execution_count": 45,
   "metadata": {},
   "outputs": [
    {
     "name": "stdout",
     "output_type": "stream",
     "text": [
      "Wall time: 16 ms\n"
     ]
    }
   ],
   "source": [
    "%%time\n",
    "with open(os.path.join(output_dir, 'test_features.pkl'), 'wb') as f:\n",
    "    pickle.dump(X_test, f)"
   ]
  },
  {
   "cell_type": "code",
   "execution_count": null,
   "metadata": {},
   "outputs": [],
   "source": []
  }
 ],
 "metadata": {
  "kernelspec": {
   "display_name": "Python 3 (ipykernel)",
   "language": "python",
   "name": "python3"
  },
  "language_info": {
   "codemirror_mode": {
    "name": "ipython",
    "version": 3
   },
   "file_extension": ".py",
   "mimetype": "text/x-python",
   "name": "python",
   "nbconvert_exporter": "python",
   "pygments_lexer": "ipython3",
   "version": "3.9.0"
  }
 },
 "nbformat": 4,
 "nbformat_minor": 4
}
