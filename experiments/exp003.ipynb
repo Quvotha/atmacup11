{
 "cells": [
  {
   "cell_type": "markdown",
   "metadata": {},
   "source": [
    "# Settings"
   ]
  },
  {
   "cell_type": "code",
   "execution_count": 1,
   "metadata": {},
   "outputs": [],
   "source": [
    "EXP_NO = 3\n",
    "SEED = 1\n",
    "N_SPLITS = 5\n",
    "CV = 'StratifiedKFold'\n",
    "TARGET = 'target'\n",
    "GROUP = 'art_series_id'"
   ]
  },
  {
   "cell_type": "markdown",
   "metadata": {},
   "source": [
    "# Library"
   ]
  },
  {
   "cell_type": "code",
   "execution_count": 2,
   "metadata": {},
   "outputs": [],
   "source": [
    "from collections import defaultdict\n",
    "from functools import partial\n",
    "import gc\n",
    "import glob\n",
    "import json\n",
    "from logging import getLogger, StreamHandler, FileHandler, DEBUG, Formatter\n",
    "import pickle\n",
    "import os\n",
    "import sys\n",
    "import time\n",
    "\n",
    "import lightgbm as lgbm\n",
    "import matplotlib.pyplot as plt\n",
    "import numpy as np\n",
    "import pandas as pd\n",
    "from pytorch_lightning import seed_everything\n",
    "import seaborn as sns\n",
    "from sklearn.linear_model import RidgeClassifierCV\n",
    "from sklearn.metrics import confusion_matrix, mean_squared_error, cohen_kappa_score\n",
    "from sklearn.model_selection import GroupKFold, StratifiedKFold\n",
    "import torch\n",
    "import torch.nn as nn\n",
    "import torch.optim as optim\n",
    "from torch.utils.data import DataLoader\n",
    "\n",
    "SCRIPTS_DIR = os.path.join('..', 'scripts')\n",
    "assert(os.path.dirname(SCRIPTS_DIR))\n",
    "if SCRIPTS_DIR not in sys.path: sys.path.append(SCRIPTS_DIR)\n",
    "\n",
    "from folder import experiment_dir_of\n",
    "from dataset import load_csvfiles, load_photofiles, AtmaImageDatasetV01\n",
    "from models import AutoEncoderV01"
   ]
  },
  {
   "cell_type": "code",
   "execution_count": 3,
   "metadata": {},
   "outputs": [],
   "source": [
    "pd.options.display.float_format = '{:.5f}'.format"
   ]
  },
  {
   "cell_type": "markdown",
   "metadata": {},
   "source": [
    "# Prepare directory"
   ]
  },
  {
   "cell_type": "code",
   "execution_count": 4,
   "metadata": {},
   "outputs": [],
   "source": [
    "output_dir = experiment_dir_of(EXP_NO)"
   ]
  },
  {
   "cell_type": "code",
   "execution_count": 5,
   "metadata": {},
   "outputs": [
    {
     "data": {
      "text/plain": [
       "'..\\\\scripts\\\\..\\\\experiments\\\\exp003'"
      ]
     },
     "execution_count": 5,
     "metadata": {},
     "output_type": "execute_result"
    }
   ],
   "source": [
    "output_dir"
   ]
  },
  {
   "cell_type": "markdown",
   "metadata": {},
   "source": [
    "# Prepare logger"
   ]
  },
  {
   "cell_type": "code",
   "execution_count": 6,
   "metadata": {},
   "outputs": [],
   "source": [
    "logger = getLogger(__name__)"
   ]
  },
  {
   "cell_type": "code",
   "execution_count": 7,
   "metadata": {},
   "outputs": [
    {
     "data": {
      "text/plain": [
       "2"
      ]
     },
     "execution_count": 7,
     "metadata": {},
     "output_type": "execute_result"
    }
   ],
   "source": [
    "'''Refference\n",
    "https://docs.python.org/ja/3/howto/logging-cookbook.html\n",
    "'''\n",
    "logger.setLevel(DEBUG)\n",
    "# create file handler which logs even debug messages\n",
    "fh = FileHandler(os.path.join(output_dir, 'log.log'))\n",
    "fh.setLevel(DEBUG)\n",
    "# create console handler with a higher log level\n",
    "ch = StreamHandler()\n",
    "ch.setLevel(DEBUG)\n",
    "# create formatter and add it to the handlers\n",
    "formatter = Formatter('%(asctime)s - %(name)s - %(levelname)s - %(message)s')\n",
    "fh.setFormatter(formatter)\n",
    "ch.setFormatter(formatter)\n",
    "# add the handlers to the logger\n",
    "logger.addHandler(fh)\n",
    "logger.addHandler(ch)\n",
    "len(logger.handlers)"
   ]
  },
  {
   "cell_type": "code",
   "execution_count": 8,
   "metadata": {},
   "outputs": [
    {
     "name": "stderr",
     "output_type": "stream",
     "text": [
      "2021-07-15 21:28:30,901 - __main__ - INFO - Experiment no: 3\n",
      "2021-07-15 21:28:30,904 - __main__ - INFO - CV: StratifiedKFold\n",
      "2021-07-15 21:28:30,905 - __main__ - INFO - SEED: 1\n"
     ]
    }
   ],
   "source": [
    "logger.info('Experiment no: {}'.format(EXP_NO))\n",
    "logger.info('CV: {}'.format(CV))\n",
    "logger.info('SEED: {}'.format(SEED))"
   ]
  },
  {
   "cell_type": "markdown",
   "metadata": {},
   "source": [
    "# Load csv files"
   ]
  },
  {
   "cell_type": "code",
   "execution_count": 9,
   "metadata": {},
   "outputs": [],
   "source": [
    "SINCE = time.time()"
   ]
  },
  {
   "cell_type": "code",
   "execution_count": 10,
   "metadata": {},
   "outputs": [
    {
     "name": "stderr",
     "output_type": "stream",
     "text": [
      "2021-07-15 21:28:30,934 - __main__ - DEBUG - Start loading csv files (0.017 seconds passed)\n",
      "2021-07-15 21:28:30,996 - __main__ - DEBUG - Complete loading csv files (0.079 seconds passed)\n"
     ]
    }
   ],
   "source": [
    "logger.debug('Start loading csv files ({:.3f} seconds passed)'.format(time.time() - SINCE))\n",
    "train, test, materials, techniques, sample_submission = load_csvfiles()\n",
    "logger.debug('Complete loading csv files ({:.3f} seconds passed)'.format(time.time() - SINCE))"
   ]
  },
  {
   "cell_type": "code",
   "execution_count": 11,
   "metadata": {},
   "outputs": [
    {
     "data": {
      "text/html": [
       "<div>\n",
       "<style scoped>\n",
       "    .dataframe tbody tr th:only-of-type {\n",
       "        vertical-align: middle;\n",
       "    }\n",
       "\n",
       "    .dataframe tbody tr th {\n",
       "        vertical-align: top;\n",
       "    }\n",
       "\n",
       "    .dataframe thead th {\n",
       "        text-align: right;\n",
       "    }\n",
       "</style>\n",
       "<table border=\"1\" class=\"dataframe\">\n",
       "  <thead>\n",
       "    <tr style=\"text-align: right;\">\n",
       "      <th></th>\n",
       "      <th>object_id</th>\n",
       "      <th>sorting_date</th>\n",
       "      <th>art_series_id</th>\n",
       "      <th>target</th>\n",
       "    </tr>\n",
       "  </thead>\n",
       "  <tbody>\n",
       "    <tr>\n",
       "      <th>0</th>\n",
       "      <td>002bff09b09998d0be65</td>\n",
       "      <td>1631</td>\n",
       "      <td>509357f67692a6a45626</td>\n",
       "      <td>1</td>\n",
       "    </tr>\n",
       "    <tr>\n",
       "      <th>1</th>\n",
       "      <td>00309fb1ef05416f9c1f</td>\n",
       "      <td>1900</td>\n",
       "      <td>7987b47bbe5dc3039179</td>\n",
       "      <td>3</td>\n",
       "    </tr>\n",
       "    <tr>\n",
       "      <th>2</th>\n",
       "      <td>003a1562e97f79ba96dc</td>\n",
       "      <td>1834</td>\n",
       "      <td>ded7c3c9636708e5b14c</td>\n",
       "      <td>3</td>\n",
       "    </tr>\n",
       "    <tr>\n",
       "      <th>3</th>\n",
       "      <td>004890880e8e7431147b</td>\n",
       "      <td>1743</td>\n",
       "      <td>582ac2d7f0cef195b605</td>\n",
       "      <td>2</td>\n",
       "    </tr>\n",
       "    <tr>\n",
       "      <th>4</th>\n",
       "      <td>00718c32602425f504c1</td>\n",
       "      <td>1885</td>\n",
       "      <td>64c907f0c08dce4fb8e8</td>\n",
       "      <td>3</td>\n",
       "    </tr>\n",
       "    <tr>\n",
       "      <th>...</th>\n",
       "      <td>...</td>\n",
       "      <td>...</td>\n",
       "      <td>...</td>\n",
       "      <td>...</td>\n",
       "    </tr>\n",
       "    <tr>\n",
       "      <th>3932</th>\n",
       "      <td>ffa3259fff8e6f3818a1</td>\n",
       "      <td>1850</td>\n",
       "      <td>b187c294b0550acf049a</td>\n",
       "      <td>3</td>\n",
       "    </tr>\n",
       "    <tr>\n",
       "      <th>3933</th>\n",
       "      <td>ffd4d361756587883e48</td>\n",
       "      <td>1670</td>\n",
       "      <td>ad49a044770a48f860a6</td>\n",
       "      <td>1</td>\n",
       "    </tr>\n",
       "    <tr>\n",
       "      <th>3934</th>\n",
       "      <td>ffd794b7b311b7b7fd92</td>\n",
       "      <td>1789</td>\n",
       "      <td>f030a01b480b18a27be2</td>\n",
       "      <td>2</td>\n",
       "    </tr>\n",
       "    <tr>\n",
       "      <th>3935</th>\n",
       "      <td>ffe49bba69d06446de7e</td>\n",
       "      <td>1805</td>\n",
       "      <td>f5287bc84a05aada1d17</td>\n",
       "      <td>3</td>\n",
       "    </tr>\n",
       "    <tr>\n",
       "      <th>3936</th>\n",
       "      <td>ffe77db10be3400bed53</td>\n",
       "      <td>1700</td>\n",
       "      <td>60dec6e091cdd973e617</td>\n",
       "      <td>1</td>\n",
       "    </tr>\n",
       "  </tbody>\n",
       "</table>\n",
       "<p>3937 rows × 4 columns</p>\n",
       "</div>"
      ],
      "text/plain": [
       "                 object_id  sorting_date         art_series_id  target\n",
       "0     002bff09b09998d0be65          1631  509357f67692a6a45626       1\n",
       "1     00309fb1ef05416f9c1f          1900  7987b47bbe5dc3039179       3\n",
       "2     003a1562e97f79ba96dc          1834  ded7c3c9636708e5b14c       3\n",
       "3     004890880e8e7431147b          1743  582ac2d7f0cef195b605       2\n",
       "4     00718c32602425f504c1          1885  64c907f0c08dce4fb8e8       3\n",
       "...                    ...           ...                   ...     ...\n",
       "3932  ffa3259fff8e6f3818a1          1850  b187c294b0550acf049a       3\n",
       "3933  ffd4d361756587883e48          1670  ad49a044770a48f860a6       1\n",
       "3934  ffd794b7b311b7b7fd92          1789  f030a01b480b18a27be2       2\n",
       "3935  ffe49bba69d06446de7e          1805  f5287bc84a05aada1d17       3\n",
       "3936  ffe77db10be3400bed53          1700  60dec6e091cdd973e617       1\n",
       "\n",
       "[3937 rows x 4 columns]"
      ]
     },
     "execution_count": 11,
     "metadata": {},
     "output_type": "execute_result"
    }
   ],
   "source": [
    "train"
   ]
  },
  {
   "cell_type": "code",
   "execution_count": 12,
   "metadata": {},
   "outputs": [
    {
     "data": {
      "text/html": [
       "<div>\n",
       "<style scoped>\n",
       "    .dataframe tbody tr th:only-of-type {\n",
       "        vertical-align: middle;\n",
       "    }\n",
       "\n",
       "    .dataframe tbody tr th {\n",
       "        vertical-align: top;\n",
       "    }\n",
       "\n",
       "    .dataframe thead th {\n",
       "        text-align: right;\n",
       "    }\n",
       "</style>\n",
       "<table border=\"1\" class=\"dataframe\">\n",
       "  <thead>\n",
       "    <tr style=\"text-align: right;\">\n",
       "      <th></th>\n",
       "      <th>object_id</th>\n",
       "    </tr>\n",
       "  </thead>\n",
       "  <tbody>\n",
       "    <tr>\n",
       "      <th>0</th>\n",
       "      <td>0009e50b94be36ccad39</td>\n",
       "    </tr>\n",
       "    <tr>\n",
       "      <th>1</th>\n",
       "      <td>000bd5e82eb22f199f44</td>\n",
       "    </tr>\n",
       "    <tr>\n",
       "      <th>2</th>\n",
       "      <td>0015f44de1854f617516</td>\n",
       "    </tr>\n",
       "    <tr>\n",
       "      <th>3</th>\n",
       "      <td>00388a678879ba1efa27</td>\n",
       "    </tr>\n",
       "    <tr>\n",
       "      <th>4</th>\n",
       "      <td>005e1e7c6496902d23f3</td>\n",
       "    </tr>\n",
       "    <tr>\n",
       "      <th>...</th>\n",
       "      <td>...</td>\n",
       "    </tr>\n",
       "    <tr>\n",
       "      <th>5914</th>\n",
       "      <td>ffbe65ad399b632dcbd0</td>\n",
       "    </tr>\n",
       "    <tr>\n",
       "      <th>5915</th>\n",
       "      <td>ffd7b2d646c0320c311a</td>\n",
       "    </tr>\n",
       "    <tr>\n",
       "      <th>5916</th>\n",
       "      <td>ffdb93ede17d4501e530</td>\n",
       "    </tr>\n",
       "    <tr>\n",
       "      <th>5917</th>\n",
       "      <td>ffe111402004b0ed46b4</td>\n",
       "    </tr>\n",
       "    <tr>\n",
       "      <th>5918</th>\n",
       "      <td>fffdb3c248a7dcd3cccf</td>\n",
       "    </tr>\n",
       "  </tbody>\n",
       "</table>\n",
       "<p>5919 rows × 1 columns</p>\n",
       "</div>"
      ],
      "text/plain": [
       "                 object_id\n",
       "0     0009e50b94be36ccad39\n",
       "1     000bd5e82eb22f199f44\n",
       "2     0015f44de1854f617516\n",
       "3     00388a678879ba1efa27\n",
       "4     005e1e7c6496902d23f3\n",
       "...                    ...\n",
       "5914  ffbe65ad399b632dcbd0\n",
       "5915  ffd7b2d646c0320c311a\n",
       "5916  ffdb93ede17d4501e530\n",
       "5917  ffe111402004b0ed46b4\n",
       "5918  fffdb3c248a7dcd3cccf\n",
       "\n",
       "[5919 rows x 1 columns]"
      ]
     },
     "execution_count": 12,
     "metadata": {},
     "output_type": "execute_result"
    }
   ],
   "source": [
    "test"
   ]
  },
  {
   "cell_type": "markdown",
   "metadata": {},
   "source": [
    "# Feature extraction by autoencoder"
   ]
  },
  {
   "cell_type": "markdown",
   "metadata": {},
   "source": [
    "## Train autoencoder"
   ]
  },
  {
   "cell_type": "markdown",
   "metadata": {},
   "source": [
    "Refference:  \n",
    "https://medium.com/pytorch/implementing-an-autoencoder-in-pytorch-19baa22647d1  \n",
    "https://www.guruguru.science/competitions/17/discussions/e926a5a6-78fd-4bdf-87ff-d08fbff25a02/"
   ]
  },
  {
   "cell_type": "code",
   "execution_count": 13,
   "metadata": {},
   "outputs": [],
   "source": [
    "EPOCHS = 100\n",
    "BATCH_SIZE = 512"
   ]
  },
  {
   "cell_type": "code",
   "execution_count": 14,
   "metadata": {},
   "outputs": [
    {
     "name": "stderr",
     "output_type": "stream",
     "text": [
      "2021-07-15 21:28:31,060 - __main__ - DEBUG - Train autoencoder (0.143 seconds passed)\n"
     ]
    }
   ],
   "source": [
    "logger.debug('Train autoencoder ({:.3f} seconds passed)'.format(time.time() - SINCE))"
   ]
  },
  {
   "cell_type": "code",
   "execution_count": 15,
   "metadata": {},
   "outputs": [
    {
     "name": "stderr",
     "output_type": "stream",
     "text": [
      "Global seed set to 1\n"
     ]
    },
    {
     "data": {
      "text/plain": [
       "1"
      ]
     },
     "execution_count": 15,
     "metadata": {},
     "output_type": "execute_result"
    }
   ],
   "source": [
    "seed_everything(SEED)"
   ]
  },
  {
   "cell_type": "code",
   "execution_count": 16,
   "metadata": {},
   "outputs": [
    {
     "data": {
      "text/plain": [
       "device(type='cpu')"
      ]
     },
     "execution_count": 16,
     "metadata": {},
     "output_type": "execute_result"
    }
   ],
   "source": [
    "device = torch.device(\"cuda\" if torch.cuda.is_available() else \"cpu\")\n",
    "device"
   ]
  },
  {
   "cell_type": "code",
   "execution_count": 17,
   "metadata": {},
   "outputs": [],
   "source": [
    "object_ids = train['object_id'].tolist() + test['object_id'].tolist()\n",
    "dataset = AtmaImageDatasetV01(object_ids)"
   ]
  },
  {
   "cell_type": "code",
   "execution_count": 18,
   "metadata": {},
   "outputs": [],
   "source": [
    "dataloader = DataLoader(dataset=dataset, batch_size=BATCH_SIZE, num_workers=os.cpu_count())"
   ]
  },
  {
   "cell_type": "code",
   "execution_count": 19,
   "metadata": {},
   "outputs": [],
   "source": [
    "model = AutoEncoderV01().to(device)"
   ]
  },
  {
   "cell_type": "code",
   "execution_count": 20,
   "metadata": {},
   "outputs": [],
   "source": [
    "optimizer = optim.Adam(model.parameters(), lr=1e-3)\n",
    "criterion = nn.MSELoss()"
   ]
  },
  {
   "cell_type": "code",
   "execution_count": 21,
   "metadata": {},
   "outputs": [
    {
     "name": "stderr",
     "output_type": "stream",
     "text": [
      "2021-07-15 21:28:31,271 - __main__ - DEBUG - Epoch 1/100 start\n",
      "2021-07-15 21:28:58,939 - __main__ - DEBUG - Epoch 1/100 complete: loss = 599.161682\n",
      "2021-07-15 21:28:58,939 - __main__ - DEBUG - Metrics improved: 599.161682 -> 599.161682\n",
      "2021-07-15 21:28:59,043 - __main__ - DEBUG - Epoch 2/100 start\n",
      "2021-07-15 21:29:24,194 - __main__ - DEBUG - Epoch 2/100 complete: loss = 21.652622\n",
      "2021-07-15 21:29:24,194 - __main__ - DEBUG - Metrics improved: 21.652622 -> 21.652622\n",
      "2021-07-15 21:29:24,317 - __main__ - DEBUG - Epoch 3/100 start\n",
      "2021-07-15 21:29:49,591 - __main__ - DEBUG - Epoch 3/100 complete: loss = 1.716247\n",
      "2021-07-15 21:29:49,591 - __main__ - DEBUG - Metrics improved: 1.716247 -> 1.716247\n",
      "2021-07-15 21:29:49,694 - __main__ - DEBUG - Epoch 4/100 start\n",
      "2021-07-15 21:30:15,179 - __main__ - DEBUG - Epoch 4/100 complete: loss = 0.698574\n",
      "2021-07-15 21:30:15,179 - __main__ - DEBUG - Metrics improved: 0.698574 -> 0.698574\n",
      "2021-07-15 21:30:15,286 - __main__ - DEBUG - Epoch 5/100 start\n",
      "2021-07-15 21:30:40,439 - __main__ - DEBUG - Epoch 5/100 complete: loss = 0.575024\n",
      "2021-07-15 21:30:40,439 - __main__ - DEBUG - Metrics improved: 0.575024 -> 0.575024\n",
      "2021-07-15 21:30:40,545 - __main__ - DEBUG - Epoch 6/100 start\n",
      "2021-07-15 21:31:05,676 - __main__ - DEBUG - Epoch 6/100 complete: loss = 0.524041\n",
      "2021-07-15 21:31:05,676 - __main__ - DEBUG - Metrics improved: 0.524041 -> 0.524041\n",
      "2021-07-15 21:31:05,790 - __main__ - DEBUG - Epoch 7/100 start\n",
      "2021-07-15 21:31:31,318 - __main__ - DEBUG - Epoch 7/100 complete: loss = 0.500646\n",
      "2021-07-15 21:31:31,318 - __main__ - DEBUG - Metrics improved: 0.500646 -> 0.500646\n",
      "2021-07-15 21:31:31,431 - __main__ - DEBUG - Epoch 8/100 start\n",
      "2021-07-15 21:31:56,758 - __main__ - DEBUG - Epoch 8/100 complete: loss = 0.473177\n",
      "2021-07-15 21:31:56,774 - __main__ - DEBUG - Metrics improved: 0.473177 -> 0.473177\n",
      "2021-07-15 21:31:56,874 - __main__ - DEBUG - Epoch 9/100 start\n",
      "2021-07-15 21:32:22,146 - __main__ - DEBUG - Epoch 9/100 complete: loss = 0.439884\n",
      "2021-07-15 21:32:22,146 - __main__ - DEBUG - Metrics improved: 0.439884 -> 0.439884\n",
      "2021-07-15 21:32:22,267 - __main__ - DEBUG - Epoch 10/100 start\n",
      "2021-07-15 21:32:47,585 - __main__ - DEBUG - Epoch 10/100 complete: loss = 0.404273\n",
      "2021-07-15 21:32:47,585 - __main__ - DEBUG - Metrics improved: 0.404273 -> 0.404273\n",
      "2021-07-15 21:32:47,696 - __main__ - DEBUG - Epoch 11/100 start\n",
      "2021-07-15 21:33:12,986 - __main__ - DEBUG - Epoch 11/100 complete: loss = 0.369253\n",
      "2021-07-15 21:33:12,986 - __main__ - DEBUG - Metrics improved: 0.369253 -> 0.369253\n",
      "2021-07-15 21:33:13,102 - __main__ - DEBUG - Epoch 12/100 start\n",
      "2021-07-15 21:33:38,164 - __main__ - DEBUG - Epoch 12/100 complete: loss = 0.336291\n",
      "2021-07-15 21:33:38,164 - __main__ - DEBUG - Metrics improved: 0.336291 -> 0.336291\n",
      "2021-07-15 21:33:38,280 - __main__ - DEBUG - Epoch 13/100 start\n",
      "2021-07-15 21:34:03,319 - __main__ - DEBUG - Epoch 13/100 complete: loss = 0.305671\n",
      "2021-07-15 21:34:03,319 - __main__ - DEBUG - Metrics improved: 0.305671 -> 0.305671\n",
      "2021-07-15 21:34:03,422 - __main__ - DEBUG - Epoch 14/100 start\n",
      "2021-07-15 21:34:28,854 - __main__ - DEBUG - Epoch 14/100 complete: loss = 0.277260\n",
      "2021-07-15 21:34:28,854 - __main__ - DEBUG - Metrics improved: 0.277260 -> 0.277260\n",
      "2021-07-15 21:34:28,949 - __main__ - DEBUG - Epoch 15/100 start\n",
      "2021-07-15 21:34:54,130 - __main__ - DEBUG - Epoch 15/100 complete: loss = 0.250894\n",
      "2021-07-15 21:34:54,130 - __main__ - DEBUG - Metrics improved: 0.250894 -> 0.250894\n",
      "2021-07-15 21:34:54,241 - __main__ - DEBUG - Epoch 16/100 start\n",
      "2021-07-15 21:35:19,670 - __main__ - DEBUG - Epoch 16/100 complete: loss = 0.226464\n",
      "2021-07-15 21:35:19,671 - __main__ - DEBUG - Metrics improved: 0.226464 -> 0.226464\n",
      "2021-07-15 21:35:19,768 - __main__ - DEBUG - Epoch 17/100 start\n",
      "2021-07-15 21:35:44,931 - __main__ - DEBUG - Epoch 17/100 complete: loss = 0.203902\n",
      "2021-07-15 21:35:44,931 - __main__ - DEBUG - Metrics improved: 0.203902 -> 0.203902\n",
      "2021-07-15 21:35:45,037 - __main__ - DEBUG - Epoch 18/100 start\n",
      "2021-07-15 21:36:10,418 - __main__ - DEBUG - Epoch 18/100 complete: loss = 0.183153\n",
      "2021-07-15 21:36:10,418 - __main__ - DEBUG - Metrics improved: 0.183153 -> 0.183153\n",
      "2021-07-15 21:36:10,521 - __main__ - DEBUG - Epoch 19/100 start\n",
      "2021-07-15 21:36:35,749 - __main__ - DEBUG - Epoch 19/100 complete: loss = 0.164170\n",
      "2021-07-15 21:36:35,749 - __main__ - DEBUG - Metrics improved: 0.164170 -> 0.164170\n",
      "2021-07-15 21:36:35,863 - __main__ - DEBUG - Epoch 20/100 start\n",
      "2021-07-15 21:37:01,255 - __main__ - DEBUG - Epoch 20/100 complete: loss = 0.146897\n",
      "2021-07-15 21:37:01,255 - __main__ - DEBUG - Metrics improved: 0.146897 -> 0.146897\n",
      "2021-07-15 21:37:01,358 - __main__ - DEBUG - Epoch 21/100 start\n",
      "2021-07-15 21:37:26,724 - __main__ - DEBUG - Epoch 21/100 complete: loss = 0.131265\n",
      "2021-07-15 21:37:26,740 - __main__ - DEBUG - Metrics improved: 0.131265 -> 0.131265\n",
      "2021-07-15 21:37:26,849 - __main__ - DEBUG - Epoch 22/100 start\n",
      "2021-07-15 21:37:52,161 - __main__ - DEBUG - Epoch 22/100 complete: loss = 0.117196\n",
      "2021-07-15 21:37:52,162 - __main__ - DEBUG - Metrics improved: 0.117196 -> 0.117196\n",
      "2021-07-15 21:37:52,261 - __main__ - DEBUG - Epoch 23/100 start\n",
      "2021-07-15 21:38:17,062 - __main__ - DEBUG - Epoch 23/100 complete: loss = 0.104598\n",
      "2021-07-15 21:38:17,062 - __main__ - DEBUG - Metrics improved: 0.104598 -> 0.104598\n",
      "2021-07-15 21:38:17,168 - __main__ - DEBUG - Epoch 24/100 start\n",
      "2021-07-15 21:38:42,297 - __main__ - DEBUG - Epoch 24/100 complete: loss = 0.093378\n",
      "2021-07-15 21:38:42,297 - __main__ - DEBUG - Metrics improved: 0.093378 -> 0.093378\n",
      "2021-07-15 21:38:42,412 - __main__ - DEBUG - Epoch 25/100 start\n",
      "2021-07-15 21:39:07,639 - __main__ - DEBUG - Epoch 25/100 complete: loss = 0.083436\n",
      "2021-07-15 21:39:07,639 - __main__ - DEBUG - Metrics improved: 0.083436 -> 0.083436\n",
      "2021-07-15 21:39:07,754 - __main__ - DEBUG - Epoch 26/100 start\n",
      "2021-07-15 21:39:33,070 - __main__ - DEBUG - Epoch 26/100 complete: loss = 0.074667\n",
      "2021-07-15 21:39:33,070 - __main__ - DEBUG - Metrics improved: 0.074667 -> 0.074667\n",
      "2021-07-15 21:39:33,167 - __main__ - DEBUG - Epoch 27/100 start\n",
      "2021-07-15 21:39:58,458 - __main__ - DEBUG - Epoch 27/100 complete: loss = 0.066966\n",
      "2021-07-15 21:39:58,458 - __main__ - DEBUG - Metrics improved: 0.066966 -> 0.066966\n",
      "2021-07-15 21:39:58,559 - __main__ - DEBUG - Epoch 28/100 start\n",
      "2021-07-15 21:40:23,800 - __main__ - DEBUG - Epoch 28/100 complete: loss = 0.060227\n",
      "2021-07-15 21:40:23,800 - __main__ - DEBUG - Metrics improved: 0.060227 -> 0.060227\n",
      "2021-07-15 21:40:23,916 - __main__ - DEBUG - Epoch 29/100 start\n",
      "2021-07-15 21:40:49,410 - __main__ - DEBUG - Epoch 29/100 complete: loss = 0.054346\n",
      "2021-07-15 21:40:49,426 - __main__ - DEBUG - Metrics improved: 0.054346 -> 0.054346\n",
      "2021-07-15 21:40:49,544 - __main__ - DEBUG - Epoch 30/100 start\n",
      "2021-07-15 21:41:14,733 - __main__ - DEBUG - Epoch 30/100 complete: loss = 0.049224\n",
      "2021-07-15 21:41:14,733 - __main__ - DEBUG - Metrics improved: 0.049224 -> 0.049224\n",
      "2021-07-15 21:41:14,837 - __main__ - DEBUG - Epoch 31/100 start\n",
      "2021-07-15 21:41:40,056 - __main__ - DEBUG - Epoch 31/100 complete: loss = 0.044773\n",
      "2021-07-15 21:41:40,056 - __main__ - DEBUG - Metrics improved: 0.044773 -> 0.044773\n",
      "2021-07-15 21:41:40,180 - __main__ - DEBUG - Epoch 32/100 start\n",
      "2021-07-15 21:42:05,421 - __main__ - DEBUG - Epoch 32/100 complete: loss = 0.040911\n",
      "2021-07-15 21:42:05,421 - __main__ - DEBUG - Metrics improved: 0.040911 -> 0.040911\n",
      "2021-07-15 21:42:05,538 - __main__ - DEBUG - Epoch 33/100 start\n",
      "2021-07-15 21:42:30,860 - __main__ - DEBUG - Epoch 33/100 complete: loss = 0.037565\n",
      "2021-07-15 21:42:30,860 - __main__ - DEBUG - Metrics improved: 0.037565 -> 0.037565\n",
      "2021-07-15 21:42:30,968 - __main__ - DEBUG - Epoch 34/100 start\n",
      "2021-07-15 21:42:55,843 - __main__ - DEBUG - Epoch 34/100 complete: loss = 0.034667\n",
      "2021-07-15 21:42:55,843 - __main__ - DEBUG - Metrics improved: 0.034667 -> 0.034667\n",
      "2021-07-15 21:42:55,958 - __main__ - DEBUG - Epoch 35/100 start\n",
      "2021-07-15 21:43:20,947 - __main__ - DEBUG - Epoch 35/100 complete: loss = 0.032156\n",
      "2021-07-15 21:43:20,947 - __main__ - DEBUG - Metrics improved: 0.032156 -> 0.032156\n",
      "2021-07-15 21:43:21,053 - __main__ - DEBUG - Epoch 36/100 start\n",
      "2021-07-15 21:43:46,572 - __main__ - DEBUG - Epoch 36/100 complete: loss = 0.029980\n"
     ]
    },
    {
     "name": "stderr",
     "output_type": "stream",
     "text": [
      "2021-07-15 21:43:46,572 - __main__ - DEBUG - Metrics improved: 0.029980 -> 0.029980\n",
      "2021-07-15 21:43:46,694 - __main__ - DEBUG - Epoch 37/100 start\n",
      "2021-07-15 21:44:11,943 - __main__ - DEBUG - Epoch 37/100 complete: loss = 0.028090\n",
      "2021-07-15 21:44:11,943 - __main__ - DEBUG - Metrics improved: 0.028090 -> 0.028090\n",
      "2021-07-15 21:44:12,053 - __main__ - DEBUG - Epoch 38/100 start\n",
      "2021-07-15 21:44:37,450 - __main__ - DEBUG - Epoch 38/100 complete: loss = 0.026448\n",
      "2021-07-15 21:44:37,450 - __main__ - DEBUG - Metrics improved: 0.026448 -> 0.026448\n",
      "2021-07-15 21:44:37,545 - __main__ - DEBUG - Epoch 39/100 start\n",
      "2021-07-15 21:45:02,789 - __main__ - DEBUG - Epoch 39/100 complete: loss = 0.025019\n",
      "2021-07-15 21:45:02,789 - __main__ - DEBUG - Metrics improved: 0.025019 -> 0.025019\n",
      "2021-07-15 21:45:02,907 - __main__ - DEBUG - Epoch 40/100 start\n",
      "2021-07-15 21:45:28,242 - __main__ - DEBUG - Epoch 40/100 complete: loss = 0.023774\n",
      "2021-07-15 21:45:28,242 - __main__ - DEBUG - Metrics improved: 0.023774 -> 0.023774\n",
      "2021-07-15 21:45:28,349 - __main__ - DEBUG - Epoch 41/100 start\n",
      "2021-07-15 21:45:53,554 - __main__ - DEBUG - Epoch 41/100 complete: loss = 0.022684\n",
      "2021-07-15 21:45:53,554 - __main__ - DEBUG - Metrics improved: 0.022684 -> 0.022684\n",
      "2021-07-15 21:45:53,643 - __main__ - DEBUG - Epoch 42/100 start\n",
      "2021-07-15 21:46:18,966 - __main__ - DEBUG - Epoch 42/100 complete: loss = 0.021725\n",
      "2021-07-15 21:46:18,966 - __main__ - DEBUG - Metrics improved: 0.021725 -> 0.021725\n",
      "2021-07-15 21:46:19,084 - __main__ - DEBUG - Epoch 43/100 start\n",
      "2021-07-15 21:46:44,657 - __main__ - DEBUG - Epoch 43/100 complete: loss = 0.020879\n",
      "2021-07-15 21:46:44,657 - __main__ - DEBUG - Metrics improved: 0.020879 -> 0.020879\n",
      "2021-07-15 21:46:44,777 - __main__ - DEBUG - Epoch 44/100 start\n",
      "2021-07-15 21:47:10,047 - __main__ - DEBUG - Epoch 44/100 complete: loss = 0.020133\n",
      "2021-07-15 21:47:10,047 - __main__ - DEBUG - Metrics improved: 0.020133 -> 0.020133\n",
      "2021-07-15 21:47:10,153 - __main__ - DEBUG - Epoch 45/100 start\n",
      "2021-07-15 21:47:35,269 - __main__ - DEBUG - Epoch 45/100 complete: loss = 0.019474\n",
      "2021-07-15 21:47:35,269 - __main__ - DEBUG - Metrics improved: 0.019474 -> 0.019474\n",
      "2021-07-15 21:47:35,381 - __main__ - DEBUG - Epoch 46/100 start\n",
      "2021-07-15 21:48:00,857 - __main__ - DEBUG - Epoch 46/100 complete: loss = 0.018893\n",
      "2021-07-15 21:48:00,857 - __main__ - DEBUG - Metrics improved: 0.018893 -> 0.018893\n",
      "2021-07-15 21:48:00,957 - __main__ - DEBUG - Epoch 47/100 start\n",
      "2021-07-15 21:48:26,310 - __main__ - DEBUG - Epoch 47/100 complete: loss = 0.018381\n",
      "2021-07-15 21:48:26,310 - __main__ - DEBUG - Metrics improved: 0.018381 -> 0.018381\n",
      "2021-07-15 21:48:26,416 - __main__ - DEBUG - Epoch 48/100 start\n",
      "2021-07-15 21:48:51,608 - __main__ - DEBUG - Epoch 48/100 complete: loss = 0.017932\n",
      "2021-07-15 21:48:51,608 - __main__ - DEBUG - Metrics improved: 0.017932 -> 0.017932\n",
      "2021-07-15 21:48:51,725 - __main__ - DEBUG - Epoch 49/100 start\n",
      "2021-07-15 21:49:16,813 - __main__ - DEBUG - Epoch 49/100 complete: loss = 0.017541\n",
      "2021-07-15 21:49:16,829 - __main__ - DEBUG - Metrics improved: 0.017541 -> 0.017541\n",
      "2021-07-15 21:49:16,936 - __main__ - DEBUG - Epoch 50/100 start\n",
      "2021-07-15 21:49:42,177 - __main__ - DEBUG - Epoch 50/100 complete: loss = 0.017199\n",
      "2021-07-15 21:49:42,177 - __main__ - DEBUG - Metrics improved: 0.017199 -> 0.017199\n",
      "2021-07-15 21:49:42,296 - __main__ - DEBUG - Epoch 51/100 start\n",
      "2021-07-15 21:50:07,571 - __main__ - DEBUG - Epoch 51/100 complete: loss = 0.016900\n",
      "2021-07-15 21:50:07,571 - __main__ - DEBUG - Metrics improved: 0.016900 -> 0.016900\n",
      "2021-07-15 21:50:07,686 - __main__ - DEBUG - Epoch 52/100 start\n",
      "2021-07-15 21:50:32,903 - __main__ - DEBUG - Epoch 52/100 complete: loss = 0.016639\n",
      "2021-07-15 21:50:32,903 - __main__ - DEBUG - Metrics improved: 0.016639 -> 0.016639\n",
      "2021-07-15 21:50:33,015 - __main__ - DEBUG - Epoch 53/100 start\n",
      "2021-07-15 21:50:58,029 - __main__ - DEBUG - Epoch 53/100 complete: loss = 0.016406\n",
      "2021-07-15 21:50:58,029 - __main__ - DEBUG - Metrics improved: 0.016406 -> 0.016406\n",
      "2021-07-15 21:50:58,141 - __main__ - DEBUG - Epoch 54/100 start\n",
      "2021-07-15 21:51:23,037 - __main__ - DEBUG - Epoch 54/100 complete: loss = 0.016197\n",
      "2021-07-15 21:51:23,037 - __main__ - DEBUG - Metrics improved: 0.016197 -> 0.016197\n",
      "2021-07-15 21:51:23,150 - __main__ - DEBUG - Epoch 55/100 start\n",
      "2021-07-15 21:51:48,447 - __main__ - DEBUG - Epoch 55/100 complete: loss = 0.016006\n",
      "2021-07-15 21:51:48,447 - __main__ - DEBUG - Metrics improved: 0.016006 -> 0.016006\n",
      "2021-07-15 21:51:48,561 - __main__ - DEBUG - Epoch 56/100 start\n",
      "2021-07-15 21:52:14,047 - __main__ - DEBUG - Epoch 56/100 complete: loss = 0.015832\n",
      "2021-07-15 21:52:14,047 - __main__ - DEBUG - Metrics improved: 0.015832 -> 0.015832\n",
      "2021-07-15 21:52:14,168 - __main__ - DEBUG - Epoch 57/100 start\n",
      "2021-07-15 21:52:39,572 - __main__ - DEBUG - Epoch 57/100 complete: loss = 0.015680\n",
      "2021-07-15 21:52:39,572 - __main__ - DEBUG - Metrics improved: 0.015680 -> 0.015680\n",
      "2021-07-15 21:52:39,662 - __main__ - DEBUG - Epoch 58/100 start\n",
      "2021-07-15 21:53:05,141 - __main__ - DEBUG - Epoch 58/100 complete: loss = 0.015548\n",
      "2021-07-15 21:53:05,141 - __main__ - DEBUG - Metrics improved: 0.015548 -> 0.015548\n",
      "2021-07-15 21:53:05,254 - __main__ - DEBUG - Epoch 59/100 start\n",
      "2021-07-15 21:53:30,489 - __main__ - DEBUG - Epoch 59/100 complete: loss = 0.015439\n",
      "2021-07-15 21:53:30,489 - __main__ - DEBUG - Metrics improved: 0.015439 -> 0.015439\n",
      "2021-07-15 21:53:30,597 - __main__ - DEBUG - Epoch 60/100 start\n",
      "2021-07-15 21:53:55,633 - __main__ - DEBUG - Epoch 60/100 complete: loss = 0.015353\n",
      "2021-07-15 21:53:55,633 - __main__ - DEBUG - Metrics improved: 0.015353 -> 0.015353\n",
      "2021-07-15 21:53:55,742 - __main__ - DEBUG - Epoch 61/100 start\n",
      "2021-07-15 21:54:20,984 - __main__ - DEBUG - Epoch 61/100 complete: loss = 0.015285\n",
      "2021-07-15 21:54:20,984 - __main__ - DEBUG - Metrics improved: 0.015285 -> 0.015285\n",
      "2021-07-15 21:54:21,084 - __main__ - DEBUG - Epoch 62/100 start\n",
      "2021-07-15 21:54:46,198 - __main__ - DEBUG - Epoch 62/100 complete: loss = 0.015234\n",
      "2021-07-15 21:54:46,198 - __main__ - DEBUG - Metrics improved: 0.015234 -> 0.015234\n",
      "2021-07-15 21:54:46,311 - __main__ - DEBUG - Epoch 63/100 start\n",
      "2021-07-15 21:55:11,525 - __main__ - DEBUG - Epoch 63/100 complete: loss = 0.015193\n",
      "2021-07-15 21:55:11,525 - __main__ - DEBUG - Metrics improved: 0.015193 -> 0.015193\n",
      "2021-07-15 21:55:11,636 - __main__ - DEBUG - Epoch 64/100 start\n",
      "2021-07-15 21:55:36,964 - __main__ - DEBUG - Epoch 64/100 complete: loss = 0.015188\n",
      "2021-07-15 21:55:36,964 - __main__ - DEBUG - Metrics improved: 0.015188 -> 0.015188\n",
      "2021-07-15 21:55:37,080 - __main__ - DEBUG - Epoch 65/100 start\n",
      "2021-07-15 21:56:02,569 - __main__ - DEBUG - Epoch 65/100 complete: loss = 0.015388\n",
      "2021-07-15 21:56:02,569 - __main__ - DEBUG - Epoch 66/100 start\n",
      "2021-07-15 21:56:27,804 - __main__ - DEBUG - Epoch 66/100 complete: loss = 0.355923\n",
      "2021-07-15 21:56:27,804 - __main__ - DEBUG - Epoch 67/100 start\n",
      "2021-07-15 21:56:52,566 - __main__ - DEBUG - Epoch 67/100 complete: loss = 2.938419\n",
      "2021-07-15 21:56:52,566 - __main__ - DEBUG - Epoch 68/100 start\n",
      "2021-07-15 21:57:17,809 - __main__ - DEBUG - Epoch 68/100 complete: loss = 1.980333\n",
      "2021-07-15 21:57:17,809 - __main__ - DEBUG - Epoch 69/100 start\n",
      "2021-07-15 21:57:42,828 - __main__ - DEBUG - Epoch 69/100 complete: loss = 3.268793\n",
      "2021-07-15 21:57:42,828 - __main__ - DEBUG - Epoch 70/100 start\n",
      "2021-07-15 21:58:07,998 - __main__ - DEBUG - Epoch 70/100 complete: loss = 3.230819\n",
      "2021-07-15 21:58:07,998 - __main__ - DEBUG - Epoch 71/100 start\n",
      "2021-07-15 21:58:33,160 - __main__ - DEBUG - Epoch 71/100 complete: loss = 1.147378\n",
      "2021-07-15 21:58:33,160 - __main__ - DEBUG - Epoch 72/100 start\n",
      "2021-07-15 21:58:58,548 - __main__ - DEBUG - Epoch 72/100 complete: loss = 1.665934\n",
      "2021-07-15 21:58:58,548 - __main__ - DEBUG - Epoch 73/100 start\n",
      "2021-07-15 21:59:23,778 - __main__ - DEBUG - Epoch 73/100 complete: loss = 2.902642\n",
      "2021-07-15 21:59:23,778 - __main__ - DEBUG - Epoch 74/100 start\n",
      "2021-07-15 21:59:48,870 - __main__ - DEBUG - Epoch 74/100 complete: loss = 2.945627\n",
      "2021-07-15 21:59:48,870 - __main__ - DEBUG - Epoch 75/100 start\n",
      "2021-07-15 22:00:13,941 - __main__ - DEBUG - Epoch 75/100 complete: loss = 2.844558\n"
     ]
    },
    {
     "name": "stderr",
     "output_type": "stream",
     "text": [
      "2021-07-15 22:00:13,941 - __main__ - DEBUG - Epoch 76/100 start\n",
      "2021-07-15 22:00:39,316 - __main__ - DEBUG - Epoch 76/100 complete: loss = 1.506881\n",
      "2021-07-15 22:00:39,316 - __main__ - DEBUG - Epoch 77/100 start\n",
      "2021-07-15 22:01:04,443 - __main__ - DEBUG - Epoch 77/100 complete: loss = 1.951867\n",
      "2021-07-15 22:01:04,443 - __main__ - DEBUG - Epoch 78/100 start\n",
      "2021-07-15 22:01:29,602 - __main__ - DEBUG - Epoch 78/100 complete: loss = 2.920853\n",
      "2021-07-15 22:01:29,602 - __main__ - DEBUG - Epoch 79/100 start\n",
      "2021-07-15 22:01:54,825 - __main__ - DEBUG - Epoch 79/100 complete: loss = 2.437445\n",
      "2021-07-15 22:01:54,825 - __main__ - DEBUG - Epoch 80/100 start\n",
      "2021-07-15 22:02:19,879 - __main__ - DEBUG - Epoch 80/100 complete: loss = 2.213026\n",
      "2021-07-15 22:02:19,879 - __main__ - DEBUG - Epoch 81/100 start\n",
      "2021-07-15 22:02:44,834 - __main__ - DEBUG - Epoch 81/100 complete: loss = 2.392545\n",
      "2021-07-15 22:02:44,834 - __main__ - DEBUG - Epoch 82/100 start\n",
      "2021-07-15 22:03:09,980 - __main__ - DEBUG - Epoch 82/100 complete: loss = 2.615550\n",
      "2021-07-15 22:03:09,980 - __main__ - DEBUG - Epoch 83/100 start\n",
      "2021-07-15 22:03:34,994 - __main__ - DEBUG - Epoch 83/100 complete: loss = 2.936721\n",
      "2021-07-15 22:03:34,994 - __main__ - DEBUG - Epoch 84/100 start\n",
      "2021-07-15 22:04:00,244 - __main__ - DEBUG - Epoch 84/100 complete: loss = 2.822547\n",
      "2021-07-15 22:04:00,244 - __main__ - DEBUG - Epoch 85/100 start\n",
      "2021-07-15 22:04:25,264 - __main__ - DEBUG - Epoch 85/100 complete: loss = 0.853516\n",
      "2021-07-15 22:04:25,264 - __main__ - DEBUG - Epoch 86/100 start\n",
      "2021-07-15 22:04:50,445 - __main__ - DEBUG - Epoch 86/100 complete: loss = 1.029674\n",
      "2021-07-15 22:04:50,445 - __main__ - DEBUG - Epoch 87/100 start\n",
      "2021-07-15 22:05:15,604 - __main__ - DEBUG - Epoch 87/100 complete: loss = 2.025729\n",
      "2021-07-15 22:05:15,604 - __main__ - DEBUG - Epoch 88/100 start\n",
      "2021-07-15 22:05:40,943 - __main__ - DEBUG - Epoch 88/100 complete: loss = 4.286851\n",
      "2021-07-15 22:05:40,943 - __main__ - DEBUG - Epoch 89/100 start\n",
      "2021-07-15 22:06:06,064 - __main__ - DEBUG - Epoch 89/100 complete: loss = 2.542707\n",
      "2021-07-15 22:06:06,064 - __main__ - DEBUG - Epoch 90/100 start\n",
      "2021-07-15 22:06:31,254 - __main__ - DEBUG - Epoch 90/100 complete: loss = 1.168267\n",
      "2021-07-15 22:06:31,254 - __main__ - DEBUG - Epoch 91/100 start\n",
      "2021-07-15 22:06:56,380 - __main__ - DEBUG - Epoch 91/100 complete: loss = 0.617567\n",
      "2021-07-15 22:06:56,380 - __main__ - DEBUG - Epoch 92/100 start\n",
      "2021-07-15 22:07:21,514 - __main__ - DEBUG - Epoch 92/100 complete: loss = 2.552918\n",
      "2021-07-15 22:07:21,514 - __main__ - DEBUG - Epoch 93/100 start\n",
      "2021-07-15 22:07:46,888 - __main__ - DEBUG - Epoch 93/100 complete: loss = 2.063684\n",
      "2021-07-15 22:07:46,888 - __main__ - DEBUG - Epoch 94/100 start\n",
      "2021-07-15 22:08:12,083 - __main__ - DEBUG - Epoch 94/100 complete: loss = 0.209548\n",
      "2021-07-15 22:08:12,083 - __main__ - DEBUG - Epoch 95/100 start\n",
      "2021-07-15 22:08:37,240 - __main__ - DEBUG - Epoch 95/100 complete: loss = 0.126234\n",
      "2021-07-15 22:08:37,240 - __main__ - DEBUG - Epoch 96/100 start\n",
      "2021-07-15 22:09:02,357 - __main__ - DEBUG - Epoch 96/100 complete: loss = 0.587746\n",
      "2021-07-15 22:09:02,357 - __main__ - DEBUG - Epoch 97/100 start\n",
      "2021-07-15 22:09:27,563 - __main__ - DEBUG - Epoch 97/100 complete: loss = 1.849934\n",
      "2021-07-15 22:09:27,563 - __main__ - DEBUG - Epoch 98/100 start\n",
      "2021-07-15 22:09:52,927 - __main__ - DEBUG - Epoch 98/100 complete: loss = 4.273730\n",
      "2021-07-15 22:09:52,927 - __main__ - DEBUG - Epoch 99/100 start\n",
      "2021-07-15 22:10:17,865 - __main__ - DEBUG - Epoch 99/100 complete: loss = 2.285731\n",
      "2021-07-15 22:10:17,865 - __main__ - DEBUG - Epoch 100/100 start\n",
      "2021-07-15 22:10:42,631 - __main__ - DEBUG - Epoch 100/100 complete: loss = 1.063148\n"
     ]
    }
   ],
   "source": [
    "metrics = []\n",
    "model_path = os.path.join(output_dir, 'model_state.torch')\n",
    "best_loss = np.inf\n",
    "for epoch in range(EPOCHS):\n",
    "    logger.debug(\"Epoch {}/{} start\".format(epoch + 1, EPOCHS))\n",
    "    metrics_ = []\n",
    "    for batch in dataloader:\n",
    "        batch = batch.to(device)\n",
    "\n",
    "        # reset the gradients back to zero\n",
    "        # PyTorch accumulates gradients on subsequent backward passes\n",
    "        optimizer.zero_grad()\n",
    "        \n",
    "        # compute reconstructions\n",
    "        batch_flattened, encoded, reconstructed = model(batch)\n",
    "        \n",
    "        # compute training reconstruction loss\n",
    "        loss = criterion(batch_flattened, reconstructed)\n",
    "        \n",
    "        # compute accumulated gradients\n",
    "        loss.backward()\n",
    "        \n",
    "        # perform parameter update based on current gradients\n",
    "        optimizer.step()\n",
    "        \n",
    "        # add the mini-batch training loss to epoch loss\n",
    "        metrics_.append(loss.to('cpu').detach().numpy().copy())\n",
    "    \n",
    "    # compute the epoch training loss\n",
    "    loss = np.mean(metrics_)\n",
    "    \n",
    "    # display the epoch training loss\n",
    "    logger.debug(\"Epoch {}/{} complete: loss = {:.6f}\".format(epoch + 1, EPOCHS, loss))\n",
    "    \n",
    "    metrics.append(loss)\n",
    "    \n",
    "    if loss < best_loss:\n",
    "        best_loss = loss\n",
    "        logger.debug('Metrics improved: {:.6f} -> {:.6f}'.format(loss, best_loss))\n",
    "        torch.save(model.state_dict(), model_path)"
   ]
  },
  {
   "cell_type": "code",
   "execution_count": 22,
   "metadata": {},
   "outputs": [],
   "source": [
    "np.save(os.path.join(output_dir, 'autoencoder_metrics'), np.array(metrics))"
   ]
  },
  {
   "cell_type": "code",
   "execution_count": 23,
   "metadata": {},
   "outputs": [
    {
     "data": {
      "text/plain": [
       "32"
      ]
     },
     "execution_count": 23,
     "metadata": {},
     "output_type": "execute_result"
    }
   ],
   "source": [
    "del model, batch\n",
    "gc.collect()"
   ]
  },
  {
   "cell_type": "markdown",
   "metadata": {},
   "source": [
    "## Feature extraction"
   ]
  },
  {
   "cell_type": "code",
   "execution_count": 24,
   "metadata": {},
   "outputs": [
    {
     "data": {
      "text/plain": [
       "AutoEncoderV01(\n",
       "  (encoder): Sequential(\n",
       "    (0): Linear(in_features=150528, out_features=64, bias=True)\n",
       "  )\n",
       "  (decoder): Sequential(\n",
       "    (0): Linear(in_features=64, out_features=150528, bias=True)\n",
       "  )\n",
       ")"
      ]
     },
     "execution_count": 24,
     "metadata": {},
     "output_type": "execute_result"
    }
   ],
   "source": [
    "feature_extractor = AutoEncoderV01()\n",
    "feature_extractor.load_state_dict(torch.load(model_path))\n",
    "feature_extractor.eval()"
   ]
  },
  {
   "cell_type": "code",
   "execution_count": 25,
   "metadata": {},
   "outputs": [
    {
     "name": "stdout",
     "output_type": "stream",
     "text": [
      "Wall time: 14.8 s\n"
     ]
    }
   ],
   "source": [
    "%%time\n",
    "images = load_photofiles(object_ids)"
   ]
  },
  {
   "cell_type": "code",
   "execution_count": 26,
   "metadata": {},
   "outputs": [
    {
     "name": "stdout",
     "output_type": "stream",
     "text": [
      "Wall time: 758 ms\n"
     ]
    }
   ],
   "source": [
    "%%time\n",
    "images = torch.from_numpy(images).type(torch.FloatTensor).to(device)"
   ]
  },
  {
   "cell_type": "code",
   "execution_count": 27,
   "metadata": {},
   "outputs": [
    {
     "name": "stdout",
     "output_type": "stream",
     "text": [
      "Wall time: 29.5 s\n"
     ]
    }
   ],
   "source": [
    "%%time\n",
    "with torch.no_grad():\n",
    "    _, features, _ = feature_extractor(images)"
   ]
  },
  {
   "cell_type": "code",
   "execution_count": 28,
   "metadata": {},
   "outputs": [
    {
     "data": {
      "text/plain": [
       "568"
      ]
     },
     "execution_count": 28,
     "metadata": {},
     "output_type": "execute_result"
    }
   ],
   "source": [
    "del _, feature_extractor\n",
    "gc.collect()"
   ]
  },
  {
   "cell_type": "code",
   "execution_count": 29,
   "metadata": {},
   "outputs": [],
   "source": [
    "features = features.to('cpu').detach().numpy().copy()"
   ]
  },
  {
   "cell_type": "code",
   "execution_count": 30,
   "metadata": {},
   "outputs": [
    {
     "data": {
      "text/plain": [
       "(9856, 64)"
      ]
     },
     "execution_count": 30,
     "metadata": {},
     "output_type": "execute_result"
    }
   ],
   "source": [
    "features.shape"
   ]
  },
  {
   "cell_type": "code",
   "execution_count": 31,
   "metadata": {},
   "outputs": [
    {
     "data": {
      "text/html": [
       "<div>\n",
       "<style scoped>\n",
       "    .dataframe tbody tr th:only-of-type {\n",
       "        vertical-align: middle;\n",
       "    }\n",
       "\n",
       "    .dataframe tbody tr th {\n",
       "        vertical-align: top;\n",
       "    }\n",
       "\n",
       "    .dataframe thead th {\n",
       "        text-align: right;\n",
       "    }\n",
       "</style>\n",
       "<table border=\"1\" class=\"dataframe\">\n",
       "  <thead>\n",
       "    <tr style=\"text-align: right;\">\n",
       "      <th></th>\n",
       "      <th>0</th>\n",
       "      <th>1</th>\n",
       "      <th>2</th>\n",
       "      <th>3</th>\n",
       "      <th>4</th>\n",
       "      <th>5</th>\n",
       "      <th>6</th>\n",
       "      <th>7</th>\n",
       "      <th>8</th>\n",
       "      <th>9</th>\n",
       "      <th>...</th>\n",
       "      <th>54</th>\n",
       "      <th>55</th>\n",
       "      <th>56</th>\n",
       "      <th>57</th>\n",
       "      <th>58</th>\n",
       "      <th>59</th>\n",
       "      <th>60</th>\n",
       "      <th>61</th>\n",
       "      <th>62</th>\n",
       "      <th>63</th>\n",
       "    </tr>\n",
       "  </thead>\n",
       "  <tbody>\n",
       "    <tr>\n",
       "      <th>002bff09b09998d0be65</th>\n",
       "      <td>6.02342</td>\n",
       "      <td>6.03538</td>\n",
       "      <td>-6.29166</td>\n",
       "      <td>6.09582</td>\n",
       "      <td>-6.63066</td>\n",
       "      <td>-6.29910</td>\n",
       "      <td>-6.26897</td>\n",
       "      <td>-6.22625</td>\n",
       "      <td>-6.34322</td>\n",
       "      <td>-6.37667</td>\n",
       "      <td>...</td>\n",
       "      <td>-6.17740</td>\n",
       "      <td>6.59218</td>\n",
       "      <td>-5.99844</td>\n",
       "      <td>-6.34549</td>\n",
       "      <td>6.20194</td>\n",
       "      <td>6.24396</td>\n",
       "      <td>6.30331</td>\n",
       "      <td>-6.27070</td>\n",
       "      <td>-6.46921</td>\n",
       "      <td>6.43648</td>\n",
       "    </tr>\n",
       "    <tr>\n",
       "      <th>00309fb1ef05416f9c1f</th>\n",
       "      <td>4.71163</td>\n",
       "      <td>4.79944</td>\n",
       "      <td>-4.97370</td>\n",
       "      <td>4.79243</td>\n",
       "      <td>-5.22997</td>\n",
       "      <td>-5.00007</td>\n",
       "      <td>-4.87673</td>\n",
       "      <td>-4.91137</td>\n",
       "      <td>-5.01472</td>\n",
       "      <td>-5.02607</td>\n",
       "      <td>...</td>\n",
       "      <td>-4.84375</td>\n",
       "      <td>5.17189</td>\n",
       "      <td>-4.74816</td>\n",
       "      <td>-5.00026</td>\n",
       "      <td>4.91912</td>\n",
       "      <td>4.91728</td>\n",
       "      <td>4.99318</td>\n",
       "      <td>-4.90027</td>\n",
       "      <td>-5.11544</td>\n",
       "      <td>5.12447</td>\n",
       "    </tr>\n",
       "    <tr>\n",
       "      <th>003a1562e97f79ba96dc</th>\n",
       "      <td>6.95182</td>\n",
       "      <td>7.06783</td>\n",
       "      <td>-7.34767</td>\n",
       "      <td>7.08926</td>\n",
       "      <td>-7.70432</td>\n",
       "      <td>-7.35349</td>\n",
       "      <td>-7.24841</td>\n",
       "      <td>-7.24969</td>\n",
       "      <td>-7.40431</td>\n",
       "      <td>-7.41507</td>\n",
       "      <td>...</td>\n",
       "      <td>-7.19515</td>\n",
       "      <td>7.64209</td>\n",
       "      <td>-7.02728</td>\n",
       "      <td>-7.35022</td>\n",
       "      <td>7.17197</td>\n",
       "      <td>7.23841</td>\n",
       "      <td>7.35748</td>\n",
       "      <td>-7.29294</td>\n",
       "      <td>-7.53361</td>\n",
       "      <td>7.50927</td>\n",
       "    </tr>\n",
       "    <tr>\n",
       "      <th>004890880e8e7431147b</th>\n",
       "      <td>6.61670</td>\n",
       "      <td>6.66414</td>\n",
       "      <td>-6.97066</td>\n",
       "      <td>6.70351</td>\n",
       "      <td>-7.33669</td>\n",
       "      <td>-7.00060</td>\n",
       "      <td>-6.84257</td>\n",
       "      <td>-6.83445</td>\n",
       "      <td>-6.97711</td>\n",
       "      <td>-7.03149</td>\n",
       "      <td>...</td>\n",
       "      <td>-6.82821</td>\n",
       "      <td>7.25377</td>\n",
       "      <td>-6.61397</td>\n",
       "      <td>-6.93663</td>\n",
       "      <td>6.74997</td>\n",
       "      <td>6.83376</td>\n",
       "      <td>6.94486</td>\n",
       "      <td>-6.89892</td>\n",
       "      <td>-7.11248</td>\n",
       "      <td>7.12903</td>\n",
       "    </tr>\n",
       "    <tr>\n",
       "      <th>00718c32602425f504c1</th>\n",
       "      <td>6.34380</td>\n",
       "      <td>6.43173</td>\n",
       "      <td>-6.67485</td>\n",
       "      <td>6.43222</td>\n",
       "      <td>-7.02094</td>\n",
       "      <td>-6.69404</td>\n",
       "      <td>-6.54063</td>\n",
       "      <td>-6.63774</td>\n",
       "      <td>-6.78988</td>\n",
       "      <td>-6.68474</td>\n",
       "      <td>...</td>\n",
       "      <td>-6.51852</td>\n",
       "      <td>6.97555</td>\n",
       "      <td>-6.38942</td>\n",
       "      <td>-6.73712</td>\n",
       "      <td>6.51352</td>\n",
       "      <td>6.62985</td>\n",
       "      <td>6.69154</td>\n",
       "      <td>-6.57067</td>\n",
       "      <td>-6.84308</td>\n",
       "      <td>6.85030</td>\n",
       "    </tr>\n",
       "    <tr>\n",
       "      <th>...</th>\n",
       "      <td>...</td>\n",
       "      <td>...</td>\n",
       "      <td>...</td>\n",
       "      <td>...</td>\n",
       "      <td>...</td>\n",
       "      <td>...</td>\n",
       "      <td>...</td>\n",
       "      <td>...</td>\n",
       "      <td>...</td>\n",
       "      <td>...</td>\n",
       "      <td>...</td>\n",
       "      <td>...</td>\n",
       "      <td>...</td>\n",
       "      <td>...</td>\n",
       "      <td>...</td>\n",
       "      <td>...</td>\n",
       "      <td>...</td>\n",
       "      <td>...</td>\n",
       "      <td>...</td>\n",
       "      <td>...</td>\n",
       "      <td>...</td>\n",
       "    </tr>\n",
       "    <tr>\n",
       "      <th>ffbe65ad399b632dcbd0</th>\n",
       "      <td>6.05175</td>\n",
       "      <td>6.11740</td>\n",
       "      <td>-6.37339</td>\n",
       "      <td>6.14629</td>\n",
       "      <td>-6.69496</td>\n",
       "      <td>-6.38666</td>\n",
       "      <td>-6.30279</td>\n",
       "      <td>-6.26159</td>\n",
       "      <td>-6.44378</td>\n",
       "      <td>-6.40852</td>\n",
       "      <td>...</td>\n",
       "      <td>-6.24618</td>\n",
       "      <td>6.62519</td>\n",
       "      <td>-6.13225</td>\n",
       "      <td>-6.35555</td>\n",
       "      <td>6.22296</td>\n",
       "      <td>6.28315</td>\n",
       "      <td>6.37095</td>\n",
       "      <td>-6.30695</td>\n",
       "      <td>-6.51919</td>\n",
       "      <td>6.54305</td>\n",
       "    </tr>\n",
       "    <tr>\n",
       "      <th>ffd7b2d646c0320c311a</th>\n",
       "      <td>6.32570</td>\n",
       "      <td>6.54714</td>\n",
       "      <td>-6.76076</td>\n",
       "      <td>6.58601</td>\n",
       "      <td>-7.10817</td>\n",
       "      <td>-6.80362</td>\n",
       "      <td>-6.65212</td>\n",
       "      <td>-6.66384</td>\n",
       "      <td>-6.82759</td>\n",
       "      <td>-6.80831</td>\n",
       "      <td>...</td>\n",
       "      <td>-6.62203</td>\n",
       "      <td>7.05994</td>\n",
       "      <td>-6.53526</td>\n",
       "      <td>-6.77721</td>\n",
       "      <td>6.64991</td>\n",
       "      <td>6.73637</td>\n",
       "      <td>6.83355</td>\n",
       "      <td>-6.73508</td>\n",
       "      <td>-6.90117</td>\n",
       "      <td>6.95371</td>\n",
       "    </tr>\n",
       "    <tr>\n",
       "      <th>ffdb93ede17d4501e530</th>\n",
       "      <td>6.14850</td>\n",
       "      <td>6.18295</td>\n",
       "      <td>-6.43857</td>\n",
       "      <td>6.23233</td>\n",
       "      <td>-6.76942</td>\n",
       "      <td>-6.54331</td>\n",
       "      <td>-6.38327</td>\n",
       "      <td>-6.40903</td>\n",
       "      <td>-6.49309</td>\n",
       "      <td>-6.49412</td>\n",
       "      <td>...</td>\n",
       "      <td>-6.31906</td>\n",
       "      <td>6.74580</td>\n",
       "      <td>-6.18386</td>\n",
       "      <td>-6.48356</td>\n",
       "      <td>6.32764</td>\n",
       "      <td>6.34051</td>\n",
       "      <td>6.48582</td>\n",
       "      <td>-6.41988</td>\n",
       "      <td>-6.70148</td>\n",
       "      <td>6.68402</td>\n",
       "    </tr>\n",
       "    <tr>\n",
       "      <th>ffe111402004b0ed46b4</th>\n",
       "      <td>5.83720</td>\n",
       "      <td>5.92062</td>\n",
       "      <td>-6.17265</td>\n",
       "      <td>5.94226</td>\n",
       "      <td>-6.50685</td>\n",
       "      <td>-6.16867</td>\n",
       "      <td>-6.04055</td>\n",
       "      <td>-6.05118</td>\n",
       "      <td>-6.23462</td>\n",
       "      <td>-6.27985</td>\n",
       "      <td>...</td>\n",
       "      <td>-6.05633</td>\n",
       "      <td>6.45545</td>\n",
       "      <td>-5.89324</td>\n",
       "      <td>-6.19115</td>\n",
       "      <td>5.96416</td>\n",
       "      <td>6.03884</td>\n",
       "      <td>6.10827</td>\n",
       "      <td>-6.05250</td>\n",
       "      <td>-6.24504</td>\n",
       "      <td>6.39660</td>\n",
       "    </tr>\n",
       "    <tr>\n",
       "      <th>fffdb3c248a7dcd3cccf</th>\n",
       "      <td>4.83270</td>\n",
       "      <td>4.94756</td>\n",
       "      <td>-5.15116</td>\n",
       "      <td>4.97598</td>\n",
       "      <td>-5.39020</td>\n",
       "      <td>-5.13417</td>\n",
       "      <td>-5.07862</td>\n",
       "      <td>-5.11144</td>\n",
       "      <td>-5.19195</td>\n",
       "      <td>-5.13908</td>\n",
       "      <td>...</td>\n",
       "      <td>-5.05000</td>\n",
       "      <td>5.34386</td>\n",
       "      <td>-4.89387</td>\n",
       "      <td>-5.15093</td>\n",
       "      <td>5.02223</td>\n",
       "      <td>5.02448</td>\n",
       "      <td>5.11782</td>\n",
       "      <td>-5.12137</td>\n",
       "      <td>-5.29631</td>\n",
       "      <td>5.23073</td>\n",
       "    </tr>\n",
       "  </tbody>\n",
       "</table>\n",
       "<p>9856 rows × 64 columns</p>\n",
       "</div>"
      ],
      "text/plain": [
       "                          0       1        2       3        4        5   \\\n",
       "002bff09b09998d0be65 6.02342 6.03538 -6.29166 6.09582 -6.63066 -6.29910   \n",
       "00309fb1ef05416f9c1f 4.71163 4.79944 -4.97370 4.79243 -5.22997 -5.00007   \n",
       "003a1562e97f79ba96dc 6.95182 7.06783 -7.34767 7.08926 -7.70432 -7.35349   \n",
       "004890880e8e7431147b 6.61670 6.66414 -6.97066 6.70351 -7.33669 -7.00060   \n",
       "00718c32602425f504c1 6.34380 6.43173 -6.67485 6.43222 -7.02094 -6.69404   \n",
       "...                      ...     ...      ...     ...      ...      ...   \n",
       "ffbe65ad399b632dcbd0 6.05175 6.11740 -6.37339 6.14629 -6.69496 -6.38666   \n",
       "ffd7b2d646c0320c311a 6.32570 6.54714 -6.76076 6.58601 -7.10817 -6.80362   \n",
       "ffdb93ede17d4501e530 6.14850 6.18295 -6.43857 6.23233 -6.76942 -6.54331   \n",
       "ffe111402004b0ed46b4 5.83720 5.92062 -6.17265 5.94226 -6.50685 -6.16867   \n",
       "fffdb3c248a7dcd3cccf 4.83270 4.94756 -5.15116 4.97598 -5.39020 -5.13417   \n",
       "\n",
       "                           6        7        8        9   ...       54  \\\n",
       "002bff09b09998d0be65 -6.26897 -6.22625 -6.34322 -6.37667  ... -6.17740   \n",
       "00309fb1ef05416f9c1f -4.87673 -4.91137 -5.01472 -5.02607  ... -4.84375   \n",
       "003a1562e97f79ba96dc -7.24841 -7.24969 -7.40431 -7.41507  ... -7.19515   \n",
       "004890880e8e7431147b -6.84257 -6.83445 -6.97711 -7.03149  ... -6.82821   \n",
       "00718c32602425f504c1 -6.54063 -6.63774 -6.78988 -6.68474  ... -6.51852   \n",
       "...                       ...      ...      ...      ...  ...      ...   \n",
       "ffbe65ad399b632dcbd0 -6.30279 -6.26159 -6.44378 -6.40852  ... -6.24618   \n",
       "ffd7b2d646c0320c311a -6.65212 -6.66384 -6.82759 -6.80831  ... -6.62203   \n",
       "ffdb93ede17d4501e530 -6.38327 -6.40903 -6.49309 -6.49412  ... -6.31906   \n",
       "ffe111402004b0ed46b4 -6.04055 -6.05118 -6.23462 -6.27985  ... -6.05633   \n",
       "fffdb3c248a7dcd3cccf -5.07862 -5.11144 -5.19195 -5.13908  ... -5.05000   \n",
       "\n",
       "                          55       56       57      58      59      60  \\\n",
       "002bff09b09998d0be65 6.59218 -5.99844 -6.34549 6.20194 6.24396 6.30331   \n",
       "00309fb1ef05416f9c1f 5.17189 -4.74816 -5.00026 4.91912 4.91728 4.99318   \n",
       "003a1562e97f79ba96dc 7.64209 -7.02728 -7.35022 7.17197 7.23841 7.35748   \n",
       "004890880e8e7431147b 7.25377 -6.61397 -6.93663 6.74997 6.83376 6.94486   \n",
       "00718c32602425f504c1 6.97555 -6.38942 -6.73712 6.51352 6.62985 6.69154   \n",
       "...                      ...      ...      ...     ...     ...     ...   \n",
       "ffbe65ad399b632dcbd0 6.62519 -6.13225 -6.35555 6.22296 6.28315 6.37095   \n",
       "ffd7b2d646c0320c311a 7.05994 -6.53526 -6.77721 6.64991 6.73637 6.83355   \n",
       "ffdb93ede17d4501e530 6.74580 -6.18386 -6.48356 6.32764 6.34051 6.48582   \n",
       "ffe111402004b0ed46b4 6.45545 -5.89324 -6.19115 5.96416 6.03884 6.10827   \n",
       "fffdb3c248a7dcd3cccf 5.34386 -4.89387 -5.15093 5.02223 5.02448 5.11782   \n",
       "\n",
       "                           61       62      63  \n",
       "002bff09b09998d0be65 -6.27070 -6.46921 6.43648  \n",
       "00309fb1ef05416f9c1f -4.90027 -5.11544 5.12447  \n",
       "003a1562e97f79ba96dc -7.29294 -7.53361 7.50927  \n",
       "004890880e8e7431147b -6.89892 -7.11248 7.12903  \n",
       "00718c32602425f504c1 -6.57067 -6.84308 6.85030  \n",
       "...                       ...      ...     ...  \n",
       "ffbe65ad399b632dcbd0 -6.30695 -6.51919 6.54305  \n",
       "ffd7b2d646c0320c311a -6.73508 -6.90117 6.95371  \n",
       "ffdb93ede17d4501e530 -6.41988 -6.70148 6.68402  \n",
       "ffe111402004b0ed46b4 -6.05250 -6.24504 6.39660  \n",
       "fffdb3c248a7dcd3cccf -5.12137 -5.29631 5.23073  \n",
       "\n",
       "[9856 rows x 64 columns]"
      ]
     },
     "execution_count": 31,
     "metadata": {},
     "output_type": "execute_result"
    }
   ],
   "source": [
    "features = pd.DataFrame(data=features, index=object_ids)\n",
    "features"
   ]
  },
  {
   "cell_type": "code",
   "execution_count": 32,
   "metadata": {},
   "outputs": [
    {
     "data": {
      "image/png": "[encoded data removed]",
      "text/plain": [
       "<Figure size 1296x1296 with 2 Axes>"
      ]
     },
     "metadata": {
      "needs_background": "light"
     },
     "output_type": "display_data"
    }
   ],
   "source": [
    "plt.figure(figsize=(18., 18.))\n",
    "sns.heatmap(features.corr(), vmin=-1, vmax=1, annot=True)\n",
    "sns.despine()"
   ]
  },
  {
   "cell_type": "code",
   "execution_count": 33,
   "metadata": {},
   "outputs": [],
   "source": [
    "features.to_csv(os.path.join(output_dir, 'features.csv'))"
   ]
  },
  {
   "cell_type": "markdown",
   "metadata": {},
   "source": [
    "# Cross validation"
   ]
  },
  {
   "cell_type": "code",
   "execution_count": 34,
   "metadata": {},
   "outputs": [],
   "source": [
    "# Splitter\n",
    "if CV == 'GroupKFold':\n",
    "    splitter = GroupKFold(n_splits=5)\n",
    "    fold_indice = splitter.split(X=train, y=train[TARGET], groups=train[GROUP])\n",
    "elif CV == 'StratifiedKFold':\n",
    "    splitter = StratifiedKFold(n_splits=5, shuffle=True, random_state=SEED)\n",
    "    fold_indice = splitter.split(X=train, y=train[TARGET])\n",
    "else:\n",
    "    raise ValueError(CV)"
   ]
  },
  {
   "cell_type": "code",
   "execution_count": 35,
   "metadata": {},
   "outputs": [],
   "source": [
    "# %%time\n",
    "# # Load and flatten test set images\n",
    "# logger.debug('Start loading test images ({:.3f} seconds passed)'.format(time.time() - SINCE))\n",
    "# test_images = load_photofiles(test['object_id'])\n",
    "# logger.debug('Complete loading test images ({:.3f} seconds passed)'.format(time.time() - SINCE))\n",
    "# test_images = test_images.reshape(test_images.shape[0], -1)"
   ]
  },
  {
   "cell_type": "code",
   "execution_count": 36,
   "metadata": {},
   "outputs": [
    {
     "name": "stderr",
     "output_type": "stream",
     "text": [
      "2021-07-15 22:11:38,767 - __main__ - DEBUG - Start fold 1 (2587.849 seconds passed)\n",
      "2021-07-15 22:11:38,776 - __main__ - DEBUG - Start training model (2587.859 seconds passed)\n",
      "2021-07-15 22:11:38,827 - __main__ - DEBUG - Complete training (2587.910 seconds passed)\n",
      "2021-07-15 22:11:38,854 - __main__ - DEBUG - Save training fold to ..\\scripts\\..\\experiments\\exp003\\cv_fold1_training.csv (2587.936 seconds passed)\n",
      "2021-07-15 22:11:38,866 - __main__ - DEBUG - Save validation fold to ..\\scripts\\..\\experiments\\exp003\\cv_fold1_validation.csv (2587.948 seconds passed)\n",
      "2021-07-15 22:11:38,921 - __main__ - DEBUG - Save test result ..\\scripts\\..\\experiments\\exp003\\cv_fold1_test.csv (2588.003 seconds passed)\n",
      "2021-07-15 22:11:38,927 - __main__ - DEBUG - Save model ..\\scripts\\..\\experiments\\exp003\\cv_fold1_model.pickle (2588.009 seconds passed)\n",
      "2021-07-15 22:11:39,185 - __main__ - DEBUG - Complete fold 1 (2588.268 seconds passed)\n",
      "2021-07-15 22:11:39,185 - __main__ - DEBUG - Start fold 2 (2588.268 seconds passed)\n",
      "2021-07-15 22:11:39,200 - __main__ - DEBUG - Start training model (2588.282 seconds passed)\n",
      "2021-07-15 22:11:39,230 - __main__ - DEBUG - Complete training (2588.312 seconds passed)\n",
      "2021-07-15 22:11:39,263 - __main__ - DEBUG - Save training fold to ..\\scripts\\..\\experiments\\exp003\\cv_fold2_training.csv (2588.345 seconds passed)\n",
      "2021-07-15 22:11:39,274 - __main__ - DEBUG - Save validation fold to ..\\scripts\\..\\experiments\\exp003\\cv_fold2_validation.csv (2588.356 seconds passed)\n",
      "2021-07-15 22:11:39,323 - __main__ - DEBUG - Save test result ..\\scripts\\..\\experiments\\exp003\\cv_fold2_test.csv (2588.405 seconds passed)\n",
      "2021-07-15 22:11:39,325 - __main__ - DEBUG - Save model ..\\scripts\\..\\experiments\\exp003\\cv_fold2_model.pickle (2588.407 seconds passed)\n",
      "2021-07-15 22:11:39,382 - __main__ - DEBUG - Complete fold 2 (2588.464 seconds passed)\n",
      "2021-07-15 22:11:39,382 - __main__ - DEBUG - Start fold 3 (2588.464 seconds passed)\n",
      "2021-07-15 22:11:39,391 - __main__ - DEBUG - Start training model (2588.473 seconds passed)\n",
      "2021-07-15 22:11:39,416 - __main__ - DEBUG - Complete training (2588.498 seconds passed)\n",
      "2021-07-15 22:11:39,444 - __main__ - DEBUG - Save training fold to ..\\scripts\\..\\experiments\\exp003\\cv_fold3_training.csv (2588.526 seconds passed)\n",
      "2021-07-15 22:11:39,456 - __main__ - DEBUG - Save validation fold to ..\\scripts\\..\\experiments\\exp003\\cv_fold3_validation.csv (2588.538 seconds passed)\n",
      "2021-07-15 22:11:39,506 - __main__ - DEBUG - Save test result ..\\scripts\\..\\experiments\\exp003\\cv_fold3_test.csv (2588.588 seconds passed)\n",
      "2021-07-15 22:11:39,508 - __main__ - DEBUG - Save model ..\\scripts\\..\\experiments\\exp003\\cv_fold3_model.pickle (2588.590 seconds passed)\n",
      "2021-07-15 22:11:39,560 - __main__ - DEBUG - Complete fold 3 (2588.642 seconds passed)\n",
      "2021-07-15 22:11:39,561 - __main__ - DEBUG - Start fold 4 (2588.643 seconds passed)\n",
      "2021-07-15 22:11:39,566 - __main__ - DEBUG - Start training model (2588.648 seconds passed)\n",
      "2021-07-15 22:11:39,591 - __main__ - DEBUG - Complete training (2588.673 seconds passed)\n",
      "2021-07-15 22:11:39,621 - __main__ - DEBUG - Save training fold to ..\\scripts\\..\\experiments\\exp003\\cv_fold4_training.csv (2588.703 seconds passed)\n",
      "2021-07-15 22:11:39,633 - __main__ - DEBUG - Save validation fold to ..\\scripts\\..\\experiments\\exp003\\cv_fold4_validation.csv (2588.715 seconds passed)\n",
      "2021-07-15 22:11:39,684 - __main__ - DEBUG - Save test result ..\\scripts\\..\\experiments\\exp003\\cv_fold4_test.csv (2588.766 seconds passed)\n",
      "2021-07-15 22:11:39,688 - __main__ - DEBUG - Save model ..\\scripts\\..\\experiments\\exp003\\cv_fold4_model.pickle (2588.770 seconds passed)\n",
      "2021-07-15 22:11:39,747 - __main__ - DEBUG - Complete fold 4 (2588.830 seconds passed)\n",
      "2021-07-15 22:11:39,747 - __main__ - DEBUG - Start fold 5 (2588.830 seconds passed)\n",
      "2021-07-15 22:11:39,754 - __main__ - DEBUG - Start training model (2588.837 seconds passed)\n",
      "2021-07-15 22:11:39,781 - __main__ - DEBUG - Complete training (2588.864 seconds passed)\n",
      "2021-07-15 22:11:39,808 - __main__ - DEBUG - Save training fold to ..\\scripts\\..\\experiments\\exp003\\cv_fold5_training.csv (2588.891 seconds passed)\n",
      "2021-07-15 22:11:39,819 - __main__ - DEBUG - Save validation fold to ..\\scripts\\..\\experiments\\exp003\\cv_fold5_validation.csv (2588.902 seconds passed)\n",
      "2021-07-15 22:11:39,871 - __main__ - DEBUG - Save test result ..\\scripts\\..\\experiments\\exp003\\cv_fold5_test.csv (2588.954 seconds passed)\n",
      "2021-07-15 22:11:39,874 - __main__ - DEBUG - Save model ..\\scripts\\..\\experiments\\exp003\\cv_fold5_model.pickle (2588.957 seconds passed)\n",
      "2021-07-15 22:11:39,930 - __main__ - DEBUG - Complete fold 5 (2589.013 seconds passed)\n"
     ]
    }
   ],
   "source": [
    "for i, (train_index, valid_index) in enumerate(fold_indice):\n",
    "    num_fold = i + 1\n",
    "    logger.debug('Start fold {} ({:.3f} seconds passed)'.format(num_fold, time.time() - SINCE))\n",
    "    # Separate dataset into training/validation fold\n",
    "#     train_index = train_index[:500]\n",
    "    id_train = train.iloc[train_index]['object_id']\n",
    "    X_train = features.loc[id_train]\n",
    "    y_train = train.iloc[train_index][TARGET]\n",
    "    id_valid = train.iloc[valid_index]['object_id']\n",
    "    X_valid = features.loc[id_valid]\n",
    "    y_valid = train.iloc[valid_index][TARGET]\n",
    "    \n",
    "    # Training\n",
    "    logger.debug('Start training model ({:.3f} seconds passed)'.format(time.time() - SINCE))\n",
    "    ## train estimator\n",
    "    estimator = RidgeClassifierCV(alphas=(0.1, 1.0, 10.0, 100.0, 500., 1000.),\n",
    "                                  class_weight='balanced',\n",
    "                                  normalize=True)\n",
    "    estimator.fit(X_train, y_train)\n",
    "    logger.debug('Complete training ({:.3f} seconds passed)'.format(time.time() - SINCE))\n",
    "    \n",
    "    # Save model and prediction\n",
    "    ## Training set\n",
    "    pred_train = pd.DataFrame(data=estimator.decision_function(X_train),\n",
    "                              columns=estimator.classes_)\n",
    "    pred_train['object_id'] = id_train.values\n",
    "    filepath_fold_train = os.path.join(output_dir, f'cv_fold{num_fold}_training.csv')\n",
    "    pred_train.to_csv(filepath_fold_train, index=False)\n",
    "    logger.debug('Save training fold to {} ({:.3f} seconds passed)' \\\n",
    "                .format(filepath_fold_train, time.time() - SINCE))\n",
    "    ## Validation set\n",
    "    pred_valid = pd.DataFrame(data=estimator.decision_function(X_valid),\n",
    "                              columns=estimator.classes_)\n",
    "    pred_valid['object_id'] = id_valid.values\n",
    "    filepath_fold_valid = os.path.join(output_dir, f'cv_fold{num_fold}_validation.csv')\n",
    "    pred_valid.to_csv(filepath_fold_valid, index=False)\n",
    "    logger.debug('Save validation fold to {} ({:.3f} seconds passed)' \\\n",
    "                .format(filepath_fold_valid, time.time() - SINCE))\n",
    "    ## Test set\n",
    "    X_test = features.loc[test['object_id']]\n",
    "    pred_test = pd.DataFrame(data=estimator.decision_function(X_test.copy()),\n",
    "                             columns=estimator.classes_)\n",
    "    pred_test['object_id'] = test['object_id'].values\n",
    "    filepath_fold_test = os.path.join(output_dir, f'cv_fold{num_fold}_test.csv')\n",
    "    pred_test.to_csv(filepath_fold_test, index=False)\n",
    "    logger.debug('Save test result {} ({:.3f} seconds passed)' \\\n",
    "                 .format(filepath_fold_test, time.time() - SINCE))\n",
    "    ## Model\n",
    "    filepath_fold_model = os.path.join(output_dir, f'cv_fold{num_fold}_model.pickle')\n",
    "    with open(filepath_fold_model, 'wb') as f:\n",
    "        model = [estimator, ]\n",
    "        pickle.dump(model, f)\n",
    "    logger.debug('Save model {} ({:.3f} seconds passed)'.format(filepath_fold_model, time.time() - SINCE))\n",
    "    \n",
    "    # Save memory\n",
    "    del (model, estimator, X_train, X_valid, y_train, y_valid,\n",
    "         pred_train, pred_valid, pred_test)\n",
    "    gc.collect()\n",
    "\n",
    "    logger.debug('Complete fold {} ({:.3f} seconds passed)'.format(num_fold, time.time() - SINCE))"
   ]
  },
  {
   "cell_type": "markdown",
   "metadata": {},
   "source": [
    "# Evaluation"
   ]
  },
  {
   "cell_type": "code",
   "execution_count": 37,
   "metadata": {},
   "outputs": [],
   "source": [
    "rmse = partial(mean_squared_error, squared=False)"
   ]
  },
  {
   "cell_type": "code",
   "execution_count": 38,
   "metadata": {},
   "outputs": [],
   "source": [
    "qwk = partial(cohen_kappa_score, labels=np.sort(train['target'].unique()), weights='quadratic')"
   ]
  },
  {
   "cell_type": "code",
   "execution_count": 39,
   "metadata": {},
   "outputs": [],
   "source": [
    "@np.vectorize\n",
    "def predict(proba_0: float, proba_1: float, proba_2: float, proba_3: float) -> int:\n",
    "    return np.argmax((proba_0, proba_1, proba_2, proba_3))"
   ]
  },
  {
   "cell_type": "code",
   "execution_count": 40,
   "metadata": {},
   "outputs": [],
   "source": [
    "assert(train['object_id'].duplicated().sum() == 0)\n",
    "train.set_index('object_id', inplace=True)"
   ]
  },
  {
   "cell_type": "code",
   "execution_count": 41,
   "metadata": {},
   "outputs": [],
   "source": [
    "metrics = defaultdict(list)"
   ]
  },
  {
   "cell_type": "markdown",
   "metadata": {},
   "source": [
    "## Training set"
   ]
  },
  {
   "cell_type": "code",
   "execution_count": 42,
   "metadata": {},
   "outputs": [
    {
     "name": "stderr",
     "output_type": "stream",
     "text": [
      "2021-07-15 22:11:40,041 - __main__ - DEBUG - Evaluate cv result (training set) Fold 1\n",
      "2021-07-15 22:11:40,089 - __main__ - DEBUG - Loss: 1.1026974057972498\n",
      "2021-07-15 22:11:40,090 - __main__ - DEBUG - Score: 0.005456432221489282\n",
      "2021-07-15 22:11:40,091 - __main__ - DEBUG - Evaluate cv result (training set) Fold 2\n",
      "2021-07-15 22:11:40,129 - __main__ - DEBUG - Loss: 1.2359081833978505\n",
      "2021-07-15 22:11:40,129 - __main__ - DEBUG - Score: 0.04927656418452908\n",
      "2021-07-15 22:11:40,130 - __main__ - DEBUG - Evaluate cv result (training set) Fold 3\n",
      "2021-07-15 22:11:40,167 - __main__ - DEBUG - Loss: 1.1066896153673371\n",
      "2021-07-15 22:11:40,168 - __main__ - DEBUG - Score: 0.002252683836587055\n",
      "2021-07-15 22:11:40,168 - __main__ - DEBUG - Evaluate cv result (training set) Fold 4\n",
      "2021-07-15 22:11:40,205 - __main__ - DEBUG - Loss: 1.2292725943057183\n",
      "2021-07-15 22:11:40,205 - __main__ - DEBUG - Score: 0.0924993381672845\n",
      "2021-07-15 22:11:40,206 - __main__ - DEBUG - Evaluate cv result (training set) Fold 5\n",
      "2021-07-15 22:11:40,241 - __main__ - DEBUG - Loss: 1.1446216537173888\n",
      "2021-07-15 22:11:40,241 - __main__ - DEBUG - Score: 0.033795905480630384\n"
     ]
    },
    {
     "name": "stdout",
     "output_type": "stream",
     "text": [
      "[[  0 159 221   0]\n",
      " [  0 307 409   0]\n",
      " [  0 461 747   1]\n",
      " [  0 357 487   0]]\n",
      "[[ 28   6 213 133]\n",
      " [ 22  25 408 262]\n",
      " [ 39  35 737 397]\n",
      " [ 16  20 465 343]]\n",
      "[[  1 160 219   0]\n",
      " [  0 311 406   0]\n",
      " [  0 467 741   1]\n",
      " [  0 368 476   0]]\n",
      "[[ 50  27 209  94]\n",
      " [ 61  57 410 189]\n",
      " [ 93  61 735 320]\n",
      " [ 50  37 473 284]]\n",
      "[[ 23 135 205  17]\n",
      " [ 18 256 409  34]\n",
      " [ 32 361 745  71]\n",
      " [ 29 290 475  50]]\n"
     ]
    }
   ],
   "source": [
    "pred_train_dfs = []\n",
    "for i in range(N_SPLITS):\n",
    "    num_fold = i + 1\n",
    "    logger.debug('Evaluate cv result (training set) Fold {}'.format(num_fold))\n",
    "    # Read cv result\n",
    "    filepath_fold_train = os.path.join(output_dir, f'cv_fold{num_fold}_training.csv')\n",
    "    pred_train_df = pd.read_csv(filepath_fold_train)\n",
    "    pred_train_df['pred'] = predict(pred_train_df['0'], pred_train_df['1'],\n",
    "                                    pred_train_df['2'], pred_train_df['3'])\n",
    "    pred_train_df['actual'] = train.loc[pred_train_df['object_id'], TARGET].values\n",
    "    print(confusion_matrix(pred_train_df['actual'], pred_train_df['pred'],\n",
    "                           labels=np.sort(train['target'].unique())))\n",
    "    loss = rmse(pred_train_df['actual'], pred_train_df['pred'])\n",
    "    score = qwk(pred_train_df['actual'], pred_train_df['pred'])\n",
    "    logger.debug('Loss: {}'.format(loss))\n",
    "    logger.debug('Score: {}'.format(score))\n",
    "    metrics['train_losses'].append(loss)\n",
    "    metrics['train_scores'].append(score)\n",
    "    pred_train_dfs.append(pred_train_df)\n",
    "\n",
    "metrics['train_losses_avg'] = np.mean(metrics['train_losses'])\n",
    "metrics['train_losses_std'] = np.std(metrics['train_losses'])\n",
    "metrics['train_scores_avg'] = np.mean(metrics['train_scores'])\n",
    "metrics['train_scores_std'] = np.std(metrics['train_scores'])"
   ]
  },
  {
   "cell_type": "code",
   "execution_count": 43,
   "metadata": {},
   "outputs": [
    {
     "data": {
      "text/html": [
       "<div>\n",
       "<style scoped>\n",
       "    .dataframe tbody tr th:only-of-type {\n",
       "        vertical-align: middle;\n",
       "    }\n",
       "\n",
       "    .dataframe tbody tr th {\n",
       "        vertical-align: top;\n",
       "    }\n",
       "\n",
       "    .dataframe thead th {\n",
       "        text-align: right;\n",
       "    }\n",
       "</style>\n",
       "<table border=\"1\" class=\"dataframe\">\n",
       "  <thead>\n",
       "    <tr style=\"text-align: right;\">\n",
       "      <th></th>\n",
       "      <th>0</th>\n",
       "      <th>1</th>\n",
       "      <th>2</th>\n",
       "      <th>3</th>\n",
       "      <th>pred</th>\n",
       "      <th>actual</th>\n",
       "    </tr>\n",
       "    <tr>\n",
       "      <th>object_id</th>\n",
       "      <th></th>\n",
       "      <th></th>\n",
       "      <th></th>\n",
       "      <th></th>\n",
       "      <th></th>\n",
       "      <th></th>\n",
       "    </tr>\n",
       "  </thead>\n",
       "  <tbody>\n",
       "    <tr>\n",
       "      <th>002bff09b09998d0be65</th>\n",
       "      <td>-0.40105</td>\n",
       "      <td>-0.40151</td>\n",
       "      <td>-0.39568</td>\n",
       "      <td>-0.40176</td>\n",
       "      <td>2</td>\n",
       "      <td>1</td>\n",
       "    </tr>\n",
       "    <tr>\n",
       "      <th>00309fb1ef05416f9c1f</th>\n",
       "      <td>-0.39201</td>\n",
       "      <td>-0.37973</td>\n",
       "      <td>-0.44611</td>\n",
       "      <td>-0.38215</td>\n",
       "      <td>1</td>\n",
       "      <td>3</td>\n",
       "    </tr>\n",
       "    <tr>\n",
       "      <th>003a1562e97f79ba96dc</th>\n",
       "      <td>-0.40747</td>\n",
       "      <td>-0.41783</td>\n",
       "      <td>-0.35849</td>\n",
       "      <td>-0.41621</td>\n",
       "      <td>2</td>\n",
       "      <td>3</td>\n",
       "    </tr>\n",
       "    <tr>\n",
       "      <th>004890880e8e7431147b</th>\n",
       "      <td>-0.40622</td>\n",
       "      <td>-0.41109</td>\n",
       "      <td>-0.37157</td>\n",
       "      <td>-0.41112</td>\n",
       "      <td>2</td>\n",
       "      <td>2</td>\n",
       "    </tr>\n",
       "    <tr>\n",
       "      <th>00718c32602425f504c1</th>\n",
       "      <td>-0.40282</td>\n",
       "      <td>-0.40702</td>\n",
       "      <td>-0.38481</td>\n",
       "      <td>-0.40535</td>\n",
       "      <td>2</td>\n",
       "      <td>3</td>\n",
       "    </tr>\n",
       "    <tr>\n",
       "      <th>...</th>\n",
       "      <td>...</td>\n",
       "      <td>...</td>\n",
       "      <td>...</td>\n",
       "      <td>...</td>\n",
       "      <td>...</td>\n",
       "      <td>...</td>\n",
       "    </tr>\n",
       "    <tr>\n",
       "      <th>ffa3259fff8e6f3818a1</th>\n",
       "      <td>-0.40062</td>\n",
       "      <td>-0.39861</td>\n",
       "      <td>-0.40210</td>\n",
       "      <td>-0.39867</td>\n",
       "      <td>1</td>\n",
       "      <td>3</td>\n",
       "    </tr>\n",
       "    <tr>\n",
       "      <th>ffd4d361756587883e48</th>\n",
       "      <td>-0.39724</td>\n",
       "      <td>-0.39433</td>\n",
       "      <td>-0.41204</td>\n",
       "      <td>-0.39639</td>\n",
       "      <td>1</td>\n",
       "      <td>1</td>\n",
       "    </tr>\n",
       "    <tr>\n",
       "      <th>ffd794b7b311b7b7fd92</th>\n",
       "      <td>-0.39513</td>\n",
       "      <td>-0.38993</td>\n",
       "      <td>-0.42539</td>\n",
       "      <td>-0.38954</td>\n",
       "      <td>3</td>\n",
       "      <td>2</td>\n",
       "    </tr>\n",
       "    <tr>\n",
       "      <th>ffe49bba69d06446de7e</th>\n",
       "      <td>-0.40610</td>\n",
       "      <td>-0.41580</td>\n",
       "      <td>-0.36391</td>\n",
       "      <td>-0.41420</td>\n",
       "      <td>2</td>\n",
       "      <td>3</td>\n",
       "    </tr>\n",
       "    <tr>\n",
       "      <th>ffe77db10be3400bed53</th>\n",
       "      <td>-0.40281</td>\n",
       "      <td>-0.39980</td>\n",
       "      <td>-0.39813</td>\n",
       "      <td>-0.39926</td>\n",
       "      <td>2</td>\n",
       "      <td>1</td>\n",
       "    </tr>\n",
       "  </tbody>\n",
       "</table>\n",
       "<p>3937 rows × 6 columns</p>\n",
       "</div>"
      ],
      "text/plain": [
       "                            0        1        2        3  pred  actual\n",
       "object_id                                                             \n",
       "002bff09b09998d0be65 -0.40105 -0.40151 -0.39568 -0.40176     2       1\n",
       "00309fb1ef05416f9c1f -0.39201 -0.37973 -0.44611 -0.38215     1       3\n",
       "003a1562e97f79ba96dc -0.40747 -0.41783 -0.35849 -0.41621     2       3\n",
       "004890880e8e7431147b -0.40622 -0.41109 -0.37157 -0.41112     2       2\n",
       "00718c32602425f504c1 -0.40282 -0.40702 -0.38481 -0.40535     2       3\n",
       "...                       ...      ...      ...      ...   ...     ...\n",
       "ffa3259fff8e6f3818a1 -0.40062 -0.39861 -0.40210 -0.39867     1       3\n",
       "ffd4d361756587883e48 -0.39724 -0.39433 -0.41204 -0.39639     1       1\n",
       "ffd794b7b311b7b7fd92 -0.39513 -0.38993 -0.42539 -0.38954     3       2\n",
       "ffe49bba69d06446de7e -0.40610 -0.41580 -0.36391 -0.41420     2       3\n",
       "ffe77db10be3400bed53 -0.40281 -0.39980 -0.39813 -0.39926     2       1\n",
       "\n",
       "[3937 rows x 6 columns]"
      ]
     },
     "execution_count": 43,
     "metadata": {},
     "output_type": "execute_result"
    }
   ],
   "source": [
    "pred_train = pd.concat(pred_train_dfs).groupby('object_id').sum()\n",
    "pred_train = pred_train / N_SPLITS\n",
    "pred_train['pred'] = predict(pred_train['0'], pred_train['1'], pred_train['2'], pred_train['3'])\n",
    "pred_train['actual'] = train.loc[pred_train.index, TARGET].values\n",
    "pred_train"
   ]
  },
  {
   "cell_type": "code",
   "execution_count": 44,
   "metadata": {},
   "outputs": [
    {
     "name": "stderr",
     "output_type": "stream",
     "text": [
      "2021-07-15 22:11:40,317 - __main__ - INFO - Training loss: 1.1564223599642776\n",
      "2021-07-15 22:11:40,318 - __main__ - INFO - Training score: 0.05453658173022824\n"
     ]
    },
    {
     "name": "stdout",
     "output_type": "stream",
     "text": [
      "[[ 22 109 267  77]\n",
      " [ 12 237 512 135]\n",
      " [ 28 316 928 239]\n",
      " [ 17 229 595 214]]\n"
     ]
    }
   ],
   "source": [
    "print(confusion_matrix(pred_train['actual'], pred_train['pred'], labels=np.sort(train['target'].unique())))\n",
    "loss = rmse(pred_train['actual'], pred_train['pred'])\n",
    "score = qwk(pred_train['actual'], pred_train['pred'])\n",
    "metrics['train_loss'] = loss\n",
    "metrics['train_score'] = score\n",
    "logger.info('Training loss: {}'.format(loss))\n",
    "logger.info('Training score: {}'.format(score))"
   ]
  },
  {
   "cell_type": "code",
   "execution_count": 45,
   "metadata": {},
   "outputs": [
    {
     "name": "stderr",
     "output_type": "stream",
     "text": [
      "2021-07-15 22:11:40,352 - __main__ - DEBUG - Write cv result to ..\\scripts\\..\\experiments\\exp003\\prediction_train.csv\n"
     ]
    }
   ],
   "source": [
    "pred_train.to_csv(os.path.join(output_dir, 'prediction_train.csv'))\n",
    "logger.debug('Write cv result to {}'.format(os.path.join(output_dir, 'prediction_train.csv')))"
   ]
  },
  {
   "cell_type": "markdown",
   "metadata": {},
   "source": [
    "## Validation set"
   ]
  },
  {
   "cell_type": "code",
   "execution_count": 46,
   "metadata": {},
   "outputs": [
    {
     "name": "stderr",
     "output_type": "stream",
     "text": [
      "2021-07-15 22:11:40,375 - __main__ - DEBUG - Evaluate cv result (validation set) Fold 1\n",
      "2021-07-15 22:11:40,395 - __main__ - DEBUG - Loss: 1.1089163320431714\n",
      "2021-07-15 22:11:40,396 - __main__ - DEBUG - Score: 0.018151238028618177\n",
      "2021-07-15 22:11:40,397 - __main__ - DEBUG - Evaluate cv result (validation set) Fold 2\n",
      "2021-07-15 22:11:40,418 - __main__ - DEBUG - Loss: 1.2513951604971694\n",
      "2021-07-15 22:11:40,418 - __main__ - DEBUG - Score: -0.022021357100815653\n",
      "2021-07-15 22:11:40,419 - __main__ - DEBUG - Evaluate cv result (validation set) Fold 3\n",
      "2021-07-15 22:11:40,439 - __main__ - DEBUG - Loss: 1.0928902729303704\n",
      "2021-07-15 22:11:40,440 - __main__ - DEBUG - Score: 0.02601061700827878\n",
      "2021-07-15 22:11:40,440 - __main__ - DEBUG - Evaluate cv result (validation set) Fold 4\n",
      "2021-07-15 22:11:40,459 - __main__ - DEBUG - Loss: 1.2906663271270657\n",
      "2021-07-15 22:11:40,460 - __main__ - DEBUG - Score: 0.0028298467649573444\n",
      "2021-07-15 22:11:40,461 - __main__ - DEBUG - Evaluate cv result (validation set) Fold 5\n",
      "2021-07-15 22:11:40,483 - __main__ - DEBUG - Loss: 1.1757827423376996\n",
      "2021-07-15 22:11:40,483 - __main__ - DEBUG - Score: -0.02834303722065279\n"
     ]
    },
    {
     "name": "stdout",
     "output_type": "stream",
     "text": [
      "[[  0  50  45   0]\n",
      " [  0  84  96   0]\n",
      " [  0 126 176   0]\n",
      " [  0 102 109   0]]\n",
      "[[  0   4  57  34]\n",
      " [  4   5 107  63]\n",
      " [  9   6 191  97]\n",
      " [  4   7 130  70]]\n",
      "[[  0  45  50   0]\n",
      " [  0  77 102   0]\n",
      " [  0 115 187   0]\n",
      " [  0  89 122   0]]\n",
      "[[  8   3  54  30]\n",
      " [ 14   9  99  57]\n",
      " [ 23  14 185  80]\n",
      " [ 15  11 116  69]]\n",
      "[[  3  26  60   6]\n",
      " [  5  59 103  12]\n",
      " [  6  99 184  13]\n",
      " [  9  69 119  14]]\n"
     ]
    }
   ],
   "source": [
    "pred_valid_dfs = []\n",
    "for i in range(N_SPLITS):\n",
    "    num_fold = i + 1\n",
    "    logger.debug('Evaluate cv result (validation set) Fold {}'.format(num_fold))\n",
    "    # Read cv result\n",
    "    filepath_fold_valid = os.path.join(output_dir, f'cv_fold{num_fold}_validation.csv')\n",
    "    pred_valid_df = pd.read_csv(filepath_fold_valid)\n",
    "    pred_valid_df['pred'] = predict(pred_valid_df['0'], pred_valid_df['1'],\n",
    "                                    pred_valid_df['2'], pred_valid_df['3'])\n",
    "    pred_valid_df['actual'] = train.loc[pred_valid_df['object_id'], TARGET].values\n",
    "    print(confusion_matrix(pred_valid_df['actual'], pred_valid_df['pred'],\n",
    "                           labels=np.sort(train['target'].unique())))\n",
    "    loss = rmse(pred_valid_df['actual'], pred_valid_df['pred'])\n",
    "    score = qwk(pred_valid_df['actual'], pred_valid_df['pred'])\n",
    "    logger.debug('Loss: {}'.format(loss))\n",
    "    logger.debug('Score: {}'.format(score))\n",
    "    metrics['valid_losses'].append(loss)\n",
    "    metrics['valid_scores'].append(score)\n",
    "    pred_valid_dfs.append(pred_valid_df)\n",
    "    \n",
    "metrics['valid_losses_avg'] = np.mean(metrics['valid_losses'])\n",
    "metrics['valid_losses_std'] = np.std(metrics['valid_losses'])\n",
    "metrics['valid_scores_avg'] = np.mean(metrics['valid_scores'])\n",
    "metrics['valid_scores_std'] = np.std(metrics['valid_scores'])"
   ]
  },
  {
   "cell_type": "code",
   "execution_count": 47,
   "metadata": {},
   "outputs": [
    {
     "data": {
      "text/html": [
       "<div>\n",
       "<style scoped>\n",
       "    .dataframe tbody tr th:only-of-type {\n",
       "        vertical-align: middle;\n",
       "    }\n",
       "\n",
       "    .dataframe tbody tr th {\n",
       "        vertical-align: top;\n",
       "    }\n",
       "\n",
       "    .dataframe thead th {\n",
       "        text-align: right;\n",
       "    }\n",
       "</style>\n",
       "<table border=\"1\" class=\"dataframe\">\n",
       "  <thead>\n",
       "    <tr style=\"text-align: right;\">\n",
       "      <th></th>\n",
       "      <th>0</th>\n",
       "      <th>1</th>\n",
       "      <th>2</th>\n",
       "      <th>3</th>\n",
       "      <th>pred</th>\n",
       "      <th>actual</th>\n",
       "    </tr>\n",
       "    <tr>\n",
       "      <th>object_id</th>\n",
       "      <th></th>\n",
       "      <th></th>\n",
       "      <th></th>\n",
       "      <th></th>\n",
       "      <th></th>\n",
       "      <th></th>\n",
       "    </tr>\n",
       "  </thead>\n",
       "  <tbody>\n",
       "    <tr>\n",
       "      <th>002bff09b09998d0be65</th>\n",
       "      <td>-0.10005</td>\n",
       "      <td>-0.10013</td>\n",
       "      <td>-0.09973</td>\n",
       "      <td>-0.10009</td>\n",
       "      <td>2</td>\n",
       "      <td>1</td>\n",
       "    </tr>\n",
       "    <tr>\n",
       "      <th>00309fb1ef05416f9c1f</th>\n",
       "      <td>-0.09641</td>\n",
       "      <td>-0.09603</td>\n",
       "      <td>-0.11178</td>\n",
       "      <td>-0.09578</td>\n",
       "      <td>3</td>\n",
       "      <td>3</td>\n",
       "    </tr>\n",
       "    <tr>\n",
       "      <th>003a1562e97f79ba96dc</th>\n",
       "      <td>-0.10328</td>\n",
       "      <td>-0.10333</td>\n",
       "      <td>-0.08954</td>\n",
       "      <td>-0.10384</td>\n",
       "      <td>2</td>\n",
       "      <td>3</td>\n",
       "    </tr>\n",
       "    <tr>\n",
       "      <th>004890880e8e7431147b</th>\n",
       "      <td>-0.10268</td>\n",
       "      <td>-0.10191</td>\n",
       "      <td>-0.09266</td>\n",
       "      <td>-0.10275</td>\n",
       "      <td>2</td>\n",
       "      <td>2</td>\n",
       "    </tr>\n",
       "    <tr>\n",
       "      <th>00718c32602425f504c1</th>\n",
       "      <td>-0.10141</td>\n",
       "      <td>-0.10303</td>\n",
       "      <td>-0.09395</td>\n",
       "      <td>-0.10161</td>\n",
       "      <td>2</td>\n",
       "      <td>3</td>\n",
       "    </tr>\n",
       "    <tr>\n",
       "      <th>...</th>\n",
       "      <td>...</td>\n",
       "      <td>...</td>\n",
       "      <td>...</td>\n",
       "      <td>...</td>\n",
       "      <td>...</td>\n",
       "      <td>...</td>\n",
       "    </tr>\n",
       "    <tr>\n",
       "      <th>ffa3259fff8e6f3818a1</th>\n",
       "      <td>-0.10043</td>\n",
       "      <td>-0.09968</td>\n",
       "      <td>-0.10046</td>\n",
       "      <td>-0.09943</td>\n",
       "      <td>3</td>\n",
       "      <td>3</td>\n",
       "    </tr>\n",
       "    <tr>\n",
       "      <th>ffd4d361756587883e48</th>\n",
       "      <td>-0.09868</td>\n",
       "      <td>-0.09867</td>\n",
       "      <td>-0.10388</td>\n",
       "      <td>-0.09877</td>\n",
       "      <td>1</td>\n",
       "      <td>1</td>\n",
       "    </tr>\n",
       "    <tr>\n",
       "      <th>ffd794b7b311b7b7fd92</th>\n",
       "      <td>-0.09779</td>\n",
       "      <td>-0.09819</td>\n",
       "      <td>-0.10665</td>\n",
       "      <td>-0.09737</td>\n",
       "      <td>3</td>\n",
       "      <td>2</td>\n",
       "    </tr>\n",
       "    <tr>\n",
       "      <th>ffe49bba69d06446de7e</th>\n",
       "      <td>-0.10275</td>\n",
       "      <td>-0.10301</td>\n",
       "      <td>-0.09065</td>\n",
       "      <td>-0.10359</td>\n",
       "      <td>2</td>\n",
       "      <td>3</td>\n",
       "    </tr>\n",
       "    <tr>\n",
       "      <th>ffe77db10be3400bed53</th>\n",
       "      <td>-0.09998</td>\n",
       "      <td>-0.09995</td>\n",
       "      <td>-0.10010</td>\n",
       "      <td>-0.09997</td>\n",
       "      <td>1</td>\n",
       "      <td>1</td>\n",
       "    </tr>\n",
       "  </tbody>\n",
       "</table>\n",
       "<p>3937 rows × 6 columns</p>\n",
       "</div>"
      ],
      "text/plain": [
       "                            0        1        2        3  pred  actual\n",
       "object_id                                                             \n",
       "002bff09b09998d0be65 -0.10005 -0.10013 -0.09973 -0.10009     2       1\n",
       "00309fb1ef05416f9c1f -0.09641 -0.09603 -0.11178 -0.09578     3       3\n",
       "003a1562e97f79ba96dc -0.10328 -0.10333 -0.08954 -0.10384     2       3\n",
       "004890880e8e7431147b -0.10268 -0.10191 -0.09266 -0.10275     2       2\n",
       "00718c32602425f504c1 -0.10141 -0.10303 -0.09395 -0.10161     2       3\n",
       "...                       ...      ...      ...      ...   ...     ...\n",
       "ffa3259fff8e6f3818a1 -0.10043 -0.09968 -0.10046 -0.09943     3       3\n",
       "ffd4d361756587883e48 -0.09868 -0.09867 -0.10388 -0.09877     1       1\n",
       "ffd794b7b311b7b7fd92 -0.09779 -0.09819 -0.10665 -0.09737     3       2\n",
       "ffe49bba69d06446de7e -0.10275 -0.10301 -0.09065 -0.10359     2       3\n",
       "ffe77db10be3400bed53 -0.09998 -0.09995 -0.10010 -0.09997     1       1\n",
       "\n",
       "[3937 rows x 6 columns]"
      ]
     },
     "execution_count": 47,
     "metadata": {},
     "output_type": "execute_result"
    }
   ],
   "source": [
    "pred_valid = pd.concat(pred_valid_dfs).groupby('object_id').sum()\n",
    "pred_valid = pred_valid / N_SPLITS\n",
    "pred_valid['pred'] = predict(pred_valid['0'], pred_valid['1'], pred_valid['2'], pred_valid['3'])\n",
    "pred_valid['actual'] = train.loc[pred_valid.index, TARGET].values\n",
    "pred_valid"
   ]
  },
  {
   "cell_type": "code",
   "execution_count": 48,
   "metadata": {},
   "outputs": [
    {
     "name": "stderr",
     "output_type": "stream",
     "text": [
      "2021-07-15 22:11:40,557 - __main__ - INFO - Validatino loss: 1.1864530396697675\n",
      "2021-07-15 22:11:40,558 - __main__ - INFO - Validatino score: -0.0016624246039576018\n"
     ]
    },
    {
     "name": "stdout",
     "output_type": "stream",
     "text": [
      "[[ 11 128 266  70]\n",
      " [ 23 234 507 132]\n",
      " [ 38 360 923 190]\n",
      " [ 28 278 596 153]]\n"
     ]
    }
   ],
   "source": [
    "print(confusion_matrix(pred_valid['actual'], pred_valid['pred'], labels=np.sort(train['target'].unique())))\n",
    "loss = rmse(pred_valid['actual'], pred_valid['pred'])\n",
    "score = qwk(pred_valid['actual'], pred_valid['pred'])\n",
    "metrics['valid_loss'] = loss\n",
    "metrics['valid_score'] = score\n",
    "logger.info('Validatino loss: {}'.format(loss))\n",
    "logger.info('Validatino score: {}'.format(score))"
   ]
  },
  {
   "cell_type": "code",
   "execution_count": 49,
   "metadata": {},
   "outputs": [
    {
     "name": "stderr",
     "output_type": "stream",
     "text": [
      "2021-07-15 22:11:40,606 - __main__ - DEBUG - Write cv result to ..\\scripts\\..\\experiments\\exp003\\prediction_valid.csv\n"
     ]
    }
   ],
   "source": [
    "pred_valid.to_csv(os.path.join(output_dir, 'prediction_valid.csv'))\n",
    "logger.debug('Write cv result to {}'.format(os.path.join(output_dir, 'prediction_valid.csv')))"
   ]
  },
  {
   "cell_type": "code",
   "execution_count": 50,
   "metadata": {},
   "outputs": [
    {
     "name": "stderr",
     "output_type": "stream",
     "text": [
      "2021-07-15 22:11:40,626 - __main__ - DEBUG - Write metrics to ..\\scripts\\..\\experiments\\exp003\\metrics.json\n"
     ]
    }
   ],
   "source": [
    "with open(os.path.join(output_dir, 'metrics.json'), 'w') as f:\n",
    "    json.dump(dict(metrics), f)\n",
    "logger.debug('Write metrics to {}'.format(os.path.join(output_dir, 'metrics.json')))"
   ]
  },
  {
   "cell_type": "markdown",
   "metadata": {},
   "source": [
    "# Prediction"
   ]
  },
  {
   "cell_type": "code",
   "execution_count": 51,
   "metadata": {},
   "outputs": [],
   "source": [
    "pred_test_dfs = []\n",
    "for i in range(N_SPLITS):\n",
    "    num_fold = i + 1\n",
    "    # Read cv result\n",
    "    filepath_fold_test = os.path.join(output_dir, f'cv_fold{num_fold}_test.csv')\n",
    "    pred_test_df = pd.read_csv(filepath_fold_test)\n",
    "    pred_test_dfs.append(pred_test_df)"
   ]
  },
  {
   "cell_type": "code",
   "execution_count": 52,
   "metadata": {},
   "outputs": [
    {
     "data": {
      "text/html": [
       "<div>\n",
       "<style scoped>\n",
       "    .dataframe tbody tr th:only-of-type {\n",
       "        vertical-align: middle;\n",
       "    }\n",
       "\n",
       "    .dataframe tbody tr th {\n",
       "        vertical-align: top;\n",
       "    }\n",
       "\n",
       "    .dataframe thead th {\n",
       "        text-align: right;\n",
       "    }\n",
       "</style>\n",
       "<table border=\"1\" class=\"dataframe\">\n",
       "  <thead>\n",
       "    <tr style=\"text-align: right;\">\n",
       "      <th></th>\n",
       "      <th>0</th>\n",
       "      <th>1</th>\n",
       "      <th>2</th>\n",
       "      <th>3</th>\n",
       "      <th>pred</th>\n",
       "    </tr>\n",
       "    <tr>\n",
       "      <th>object_id</th>\n",
       "      <th></th>\n",
       "      <th></th>\n",
       "      <th></th>\n",
       "      <th></th>\n",
       "      <th></th>\n",
       "    </tr>\n",
       "  </thead>\n",
       "  <tbody>\n",
       "    <tr>\n",
       "      <th>0009e50b94be36ccad39</th>\n",
       "      <td>-0.48294</td>\n",
       "      <td>-0.46783</td>\n",
       "      <td>-0.58047</td>\n",
       "      <td>-0.46876</td>\n",
       "      <td>1</td>\n",
       "    </tr>\n",
       "    <tr>\n",
       "      <th>000bd5e82eb22f199f44</th>\n",
       "      <td>-0.47812</td>\n",
       "      <td>-0.45850</td>\n",
       "      <td>-0.60563</td>\n",
       "      <td>-0.45774</td>\n",
       "      <td>3</td>\n",
       "    </tr>\n",
       "    <tr>\n",
       "      <th>0015f44de1854f617516</th>\n",
       "      <td>-0.50740</td>\n",
       "      <td>-0.50879</td>\n",
       "      <td>-0.47245</td>\n",
       "      <td>-0.51136</td>\n",
       "      <td>2</td>\n",
       "    </tr>\n",
       "    <tr>\n",
       "      <th>00388a678879ba1efa27</th>\n",
       "      <td>-0.50966</td>\n",
       "      <td>-0.52143</td>\n",
       "      <td>-0.44850</td>\n",
       "      <td>-0.52040</td>\n",
       "      <td>2</td>\n",
       "    </tr>\n",
       "    <tr>\n",
       "      <th>005e1e7c6496902d23f3</th>\n",
       "      <td>-0.49387</td>\n",
       "      <td>-0.48908</td>\n",
       "      <td>-0.52912</td>\n",
       "      <td>-0.48793</td>\n",
       "      <td>3</td>\n",
       "    </tr>\n",
       "    <tr>\n",
       "      <th>...</th>\n",
       "      <td>...</td>\n",
       "      <td>...</td>\n",
       "      <td>...</td>\n",
       "      <td>...</td>\n",
       "      <td>...</td>\n",
       "    </tr>\n",
       "    <tr>\n",
       "      <th>ffbe65ad399b632dcbd0</th>\n",
       "      <td>-0.50110</td>\n",
       "      <td>-0.50365</td>\n",
       "      <td>-0.49309</td>\n",
       "      <td>-0.50216</td>\n",
       "      <td>2</td>\n",
       "    </tr>\n",
       "    <tr>\n",
       "      <th>ffd7b2d646c0320c311a</th>\n",
       "      <td>-0.50559</td>\n",
       "      <td>-0.50986</td>\n",
       "      <td>-0.47445</td>\n",
       "      <td>-0.51011</td>\n",
       "      <td>2</td>\n",
       "    </tr>\n",
       "    <tr>\n",
       "      <th>ffdb93ede17d4501e530</th>\n",
       "      <td>-0.50368</td>\n",
       "      <td>-0.50278</td>\n",
       "      <td>-0.48782</td>\n",
       "      <td>-0.50573</td>\n",
       "      <td>2</td>\n",
       "    </tr>\n",
       "    <tr>\n",
       "      <th>ffe111402004b0ed46b4</th>\n",
       "      <td>-0.50129</td>\n",
       "      <td>-0.50118</td>\n",
       "      <td>-0.50078</td>\n",
       "      <td>-0.49674</td>\n",
       "      <td>3</td>\n",
       "    </tr>\n",
       "    <tr>\n",
       "      <th>fffdb3c248a7dcd3cccf</th>\n",
       "      <td>-0.48919</td>\n",
       "      <td>-0.48006</td>\n",
       "      <td>-0.55009</td>\n",
       "      <td>-0.48066</td>\n",
       "      <td>1</td>\n",
       "    </tr>\n",
       "  </tbody>\n",
       "</table>\n",
       "<p>5919 rows × 5 columns</p>\n",
       "</div>"
      ],
      "text/plain": [
       "                            0        1        2        3  pred\n",
       "object_id                                                     \n",
       "0009e50b94be36ccad39 -0.48294 -0.46783 -0.58047 -0.46876     1\n",
       "000bd5e82eb22f199f44 -0.47812 -0.45850 -0.60563 -0.45774     3\n",
       "0015f44de1854f617516 -0.50740 -0.50879 -0.47245 -0.51136     2\n",
       "00388a678879ba1efa27 -0.50966 -0.52143 -0.44850 -0.52040     2\n",
       "005e1e7c6496902d23f3 -0.49387 -0.48908 -0.52912 -0.48793     3\n",
       "...                       ...      ...      ...      ...   ...\n",
       "ffbe65ad399b632dcbd0 -0.50110 -0.50365 -0.49309 -0.50216     2\n",
       "ffd7b2d646c0320c311a -0.50559 -0.50986 -0.47445 -0.51011     2\n",
       "ffdb93ede17d4501e530 -0.50368 -0.50278 -0.48782 -0.50573     2\n",
       "ffe111402004b0ed46b4 -0.50129 -0.50118 -0.50078 -0.49674     3\n",
       "fffdb3c248a7dcd3cccf -0.48919 -0.48006 -0.55009 -0.48066     1\n",
       "\n",
       "[5919 rows x 5 columns]"
      ]
     },
     "execution_count": 52,
     "metadata": {},
     "output_type": "execute_result"
    }
   ],
   "source": [
    "pred_test = pd.concat(pred_test_dfs).groupby('object_id').sum()\n",
    "pred_test = pred_test / N_SPLITS\n",
    "pred_test['pred'] = predict(pred_test['0'], pred_test['1'], pred_test['2'], pred_test['3'])\n",
    "pred_test"
   ]
  },
  {
   "cell_type": "code",
   "execution_count": 53,
   "metadata": {},
   "outputs": [
    {
     "data": {
      "text/html": [
       "<div>\n",
       "<style scoped>\n",
       "    .dataframe tbody tr th:only-of-type {\n",
       "        vertical-align: middle;\n",
       "    }\n",
       "\n",
       "    .dataframe tbody tr th {\n",
       "        vertical-align: top;\n",
       "    }\n",
       "\n",
       "    .dataframe thead th {\n",
       "        text-align: right;\n",
       "    }\n",
       "</style>\n",
       "<table border=\"1\" class=\"dataframe\">\n",
       "  <thead>\n",
       "    <tr style=\"text-align: right;\">\n",
       "      <th></th>\n",
       "      <th>target</th>\n",
       "    </tr>\n",
       "  </thead>\n",
       "  <tbody>\n",
       "    <tr>\n",
       "      <th>0</th>\n",
       "      <td>1</td>\n",
       "    </tr>\n",
       "    <tr>\n",
       "      <th>1</th>\n",
       "      <td>3</td>\n",
       "    </tr>\n",
       "    <tr>\n",
       "      <th>2</th>\n",
       "      <td>2</td>\n",
       "    </tr>\n",
       "    <tr>\n",
       "      <th>3</th>\n",
       "      <td>2</td>\n",
       "    </tr>\n",
       "    <tr>\n",
       "      <th>4</th>\n",
       "      <td>3</td>\n",
       "    </tr>\n",
       "    <tr>\n",
       "      <th>...</th>\n",
       "      <td>...</td>\n",
       "    </tr>\n",
       "    <tr>\n",
       "      <th>5914</th>\n",
       "      <td>2</td>\n",
       "    </tr>\n",
       "    <tr>\n",
       "      <th>5915</th>\n",
       "      <td>2</td>\n",
       "    </tr>\n",
       "    <tr>\n",
       "      <th>5916</th>\n",
       "      <td>2</td>\n",
       "    </tr>\n",
       "    <tr>\n",
       "      <th>5917</th>\n",
       "      <td>3</td>\n",
       "    </tr>\n",
       "    <tr>\n",
       "      <th>5918</th>\n",
       "      <td>1</td>\n",
       "    </tr>\n",
       "  </tbody>\n",
       "</table>\n",
       "<p>5919 rows × 1 columns</p>\n",
       "</div>"
      ],
      "text/plain": [
       "      target\n",
       "0          1\n",
       "1          3\n",
       "2          2\n",
       "3          2\n",
       "4          3\n",
       "...      ...\n",
       "5914       2\n",
       "5915       2\n",
       "5916       2\n",
       "5917       3\n",
       "5918       1\n",
       "\n",
       "[5919 rows x 1 columns]"
      ]
     },
     "execution_count": 53,
     "metadata": {},
     "output_type": "execute_result"
    }
   ],
   "source": [
    "test['target'] = pred_test.loc[test['object_id'], 'pred'].values\n",
    "test = test[['target']]\n",
    "test"
   ]
  },
  {
   "cell_type": "code",
   "execution_count": 54,
   "metadata": {},
   "outputs": [
    {
     "data": {
      "text/html": [
       "<div>\n",
       "<style scoped>\n",
       "    .dataframe tbody tr th:only-of-type {\n",
       "        vertical-align: middle;\n",
       "    }\n",
       "\n",
       "    .dataframe tbody tr th {\n",
       "        vertical-align: top;\n",
       "    }\n",
       "\n",
       "    .dataframe thead th {\n",
       "        text-align: right;\n",
       "    }\n",
       "</style>\n",
       "<table border=\"1\" class=\"dataframe\">\n",
       "  <thead>\n",
       "    <tr style=\"text-align: right;\">\n",
       "      <th></th>\n",
       "      <th>target</th>\n",
       "    </tr>\n",
       "  </thead>\n",
       "  <tbody>\n",
       "    <tr>\n",
       "      <th>0</th>\n",
       "      <td>3</td>\n",
       "    </tr>\n",
       "    <tr>\n",
       "      <th>1</th>\n",
       "      <td>1</td>\n",
       "    </tr>\n",
       "    <tr>\n",
       "      <th>2</th>\n",
       "      <td>3</td>\n",
       "    </tr>\n",
       "    <tr>\n",
       "      <th>3</th>\n",
       "      <td>3</td>\n",
       "    </tr>\n",
       "    <tr>\n",
       "      <th>4</th>\n",
       "      <td>0</td>\n",
       "    </tr>\n",
       "    <tr>\n",
       "      <th>...</th>\n",
       "      <td>...</td>\n",
       "    </tr>\n",
       "    <tr>\n",
       "      <th>5914</th>\n",
       "      <td>2</td>\n",
       "    </tr>\n",
       "    <tr>\n",
       "      <th>5915</th>\n",
       "      <td>1</td>\n",
       "    </tr>\n",
       "    <tr>\n",
       "      <th>5916</th>\n",
       "      <td>1</td>\n",
       "    </tr>\n",
       "    <tr>\n",
       "      <th>5917</th>\n",
       "      <td>3</td>\n",
       "    </tr>\n",
       "    <tr>\n",
       "      <th>5918</th>\n",
       "      <td>3</td>\n",
       "    </tr>\n",
       "  </tbody>\n",
       "</table>\n",
       "<p>5919 rows × 1 columns</p>\n",
       "</div>"
      ],
      "text/plain": [
       "      target\n",
       "0          3\n",
       "1          1\n",
       "2          3\n",
       "3          3\n",
       "4          0\n",
       "...      ...\n",
       "5914       2\n",
       "5915       1\n",
       "5916       1\n",
       "5917       3\n",
       "5918       3\n",
       "\n",
       "[5919 rows x 1 columns]"
      ]
     },
     "execution_count": 54,
     "metadata": {},
     "output_type": "execute_result"
    }
   ],
   "source": [
    "sample_submission"
   ]
  },
  {
   "cell_type": "code",
   "execution_count": 55,
   "metadata": {},
   "outputs": [
    {
     "name": "stderr",
     "output_type": "stream",
     "text": [
      "2021-07-15 22:11:40,830 - __main__ - DEBUG - Write submission to ..\\scripts\\..\\experiments\\exp003\\003_submission.csv\n"
     ]
    }
   ],
   "source": [
    "test.to_csv(os.path.join(output_dir, f'{str(EXP_NO).zfill(3)}_submission.csv'), index=False)\n",
    "logger.debug('Write submission to {}'.format(os.path.join(output_dir, f'{str(EXP_NO).zfill(3)}_submission.csv')))"
   ]
  },
  {
   "cell_type": "code",
   "execution_count": 56,
   "metadata": {},
   "outputs": [
    {
     "name": "stderr",
     "output_type": "stream",
     "text": [
      "2021-07-15 22:11:40,895 - __main__ - DEBUG - Write figure to ..\\scripts\\..\\experiments\\exp003\\prediction.png\n"
     ]
    },
    {
     "data": {
      "image/png": "[encoded data removed]",
      "text/plain": [
       "<Figure size 432x288 with 1 Axes>"
      ]
     },
     "metadata": {
      "needs_background": "light"
     },
     "output_type": "display_data"
    }
   ],
   "source": [
    "fig = plt.figure()\n",
    "sns.countplot(data=test, x='target')\n",
    "sns.despine()\n",
    "fig.savefig(os.path.join(output_dir, 'prediction.png'))\n",
    "logger.debug('Write figure to {}'.format(os.path.join(output_dir, 'prediction.png')))"
   ]
  },
  {
   "cell_type": "code",
   "execution_count": 57,
   "metadata": {},
   "outputs": [
    {
     "name": "stderr",
     "output_type": "stream",
     "text": [
      "2021-07-15 22:11:40,948 - __main__ - DEBUG - Complete (2590.030 seconds passed)\n"
     ]
    }
   ],
   "source": [
    "logger.debug('Complete ({:.3f} seconds passed)'.format(time.time() - SINCE))"
   ]
  }
 ],
 "metadata": {
  "kernelspec": {
   "display_name": "Python 3 (ipykernel)",
   "language": "python",
   "name": "python3"
  },
  "language_info": {
   "codemirror_mode": {
    "name": "ipython",
    "version": 3
   },
   "file_extension": ".py",
   "mimetype": "text/x-python",
   "name": "python",
   "nbconvert_exporter": "python",
   "pygments_lexer": "ipython3",
   "version": "3.9.0"
  }
 },
 "nbformat": 4,
 "nbformat_minor": 4
}
