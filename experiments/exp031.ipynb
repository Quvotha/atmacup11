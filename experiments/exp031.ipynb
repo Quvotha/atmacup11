{
 "cells": [
  {
   "cell_type": "markdown",
   "metadata": {},
   "source": [
    "# Settings"
   ]
  },
  {
   "cell_type": "code",
   "execution_count": 1,
   "metadata": {
    "execution": {
     "iopub.execute_input": "2021-07-18T20:08:16.954305Z",
     "iopub.status.busy": "2021-07-18T20:08:16.953299Z",
     "iopub.status.idle": "2021-07-18T20:08:16.958812Z",
     "shell.execute_reply": "2021-07-18T20:08:16.958812Z"
    }
   },
   "outputs": [],
   "source": [
    "EXP_NO = 31\n",
    "SEED = 1\n",
    "N_SPLITS = 5\n",
    "TARGET = 'target'\n",
    "GROUP = 'art_series_id'\n",
    "REGRESSION = True"
   ]
  },
  {
   "cell_type": "code",
   "execution_count": 2,
   "metadata": {
    "execution": {
     "iopub.execute_input": "2021-07-18T20:08:16.958812Z",
     "iopub.status.busy": "2021-07-18T20:08:16.958812Z",
     "iopub.status.idle": "2021-07-18T20:08:16.974446Z",
     "shell.execute_reply": "2021-07-18T20:08:16.974446Z"
    }
   },
   "outputs": [],
   "source": [
    "assert((TARGET, REGRESSION) in (('target', True), ('target', False), ('sorting_date', True)))"
   ]
  },
  {
   "cell_type": "code",
   "execution_count": 3,
   "metadata": {},
   "outputs": [
    {
     "data": {
      "text/plain": [
       "(4, 5, 6, 8, 9, 10, 11, 12, 13, 14, 15, 17, 18, 19, 20, 21, 22, 23, 24, 26, 27)"
      ]
     },
     "execution_count": 3,
     "metadata": {},
     "output_type": "execute_result"
    }
   ],
   "source": [
    "CV_THRESHOLD = 0.95\n",
    "PAST_EXPERIMENTS = tuple(exp_no for exp_no in range(4, 28 + 1)\n",
    "                         # 7 は予測結果がなんかおかしい、16, 25, 28 は時間の都合でできなかった\n",
    "                         if exp_no not in (7, 16, 25, 28))\n",
    "PAST_EXPERIMENTS"
   ]
  },
  {
   "cell_type": "markdown",
   "metadata": {},
   "source": [
    "# Library"
   ]
  },
  {
   "cell_type": "code",
   "execution_count": 4,
   "metadata": {
    "execution": {
     "iopub.execute_input": "2021-07-18T20:08:16.974446Z",
     "iopub.status.busy": "2021-07-18T20:08:16.974446Z",
     "iopub.status.idle": "2021-07-18T20:08:20.307818Z",
     "shell.execute_reply": "2021-07-18T20:08:20.307818Z"
    }
   },
   "outputs": [],
   "source": [
    "from collections import defaultdict\n",
    "from functools import partial\n",
    "import gc\n",
    "import glob\n",
    "import json\n",
    "from logging import getLogger, StreamHandler, FileHandler, DEBUG, Formatter\n",
    "import pickle\n",
    "import os\n",
    "import sys\n",
    "import time\n",
    "\n",
    "import lightgbm as lgbm\n",
    "import matplotlib.pyplot as plt\n",
    "import numpy as np\n",
    "import pandas as pd\n",
    "import seaborn as sns\n",
    "from sklearn.linear_model import RidgeCV, RidgeClassifierCV\n",
    "from sklearn.metrics import confusion_matrix, mean_squared_error\n",
    "from sklearnex import patch_sklearn\n",
    "\n",
    "SCRIPTS_DIR = os.path.join('..', 'scripts')\n",
    "assert(os.path.isdir(SCRIPTS_DIR))\n",
    "if SCRIPTS_DIR not in sys.path: sys.path.append(SCRIPTS_DIR)\n",
    "\n",
    "from cross_validation import load_cv_object_ids\n",
    "from features import extract_representative_color_features, extract_representative_colors\n",
    "from dataset import load_csvfiles, load_photofile\n",
    "from folder import experiment_dir_of\n",
    "from target import soring_date2target"
   ]
  },
  {
   "cell_type": "code",
   "execution_count": 5,
   "metadata": {
    "execution": {
     "iopub.execute_input": "2021-07-18T20:08:20.307818Z",
     "iopub.status.busy": "2021-07-18T20:08:20.307818Z",
     "iopub.status.idle": "2021-07-18T20:08:20.323443Z",
     "shell.execute_reply": "2021-07-18T20:08:20.323443Z"
    }
   },
   "outputs": [],
   "source": [
    "pd.options.display.float_format = '{:.5f}'.format"
   ]
  },
  {
   "cell_type": "code",
   "execution_count": 6,
   "metadata": {},
   "outputs": [
    {
     "name": "stderr",
     "output_type": "stream",
     "text": [
      "Intel(R) Extension for Scikit-learn* enabled (https://github.com/intel/scikit-learn-intelex)\n"
     ]
    }
   ],
   "source": [
    "patch_sklearn()"
   ]
  },
  {
   "cell_type": "markdown",
   "metadata": {},
   "source": [
    "# Prepare directory"
   ]
  },
  {
   "cell_type": "code",
   "execution_count": 7,
   "metadata": {
    "execution": {
     "iopub.execute_input": "2021-07-18T20:08:20.323443Z",
     "iopub.status.busy": "2021-07-18T20:08:20.323443Z",
     "iopub.status.idle": "2021-07-18T20:08:20.339068Z",
     "shell.execute_reply": "2021-07-18T20:08:20.339068Z"
    }
   },
   "outputs": [],
   "source": [
    "output_dir = experiment_dir_of(EXP_NO)"
   ]
  },
  {
   "cell_type": "code",
   "execution_count": 8,
   "metadata": {
    "execution": {
     "iopub.execute_input": "2021-07-18T20:08:20.339068Z",
     "iopub.status.busy": "2021-07-18T20:08:20.339068Z",
     "iopub.status.idle": "2021-07-18T20:08:20.354692Z",
     "shell.execute_reply": "2021-07-18T20:08:20.354692Z"
    }
   },
   "outputs": [
    {
     "data": {
      "text/plain": [
       "'..\\\\scripts\\\\..\\\\experiments\\\\exp031'"
      ]
     },
     "execution_count": 8,
     "metadata": {},
     "output_type": "execute_result"
    }
   ],
   "source": [
    "output_dir"
   ]
  },
  {
   "cell_type": "markdown",
   "metadata": {},
   "source": [
    "# Prepare logger"
   ]
  },
  {
   "cell_type": "code",
   "execution_count": 9,
   "metadata": {
    "execution": {
     "iopub.execute_input": "2021-07-18T20:08:20.354692Z",
     "iopub.status.busy": "2021-07-18T20:08:20.354692Z",
     "iopub.status.idle": "2021-07-18T20:08:20.370316Z",
     "shell.execute_reply": "2021-07-18T20:08:20.370316Z"
    }
   },
   "outputs": [],
   "source": [
    "logger = getLogger(__name__)"
   ]
  },
  {
   "cell_type": "code",
   "execution_count": 10,
   "metadata": {
    "execution": {
     "iopub.execute_input": "2021-07-18T20:08:20.370316Z",
     "iopub.status.busy": "2021-07-18T20:08:20.370316Z",
     "iopub.status.idle": "2021-07-18T20:08:20.385940Z",
     "shell.execute_reply": "2021-07-18T20:08:20.385940Z"
    }
   },
   "outputs": [
    {
     "data": {
      "text/plain": [
       "2"
      ]
     },
     "execution_count": 10,
     "metadata": {},
     "output_type": "execute_result"
    }
   ],
   "source": [
    "'''Refference\n",
    "https://docs.python.org/ja/3/howto/logging-cookbook.html\n",
    "'''\n",
    "logger.setLevel(DEBUG)\n",
    "# create file handler which logs even debug messages\n",
    "fh = FileHandler(os.path.join(output_dir, 'log.log'))\n",
    "fh.setLevel(DEBUG)\n",
    "# create console handler with a higher log level\n",
    "ch = StreamHandler()\n",
    "ch.setLevel(DEBUG)\n",
    "# create formatter and add it to the handlers\n",
    "formatter = Formatter('%(asctime)s - %(name)s - %(levelname)s - %(message)s')\n",
    "fh.setFormatter(formatter)\n",
    "ch.setFormatter(formatter)\n",
    "# add the handlers to the logger\n",
    "logger.addHandler(fh)\n",
    "logger.addHandler(ch)\n",
    "len(logger.handlers)"
   ]
  },
  {
   "cell_type": "code",
   "execution_count": 11,
   "metadata": {
    "execution": {
     "iopub.execute_input": "2021-07-18T20:08:20.385940Z",
     "iopub.status.busy": "2021-07-18T20:08:20.385940Z",
     "iopub.status.idle": "2021-07-18T20:08:20.401565Z",
     "shell.execute_reply": "2021-07-18T20:08:20.401565Z"
    }
   },
   "outputs": [
    {
     "name": "stderr",
     "output_type": "stream",
     "text": [
      "2021-07-22 15:32:15,263 - __main__ - INFO - Experiment no: 31\n",
      "2021-07-22 15:32:15,265 - __main__ - INFO - CV: StratifiedGroupKFold\n",
      "2021-07-22 15:32:15,266 - __main__ - INFO - SEED: 1\n",
      "2021-07-22 15:32:15,268 - __main__ - INFO - REGRESSION: True\n"
     ]
    }
   ],
   "source": [
    "logger.info('Experiment no: {}'.format(EXP_NO))\n",
    "logger.info('CV: StratifiedGroupKFold')\n",
    "logger.info('SEED: {}'.format(SEED))\n",
    "logger.info('REGRESSION: {}'.format(REGRESSION))"
   ]
  },
  {
   "cell_type": "markdown",
   "metadata": {},
   "source": [
    "# Load csv files"
   ]
  },
  {
   "cell_type": "code",
   "execution_count": 12,
   "metadata": {
    "execution": {
     "iopub.execute_input": "2021-07-18T20:08:20.401565Z",
     "iopub.status.busy": "2021-07-18T20:08:20.401565Z",
     "iopub.status.idle": "2021-07-18T20:08:20.417191Z",
     "shell.execute_reply": "2021-07-18T20:08:20.417191Z"
    }
   },
   "outputs": [],
   "source": [
    "SINCE = time.time()"
   ]
  },
  {
   "cell_type": "code",
   "execution_count": 13,
   "metadata": {
    "execution": {
     "iopub.execute_input": "2021-07-18T20:08:20.417191Z",
     "iopub.status.busy": "2021-07-18T20:08:20.417191Z",
     "iopub.status.idle": "2021-07-18T20:08:20.448443Z",
     "shell.execute_reply": "2021-07-18T20:08:20.448443Z"
    }
   },
   "outputs": [
    {
     "name": "stderr",
     "output_type": "stream",
     "text": [
      "2021-07-22 15:32:15,294 - __main__ - DEBUG - Start loading csv files (0.017 seconds passed)\n",
      "2021-07-22 15:32:15,321 - __main__ - DEBUG - Complete loading csv files (0.044 seconds passed)\n"
     ]
    }
   ],
   "source": [
    "logger.debug('Start loading csv files ({:.3f} seconds passed)'.format(time.time() - SINCE))\n",
    "train, test, materials, techniques, sample_submission = load_csvfiles()\n",
    "logger.debug('Complete loading csv files ({:.3f} seconds passed)'.format(time.time() - SINCE))"
   ]
  },
  {
   "cell_type": "code",
   "execution_count": 14,
   "metadata": {
    "execution": {
     "iopub.execute_input": "2021-07-18T20:08:20.448443Z",
     "iopub.status.busy": "2021-07-18T20:08:20.448443Z",
     "iopub.status.idle": "2021-07-18T20:08:20.464067Z",
     "shell.execute_reply": "2021-07-18T20:08:20.464067Z"
    }
   },
   "outputs": [
    {
     "data": {
      "text/html": [
       "<div>\n",
       "<style scoped>\n",
       "    .dataframe tbody tr th:only-of-type {\n",
       "        vertical-align: middle;\n",
       "    }\n",
       "\n",
       "    .dataframe tbody tr th {\n",
       "        vertical-align: top;\n",
       "    }\n",
       "\n",
       "    .dataframe thead th {\n",
       "        text-align: right;\n",
       "    }\n",
       "</style>\n",
       "<table border=\"1\" class=\"dataframe\">\n",
       "  <thead>\n",
       "    <tr style=\"text-align: right;\">\n",
       "      <th></th>\n",
       "      <th>object_id</th>\n",
       "      <th>sorting_date</th>\n",
       "      <th>art_series_id</th>\n",
       "      <th>target</th>\n",
       "    </tr>\n",
       "  </thead>\n",
       "  <tbody>\n",
       "    <tr>\n",
       "      <th>0</th>\n",
       "      <td>002bff09b09998d0be65</td>\n",
       "      <td>1631</td>\n",
       "      <td>509357f67692a6a45626</td>\n",
       "      <td>1</td>\n",
       "    </tr>\n",
       "    <tr>\n",
       "      <th>1</th>\n",
       "      <td>00309fb1ef05416f9c1f</td>\n",
       "      <td>1900</td>\n",
       "      <td>7987b47bbe5dc3039179</td>\n",
       "      <td>3</td>\n",
       "    </tr>\n",
       "    <tr>\n",
       "      <th>2</th>\n",
       "      <td>003a1562e97f79ba96dc</td>\n",
       "      <td>1834</td>\n",
       "      <td>ded7c3c9636708e5b14c</td>\n",
       "      <td>3</td>\n",
       "    </tr>\n",
       "    <tr>\n",
       "      <th>3</th>\n",
       "      <td>004890880e8e7431147b</td>\n",
       "      <td>1743</td>\n",
       "      <td>582ac2d7f0cef195b605</td>\n",
       "      <td>2</td>\n",
       "    </tr>\n",
       "    <tr>\n",
       "      <th>4</th>\n",
       "      <td>00718c32602425f504c1</td>\n",
       "      <td>1885</td>\n",
       "      <td>64c907f0c08dce4fb8e8</td>\n",
       "      <td>3</td>\n",
       "    </tr>\n",
       "    <tr>\n",
       "      <th>...</th>\n",
       "      <td>...</td>\n",
       "      <td>...</td>\n",
       "      <td>...</td>\n",
       "      <td>...</td>\n",
       "    </tr>\n",
       "    <tr>\n",
       "      <th>3932</th>\n",
       "      <td>ffa3259fff8e6f3818a1</td>\n",
       "      <td>1850</td>\n",
       "      <td>b187c294b0550acf049a</td>\n",
       "      <td>3</td>\n",
       "    </tr>\n",
       "    <tr>\n",
       "      <th>3933</th>\n",
       "      <td>ffd4d361756587883e48</td>\n",
       "      <td>1670</td>\n",
       "      <td>ad49a044770a48f860a6</td>\n",
       "      <td>1</td>\n",
       "    </tr>\n",
       "    <tr>\n",
       "      <th>3934</th>\n",
       "      <td>ffd794b7b311b7b7fd92</td>\n",
       "      <td>1789</td>\n",
       "      <td>f030a01b480b18a27be2</td>\n",
       "      <td>2</td>\n",
       "    </tr>\n",
       "    <tr>\n",
       "      <th>3935</th>\n",
       "      <td>ffe49bba69d06446de7e</td>\n",
       "      <td>1805</td>\n",
       "      <td>f5287bc84a05aada1d17</td>\n",
       "      <td>3</td>\n",
       "    </tr>\n",
       "    <tr>\n",
       "      <th>3936</th>\n",
       "      <td>ffe77db10be3400bed53</td>\n",
       "      <td>1700</td>\n",
       "      <td>60dec6e091cdd973e617</td>\n",
       "      <td>1</td>\n",
       "    </tr>\n",
       "  </tbody>\n",
       "</table>\n",
       "<p>3937 rows × 4 columns</p>\n",
       "</div>"
      ],
      "text/plain": [
       "                 object_id  sorting_date         art_series_id  target\n",
       "0     002bff09b09998d0be65          1631  509357f67692a6a45626       1\n",
       "1     00309fb1ef05416f9c1f          1900  7987b47bbe5dc3039179       3\n",
       "2     003a1562e97f79ba96dc          1834  ded7c3c9636708e5b14c       3\n",
       "3     004890880e8e7431147b          1743  582ac2d7f0cef195b605       2\n",
       "4     00718c32602425f504c1          1885  64c907f0c08dce4fb8e8       3\n",
       "...                    ...           ...                   ...     ...\n",
       "3932  ffa3259fff8e6f3818a1          1850  b187c294b0550acf049a       3\n",
       "3933  ffd4d361756587883e48          1670  ad49a044770a48f860a6       1\n",
       "3934  ffd794b7b311b7b7fd92          1789  f030a01b480b18a27be2       2\n",
       "3935  ffe49bba69d06446de7e          1805  f5287bc84a05aada1d17       3\n",
       "3936  ffe77db10be3400bed53          1700  60dec6e091cdd973e617       1\n",
       "\n",
       "[3937 rows x 4 columns]"
      ]
     },
     "execution_count": 14,
     "metadata": {},
     "output_type": "execute_result"
    }
   ],
   "source": [
    "train"
   ]
  },
  {
   "cell_type": "code",
   "execution_count": 15,
   "metadata": {
    "execution": {
     "iopub.execute_input": "2021-07-18T20:08:20.464067Z",
     "iopub.status.busy": "2021-07-18T20:08:20.464067Z",
     "iopub.status.idle": "2021-07-18T20:08:20.479691Z",
     "shell.execute_reply": "2021-07-18T20:08:20.479691Z"
    }
   },
   "outputs": [
    {
     "data": {
      "text/html": [
       "<div>\n",
       "<style scoped>\n",
       "    .dataframe tbody tr th:only-of-type {\n",
       "        vertical-align: middle;\n",
       "    }\n",
       "\n",
       "    .dataframe tbody tr th {\n",
       "        vertical-align: top;\n",
       "    }\n",
       "\n",
       "    .dataframe thead th {\n",
       "        text-align: right;\n",
       "    }\n",
       "</style>\n",
       "<table border=\"1\" class=\"dataframe\">\n",
       "  <thead>\n",
       "    <tr style=\"text-align: right;\">\n",
       "      <th></th>\n",
       "      <th>object_id</th>\n",
       "    </tr>\n",
       "  </thead>\n",
       "  <tbody>\n",
       "    <tr>\n",
       "      <th>0</th>\n",
       "      <td>0009e50b94be36ccad39</td>\n",
       "    </tr>\n",
       "    <tr>\n",
       "      <th>1</th>\n",
       "      <td>000bd5e82eb22f199f44</td>\n",
       "    </tr>\n",
       "    <tr>\n",
       "      <th>2</th>\n",
       "      <td>0015f44de1854f617516</td>\n",
       "    </tr>\n",
       "    <tr>\n",
       "      <th>3</th>\n",
       "      <td>00388a678879ba1efa27</td>\n",
       "    </tr>\n",
       "    <tr>\n",
       "      <th>4</th>\n",
       "      <td>005e1e7c6496902d23f3</td>\n",
       "    </tr>\n",
       "    <tr>\n",
       "      <th>...</th>\n",
       "      <td>...</td>\n",
       "    </tr>\n",
       "    <tr>\n",
       "      <th>5914</th>\n",
       "      <td>ffbe65ad399b632dcbd0</td>\n",
       "    </tr>\n",
       "    <tr>\n",
       "      <th>5915</th>\n",
       "      <td>ffd7b2d646c0320c311a</td>\n",
       "    </tr>\n",
       "    <tr>\n",
       "      <th>5916</th>\n",
       "      <td>ffdb93ede17d4501e530</td>\n",
       "    </tr>\n",
       "    <tr>\n",
       "      <th>5917</th>\n",
       "      <td>ffe111402004b0ed46b4</td>\n",
       "    </tr>\n",
       "    <tr>\n",
       "      <th>5918</th>\n",
       "      <td>fffdb3c248a7dcd3cccf</td>\n",
       "    </tr>\n",
       "  </tbody>\n",
       "</table>\n",
       "<p>5919 rows × 1 columns</p>\n",
       "</div>"
      ],
      "text/plain": [
       "                 object_id\n",
       "0     0009e50b94be36ccad39\n",
       "1     000bd5e82eb22f199f44\n",
       "2     0015f44de1854f617516\n",
       "3     00388a678879ba1efa27\n",
       "4     005e1e7c6496902d23f3\n",
       "...                    ...\n",
       "5914  ffbe65ad399b632dcbd0\n",
       "5915  ffd7b2d646c0320c311a\n",
       "5916  ffdb93ede17d4501e530\n",
       "5917  ffe111402004b0ed46b4\n",
       "5918  fffdb3c248a7dcd3cccf\n",
       "\n",
       "[5919 rows x 1 columns]"
      ]
     },
     "execution_count": 15,
     "metadata": {},
     "output_type": "execute_result"
    }
   ],
   "source": [
    "test"
   ]
  },
  {
   "cell_type": "markdown",
   "metadata": {},
   "source": [
    "# Feature engineering"
   ]
  },
  {
   "cell_type": "markdown",
   "metadata": {},
   "source": [
    "Extract past experiments' prediction values for ensemble."
   ]
  },
  {
   "cell_type": "code",
   "execution_count": 16,
   "metadata": {},
   "outputs": [],
   "source": [
    "@np.vectorize\n",
    "def predict(proba_0: float, proba_1: float, proba_2: float, proba_3: float) -> int:\n",
    "    return np.argmax((proba_0, proba_1, proba_2, proba_3))"
   ]
  },
  {
   "cell_type": "code",
   "execution_count": 17,
   "metadata": {},
   "outputs": [],
   "source": [
    "from typing import Tuple, Optional\n",
    "def get_cv_prediction(experiments_no: Tuple[int],\n",
    "                      cv_threshold: Optional[float] = None,\n",
    "                      n_splits: int = 5,\n",
    "                      log_func: Optional[callable] = print) -> Tuple[pd.DataFrame, pd.DataFrame, pd.DataFrame]:\n",
    "    pred_train, pred_valid, pred_test = pd.DataFrame(), pd.DataFrame(), pd.DataFrame()\n",
    "    # Process experiment result one by one\n",
    "    for exp_no in experiments_no:\n",
    "        # Get directory where results are stored\n",
    "        output_dir = experiment_dir_of(exp_no, auto_make=False)\n",
    "        if not os.path.isdir(output_dir):\n",
    "            raise ValueError(exp_no, output_dir)\n",
    "\n",
    "        # Check whether local cv is better than threshold.\n",
    "        # If not, that experiment result will not be ensembled.\n",
    "        # Skip this check if threshold is not given.\n",
    "        if cv_threshold is not None:\n",
    "            with open(os.path.join(output_dir, 'metrics.json'), 'r') as f:\n",
    "                metrics = json.load(f)\n",
    "            local_cv = metrics['valid_losses_avg']\n",
    "            if local_cv > cv_threshold:\n",
    "                log_func('Exclude experiment {} from ensemble, local_cv={:.5f}, threshold={:.5f}'. \\\n",
    "                         format(exp_no, local_cv, cv_threshold))\n",
    "                continue\n",
    "\n",
    "        # Load and cv result files, (fold1, fold2, ..., fold<n_splits>)\n",
    "        pred_train_, pred_valid_, pred_test_ = pd.DataFrame(), pd.DataFrame(), pd.DataFrame()\n",
    "        for i in range(n_splits):\n",
    "            num_fold = i + 1\n",
    "            for fold in ('training', 'validation', 'test'):\n",
    "                # Load prediction and merge into 1 dataframe\n",
    "                pred_df = pd.read_csv(os.path.join(output_dir, f'cv_fold{num_fold}_{fold}.csv'))\n",
    "                if 'pred' not in pred_df:  # the task was classification\n",
    "                    pred_df['pred'] = predict(pred_df['0'], pred_df['1'], pred_df['2'], pred_df['3'])\n",
    "                pred_df['num_fold'] = num_fold\n",
    "                pred_df = pred_df[['object_id', 'num_fold', 'pred']]\n",
    "                if fold == 'training':\n",
    "                    pred_train_ = pd.concat([pred_train_, pred_df])\n",
    "                elif fold == 'validation':\n",
    "                    pred_valid_ = pd.concat([pred_valid_, pred_df])\n",
    "                elif fold == 'test':\n",
    "                    pred_test_ = pd.concat([pred_test_, pred_df])\n",
    "\n",
    "        pred_train_.rename(columns={'pred': f'exp{str(exp_no).zfill(3)}'}, inplace=True)\n",
    "        pred_valid_.rename(columns={'pred': f'exp{str(exp_no).zfill(3)}'}, inplace=True)\n",
    "        pred_test_.rename(columns={'pred': f'exp{str(exp_no).zfill(3)}'}, inplace=True)\n",
    "\n",
    "        # Merge into 1 dataframe\n",
    "        ## Training set\n",
    "        if pred_train.shape[1] < 1:\n",
    "            pred_train = pred_train_.copy()\n",
    "        else:\n",
    "            assert(pred_train.shape[0] == pred_train_.shape[0])\n",
    "            pred_train = pd.merge(pred_train, pred_train_)\n",
    "            assert(pred_train.shape[0] == pred_train_.shape[0])\n",
    "        ## Validation set\n",
    "        if pred_valid.shape[1] < 1:\n",
    "            pred_valid = pred_valid_.copy()\n",
    "        else:\n",
    "            assert(pred_valid.shape[0] == pred_valid_.shape[0])\n",
    "            pred_valid = pd.merge(pred_valid, pred_valid_)\n",
    "            assert(pred_valid.shape[0] == pred_valid_.shape[0])\n",
    "        ## Test set\n",
    "        if pred_test.shape[1] < 1:\n",
    "            pred_test = pred_test_.copy()\n",
    "        else:\n",
    "            assert(pred_test.shape[0] == pred_test_.shape[0])\n",
    "            pred_test = pd.merge(pred_test, pred_test_)\n",
    "            assert(pred_test.shape[0] == pred_test_.shape[0])\n",
    "\n",
    "        log_func('Experiment {}: join into ensemble'.format(exp_no))\n",
    "\n",
    "    return (pred_train.set_index('object_id'), pred_valid.set_index('object_id'), pred_test.set_index('object_id'))"
   ]
  },
  {
   "cell_type": "code",
   "execution_count": 18,
   "metadata": {},
   "outputs": [
    {
     "name": "stdout",
     "output_type": "stream",
     "text": [
      "Exclude experiment 4 from ensemble, local_cv=1.33952, threshold=0.95000\n",
      "Experiment 5: join into ensemble\n",
      "Exclude experiment 6 from ensemble, local_cv=1.03232, threshold=0.95000\n",
      "Experiment 8: join into ensemble\n",
      "Exclude experiment 9 from ensemble, local_cv=0.96823, threshold=0.95000\n",
      "Experiment 10: join into ensemble\n",
      "Experiment 11: join into ensemble\n",
      "Experiment 12: join into ensemble\n",
      "Exclude experiment 13 from ensemble, local_cv=1.00196, threshold=0.95000\n",
      "Experiment 14: join into ensemble\n",
      "Experiment 15: join into ensemble\n",
      "Experiment 17: join into ensemble\n",
      "Exclude experiment 18 from ensemble, local_cv=0.98364, threshold=0.95000\n",
      "Exclude experiment 19 from ensemble, local_cv=1.13207, threshold=0.95000\n",
      "Experiment 20: join into ensemble\n",
      "Experiment 21: join into ensemble\n",
      "Experiment 22: join into ensemble\n",
      "Experiment 23: join into ensemble\n",
      "Experiment 24: join into ensemble\n",
      "Experiment 26: join into ensemble\n",
      "Exclude experiment 27 from ensemble, local_cv=0.99018, threshold=0.95000\n"
     ]
    }
   ],
   "source": [
    "# Get predictions of weak learner\n",
    "pred_train_weak_learner, pred_valid_weak_learner, pred_test_weak_learner = get_cv_prediction(PAST_EXPERIMENTS, CV_THRESHOLD)"
   ]
  },
  {
   "cell_type": "markdown",
   "metadata": {},
   "source": [
    "# Cross validation"
   ]
  },
  {
   "cell_type": "code",
   "execution_count": 19,
   "metadata": {
    "execution": {
     "iopub.execute_input": "2021-07-18T20:10:01.964606Z",
     "iopub.status.busy": "2021-07-18T20:10:01.964606Z",
     "iopub.status.idle": "2021-07-18T20:10:01.980230Z",
     "shell.execute_reply": "2021-07-18T20:10:01.980230Z"
    }
   },
   "outputs": [],
   "source": [
    "train.set_index('object_id', inplace=True)"
   ]
  },
  {
   "cell_type": "code",
   "execution_count": 20,
   "metadata": {
    "execution": {
     "iopub.execute_input": "2021-07-18T20:10:01.994728Z",
     "iopub.status.busy": "2021-07-18T20:10:01.994728Z",
     "iopub.status.idle": "2021-07-19T01:53:32.057807Z",
     "shell.execute_reply": "2021-07-19T01:53:32.057807Z"
    }
   },
   "outputs": [
    {
     "name": "stderr",
     "output_type": "stream",
     "text": [
      "2021-07-22 15:32:16,913 - __main__ - DEBUG - Start fold 1 (1.636 seconds passed)\n",
      "2021-07-22 15:32:16,946 - __main__ - DEBUG - Start training model (1.669 seconds passed)\n",
      "2021-07-22 15:32:17,149 - __main__ - DEBUG - Complete training (1.872 seconds passed)\n",
      "2021-07-22 15:32:17,166 - __main__ - DEBUG - Save training fold to ..\\scripts\\..\\experiments\\exp031\\cv_fold1_training.csv (1.889 seconds passed)\n",
      "2021-07-22 15:32:17,172 - __main__ - DEBUG - Save validation fold to ..\\scripts\\..\\experiments\\exp031\\cv_fold1_validation.csv (1.895 seconds passed)\n",
      "2021-07-22 15:32:17,190 - __main__ - DEBUG - Save test result ..\\scripts\\..\\experiments\\exp031\\cv_fold1_test.csv (1.913 seconds passed)\n",
      "2021-07-22 15:32:17,192 - __main__ - DEBUG - Save model ..\\scripts\\..\\experiments\\exp031\\cv_fold1_model.pkl (1.915 seconds passed)\n",
      "2021-07-22 15:32:17,260 - __main__ - DEBUG - Complete fold 1 (1.983 seconds passed)\n",
      "2021-07-22 15:32:17,262 - __main__ - DEBUG - Start fold 2 (1.985 seconds passed)\n",
      "2021-07-22 15:32:17,285 - __main__ - DEBUG - Start training model (2.008 seconds passed)\n",
      "2021-07-22 15:32:17,291 - __main__ - DEBUG - Complete training (2.014 seconds passed)\n",
      "2021-07-22 15:32:17,308 - __main__ - DEBUG - Save training fold to ..\\scripts\\..\\experiments\\exp031\\cv_fold2_training.csv (2.031 seconds passed)\n",
      "2021-07-22 15:32:17,313 - __main__ - DEBUG - Save validation fold to ..\\scripts\\..\\experiments\\exp031\\cv_fold2_validation.csv (2.036 seconds passed)\n",
      "2021-07-22 15:32:17,331 - __main__ - DEBUG - Save test result ..\\scripts\\..\\experiments\\exp031\\cv_fold2_test.csv (2.054 seconds passed)\n",
      "2021-07-22 15:32:17,333 - __main__ - DEBUG - Save model ..\\scripts\\..\\experiments\\exp031\\cv_fold2_model.pkl (2.056 seconds passed)\n",
      "2021-07-22 15:32:17,399 - __main__ - DEBUG - Complete fold 2 (2.122 seconds passed)\n",
      "2021-07-22 15:32:17,400 - __main__ - DEBUG - Start fold 3 (2.123 seconds passed)\n",
      "2021-07-22 15:32:17,424 - __main__ - DEBUG - Start training model (2.147 seconds passed)\n",
      "2021-07-22 15:32:17,430 - __main__ - DEBUG - Complete training (2.153 seconds passed)\n",
      "2021-07-22 15:32:17,446 - __main__ - DEBUG - Save training fold to ..\\scripts\\..\\experiments\\exp031\\cv_fold3_training.csv (2.169 seconds passed)\n",
      "2021-07-22 15:32:17,451 - __main__ - DEBUG - Save validation fold to ..\\scripts\\..\\experiments\\exp031\\cv_fold3_validation.csv (2.174 seconds passed)\n",
      "2021-07-22 15:32:17,470 - __main__ - DEBUG - Save test result ..\\scripts\\..\\experiments\\exp031\\cv_fold3_test.csv (2.193 seconds passed)\n",
      "2021-07-22 15:32:17,472 - __main__ - DEBUG - Save model ..\\scripts\\..\\experiments\\exp031\\cv_fold3_model.pkl (2.195 seconds passed)\n",
      "2021-07-22 15:32:17,533 - __main__ - DEBUG - Complete fold 3 (2.256 seconds passed)\n",
      "2021-07-22 15:32:17,534 - __main__ - DEBUG - Start fold 4 (2.257 seconds passed)\n",
      "2021-07-22 15:32:17,555 - __main__ - DEBUG - Start training model (2.278 seconds passed)\n",
      "2021-07-22 15:32:17,561 - __main__ - DEBUG - Complete training (2.284 seconds passed)\n",
      "2021-07-22 15:32:17,577 - __main__ - DEBUG - Save training fold to ..\\scripts\\..\\experiments\\exp031\\cv_fold4_training.csv (2.300 seconds passed)\n",
      "2021-07-22 15:32:17,584 - __main__ - DEBUG - Save validation fold to ..\\scripts\\..\\experiments\\exp031\\cv_fold4_validation.csv (2.307 seconds passed)\n",
      "2021-07-22 15:32:17,605 - __main__ - DEBUG - Save test result ..\\scripts\\..\\experiments\\exp031\\cv_fold4_test.csv (2.328 seconds passed)\n",
      "2021-07-22 15:32:17,607 - __main__ - DEBUG - Save model ..\\scripts\\..\\experiments\\exp031\\cv_fold4_model.pkl (2.330 seconds passed)\n",
      "2021-07-22 15:32:17,664 - __main__ - DEBUG - Complete fold 4 (2.387 seconds passed)\n",
      "2021-07-22 15:32:17,666 - __main__ - DEBUG - Start fold 5 (2.389 seconds passed)\n",
      "2021-07-22 15:32:17,689 - __main__ - DEBUG - Start training model (2.412 seconds passed)\n",
      "2021-07-22 15:32:17,694 - __main__ - DEBUG - Complete training (2.417 seconds passed)\n",
      "2021-07-22 15:32:17,711 - __main__ - DEBUG - Save training fold to ..\\scripts\\..\\experiments\\exp031\\cv_fold5_training.csv (2.434 seconds passed)\n",
      "2021-07-22 15:32:17,717 - __main__ - DEBUG - Save validation fold to ..\\scripts\\..\\experiments\\exp031\\cv_fold5_validation.csv (2.440 seconds passed)\n",
      "2021-07-22 15:32:17,735 - __main__ - DEBUG - Save test result ..\\scripts\\..\\experiments\\exp031\\cv_fold5_test.csv (2.458 seconds passed)\n",
      "2021-07-22 15:32:17,737 - __main__ - DEBUG - Save model ..\\scripts\\..\\experiments\\exp031\\cv_fold5_model.pkl (2.460 seconds passed)\n",
      "2021-07-22 15:32:17,799 - __main__ - DEBUG - Complete fold 5 (2.522 seconds passed)\n"
     ]
    }
   ],
   "source": [
    "fold_object_ids = load_cv_object_ids()\n",
    "for i, (train_object_ids, valid_object_ids) in enumerate(zip(fold_object_ids[0], fold_object_ids[1])):\n",
    "    assert(set(train_object_ids) & set(valid_object_ids) == set())\n",
    "    num_fold = i + 1\n",
    "    logger.debug('Start fold {} ({:.3f} seconds passed)'.format(num_fold, time.time() - SINCE))\n",
    "\n",
    "    # Separate dataset into training/validation fold\n",
    "    X_train = pred_train_weak_learner.loc[train_object_ids].query(f'num_fold == {num_fold}').drop(columns=['num_fold'])\n",
    "    y_train = train.loc[train_object_ids, TARGET].values\n",
    "    X_valid = pred_valid_weak_learner.loc[valid_object_ids].query(f'num_fold == {num_fold}').drop(columns=['num_fold'])\n",
    "    y_valid = train.loc[valid_object_ids, TARGET].values\n",
    "    X_test = pred_test_weak_learner.query(f'num_fold == {num_fold}').drop(columns=['num_fold'])\n",
    "    \n",
    "    # Training\n",
    "    logger.debug('Start training model ({:.3f} seconds passed)'.format(time.time() - SINCE))\n",
    "    ## train estimator\n",
    "    estimator = RidgeCV(alphas=(0.01, 0.1, 1.0, 10.0, 50.)) if REGRESSION \\\n",
    "                else RidgeClassifierCV(alphas=(0.01, 0.1, 1.0, 10.0, 50.), class_weight='balanced')\n",
    "    estimator.fit(X_train, y_train)\n",
    "    \n",
    "    ## Save coefficients\n",
    "    coef_df = pd.DataFrame(data=estimator.coef_)\n",
    "    if REGRESSION:\n",
    "        coef_df.index = X_train.columns\n",
    "        coef_df.columns = ['coef']\n",
    "    else:\n",
    "        coef_df.columns = X_train.columns\n",
    "    coef_df.to_csv(os.path.join(output_dir, f'cv_fold{num_fold}_coefficients.csv'))\n",
    "    logger.debug('Complete training ({:.3f} seconds passed)'.format(time.time() - SINCE))\n",
    "    \n",
    "    # Save model and prediction\n",
    "    ## Prediction\n",
    "    if REGRESSION:\n",
    "        pred_train = pd.DataFrame(data=estimator.predict(X_train), columns=['pred'])\n",
    "        pred_valid = pd.DataFrame(data=estimator.predict(X_valid), columns=['pred'])\n",
    "        pred_test = pd.DataFrame(data=estimator.predict(X_test), columns=['pred'])\n",
    "    else:\n",
    "        try:\n",
    "            pred_train = pd.DataFrame(data=estimator.predict_proba(X_train),\n",
    "                                      columns=estimator.classes_)\n",
    "            pred_valid = pd.DataFrame(data=estimator.predict_proba(X_valid),\n",
    "                                      columns=estimator.classes_)\n",
    "            pred_test = pd.DataFrame(data=estimator.predict_proba(X_test),\n",
    "                                     columns=estimator.classes_)\n",
    "        except AttributeError:\n",
    "            pred_train = pd.DataFrame(data=estimator.decision_function(X_train),\n",
    "                                      columns=estimator.classes_)\n",
    "            pred_valid = pd.DataFrame(data=estimator.decision_function(X_valid),\n",
    "                                      columns=estimator.classes_)\n",
    "            pred_test = pd.DataFrame(data=estimator.decision_function(X_test),\n",
    "                                     columns=estimator.classes_)\n",
    "    ## Training set\n",
    "    pred_train['object_id'] = train_object_ids\n",
    "    filepath_fold_train = os.path.join(output_dir, f'cv_fold{num_fold}_training.csv')\n",
    "    pred_train.to_csv(filepath_fold_train, index=False)\n",
    "    logger.debug('Save training fold to {} ({:.3f} seconds passed)' \\\n",
    "                .format(filepath_fold_train, time.time() - SINCE))\n",
    "    ## Validation set\n",
    "    pred_valid['object_id'] = valid_object_ids\n",
    "    filepath_fold_valid = os.path.join(output_dir, f'cv_fold{num_fold}_validation.csv')\n",
    "    pred_valid.to_csv(filepath_fold_valid, index=False)\n",
    "    logger.debug('Save validation fold to {} ({:.3f} seconds passed)' \\\n",
    "                .format(filepath_fold_valid, time.time() - SINCE))\n",
    "    ## Test set\n",
    "    pred_test['object_id'] = X_test.index.values\n",
    "    filepath_fold_test = os.path.join(output_dir, f'cv_fold{num_fold}_test.csv')\n",
    "    pred_test.to_csv(filepath_fold_test, index=False)\n",
    "    logger.debug('Save test result {} ({:.3f} seconds passed)' \\\n",
    "                 .format(filepath_fold_test, time.time() - SINCE))\n",
    "    ## Model\n",
    "    filepath_fold_model = os.path.join(output_dir, f'cv_fold{num_fold}_model.pkl')\n",
    "    with open(filepath_fold_model, 'wb') as f:\n",
    "        pickle.dump(estimator, f)\n",
    "    logger.debug('Save model {} ({:.3f} seconds passed)'.format(filepath_fold_model, time.time() - SINCE))\n",
    "    \n",
    "    # Save memory\n",
    "    del (estimator, X_train, X_valid, y_train, y_valid, pred_train, pred_valid, pred_test)\n",
    "    gc.collect()\n",
    "\n",
    "    logger.debug('Complete fold {} ({:.3f} seconds passed)'.format(num_fold, time.time() - SINCE))"
   ]
  },
  {
   "cell_type": "markdown",
   "metadata": {},
   "source": [
    "# Evaluation"
   ]
  },
  {
   "cell_type": "code",
   "execution_count": 21,
   "metadata": {
    "execution": {
     "iopub.execute_input": "2021-07-19T01:53:32.057807Z",
     "iopub.status.busy": "2021-07-19T01:53:32.057807Z",
     "iopub.status.idle": "2021-07-19T01:53:32.073436Z",
     "shell.execute_reply": "2021-07-19T01:53:32.073436Z"
    }
   },
   "outputs": [],
   "source": [
    "rmse = partial(mean_squared_error, squared=False)"
   ]
  },
  {
   "cell_type": "code",
   "execution_count": 22,
   "metadata": {
    "execution": {
     "iopub.execute_input": "2021-07-19T01:53:32.104732Z",
     "iopub.status.busy": "2021-07-19T01:53:32.104732Z",
     "iopub.status.idle": "2021-07-19T01:53:32.120309Z",
     "shell.execute_reply": "2021-07-19T01:53:32.120309Z"
    }
   },
   "outputs": [],
   "source": [
    "metrics = defaultdict(list)"
   ]
  },
  {
   "cell_type": "markdown",
   "metadata": {},
   "source": [
    "## Training set"
   ]
  },
  {
   "cell_type": "code",
   "execution_count": 23,
   "metadata": {
    "execution": {
     "iopub.execute_input": "2021-07-19T01:53:32.120309Z",
     "iopub.status.busy": "2021-07-19T01:53:32.120309Z",
     "iopub.status.idle": "2021-07-19T01:53:32.229684Z",
     "shell.execute_reply": "2021-07-19T01:53:32.229684Z"
    }
   },
   "outputs": [
    {
     "name": "stderr",
     "output_type": "stream",
     "text": [
      "2021-07-22 15:32:17,853 - __main__ - DEBUG - Evaluate cv result (training set) Fold 1\n",
      "2021-07-22 15:32:17,873 - __main__ - DEBUG - Loss: 0.06184889222431524\n",
      "2021-07-22 15:32:17,874 - __main__ - DEBUG - Evaluate cv result (training set) Fold 2\n",
      "2021-07-22 15:32:17,891 - __main__ - DEBUG - Loss: 0.06190308180255044\n",
      "2021-07-22 15:32:17,893 - __main__ - DEBUG - Evaluate cv result (training set) Fold 3\n",
      "2021-07-22 15:32:17,908 - __main__ - DEBUG - Loss: 0.058555399459218616\n",
      "2021-07-22 15:32:17,909 - __main__ - DEBUG - Evaluate cv result (training set) Fold 4\n",
      "2021-07-22 15:32:17,925 - __main__ - DEBUG - Loss: 0.060942616677711066\n",
      "2021-07-22 15:32:17,926 - __main__ - DEBUG - Evaluate cv result (training set) Fold 5\n",
      "2021-07-22 15:32:17,942 - __main__ - DEBUG - Loss: 0.05774384082586294\n"
     ]
    }
   ],
   "source": [
    "pred_train_dfs = []\n",
    "for i in range(N_SPLITS):\n",
    "    num_fold = i + 1\n",
    "    logger.debug('Evaluate cv result (training set) Fold {}'.format(num_fold))\n",
    "    # Read cv result\n",
    "    filepath_fold_train = os.path.join(output_dir, f'cv_fold{num_fold}_training.csv')\n",
    "    pred_train_df = pd.read_csv(filepath_fold_train)\n",
    "    pred_train_df['actual'] = train.loc[pred_train_df['object_id'], TARGET].values\n",
    "    if REGRESSION:\n",
    "        if TARGET == 'target':\n",
    "            pred_train_df['pred'].clip(lower=0, upper=3, inplace=True)\n",
    "        else:\n",
    "            pred_train_df['pred'] = np.vectorize(soring_date2target)(pred_train_df['pred'])\n",
    "            pred_train_df['actual'] = np.vectorize(soring_date2target)(pred_train_df['actual'])\n",
    "    else:\n",
    "        pred_train_df['pred'] = predict(pred_train_df['0'], pred_train_df['1'],\n",
    "                                        pred_train_df['2'], pred_train_df['3'])\n",
    "    if not (REGRESSION and TARGET == 'target'):\n",
    "        print(confusion_matrix(pred_train_df['actual'], pred_train_df['pred'],\n",
    "                               labels=np.sort(train['target'].unique())))\n",
    "    loss = rmse(pred_train_df['actual'], pred_train_df['pred'])\n",
    "    logger.debug('Loss: {}'.format(loss))\n",
    "    metrics['train_losses'].append(loss)\n",
    "    pred_train_dfs.append(pred_train_df)\n",
    "\n",
    "metrics['train_losses_avg'] = np.mean(metrics['train_losses'])\n",
    "metrics['train_losses_std'] = np.std(metrics['train_losses'])"
   ]
  },
  {
   "cell_type": "code",
   "execution_count": 24,
   "metadata": {
    "execution": {
     "iopub.execute_input": "2021-07-19T01:53:32.229684Z",
     "iopub.status.busy": "2021-07-19T01:53:32.229684Z",
     "iopub.status.idle": "2021-07-19T01:53:32.260934Z",
     "shell.execute_reply": "2021-07-19T01:53:32.260934Z"
    }
   },
   "outputs": [
    {
     "data": {
      "text/html": [
       "<div>\n",
       "<style scoped>\n",
       "    .dataframe tbody tr th:only-of-type {\n",
       "        vertical-align: middle;\n",
       "    }\n",
       "\n",
       "    .dataframe tbody tr th {\n",
       "        vertical-align: top;\n",
       "    }\n",
       "\n",
       "    .dataframe thead th {\n",
       "        text-align: right;\n",
       "    }\n",
       "</style>\n",
       "<table border=\"1\" class=\"dataframe\">\n",
       "  <thead>\n",
       "    <tr style=\"text-align: right;\">\n",
       "      <th></th>\n",
       "      <th>pred</th>\n",
       "      <th>actual</th>\n",
       "    </tr>\n",
       "    <tr>\n",
       "      <th>object_id</th>\n",
       "      <th></th>\n",
       "      <th></th>\n",
       "    </tr>\n",
       "  </thead>\n",
       "  <tbody>\n",
       "    <tr>\n",
       "      <th>002bff09b09998d0be65</th>\n",
       "      <td>0.83325</td>\n",
       "      <td>1</td>\n",
       "    </tr>\n",
       "    <tr>\n",
       "      <th>00309fb1ef05416f9c1f</th>\n",
       "      <td>2.39788</td>\n",
       "      <td>3</td>\n",
       "    </tr>\n",
       "    <tr>\n",
       "      <th>003a1562e97f79ba96dc</th>\n",
       "      <td>2.35640</td>\n",
       "      <td>3</td>\n",
       "    </tr>\n",
       "    <tr>\n",
       "      <th>004890880e8e7431147b</th>\n",
       "      <td>1.63277</td>\n",
       "      <td>2</td>\n",
       "    </tr>\n",
       "    <tr>\n",
       "      <th>00718c32602425f504c1</th>\n",
       "      <td>2.39794</td>\n",
       "      <td>3</td>\n",
       "    </tr>\n",
       "    <tr>\n",
       "      <th>...</th>\n",
       "      <td>...</td>\n",
       "      <td>...</td>\n",
       "    </tr>\n",
       "    <tr>\n",
       "      <th>ffa3259fff8e6f3818a1</th>\n",
       "      <td>2.39534</td>\n",
       "      <td>3</td>\n",
       "    </tr>\n",
       "    <tr>\n",
       "      <th>ffd4d361756587883e48</th>\n",
       "      <td>0.74536</td>\n",
       "      <td>1</td>\n",
       "    </tr>\n",
       "    <tr>\n",
       "      <th>ffd794b7b311b7b7fd92</th>\n",
       "      <td>1.64032</td>\n",
       "      <td>2</td>\n",
       "    </tr>\n",
       "    <tr>\n",
       "      <th>ffe49bba69d06446de7e</th>\n",
       "      <td>2.39430</td>\n",
       "      <td>3</td>\n",
       "    </tr>\n",
       "    <tr>\n",
       "      <th>ffe77db10be3400bed53</th>\n",
       "      <td>0.84297</td>\n",
       "      <td>1</td>\n",
       "    </tr>\n",
       "  </tbody>\n",
       "</table>\n",
       "<p>3937 rows × 2 columns</p>\n",
       "</div>"
      ],
      "text/plain": [
       "                        pred  actual\n",
       "object_id                           \n",
       "002bff09b09998d0be65 0.83325       1\n",
       "00309fb1ef05416f9c1f 2.39788       3\n",
       "003a1562e97f79ba96dc 2.35640       3\n",
       "004890880e8e7431147b 1.63277       2\n",
       "00718c32602425f504c1 2.39794       3\n",
       "...                      ...     ...\n",
       "ffa3259fff8e6f3818a1 2.39534       3\n",
       "ffd4d361756587883e48 0.74536       1\n",
       "ffd794b7b311b7b7fd92 1.64032       2\n",
       "ffe49bba69d06446de7e 2.39430       3\n",
       "ffe77db10be3400bed53 0.84297       1\n",
       "\n",
       "[3937 rows x 2 columns]"
      ]
     },
     "execution_count": 24,
     "metadata": {},
     "output_type": "execute_result"
    }
   ],
   "source": [
    "pred_train = pd.concat(pred_train_dfs).groupby('object_id').sum()\n",
    "pred_train = pred_train / N_SPLITS\n",
    "if not REGRESSION:\n",
    "    pred_train['pred'] = predict(pred_train['0'], pred_train['1'], pred_train['2'], pred_train['3'])\n",
    "pred_train['actual'] = train.loc[pred_train.index, TARGET].values\n",
    "if REGRESSION and TARGET == 'sorting_date':\n",
    "    pred_train['actual'] = np.vectorize(soring_date2target)(pred_train['actual'])\n",
    "pred_train"
   ]
  },
  {
   "cell_type": "code",
   "execution_count": 25,
   "metadata": {
    "execution": {
     "iopub.execute_input": "2021-07-19T01:53:32.260934Z",
     "iopub.status.busy": "2021-07-19T01:53:32.260934Z",
     "iopub.status.idle": "2021-07-19T01:53:32.276559Z",
     "shell.execute_reply": "2021-07-19T01:53:32.276559Z"
    }
   },
   "outputs": [
    {
     "name": "stderr",
     "output_type": "stream",
     "text": [
      "2021-07-22 15:32:17,993 - __main__ - INFO - Training loss: 0.4144339895783344\n"
     ]
    }
   ],
   "source": [
    "if not (REGRESSION and TARGET == 'target'):\n",
    "    print(confusion_matrix(pred_train['actual'], pred_train['pred'], labels=np.sort(train['target'].unique())))\n",
    "loss = rmse(pred_train['actual'], pred_train['pred'])\n",
    "metrics['train_loss'] = loss\n",
    "logger.info('Training loss: {}'.format(loss))"
   ]
  },
  {
   "cell_type": "code",
   "execution_count": 26,
   "metadata": {
    "execution": {
     "iopub.execute_input": "2021-07-19T01:53:32.276559Z",
     "iopub.status.busy": "2021-07-19T01:53:32.276559Z",
     "iopub.status.idle": "2021-07-19T01:53:32.292186Z",
     "shell.execute_reply": "2021-07-19T01:53:32.292186Z"
    }
   },
   "outputs": [
    {
     "name": "stderr",
     "output_type": "stream",
     "text": [
      "2021-07-22 15:32:18,017 - __main__ - DEBUG - Write cv result to ..\\scripts\\..\\experiments\\exp031\\prediction_train.csv\n"
     ]
    }
   ],
   "source": [
    "pred_train.to_csv(os.path.join(output_dir, 'prediction_train.csv'))\n",
    "logger.debug('Write cv result to {}'.format(os.path.join(output_dir, 'prediction_train.csv')))"
   ]
  },
  {
   "cell_type": "markdown",
   "metadata": {},
   "source": [
    "## Validation set"
   ]
  },
  {
   "cell_type": "code",
   "execution_count": 27,
   "metadata": {
    "execution": {
     "iopub.execute_input": "2021-07-19T01:53:32.292186Z",
     "iopub.status.busy": "2021-07-19T01:53:32.292186Z",
     "iopub.status.idle": "2021-07-19T01:53:32.370361Z",
     "shell.execute_reply": "2021-07-19T01:53:32.370361Z"
    }
   },
   "outputs": [
    {
     "name": "stderr",
     "output_type": "stream",
     "text": [
      "2021-07-22 15:32:18,044 - __main__ - DEBUG - Evaluate cv result (validation set) Fold 1\n",
      "2021-07-22 15:32:18,058 - __main__ - DEBUG - Loss: 0.8764557515793795\n",
      "2021-07-22 15:32:18,058 - __main__ - DEBUG - Evaluate cv result (validation set) Fold 2\n",
      "2021-07-22 15:32:18,071 - __main__ - DEBUG - Loss: 0.8647225527832656\n",
      "2021-07-22 15:32:18,072 - __main__ - DEBUG - Evaluate cv result (validation set) Fold 3\n",
      "2021-07-22 15:32:18,084 - __main__ - DEBUG - Loss: 0.8634959455512119\n",
      "2021-07-22 15:32:18,086 - __main__ - DEBUG - Evaluate cv result (validation set) Fold 4\n",
      "2021-07-22 15:32:18,098 - __main__ - DEBUG - Loss: 0.8683642145134299\n",
      "2021-07-22 15:32:18,100 - __main__ - DEBUG - Evaluate cv result (validation set) Fold 5\n",
      "2021-07-22 15:32:18,112 - __main__ - DEBUG - Loss: 0.8366128496279233\n"
     ]
    }
   ],
   "source": [
    "pred_valid_dfs = []\n",
    "for i in range(N_SPLITS):\n",
    "    num_fold = i + 1\n",
    "    logger.debug('Evaluate cv result (validation set) Fold {}'.format(num_fold))\n",
    "    # Read cv result\n",
    "    filepath_fold_valid = os.path.join(output_dir, f'cv_fold{num_fold}_validation.csv')\n",
    "    pred_valid_df = pd.read_csv(filepath_fold_valid)\n",
    "    pred_valid_df['actual'] = train.loc[pred_valid_df['object_id'], TARGET].values\n",
    "    if REGRESSION:\n",
    "        if TARGET == 'target':\n",
    "            pred_valid_df['pred'].clip(lower=0, upper=3, inplace=True)\n",
    "        else:\n",
    "            pred_valid_df['pred'] = np.vectorize(soring_date2target)(pred_valid_df['pred'])\n",
    "            pred_valid_df['actual'] = np.vectorize(soring_date2target)(pred_valid_df['actual'])\n",
    "    else:\n",
    "        pred_valid_df['pred'] = predict(pred_valid_df['0'], pred_valid_df['1'],\n",
    "                                        pred_valid_df['2'], pred_valid_df['3'])        \n",
    "    \n",
    "    if not (REGRESSION and TARGET == 'target'):\n",
    "        print(confusion_matrix(pred_valid_df['actual'], pred_valid_df['pred'],\n",
    "                               labels=np.sort(train['target'].unique())))\n",
    "    loss = rmse(pred_valid_df['actual'], pred_valid_df['pred'])\n",
    "    logger.debug('Loss: {}'.format(loss))\n",
    "    metrics['valid_losses'].append(loss)\n",
    "    pred_valid_dfs.append(pred_valid_df)\n",
    "    \n",
    "metrics['valid_losses_avg'] = np.mean(metrics['valid_losses'])\n",
    "metrics['valid_losses_std'] = np.std(metrics['valid_losses'])"
   ]
  },
  {
   "cell_type": "code",
   "execution_count": 28,
   "metadata": {
    "execution": {
     "iopub.execute_input": "2021-07-19T01:53:32.370361Z",
     "iopub.status.busy": "2021-07-19T01:53:32.370361Z",
     "iopub.status.idle": "2021-07-19T01:53:32.401610Z",
     "shell.execute_reply": "2021-07-19T01:53:32.401610Z"
    }
   },
   "outputs": [
    {
     "data": {
      "text/html": [
       "<div>\n",
       "<style scoped>\n",
       "    .dataframe tbody tr th:only-of-type {\n",
       "        vertical-align: middle;\n",
       "    }\n",
       "\n",
       "    .dataframe tbody tr th {\n",
       "        vertical-align: top;\n",
       "    }\n",
       "\n",
       "    .dataframe thead th {\n",
       "        text-align: right;\n",
       "    }\n",
       "</style>\n",
       "<table border=\"1\" class=\"dataframe\">\n",
       "  <thead>\n",
       "    <tr style=\"text-align: right;\">\n",
       "      <th></th>\n",
       "      <th>pred</th>\n",
       "      <th>actual</th>\n",
       "    </tr>\n",
       "    <tr>\n",
       "      <th>object_id</th>\n",
       "      <th></th>\n",
       "      <th></th>\n",
       "    </tr>\n",
       "  </thead>\n",
       "  <tbody>\n",
       "    <tr>\n",
       "      <th>002bff09b09998d0be65</th>\n",
       "      <td>0.26170</td>\n",
       "      <td>1</td>\n",
       "    </tr>\n",
       "    <tr>\n",
       "      <th>00309fb1ef05416f9c1f</th>\n",
       "      <td>0.33198</td>\n",
       "      <td>3</td>\n",
       "    </tr>\n",
       "    <tr>\n",
       "      <th>003a1562e97f79ba96dc</th>\n",
       "      <td>0.52460</td>\n",
       "      <td>3</td>\n",
       "    </tr>\n",
       "    <tr>\n",
       "      <th>004890880e8e7431147b</th>\n",
       "      <td>0.37833</td>\n",
       "      <td>2</td>\n",
       "    </tr>\n",
       "    <tr>\n",
       "      <th>00718c32602425f504c1</th>\n",
       "      <td>0.44246</td>\n",
       "      <td>3</td>\n",
       "    </tr>\n",
       "    <tr>\n",
       "      <th>...</th>\n",
       "      <td>...</td>\n",
       "      <td>...</td>\n",
       "    </tr>\n",
       "    <tr>\n",
       "      <th>ffa3259fff8e6f3818a1</th>\n",
       "      <td>0.46773</td>\n",
       "      <td>3</td>\n",
       "    </tr>\n",
       "    <tr>\n",
       "      <th>ffd4d361756587883e48</th>\n",
       "      <td>0.20827</td>\n",
       "      <td>1</td>\n",
       "    </tr>\n",
       "    <tr>\n",
       "      <th>ffd794b7b311b7b7fd92</th>\n",
       "      <td>0.40027</td>\n",
       "      <td>2</td>\n",
       "    </tr>\n",
       "    <tr>\n",
       "      <th>ffe49bba69d06446de7e</th>\n",
       "      <td>0.41308</td>\n",
       "      <td>3</td>\n",
       "    </tr>\n",
       "    <tr>\n",
       "      <th>ffe77db10be3400bed53</th>\n",
       "      <td>0.38825</td>\n",
       "      <td>1</td>\n",
       "    </tr>\n",
       "  </tbody>\n",
       "</table>\n",
       "<p>3937 rows × 2 columns</p>\n",
       "</div>"
      ],
      "text/plain": [
       "                        pred  actual\n",
       "object_id                           \n",
       "002bff09b09998d0be65 0.26170       1\n",
       "00309fb1ef05416f9c1f 0.33198       3\n",
       "003a1562e97f79ba96dc 0.52460       3\n",
       "004890880e8e7431147b 0.37833       2\n",
       "00718c32602425f504c1 0.44246       3\n",
       "...                      ...     ...\n",
       "ffa3259fff8e6f3818a1 0.46773       3\n",
       "ffd4d361756587883e48 0.20827       1\n",
       "ffd794b7b311b7b7fd92 0.40027       2\n",
       "ffe49bba69d06446de7e 0.41308       3\n",
       "ffe77db10be3400bed53 0.38825       1\n",
       "\n",
       "[3937 rows x 2 columns]"
      ]
     },
     "execution_count": 28,
     "metadata": {},
     "output_type": "execute_result"
    }
   ],
   "source": [
    "pred_valid = pd.concat(pred_valid_dfs).groupby('object_id').sum()\n",
    "pred_valid = pred_valid / N_SPLITS\n",
    "if not REGRESSION:\n",
    "    pred_valid['pred'] = predict(pred_valid['0'], pred_valid['1'], pred_valid['2'], pred_valid['3'])\n",
    "pred_valid['actual'] = train.loc[pred_valid.index, TARGET].values\n",
    "if REGRESSION and TARGET == 'sorting_date':\n",
    "    pred_valid['actual'] = np.vectorize(soring_date2target)(pred_valid['actual'])\n",
    "pred_valid"
   ]
  },
  {
   "cell_type": "code",
   "execution_count": 29,
   "metadata": {
    "execution": {
     "iopub.execute_input": "2021-07-19T01:53:32.401610Z",
     "iopub.status.busy": "2021-07-19T01:53:32.401610Z",
     "iopub.status.idle": "2021-07-19T01:53:32.417184Z",
     "shell.execute_reply": "2021-07-19T01:53:32.417184Z"
    }
   },
   "outputs": [
    {
     "name": "stderr",
     "output_type": "stream",
     "text": [
      "2021-07-22 15:32:18,153 - __main__ - INFO - Validatino loss: 1.714109447738707\n"
     ]
    }
   ],
   "source": [
    "if not REGRESSION:\n",
    "    print(confusion_matrix(pred_valid['actual'], pred_valid['pred'], labels=np.sort(train['target'].unique())))\n",
    "loss = rmse(pred_valid['actual'], pred_valid['pred'])\n",
    "metrics['valid_loss'] = loss\n",
    "logger.info('Validatino loss: {}'.format(loss))"
   ]
  },
  {
   "cell_type": "code",
   "execution_count": 30,
   "metadata": {
    "execution": {
     "iopub.execute_input": "2021-07-19T01:53:32.417184Z",
     "iopub.status.busy": "2021-07-19T01:53:32.417184Z",
     "iopub.status.idle": "2021-07-19T01:53:32.432810Z",
     "shell.execute_reply": "2021-07-19T01:53:32.432810Z"
    }
   },
   "outputs": [
    {
     "name": "stderr",
     "output_type": "stream",
     "text": [
      "2021-07-22 15:32:18,177 - __main__ - DEBUG - Write cv result to ..\\scripts\\..\\experiments\\exp031\\prediction_valid.csv\n"
     ]
    }
   ],
   "source": [
    "pred_valid.to_csv(os.path.join(output_dir, 'prediction_valid.csv'))\n",
    "logger.debug('Write cv result to {}'.format(os.path.join(output_dir, 'prediction_valid.csv')))"
   ]
  },
  {
   "cell_type": "code",
   "execution_count": 31,
   "metadata": {
    "execution": {
     "iopub.execute_input": "2021-07-19T01:53:32.432810Z",
     "iopub.status.busy": "2021-07-19T01:53:32.432810Z",
     "iopub.status.idle": "2021-07-19T01:53:32.448438Z",
     "shell.execute_reply": "2021-07-19T01:53:32.448438Z"
    }
   },
   "outputs": [
    {
     "name": "stderr",
     "output_type": "stream",
     "text": [
      "2021-07-22 15:32:18,198 - __main__ - DEBUG - Write metrics to ..\\scripts\\..\\experiments\\exp031\\metrics.json\n"
     ]
    }
   ],
   "source": [
    "with open(os.path.join(output_dir, 'metrics.json'), 'w') as f:\n",
    "    json.dump(dict(metrics), f)\n",
    "logger.debug('Write metrics to {}'.format(os.path.join(output_dir, 'metrics.json')))"
   ]
  },
  {
   "cell_type": "markdown",
   "metadata": {},
   "source": [
    "# Prediction"
   ]
  },
  {
   "cell_type": "code",
   "execution_count": 32,
   "metadata": {
    "execution": {
     "iopub.execute_input": "2021-07-19T01:53:32.448438Z",
     "iopub.status.busy": "2021-07-19T01:53:32.448438Z",
     "iopub.status.idle": "2021-07-19T01:53:32.526561Z",
     "shell.execute_reply": "2021-07-19T01:53:32.526561Z"
    }
   },
   "outputs": [],
   "source": [
    "pred_test_dfs = []\n",
    "for i in range(N_SPLITS):\n",
    "    num_fold = i + 1\n",
    "    # Read cv result\n",
    "    filepath_fold_test = os.path.join(output_dir, f'cv_fold{num_fold}_test.csv')\n",
    "    pred_test_df = pd.read_csv(filepath_fold_test)\n",
    "    pred_test_dfs.append(pred_test_df)"
   ]
  },
  {
   "cell_type": "code",
   "execution_count": 33,
   "metadata": {
    "execution": {
     "iopub.execute_input": "2021-07-19T01:53:32.526561Z",
     "iopub.status.busy": "2021-07-19T01:53:32.526561Z",
     "iopub.status.idle": "2021-07-19T01:53:32.557807Z",
     "shell.execute_reply": "2021-07-19T01:53:32.557807Z"
    }
   },
   "outputs": [
    {
     "data": {
      "text/html": [
       "<div>\n",
       "<style scoped>\n",
       "    .dataframe tbody tr th:only-of-type {\n",
       "        vertical-align: middle;\n",
       "    }\n",
       "\n",
       "    .dataframe tbody tr th {\n",
       "        vertical-align: top;\n",
       "    }\n",
       "\n",
       "    .dataframe thead th {\n",
       "        text-align: right;\n",
       "    }\n",
       "</style>\n",
       "<table border=\"1\" class=\"dataframe\">\n",
       "  <thead>\n",
       "    <tr style=\"text-align: right;\">\n",
       "      <th></th>\n",
       "      <th>pred</th>\n",
       "    </tr>\n",
       "    <tr>\n",
       "      <th>object_id</th>\n",
       "      <th></th>\n",
       "    </tr>\n",
       "  </thead>\n",
       "  <tbody>\n",
       "    <tr>\n",
       "      <th>0009e50b94be36ccad39</th>\n",
       "      <td>1.41171</td>\n",
       "    </tr>\n",
       "    <tr>\n",
       "      <th>000bd5e82eb22f199f44</th>\n",
       "      <td>1.44681</td>\n",
       "    </tr>\n",
       "    <tr>\n",
       "      <th>0015f44de1854f617516</th>\n",
       "      <td>1.72838</td>\n",
       "    </tr>\n",
       "    <tr>\n",
       "      <th>00388a678879ba1efa27</th>\n",
       "      <td>1.67275</td>\n",
       "    </tr>\n",
       "    <tr>\n",
       "      <th>005e1e7c6496902d23f3</th>\n",
       "      <td>1.10628</td>\n",
       "    </tr>\n",
       "    <tr>\n",
       "      <th>...</th>\n",
       "      <td>...</td>\n",
       "    </tr>\n",
       "    <tr>\n",
       "      <th>ffbe65ad399b632dcbd0</th>\n",
       "      <td>2.69343</td>\n",
       "    </tr>\n",
       "    <tr>\n",
       "      <th>ffd7b2d646c0320c311a</th>\n",
       "      <td>1.45801</td>\n",
       "    </tr>\n",
       "    <tr>\n",
       "      <th>ffdb93ede17d4501e530</th>\n",
       "      <td>1.95217</td>\n",
       "    </tr>\n",
       "    <tr>\n",
       "      <th>ffe111402004b0ed46b4</th>\n",
       "      <td>1.85229</td>\n",
       "    </tr>\n",
       "    <tr>\n",
       "      <th>fffdb3c248a7dcd3cccf</th>\n",
       "      <td>1.15221</td>\n",
       "    </tr>\n",
       "  </tbody>\n",
       "</table>\n",
       "<p>5919 rows × 1 columns</p>\n",
       "</div>"
      ],
      "text/plain": [
       "                        pred\n",
       "object_id                   \n",
       "0009e50b94be36ccad39 1.41171\n",
       "000bd5e82eb22f199f44 1.44681\n",
       "0015f44de1854f617516 1.72838\n",
       "00388a678879ba1efa27 1.67275\n",
       "005e1e7c6496902d23f3 1.10628\n",
       "...                      ...\n",
       "ffbe65ad399b632dcbd0 2.69343\n",
       "ffd7b2d646c0320c311a 1.45801\n",
       "ffdb93ede17d4501e530 1.95217\n",
       "ffe111402004b0ed46b4 1.85229\n",
       "fffdb3c248a7dcd3cccf 1.15221\n",
       "\n",
       "[5919 rows x 1 columns]"
      ]
     },
     "execution_count": 33,
     "metadata": {},
     "output_type": "execute_result"
    }
   ],
   "source": [
    "pred_test = pd.concat(pred_test_dfs).groupby('object_id').sum()\n",
    "pred_test = pred_test / N_SPLITS\n",
    "if REGRESSION:\n",
    "    if TARGET == 'target':\n",
    "        pred_test['pred'].clip(lower=0, upper=3, inplace=True)\n",
    "    else:\n",
    "        pred_test['pred'] = np.vectorize(soring_date2target)(pred_test['pred'])\n",
    "else:\n",
    "    pred_test['pred'] = predict(pred_test['0'], pred_test['1'], pred_test['2'], pred_test['3'])\n",
    "pred_test"
   ]
  },
  {
   "cell_type": "code",
   "execution_count": 34,
   "metadata": {
    "execution": {
     "iopub.execute_input": "2021-07-19T01:53:32.557807Z",
     "iopub.status.busy": "2021-07-19T01:53:32.557807Z",
     "iopub.status.idle": "2021-07-19T01:53:32.573434Z",
     "shell.execute_reply": "2021-07-19T01:53:32.573434Z"
    }
   },
   "outputs": [
    {
     "data": {
      "text/html": [
       "<div>\n",
       "<style scoped>\n",
       "    .dataframe tbody tr th:only-of-type {\n",
       "        vertical-align: middle;\n",
       "    }\n",
       "\n",
       "    .dataframe tbody tr th {\n",
       "        vertical-align: top;\n",
       "    }\n",
       "\n",
       "    .dataframe thead th {\n",
       "        text-align: right;\n",
       "    }\n",
       "</style>\n",
       "<table border=\"1\" class=\"dataframe\">\n",
       "  <thead>\n",
       "    <tr style=\"text-align: right;\">\n",
       "      <th></th>\n",
       "      <th>target</th>\n",
       "    </tr>\n",
       "  </thead>\n",
       "  <tbody>\n",
       "    <tr>\n",
       "      <th>0</th>\n",
       "      <td>1.41171</td>\n",
       "    </tr>\n",
       "    <tr>\n",
       "      <th>1</th>\n",
       "      <td>1.44681</td>\n",
       "    </tr>\n",
       "    <tr>\n",
       "      <th>2</th>\n",
       "      <td>1.72838</td>\n",
       "    </tr>\n",
       "    <tr>\n",
       "      <th>3</th>\n",
       "      <td>1.67275</td>\n",
       "    </tr>\n",
       "    <tr>\n",
       "      <th>4</th>\n",
       "      <td>1.10628</td>\n",
       "    </tr>\n",
       "    <tr>\n",
       "      <th>...</th>\n",
       "      <td>...</td>\n",
       "    </tr>\n",
       "    <tr>\n",
       "      <th>5914</th>\n",
       "      <td>2.69343</td>\n",
       "    </tr>\n",
       "    <tr>\n",
       "      <th>5915</th>\n",
       "      <td>1.45801</td>\n",
       "    </tr>\n",
       "    <tr>\n",
       "      <th>5916</th>\n",
       "      <td>1.95217</td>\n",
       "    </tr>\n",
       "    <tr>\n",
       "      <th>5917</th>\n",
       "      <td>1.85229</td>\n",
       "    </tr>\n",
       "    <tr>\n",
       "      <th>5918</th>\n",
       "      <td>1.15221</td>\n",
       "    </tr>\n",
       "  </tbody>\n",
       "</table>\n",
       "<p>5919 rows × 1 columns</p>\n",
       "</div>"
      ],
      "text/plain": [
       "      target\n",
       "0    1.41171\n",
       "1    1.44681\n",
       "2    1.72838\n",
       "3    1.67275\n",
       "4    1.10628\n",
       "...      ...\n",
       "5914 2.69343\n",
       "5915 1.45801\n",
       "5916 1.95217\n",
       "5917 1.85229\n",
       "5918 1.15221\n",
       "\n",
       "[5919 rows x 1 columns]"
      ]
     },
     "execution_count": 34,
     "metadata": {},
     "output_type": "execute_result"
    }
   ],
   "source": [
    "test['target'] = pred_test.loc[test['object_id'], 'pred'].values\n",
    "test = test[['target']]\n",
    "test"
   ]
  },
  {
   "cell_type": "code",
   "execution_count": 35,
   "metadata": {
    "execution": {
     "iopub.execute_input": "2021-07-19T01:53:32.573434Z",
     "iopub.status.busy": "2021-07-19T01:53:32.573434Z",
     "iopub.status.idle": "2021-07-19T01:53:32.589059Z",
     "shell.execute_reply": "2021-07-19T01:53:32.589059Z"
    }
   },
   "outputs": [
    {
     "data": {
      "text/html": [
       "<div>\n",
       "<style scoped>\n",
       "    .dataframe tbody tr th:only-of-type {\n",
       "        vertical-align: middle;\n",
       "    }\n",
       "\n",
       "    .dataframe tbody tr th {\n",
       "        vertical-align: top;\n",
       "    }\n",
       "\n",
       "    .dataframe thead th {\n",
       "        text-align: right;\n",
       "    }\n",
       "</style>\n",
       "<table border=\"1\" class=\"dataframe\">\n",
       "  <thead>\n",
       "    <tr style=\"text-align: right;\">\n",
       "      <th></th>\n",
       "      <th>target</th>\n",
       "    </tr>\n",
       "  </thead>\n",
       "  <tbody>\n",
       "    <tr>\n",
       "      <th>0</th>\n",
       "      <td>3</td>\n",
       "    </tr>\n",
       "    <tr>\n",
       "      <th>1</th>\n",
       "      <td>1</td>\n",
       "    </tr>\n",
       "    <tr>\n",
       "      <th>2</th>\n",
       "      <td>3</td>\n",
       "    </tr>\n",
       "    <tr>\n",
       "      <th>3</th>\n",
       "      <td>3</td>\n",
       "    </tr>\n",
       "    <tr>\n",
       "      <th>4</th>\n",
       "      <td>0</td>\n",
       "    </tr>\n",
       "    <tr>\n",
       "      <th>...</th>\n",
       "      <td>...</td>\n",
       "    </tr>\n",
       "    <tr>\n",
       "      <th>5914</th>\n",
       "      <td>2</td>\n",
       "    </tr>\n",
       "    <tr>\n",
       "      <th>5915</th>\n",
       "      <td>1</td>\n",
       "    </tr>\n",
       "    <tr>\n",
       "      <th>5916</th>\n",
       "      <td>1</td>\n",
       "    </tr>\n",
       "    <tr>\n",
       "      <th>5917</th>\n",
       "      <td>3</td>\n",
       "    </tr>\n",
       "    <tr>\n",
       "      <th>5918</th>\n",
       "      <td>3</td>\n",
       "    </tr>\n",
       "  </tbody>\n",
       "</table>\n",
       "<p>5919 rows × 1 columns</p>\n",
       "</div>"
      ],
      "text/plain": [
       "      target\n",
       "0          3\n",
       "1          1\n",
       "2          3\n",
       "3          3\n",
       "4          0\n",
       "...      ...\n",
       "5914       2\n",
       "5915       1\n",
       "5916       1\n",
       "5917       3\n",
       "5918       3\n",
       "\n",
       "[5919 rows x 1 columns]"
      ]
     },
     "execution_count": 35,
     "metadata": {},
     "output_type": "execute_result"
    }
   ],
   "source": [
    "sample_submission"
   ]
  },
  {
   "cell_type": "code",
   "execution_count": 36,
   "metadata": {
    "execution": {
     "iopub.execute_input": "2021-07-19T01:53:32.589059Z",
     "iopub.status.busy": "2021-07-19T01:53:32.589059Z",
     "iopub.status.idle": "2021-07-19T01:53:32.620310Z",
     "shell.execute_reply": "2021-07-19T01:53:32.620310Z"
    }
   },
   "outputs": [
    {
     "name": "stderr",
     "output_type": "stream",
     "text": [
      "2021-07-22 15:32:18,370 - __main__ - DEBUG - Write submission to ..\\scripts\\..\\experiments\\exp031\\031_submission.csv\n"
     ]
    }
   ],
   "source": [
    "test.to_csv(os.path.join(output_dir, f'{str(EXP_NO).zfill(3)}_submission.csv'), index=False)\n",
    "logger.debug('Write submission to {}'.format(os.path.join(output_dir, f'{str(EXP_NO).zfill(3)}_submission.csv')))"
   ]
  },
  {
   "cell_type": "code",
   "execution_count": 37,
   "metadata": {
    "execution": {
     "iopub.execute_input": "2021-07-19T01:53:32.620310Z",
     "iopub.status.busy": "2021-07-19T01:53:32.620310Z",
     "iopub.status.idle": "2021-07-19T01:53:32.824346Z",
     "shell.execute_reply": "2021-07-19T01:53:32.824346Z"
    }
   },
   "outputs": [
    {
     "name": "stderr",
     "output_type": "stream",
     "text": [
      "2021-07-22 15:32:18,508 - __main__ - DEBUG - Write figure to ..\\scripts\\..\\experiments\\exp031\\prediction.png\n"
     ]
    },
    {
     "data": {
      "image/png": "[encoded data removed]",
      "text/plain": [
       "<Figure size 432x288 with 1 Axes>"
      ]
     },
     "metadata": {
      "needs_background": "light"
     },
     "output_type": "display_data"
    }
   ],
   "source": [
    "fig = plt.figure()\n",
    "if not (REGRESSION and TARGET == 'target'):\n",
    "    sns.countplot(data=test, x='target')\n",
    "else:\n",
    "    sns.histplot(data=test, x='target')\n",
    "sns.despine()\n",
    "fig.savefig(os.path.join(output_dir, 'prediction.png'))\n",
    "logger.debug('Write figure to {}'.format(os.path.join(output_dir, 'prediction.png')))"
   ]
  },
  {
   "cell_type": "code",
   "execution_count": 38,
   "metadata": {
    "execution": {
     "iopub.execute_input": "2021-07-19T01:53:32.824346Z",
     "iopub.status.busy": "2021-07-19T01:53:32.824346Z",
     "iopub.status.idle": "2021-07-19T01:53:32.839975Z",
     "shell.execute_reply": "2021-07-19T01:53:32.839975Z"
    }
   },
   "outputs": [
    {
     "name": "stderr",
     "output_type": "stream",
     "text": [
      "2021-07-22 15:32:18,658 - __main__ - DEBUG - Complete (3.381 seconds passed)\n"
     ]
    }
   ],
   "source": [
    "logger.debug('Complete ({:.3f} seconds passed)'.format(time.time() - SINCE))"
   ]
  },
  {
   "cell_type": "code",
   "execution_count": null,
   "metadata": {},
   "outputs": [],
   "source": []
  }
 ],
 "metadata": {
  "kernelspec": {
   "display_name": "Python 3 (ipykernel)",
   "language": "python",
   "name": "python3"
  },
  "language_info": {
   "codemirror_mode": {
    "name": "ipython",
    "version": 3
   },
   "file_extension": ".py",
   "mimetype": "text/x-python",
   "name": "python",
   "nbconvert_exporter": "python",
   "pygments_lexer": "ipython3",
   "version": "3.9.0"
  }
 },
 "nbformat": 4,
 "nbformat_minor": 4
}
