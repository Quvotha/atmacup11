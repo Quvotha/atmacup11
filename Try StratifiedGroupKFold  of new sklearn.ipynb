{
 "cells": [
  {
   "cell_type": "markdown",
   "id": "83b46a30",
   "metadata": {},
   "source": [
    "どうやら以下のことが言える模様。\n",
    "- `shuffle` を False にすると決定的になる (`random_state` 指定するとエラー)\n",
    "- `shuffle` を True にし `random_state` にシードを設定しないと非決定的\n",
    "- `shuffle` を True にし `random_state` にシードを設定すると決定的"
   ]
  },
  {
   "cell_type": "code",
   "execution_count": null,
   "id": "41e7d7ac",
   "metadata": {},
   "outputs": [],
   "source": [
    "import numpy as np\n",
    "import pandas as pd\n",
    "from sklearn.model_selection import StratifiedGroupKFold"
   ]
  },
  {
   "cell_type": "code",
   "execution_count": 13,
   "id": "0bc138b8",
   "metadata": {},
   "outputs": [
    {
     "data": {
      "text/html": [
       "<div>\n",
       "<style scoped>\n",
       "    .dataframe tbody tr th:only-of-type {\n",
       "        vertical-align: middle;\n",
       "    }\n",
       "\n",
       "    .dataframe tbody tr th {\n",
       "        vertical-align: top;\n",
       "    }\n",
       "\n",
       "    .dataframe thead th {\n",
       "        text-align: right;\n",
       "    }\n",
       "</style>\n",
       "<table border=\"1\" class=\"dataframe\">\n",
       "  <thead>\n",
       "    <tr style=\"text-align: right;\">\n",
       "      <th></th>\n",
       "      <th>y</th>\n",
       "      <th>groups</th>\n",
       "      <th>x1</th>\n",
       "      <th>x2</th>\n",
       "      <th>x3</th>\n",
       "    </tr>\n",
       "  </thead>\n",
       "  <tbody>\n",
       "    <tr>\n",
       "      <th>0</th>\n",
       "      <td>1</td>\n",
       "      <td>3</td>\n",
       "      <td>0.754404</td>\n",
       "      <td>0.106129</td>\n",
       "      <td>0.701739</td>\n",
       "    </tr>\n",
       "    <tr>\n",
       "      <th>1</th>\n",
       "      <td>3</td>\n",
       "      <td>7</td>\n",
       "      <td>0.326706</td>\n",
       "      <td>0.368672</td>\n",
       "      <td>0.257826</td>\n",
       "    </tr>\n",
       "    <tr>\n",
       "      <th>2</th>\n",
       "      <td>1</td>\n",
       "      <td>3</td>\n",
       "      <td>0.975612</td>\n",
       "      <td>0.908864</td>\n",
       "      <td>0.951970</td>\n",
       "    </tr>\n",
       "    <tr>\n",
       "      <th>3</th>\n",
       "      <td>1</td>\n",
       "      <td>2</td>\n",
       "      <td>0.500470</td>\n",
       "      <td>0.434404</td>\n",
       "      <td>0.305197</td>\n",
       "    </tr>\n",
       "    <tr>\n",
       "      <th>4</th>\n",
       "      <td>0</td>\n",
       "      <td>0</td>\n",
       "      <td>0.361858</td>\n",
       "      <td>0.802651</td>\n",
       "      <td>0.304794</td>\n",
       "    </tr>\n",
       "    <tr>\n",
       "      <th>5</th>\n",
       "      <td>3</td>\n",
       "      <td>7</td>\n",
       "      <td>0.099070</td>\n",
       "      <td>0.759912</td>\n",
       "      <td>0.153225</td>\n",
       "    </tr>\n",
       "    <tr>\n",
       "      <th>6</th>\n",
       "      <td>1</td>\n",
       "      <td>3</td>\n",
       "      <td>0.560227</td>\n",
       "      <td>0.482793</td>\n",
       "      <td>0.670281</td>\n",
       "    </tr>\n",
       "    <tr>\n",
       "      <th>7</th>\n",
       "      <td>0</td>\n",
       "      <td>0</td>\n",
       "      <td>0.431473</td>\n",
       "      <td>0.962507</td>\n",
       "      <td>0.650751</td>\n",
       "    </tr>\n",
       "    <tr>\n",
       "      <th>8</th>\n",
       "      <td>1</td>\n",
       "      <td>4</td>\n",
       "      <td>0.614938</td>\n",
       "      <td>0.789203</td>\n",
       "      <td>0.416457</td>\n",
       "    </tr>\n",
       "    <tr>\n",
       "      <th>9</th>\n",
       "      <td>2</td>\n",
       "      <td>5</td>\n",
       "      <td>0.380186</td>\n",
       "      <td>0.014565</td>\n",
       "      <td>0.550679</td>\n",
       "    </tr>\n",
       "    <tr>\n",
       "      <th>10</th>\n",
       "      <td>3</td>\n",
       "      <td>7</td>\n",
       "      <td>0.983517</td>\n",
       "      <td>0.521397</td>\n",
       "      <td>0.513076</td>\n",
       "    </tr>\n",
       "    <tr>\n",
       "      <th>11</th>\n",
       "      <td>2</td>\n",
       "      <td>5</td>\n",
       "      <td>0.976307</td>\n",
       "      <td>0.771502</td>\n",
       "      <td>0.750176</td>\n",
       "    </tr>\n",
       "    <tr>\n",
       "      <th>12</th>\n",
       "      <td>2</td>\n",
       "      <td>5</td>\n",
       "      <td>0.256587</td>\n",
       "      <td>0.367096</td>\n",
       "      <td>0.029150</td>\n",
       "    </tr>\n",
       "    <tr>\n",
       "      <th>13</th>\n",
       "      <td>2</td>\n",
       "      <td>6</td>\n",
       "      <td>0.399232</td>\n",
       "      <td>0.184112</td>\n",
       "      <td>0.730366</td>\n",
       "    </tr>\n",
       "    <tr>\n",
       "      <th>14</th>\n",
       "      <td>0</td>\n",
       "      <td>1</td>\n",
       "      <td>0.367214</td>\n",
       "      <td>0.374912</td>\n",
       "      <td>0.479608</td>\n",
       "    </tr>\n",
       "    <tr>\n",
       "      <th>15</th>\n",
       "      <td>0</td>\n",
       "      <td>1</td>\n",
       "      <td>0.631086</td>\n",
       "      <td>0.535759</td>\n",
       "      <td>0.489455</td>\n",
       "    </tr>\n",
       "  </tbody>\n",
       "</table>\n",
       "</div>"
      ],
      "text/plain": [
       "    y  groups        x1        x2        x3\n",
       "0   1       3  0.754404  0.106129  0.701739\n",
       "1   3       7  0.326706  0.368672  0.257826\n",
       "2   1       3  0.975612  0.908864  0.951970\n",
       "3   1       2  0.500470  0.434404  0.305197\n",
       "4   0       0  0.361858  0.802651  0.304794\n",
       "5   3       7  0.099070  0.759912  0.153225\n",
       "6   1       3  0.560227  0.482793  0.670281\n",
       "7   0       0  0.431473  0.962507  0.650751\n",
       "8   1       4  0.614938  0.789203  0.416457\n",
       "9   2       5  0.380186  0.014565  0.550679\n",
       "10  3       7  0.983517  0.521397  0.513076\n",
       "11  2       5  0.976307  0.771502  0.750176\n",
       "12  2       5  0.256587  0.367096  0.029150\n",
       "13  2       6  0.399232  0.184112  0.730366\n",
       "14  0       1  0.367214  0.374912  0.479608\n",
       "15  0       1  0.631086  0.535759  0.489455"
      ]
     },
     "execution_count": 13,
     "metadata": {},
     "output_type": "execute_result"
    }
   ],
   "source": [
    "df = pd.DataFrame(\n",
    "    {'y': [0, 0, 0, 0, 1, 1, 1, 1, 1, 2, 2, 2, 2, 3, 3, 3],\n",
    "     'groups': [0, 0, 1, 1, 2, 3, 3, 3, 4, 5, 5, 5, 6, 7, 7, 7]\n",
    "    }\n",
    ")\n",
    "df[['x1', 'x2', 'x3']] = np.random.rand(df.shape[0], 3)\n",
    "df = df.sample(frac=1.0).reset_index(drop=True)\n",
    "df"
   ]
  },
  {
   "cell_type": "code",
   "execution_count": 44,
   "id": "8f21f248",
   "metadata": {},
   "outputs": [
    {
     "data": {
      "text/plain": [
       "1    5\n",
       "0    4\n",
       "2    4\n",
       "3    3\n",
       "Name: y, dtype: int64"
      ]
     },
     "execution_count": 44,
     "metadata": {},
     "output_type": "execute_result"
    }
   ],
   "source": [
    "df['y'].value_counts()"
   ]
  },
  {
   "cell_type": "code",
   "execution_count": 16,
   "id": "50cc5d95",
   "metadata": {},
   "outputs": [],
   "source": [
    "X = df.drop(columns=['x1', 'x2', 'x3'])\n",
    "y = df['y']\n",
    "groups = df['groups']"
   ]
  },
  {
   "cell_type": "code",
   "execution_count": 36,
   "id": "46f23d29",
   "metadata": {},
   "outputs": [],
   "source": [
    "for i in range(100):\n",
    "    cv = StratifiedGroupKFold(shuffle=False, n_splits=3)\n",
    "    indice = [(train_idx, test_idx) for (train_idx, test_idx) in cv.split(X, y, groups)]\n",
    "    # If it is not first loop, compare indice with previous ones then raise ValueError if they are not same\n",
    "    if i == 0:\n",
    "        previous_indice = indice\n",
    "    else:\n",
    "        for (train_idx, test_idx), (previous_train_idx, previous_test_idx) in zip(indice, previous_indice):\n",
    "            if (train_idx != previous_train_idx).sum() > 0 or (test_idx != previous_test_idx).sum() > 0:\n",
    "                raise ValueError(i, (train_idx, test_idx), (previous_train_idx, previous_test_idx))"
   ]
  },
  {
   "cell_type": "code",
   "execution_count": 37,
   "id": "24faa903",
   "metadata": {},
   "outputs": [
    {
     "name": "stderr",
     "output_type": "stream",
     "text": [
      "C:\\Users\\NNDROP~1\\AppData\\Local\\Temp/ipykernel_18820/1990341871.py:8: DeprecationWarning: elementwise comparison failed; this will raise an error in the future.\n",
      "  if (train_idx != previous_train_idx).sum() > 0 or (test_idx != previous_test_idx).sum() > 0:\n"
     ]
    },
    {
     "ename": "AttributeError",
     "evalue": "'bool' object has no attribute 'sum'",
     "output_type": "error",
     "traceback": [
      "\u001b[1;31m---------------------------------------------------------------------------\u001b[0m",
      "\u001b[1;31mAttributeError\u001b[0m                            Traceback (most recent call last)",
      "\u001b[1;32mC:\\Users\\NNDROP~1\\AppData\\Local\\Temp/ipykernel_18820/1990341871.py\u001b[0m in \u001b[0;36m<module>\u001b[1;34m\u001b[0m\n\u001b[0;32m      6\u001b[0m     \u001b[1;32melse\u001b[0m\u001b[1;33m:\u001b[0m\u001b[1;33m\u001b[0m\u001b[1;33m\u001b[0m\u001b[0m\n\u001b[0;32m      7\u001b[0m         \u001b[1;32mfor\u001b[0m \u001b[1;33m(\u001b[0m\u001b[0mtrain_idx\u001b[0m\u001b[1;33m,\u001b[0m \u001b[0mtest_idx\u001b[0m\u001b[1;33m)\u001b[0m\u001b[1;33m,\u001b[0m \u001b[1;33m(\u001b[0m\u001b[0mprevious_train_idx\u001b[0m\u001b[1;33m,\u001b[0m \u001b[0mprevious_test_idx\u001b[0m\u001b[1;33m)\u001b[0m \u001b[1;32min\u001b[0m \u001b[0mzip\u001b[0m\u001b[1;33m(\u001b[0m\u001b[0mindice\u001b[0m\u001b[1;33m,\u001b[0m \u001b[0mprevious_indice\u001b[0m\u001b[1;33m)\u001b[0m\u001b[1;33m:\u001b[0m\u001b[1;33m\u001b[0m\u001b[1;33m\u001b[0m\u001b[0m\n\u001b[1;32m----> 8\u001b[1;33m             \u001b[1;32mif\u001b[0m \u001b[1;33m(\u001b[0m\u001b[0mtrain_idx\u001b[0m \u001b[1;33m!=\u001b[0m \u001b[0mprevious_train_idx\u001b[0m\u001b[1;33m)\u001b[0m\u001b[1;33m.\u001b[0m\u001b[0msum\u001b[0m\u001b[1;33m(\u001b[0m\u001b[1;33m)\u001b[0m \u001b[1;33m>\u001b[0m \u001b[1;36m0\u001b[0m \u001b[1;32mor\u001b[0m \u001b[1;33m(\u001b[0m\u001b[0mtest_idx\u001b[0m \u001b[1;33m!=\u001b[0m \u001b[0mprevious_test_idx\u001b[0m\u001b[1;33m)\u001b[0m\u001b[1;33m.\u001b[0m\u001b[0msum\u001b[0m\u001b[1;33m(\u001b[0m\u001b[1;33m)\u001b[0m \u001b[1;33m>\u001b[0m \u001b[1;36m0\u001b[0m\u001b[1;33m:\u001b[0m\u001b[1;33m\u001b[0m\u001b[1;33m\u001b[0m\u001b[0m\n\u001b[0m\u001b[0;32m      9\u001b[0m                 \u001b[1;32mraise\u001b[0m \u001b[0mValueError\u001b[0m\u001b[1;33m(\u001b[0m\u001b[0mi\u001b[0m\u001b[1;33m,\u001b[0m \u001b[1;33m(\u001b[0m\u001b[0mtrain_idx\u001b[0m\u001b[1;33m,\u001b[0m \u001b[0mtest_idx\u001b[0m\u001b[1;33m)\u001b[0m\u001b[1;33m,\u001b[0m \u001b[1;33m(\u001b[0m\u001b[0mprevious_train_idx\u001b[0m\u001b[1;33m,\u001b[0m \u001b[0mprevious_test_idx\u001b[0m\u001b[1;33m)\u001b[0m\u001b[1;33m)\u001b[0m\u001b[1;33m\u001b[0m\u001b[1;33m\u001b[0m\u001b[0m\n",
      "\u001b[1;31mAttributeError\u001b[0m: 'bool' object has no attribute 'sum'"
     ]
    }
   ],
   "source": [
    "for i in range(100):\n",
    "    cv = StratifiedGroupKFold(shuffle=True, n_splits=3)\n",
    "    indice = [(train_idx, test_idx) for (train_idx, test_idx) in cv.split(X, y, groups)]\n",
    "    if i == 0:\n",
    "        previous_indice = indice\n",
    "    else:\n",
    "        for (train_idx, test_idx), (previous_train_idx, previous_test_idx) in zip(indice, previous_indice):\n",
    "            if (train_idx != previous_train_idx).sum() > 0 or (test_idx != previous_test_idx).sum() > 0:\n",
    "                raise ValueError(i, (train_idx, test_idx), (previous_train_idx, previous_test_idx))"
   ]
  },
  {
   "cell_type": "code",
   "execution_count": 39,
   "id": "d3c55e60",
   "metadata": {},
   "outputs": [
    {
     "data": {
      "text/plain": [
       "array([ 1,  3,  5,  8, 10, 13, 14, 15])"
      ]
     },
     "execution_count": 39,
     "metadata": {},
     "output_type": "execute_result"
    }
   ],
   "source": [
    "train_idx"
   ]
  },
  {
   "cell_type": "code",
   "execution_count": 40,
   "id": "b481d0bd",
   "metadata": {},
   "outputs": [
    {
     "data": {
      "text/plain": [
       "array([ 1,  3,  5,  8,  9, 10, 11, 12, 14, 15])"
      ]
     },
     "execution_count": 40,
     "metadata": {},
     "output_type": "execute_result"
    }
   ],
   "source": [
    "previous_train_idx"
   ]
  },
  {
   "cell_type": "markdown",
   "id": "503b45ac",
   "metadata": {},
   "source": [
    "多分 `shuffle` したせいで区切り位置が変わり fold 毎の件数が変わっている"
   ]
  },
  {
   "cell_type": "code",
   "execution_count": 41,
   "id": "9373f888",
   "metadata": {},
   "outputs": [],
   "source": [
    "for i in range(100):\n",
    "    cv = StratifiedGroupKFold(shuffle=True, n_splits=3, random_state=0)\n",
    "    indice = [(train_idx, test_idx) for (train_idx, test_idx) in cv.split(X, y, groups)]\n",
    "    if i == 0:\n",
    "        previous_indice = indice\n",
    "    else:\n",
    "        for (train_idx, test_idx), (previous_train_idx, previous_test_idx) in zip(indice, previous_indice):\n",
    "            if (train_idx != previous_train_idx).sum() > 0 or (test_idx != previous_test_idx).sum() > 0:\n",
    "                raise ValueError(i, (train_idx, test_idx), (previous_train_idx, previous_test_idx))"
   ]
  },
  {
   "cell_type": "code",
   "execution_count": 42,
   "id": "926b34bd",
   "metadata": {},
   "outputs": [],
   "source": [
    "for i in range(100):\n",
    "    cv = StratifiedGroupKFold(shuffle=True, n_splits=3, random_state=1)\n",
    "    indice = [(train_idx, test_idx) for (train_idx, test_idx) in cv.split(X, y, groups)]\n",
    "    if i == 0:\n",
    "        previous_indice = indice\n",
    "    else:\n",
    "        for (train_idx, test_idx), (previous_train_idx, previous_test_idx) in zip(indice, previous_indice):\n",
    "            if (train_idx != previous_train_idx).sum() > 0 or (test_idx != previous_test_idx).sum() > 0:\n",
    "                raise ValueError(i, (train_idx, test_idx), (previous_train_idx, previous_test_idx))"
   ]
  },
  {
   "cell_type": "code",
   "execution_count": 43,
   "id": "c1b69872",
   "metadata": {},
   "outputs": [],
   "source": [
    "for i in range(100):\n",
    "    cv = StratifiedGroupKFold(shuffle=True, n_splits=3, random_state=2)\n",
    "    indice = [(train_idx, test_idx) for (train_idx, test_idx) in cv.split(X, y, groups)]\n",
    "    if i == 0:\n",
    "        previous_indice = indice\n",
    "    else:\n",
    "        for (train_idx, test_idx), (previous_train_idx, previous_test_idx) in zip(indice, previous_indice):\n",
    "            if (train_idx != previous_train_idx).sum() > 0 or (test_idx != previous_test_idx).sum() > 0:\n",
    "                raise ValueError(i, (train_idx, test_idx), (previous_train_idx, previous_test_idx))"
   ]
  },
  {
   "cell_type": "code",
   "execution_count": null,
   "id": "c091a9ee",
   "metadata": {},
   "outputs": [],
   "source": []
  }
 ],
 "metadata": {
  "kernelspec": {
   "display_name": "Python 3 (ipykernel)",
   "language": "python",
   "name": "python3"
  },
  "language_info": {
   "codemirror_mode": {
    "name": "ipython",
    "version": 3
   },
   "file_extension": ".py",
   "mimetype": "text/x-python",
   "name": "python",
   "nbconvert_exporter": "python",
   "pygments_lexer": "ipython3",
   "version": "3.9.0"
  }
 },
 "nbformat": 4,
 "nbformat_minor": 5
}
